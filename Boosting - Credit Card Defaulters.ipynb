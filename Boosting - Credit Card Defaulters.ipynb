{
 "cells": [
  {
   "cell_type": "code",
   "execution_count": 3,
   "metadata": {
    "collapsed": false,
    "deletable": true,
    "editable": true
   },
   "outputs": [
    {
     "name": "stdout",
     "output_type": "stream",
     "text": [
      "training...\n",
      "Fitting 5 folds for each of 24 candidates, totalling 120 fits\n",
      "[CV] learning_rate=1e-05, algorithm=SAMME, n_estimators=500 ..........\n",
      "[CV] learning_rate=1e-05, algorithm=SAMME, n_estimators=500 ..........\n",
      "[CV] learning_rate=1e-05, algorithm=SAMME, n_estimators=500 ..........\n",
      "[CV] learning_rate=1e-05, algorithm=SAMME, n_estimators=500 ..........\n",
      "[CV] learning_rate=1e-05, algorithm=SAMME, n_estimators=500 ..........\n",
      "[CV] learning_rate=1e-05, algorithm=SAMME, n_estimators=400 ..........\n",
      "[CV] learning_rate=1e-05, algorithm=SAMME, n_estimators=400 ..........\n",
      "[CV] learning_rate=1e-05, algorithm=SAMME, n_estimators=400 ..........\n",
      "[CV]  learning_rate=1e-05, algorithm=SAMME, n_estimators=500, score=0.7231384307846077, total=   0.3s\n",
      "[CV]  learning_rate=1e-05, algorithm=SAMME, n_estimators=500, score=0.7295, total=   0.3s\n",
      "[CV] learning_rate=1e-05, algorithm=SAMME, n_estimators=400 ..........\n",
      "[CV] learning_rate=1e-05, algorithm=SAMME, n_estimators=400 ..........\n",
      "[CV]  learning_rate=1e-05, algorithm=SAMME, n_estimators=500, score=0.7165, total=   0.3s\n",
      "[CV] learning_rate=0.0001, algorithm=SAMME, n_estimators=500 .........\n",
      "[CV]  learning_rate=1e-05, algorithm=SAMME, n_estimators=500, score=0.73, total=   0.3s\n",
      "[CV] learning_rate=0.0001, algorithm=SAMME, n_estimators=500 .........\n",
      "[CV]  learning_rate=1e-05, algorithm=SAMME, n_estimators=500, score=0.7068534267133567, total=   0.3s\n",
      "[CV] learning_rate=0.0001, algorithm=SAMME, n_estimators=500 .........\n",
      "[CV]  learning_rate=1e-05, algorithm=SAMME, n_estimators=400, score=0.7231384307846077, total=   0.3s\n",
      "[CV] learning_rate=0.0001, algorithm=SAMME, n_estimators=500 .........\n",
      "[CV]  learning_rate=1e-05, algorithm=SAMME, n_estimators=400, score=0.7165, total=   0.2s\n",
      "[CV]  learning_rate=1e-05, algorithm=SAMME, n_estimators=400, score=0.7295, total=   0.3s\n",
      "[CV] learning_rate=0.0001, algorithm=SAMME, n_estimators=500 .........\n",
      "[CV] learning_rate=0.0001, algorithm=SAMME, n_estimators=400 .........\n"
     ]
    },
    {
     "name": "stderr",
     "output_type": "stream",
     "text": [
      "[Parallel(n_jobs=-1)]: Done   2 tasks      | elapsed:    0.3s\n"
     ]
    },
    {
     "name": "stdout",
     "output_type": "stream",
     "text": [
      "[CV]  learning_rate=1e-05, algorithm=SAMME, n_estimators=400, score=0.7295, total=   0.3s\n",
      "[CV] learning_rate=0.0001, algorithm=SAMME, n_estimators=400 .........\n",
      "[CV]  learning_rate=1e-05, algorithm=SAMME, n_estimators=400, score=0.7168584292146073, total=   0.3s\n",
      "[CV] learning_rate=0.0001, algorithm=SAMME, n_estimators=400 .........\n",
      "[CV]  learning_rate=0.0001, algorithm=SAMME, n_estimators=500, score=0.7151424287856072, total=   0.3s\n",
      "[CV] learning_rate=0.0001, algorithm=SAMME, n_estimators=400 .........\n",
      "[CV]  learning_rate=0.0001, algorithm=SAMME, n_estimators=500, score=0.731, total=   0.3s\n",
      "[CV] learning_rate=0.0001, algorithm=SAMME, n_estimators=400 .........\n",
      "[CV]  learning_rate=0.0001, algorithm=SAMME, n_estimators=500, score=0.7225, total=   0.3s\n",
      "[CV] learning_rate=0.001, algorithm=SAMME, n_estimators=500 ..........\n",
      "[CV]  learning_rate=0.0001, algorithm=SAMME, n_estimators=500, score=0.7295, total=   0.3s\n",
      "[CV] learning_rate=0.001, algorithm=SAMME, n_estimators=500 ..........\n",
      "[CV]  learning_rate=0.0001, algorithm=SAMME, n_estimators=500, score=0.7168584292146073, total=   0.3s\n",
      "[CV]  learning_rate=0.0001, algorithm=SAMME, n_estimators=400, score=0.7151424287856072, total=   0.3s\n",
      "[CV] learning_rate=0.001, algorithm=SAMME, n_estimators=500 ..........\n",
      "[CV] learning_rate=0.001, algorithm=SAMME, n_estimators=500 ..........\n"
     ]
    },
    {
     "name": "stderr",
     "output_type": "stream",
     "text": [
      "[Parallel(n_jobs=-1)]: Done   9 tasks      | elapsed:    0.6s\n",
      "[Parallel(n_jobs=-1)]: Done  16 tasks      | elapsed:    0.8s\n"
     ]
    },
    {
     "name": "stdout",
     "output_type": "stream",
     "text": [
      "[CV]  learning_rate=0.0001, algorithm=SAMME, n_estimators=400, score=0.737, total=   0.3s\n",
      "[CV] learning_rate=0.001, algorithm=SAMME, n_estimators=500 ..........\n",
      "[CV]  learning_rate=0.0001, algorithm=SAMME, n_estimators=400, score=0.7215, total=   0.3s\n",
      "[CV] learning_rate=0.001, algorithm=SAMME, n_estimators=400 ..........\n",
      "[CV]  learning_rate=0.0001, algorithm=SAMME, n_estimators=400, score=0.726, total=   0.3s\n",
      "[CV] learning_rate=0.001, algorithm=SAMME, n_estimators=400 ..........\n",
      "[CV]  learning_rate=0.0001, algorithm=SAMME, n_estimators=400, score=0.7143571785892946, total=   0.3s\n",
      "[CV] learning_rate=0.001, algorithm=SAMME, n_estimators=400 ..........\n",
      "[CV]  learning_rate=0.001, algorithm=SAMME, n_estimators=500, score=0.7181409295352323, total=   0.3s\n",
      "[CV] learning_rate=0.001, algorithm=SAMME, n_estimators=400 ..........\n",
      "[CV]  learning_rate=0.001, algorithm=SAMME, n_estimators=500, score=0.737, total=   0.3s\n",
      "[CV] learning_rate=0.001, algorithm=SAMME, n_estimators=400 ..........\n",
      "[CV]  learning_rate=0.001, algorithm=SAMME, n_estimators=500, score=0.726, total=   0.3s\n",
      "[CV]  learning_rate=0.001, algorithm=SAMME, n_estimators=500, score=0.7215, total=   0.3s\n",
      "[CV] learning_rate=0.01, algorithm=SAMME, n_estimators=500 ...........\n",
      "[CV] learning_rate=0.01, algorithm=SAMME, n_estimators=500 ...........\n",
      "[CV]  learning_rate=0.001, algorithm=SAMME, n_estimators=500, score=0.720360180090045, total=   0.3s\n",
      "[CV] learning_rate=0.01, algorithm=SAMME, n_estimators=500 ...........\n",
      "[CV]  learning_rate=0.001, algorithm=SAMME, n_estimators=400, score=0.7141429285357321, total=   0.3s\n",
      "[CV] learning_rate=0.01, algorithm=SAMME, n_estimators=500 ...........\n",
      "[CV]  learning_rate=0.001, algorithm=SAMME, n_estimators=400, score=0.736, total=   0.3s\n",
      "[CV] learning_rate=0.01, algorithm=SAMME, n_estimators=500 ...........\n",
      "[CV]  learning_rate=0.001, algorithm=SAMME, n_estimators=400, score=0.719, total=   0.3s\n",
      "[CV] learning_rate=0.01, algorithm=SAMME, n_estimators=400 ...........\n",
      "[CV]  learning_rate=0.001, algorithm=SAMME, n_estimators=400, score=0.726, total=   0.3s\n",
      "[CV] learning_rate=0.01, algorithm=SAMME, n_estimators=400 ...........\n",
      "[CV]  learning_rate=0.01, algorithm=SAMME, n_estimators=500, score=0.7141429285357321, total=   0.3s\n",
      "[CV]  learning_rate=0.001, algorithm=SAMME, n_estimators=400, score=0.720360180090045, total=   0.3s\n",
      "[CV]  learning_rate=0.01, algorithm=SAMME, n_estimators=500, score=0.736, total=   0.3s\n",
      "[CV] learning_rate=0.01, algorithm=SAMME, n_estimators=400 ...........\n",
      "[CV] learning_rate=0.01, algorithm=SAMME, n_estimators=400 ...........\n",
      "[CV] learning_rate=0.01, algorithm=SAMME, n_estimators=400 ...........\n"
     ]
    },
    {
     "name": "stderr",
     "output_type": "stream",
     "text": [
      "[Parallel(n_jobs=-1)]: Done  25 tasks      | elapsed:    1.3s\n"
     ]
    },
    {
     "name": "stdout",
     "output_type": "stream",
     "text": [
      "[CV]  learning_rate=0.01, algorithm=SAMME, n_estimators=500, score=0.7085, total=   0.3s\n",
      "[CV] learning_rate=0.1, algorithm=SAMME, n_estimators=500 ............\n",
      "[CV]  learning_rate=0.01, algorithm=SAMME, n_estimators=500, score=0.7345, total=   0.3s\n",
      "[CV] learning_rate=0.1, algorithm=SAMME, n_estimators=500 ............\n",
      "[CV]  learning_rate=0.01, algorithm=SAMME, n_estimators=500, score=0.7108554277138569, total=   0.3s\n",
      "[CV] learning_rate=0.1, algorithm=SAMME, n_estimators=500 ............\n",
      "[CV]  learning_rate=0.01, algorithm=SAMME, n_estimators=400, score=0.7236381809095452, total=   0.3s\n",
      "[CV] learning_rate=0.1, algorithm=SAMME, n_estimators=500 ............\n",
      "[CV]  learning_rate=0.01, algorithm=SAMME, n_estimators=400, score=0.7235, total=   0.3s\n",
      "[CV] learning_rate=0.1, algorithm=SAMME, n_estimators=500 ............\n",
      "[CV]  learning_rate=0.01, algorithm=SAMME, n_estimators=400, score=0.7085, total=   0.3s\n",
      "[CV]  learning_rate=0.01, algorithm=SAMME, n_estimators=400, score=0.7345, total=   0.3s\n",
      "[CV] learning_rate=0.1, algorithm=SAMME, n_estimators=400 ............\n",
      "[CV] learning_rate=0.1, algorithm=SAMME, n_estimators=400 ............\n",
      "[CV]  learning_rate=0.01, algorithm=SAMME, n_estimators=400, score=0.7108554277138569, total=   0.3s\n",
      "[CV] learning_rate=0.1, algorithm=SAMME, n_estimators=400 ............\n"
     ]
    },
    {
     "name": "stderr",
     "output_type": "stream",
     "text": [
      "[Parallel(n_jobs=-1)]: Done  34 tasks      | elapsed:    1.6s\n"
     ]
    },
    {
     "name": "stdout",
     "output_type": "stream",
     "text": [
      "[CV]  learning_rate=0.1, algorithm=SAMME, n_estimators=500, score=0.7166416791604198, total=   0.3s\n",
      "[CV]  learning_rate=0.1, algorithm=SAMME, n_estimators=500, score=0.727, total=   0.3s\n",
      "[CV] learning_rate=0.1, algorithm=SAMME, n_estimators=400 ............\n",
      "[CV] learning_rate=0.1, algorithm=SAMME, n_estimators=400 ............\n",
      "[CV]  learning_rate=0.1, algorithm=SAMME, n_estimators=500, score=0.7345, total=   0.3s\n",
      "[CV] learning_rate=1, algorithm=SAMME, n_estimators=500 ..............\n",
      "[CV]  learning_rate=0.1, algorithm=SAMME, n_estimators=500, score=0.7285, total=   0.3s\n",
      "[CV] learning_rate=1, algorithm=SAMME, n_estimators=500 ..............\n",
      "[CV]  learning_rate=0.1, algorithm=SAMME, n_estimators=500, score=0.7183591795897949, total=   0.3s\n",
      "[CV] learning_rate=1, algorithm=SAMME, n_estimators=500 ..............\n",
      "[CV]  learning_rate=0.1, algorithm=SAMME, n_estimators=400, score=0.727, total=   0.3s\n",
      "[CV]  learning_rate=0.1, algorithm=SAMME, n_estimators=400, score=0.7166416791604198, total=   0.3s\n",
      "[CV]  learning_rate=0.1, algorithm=SAMME, n_estimators=400, score=0.7345, total=   0.3s\n",
      "[CV] learning_rate=1, algorithm=SAMME, n_estimators=500 ..............\n",
      "[CV] learning_rate=1, algorithm=SAMME, n_estimators=500 ..............\n",
      "[CV] learning_rate=1, algorithm=SAMME, n_estimators=400 ..............\n",
      "[CV]  learning_rate=0.1, algorithm=SAMME, n_estimators=400, score=0.7335, total=   0.3s\n"
     ]
    },
    {
     "name": "stderr",
     "output_type": "stream",
     "text": [
      "[Parallel(n_jobs=-1)]: Done  45 tasks      | elapsed:    2.0s\n"
     ]
    },
    {
     "name": "stdout",
     "output_type": "stream",
     "text": [
      "[CV] learning_rate=1, algorithm=SAMME, n_estimators=400 ..............\n",
      "[CV]  learning_rate=0.1, algorithm=SAMME, n_estimators=400, score=0.711855927963982, total=   0.3s\n",
      "[CV] learning_rate=1, algorithm=SAMME, n_estimators=400 ..............\n",
      "[CV]  learning_rate=1, algorithm=SAMME, n_estimators=500, score=0.7166416791604198, total=   0.3s\n",
      "[CV] learning_rate=1, algorithm=SAMME, n_estimators=400 ..............\n",
      "[CV]  learning_rate=1, algorithm=SAMME, n_estimators=500, score=0.728, total=   0.3s\n",
      "[CV] learning_rate=1, algorithm=SAMME, n_estimators=400 ..............\n",
      "[CV]  learning_rate=1, algorithm=SAMME, n_estimators=500, score=0.7205, total=   0.3s\n",
      "[CV] learning_rate=1e-05, algorithm=SAMME.R, n_estimators=500 ........\n",
      "[CV]  learning_rate=1, algorithm=SAMME, n_estimators=500, score=0.7335, total=   0.3s\n",
      "[CV] learning_rate=1e-05, algorithm=SAMME.R, n_estimators=500 ........\n",
      "[CV]  learning_rate=1, algorithm=SAMME, n_estimators=500, score=0.711855927963982, total=   0.3s\n",
      "[CV]  learning_rate=1, algorithm=SAMME, n_estimators=400, score=0.7166416791604198, total=   0.3s\n",
      "[CV] learning_rate=1e-05, algorithm=SAMME.R, n_estimators=500 ........\n",
      "[CV] learning_rate=1e-05, algorithm=SAMME.R, n_estimators=500 ........\n"
     ]
    },
    {
     "name": "stderr",
     "output_type": "stream",
     "text": [
      "[Parallel(n_jobs=-1)]: Done  56 tasks      | elapsed:    2.3s\n"
     ]
    },
    {
     "name": "stdout",
     "output_type": "stream",
     "text": [
      "[CV]  learning_rate=1, algorithm=SAMME, n_estimators=400, score=0.7315, total=   0.3s\n",
      "[CV] learning_rate=1e-05, algorithm=SAMME.R, n_estimators=500 ........\n",
      "[CV]  learning_rate=1, algorithm=SAMME, n_estimators=400, score=0.7285, total=   0.3s\n",
      "[CV]  learning_rate=1, algorithm=SAMME, n_estimators=400, score=0.7275, total=   0.3s\n",
      "[CV] learning_rate=1e-05, algorithm=SAMME.R, n_estimators=400 ........\n",
      "[CV] learning_rate=1e-05, algorithm=SAMME.R, n_estimators=400 ........\n",
      "[CV]  learning_rate=1, algorithm=SAMME, n_estimators=400, score=0.7173586793396698, total=   0.3s\n",
      "[CV] learning_rate=1e-05, algorithm=SAMME.R, n_estimators=400 ........\n",
      "[CV]  learning_rate=1e-05, algorithm=SAMME.R, n_estimators=500, score=0.7191404297851074, total=   0.3s\n",
      "[CV] learning_rate=1e-05, algorithm=SAMME.R, n_estimators=400 ........\n",
      "[CV]  learning_rate=1e-05, algorithm=SAMME.R, n_estimators=500, score=0.7315, total=   0.3s\n",
      "[CV]  learning_rate=1e-05, algorithm=SAMME.R, n_estimators=500, score=0.7275, total=   0.3s\n",
      "[CV] learning_rate=1e-05, algorithm=SAMME.R, n_estimators=400 ........\n",
      "[CV]  learning_rate=1e-05, algorithm=SAMME.R, n_estimators=500, score=0.7285, total=   0.3s\n",
      "[CV] learning_rate=0.0001, algorithm=SAMME.R, n_estimators=500 .......\n",
      "[CV] learning_rate=0.0001, algorithm=SAMME.R, n_estimators=500 .......\n",
      "[CV]  learning_rate=1e-05, algorithm=SAMME.R, n_estimators=500, score=0.7233616808404202, total=   0.3s\n",
      "[CV] learning_rate=0.0001, algorithm=SAMME.R, n_estimators=500 .......\n",
      "[CV]  learning_rate=1e-05, algorithm=SAMME.R, n_estimators=400, score=0.7156421789105447, total=   0.3s\n",
      "[CV] learning_rate=0.0001, algorithm=SAMME.R, n_estimators=500 .......\n",
      "[CV]  learning_rate=1e-05, algorithm=SAMME.R, n_estimators=400, score=0.7315, total=   0.3s\n",
      "[CV] learning_rate=0.0001, algorithm=SAMME.R, n_estimators=500 .......\n",
      "[CV]  learning_rate=1e-05, algorithm=SAMME.R, n_estimators=400, score=0.7265, total=   0.3s\n",
      "[CV] learning_rate=0.0001, algorithm=SAMME.R, n_estimators=400 .......\n",
      "[CV]  learning_rate=1e-05, algorithm=SAMME.R, n_estimators=400, score=0.7285, total=   0.3s\n",
      "[CV] learning_rate=0.0001, algorithm=SAMME.R, n_estimators=400 .......\n",
      "[CV]  learning_rate=1e-05, algorithm=SAMME.R, n_estimators=400, score=0.7233616808404202, total=   0.3s\n",
      "[CV]  learning_rate=0.0001, algorithm=SAMME.R, n_estimators=500, score=0.7156421789105447, total=   0.3s\n",
      "[CV]  learning_rate=0.0001, algorithm=SAMME.R, n_estimators=500, score=0.7315, total=   0.3s\n",
      "[CV] learning_rate=0.0001, algorithm=SAMME.R, n_estimators=400 .......\n",
      "[CV] learning_rate=0.0001, algorithm=SAMME.R, n_estimators=400 .......\n",
      "[CV] learning_rate=0.0001, algorithm=SAMME.R, n_estimators=400 .......\n"
     ]
    },
    {
     "name": "stderr",
     "output_type": "stream",
     "text": [
      "[Parallel(n_jobs=-1)]: Done  69 tasks      | elapsed:    2.9s\n"
     ]
    },
    {
     "name": "stdout",
     "output_type": "stream",
     "text": [
      "[CV]  learning_rate=0.0001, algorithm=SAMME.R, n_estimators=500, score=0.7215, total=   0.3s\n",
      "[CV] learning_rate=0.001, algorithm=SAMME.R, n_estimators=500 ........\n",
      "[CV]  learning_rate=0.0001, algorithm=SAMME.R, n_estimators=500, score=0.7365, total=   0.3s\n",
      "[CV] learning_rate=0.001, algorithm=SAMME.R, n_estimators=500 ........\n",
      "[CV]  learning_rate=0.0001, algorithm=SAMME.R, n_estimators=500, score=0.7173586793396698, total=   0.3s\n",
      "[CV]  learning_rate=0.0001, algorithm=SAMME.R, n_estimators=400, score=0.7161419290354822, total=   0.3s\n",
      "[CV] learning_rate=0.001, algorithm=SAMME.R, n_estimators=500 ........\n",
      "[CV] learning_rate=0.001, algorithm=SAMME.R, n_estimators=500 ........\n",
      "[CV]  learning_rate=0.0001, algorithm=SAMME.R, n_estimators=400, score=0.7375, total=   0.3s\n",
      "[CV] learning_rate=0.001, algorithm=SAMME.R, n_estimators=500 ........\n",
      "[CV]  learning_rate=0.0001, algorithm=SAMME.R, n_estimators=400, score=0.7215, total=   0.3s\n",
      "[CV]  learning_rate=0.0001, algorithm=SAMME.R, n_estimators=400, score=0.7365, total=   0.3s\n",
      "[CV] learning_rate=0.001, algorithm=SAMME.R, n_estimators=400 ........\n",
      "[CV] learning_rate=0.001, algorithm=SAMME.R, n_estimators=400 ........\n",
      "[CV]  learning_rate=0.0001, algorithm=SAMME.R, n_estimators=400, score=0.7173586793396698, total=   0.3s\n",
      "[CV] learning_rate=0.001, algorithm=SAMME.R, n_estimators=400 ........\n",
      "[CV]  learning_rate=0.001, algorithm=SAMME.R, n_estimators=500, score=0.7186406796601699, total=   0.3s\n",
      "[CV] learning_rate=0.001, algorithm=SAMME.R, n_estimators=400 ........\n",
      "[CV]  learning_rate=0.001, algorithm=SAMME.R, n_estimators=500, score=0.7345, total=   0.3s\n",
      "[CV] learning_rate=0.001, algorithm=SAMME.R, n_estimators=400 ........\n",
      "[CV]  learning_rate=0.001, algorithm=SAMME.R, n_estimators=500, score=0.724, total=   0.3s\n",
      "[CV] learning_rate=0.01, algorithm=SAMME.R, n_estimators=500 .........\n",
      "[CV]  learning_rate=0.001, algorithm=SAMME.R, n_estimators=500, score=0.7255, total=   0.3s\n",
      "[CV] learning_rate=0.01, algorithm=SAMME.R, n_estimators=500 .........\n",
      "[CV]  learning_rate=0.001, algorithm=SAMME.R, n_estimators=500, score=0.7063531765882941, total=   0.3s\n",
      "[CV] learning_rate=0.01, algorithm=SAMME.R, n_estimators=500 .........\n",
      "[CV]  learning_rate=0.001, algorithm=SAMME.R, n_estimators=400, score=0.7186406796601699, total=   0.3s\n",
      "[CV]  learning_rate=0.001, algorithm=SAMME.R, n_estimators=400, score=0.7345, total=   0.3s\n",
      "[CV]  learning_rate=0.001, algorithm=SAMME.R, n_estimators=400, score=0.724, total=   0.3s\n",
      "[CV] learning_rate=0.01, algorithm=SAMME.R, n_estimators=500 .........\n",
      "[CV] learning_rate=0.01, algorithm=SAMME.R, n_estimators=500 .........\n",
      "[CV] learning_rate=0.01, algorithm=SAMME.R, n_estimators=400 .........\n"
     ]
    },
    {
     "name": "stderr",
     "output_type": "stream",
     "text": [
      "[Parallel(n_jobs=-1)]: Done  82 tasks      | elapsed:    3.5s\n"
     ]
    },
    {
     "name": "stdout",
     "output_type": "stream",
     "text": [
      "[CV]  learning_rate=0.001, algorithm=SAMME.R, n_estimators=400, score=0.736, total=   0.3s\n",
      "[CV] learning_rate=0.01, algorithm=SAMME.R, n_estimators=400 .........\n",
      "[CV]  learning_rate=0.001, algorithm=SAMME.R, n_estimators=400, score=0.7183591795897949, total=   0.3s\n",
      "[CV]  learning_rate=0.01, algorithm=SAMME.R, n_estimators=500, score=0.7161419290354822, total=   0.3s\n",
      "[CV] learning_rate=0.01, algorithm=SAMME.R, n_estimators=400 .........\n",
      "[CV] learning_rate=0.01, algorithm=SAMME.R, n_estimators=400 .........\n",
      "[CV]  learning_rate=0.01, algorithm=SAMME.R, n_estimators=500, score=0.736, total=   0.3s\n",
      "[CV] learning_rate=0.01, algorithm=SAMME.R, n_estimators=400 .........\n",
      "[CV]  learning_rate=0.01, algorithm=SAMME.R, n_estimators=500, score=0.7245, total=   0.3s\n",
      "[CV] learning_rate=0.1, algorithm=SAMME.R, n_estimators=500 ..........\n",
      "[CV]  learning_rate=0.01, algorithm=SAMME.R, n_estimators=500, score=0.736, total=   0.3s\n",
      "[CV] learning_rate=0.1, algorithm=SAMME.R, n_estimators=500 ..........\n",
      "[CV]  learning_rate=0.01, algorithm=SAMME.R, n_estimators=400, score=0.7161419290354822, total=   0.3s\n",
      "[CV]  learning_rate=0.01, algorithm=SAMME.R, n_estimators=500, score=0.7183591795897949, total=   0.3s\n",
      "[CV] learning_rate=0.1, algorithm=SAMME.R, n_estimators=500 ..........\n",
      "[CV] learning_rate=0.1, algorithm=SAMME.R, n_estimators=500 ..........\n",
      "[CV]  learning_rate=0.01, algorithm=SAMME.R, n_estimators=400, score=0.7335, total=   0.3s\n",
      "[CV] learning_rate=0.1, algorithm=SAMME.R, n_estimators=500 ..........\n",
      "[CV]  learning_rate=0.01, algorithm=SAMME.R, n_estimators=400, score=0.72, total=   0.3s\n",
      "[CV] learning_rate=0.1, algorithm=SAMME.R, n_estimators=400 ..........\n",
      "[CV]  learning_rate=0.01, algorithm=SAMME.R, n_estimators=400, score=0.7325, total=   0.3s\n",
      "[CV] learning_rate=0.1, algorithm=SAMME.R, n_estimators=400 ..........\n",
      "[CV]  learning_rate=0.01, algorithm=SAMME.R, n_estimators=400, score=0.7113556778389195, total=   0.3s\n",
      "[CV]  learning_rate=0.1, algorithm=SAMME.R, n_estimators=500, score=0.7181409295352323, total=   0.3s\n",
      "[CV] learning_rate=0.1, algorithm=SAMME.R, n_estimators=400 ..........\n",
      "[CV] learning_rate=0.1, algorithm=SAMME.R, n_estimators=400 ..........\n",
      "[CV]  learning_rate=0.1, algorithm=SAMME.R, n_estimators=500, score=0.72, total=   0.3s\n",
      "[CV] learning_rate=0.1, algorithm=SAMME.R, n_estimators=400 ..........\n",
      "[CV]  learning_rate=0.1, algorithm=SAMME.R, n_estimators=500, score=0.7335, total=   0.3s\n",
      "[CV] learning_rate=1, algorithm=SAMME.R, n_estimators=500 ............\n",
      "[CV]  learning_rate=0.1, algorithm=SAMME.R, n_estimators=500, score=0.7325, total=   0.3s\n"
     ]
    },
    {
     "name": "stderr",
     "output_type": "stream",
     "text": [
      "[Parallel(n_jobs=-1)]: Done  97 tasks      | elapsed:    4.0s\n"
     ]
    },
    {
     "name": "stdout",
     "output_type": "stream",
     "text": [
      "[CV] learning_rate=1, algorithm=SAMME.R, n_estimators=500 ............\n",
      "[CV]  learning_rate=0.1, algorithm=SAMME.R, n_estimators=500, score=0.7058529264632316, total=   0.3s\n",
      "[CV] learning_rate=1, algorithm=SAMME.R, n_estimators=500 ............\n",
      "[CV]  learning_rate=0.1, algorithm=SAMME.R, n_estimators=400, score=0.7206396801599201, total=   0.3s\n",
      "[CV] learning_rate=1, algorithm=SAMME.R, n_estimators=500 ............\n",
      "[CV]  learning_rate=0.1, algorithm=SAMME.R, n_estimators=400, score=0.729, total=   0.3s\n",
      "[CV] learning_rate=1, algorithm=SAMME.R, n_estimators=500 ............\n",
      "[CV]  learning_rate=0.1, algorithm=SAMME.R, n_estimators=400, score=0.7235, total=   0.3s\n",
      "[CV] learning_rate=1, algorithm=SAMME.R, n_estimators=400 ............\n",
      "[CV]  learning_rate=0.1, algorithm=SAMME.R, n_estimators=400, score=0.732, total=   0.3s\n",
      "[CV] learning_rate=1, algorithm=SAMME.R, n_estimators=400 ............\n",
      "[CV]  learning_rate=0.1, algorithm=SAMME.R, n_estimators=400, score=0.7058529264632316, total=   0.3s\n",
      "[CV] learning_rate=1, algorithm=SAMME.R, n_estimators=400 ............\n",
      "[CV]  learning_rate=1, algorithm=SAMME.R, n_estimators=500, score=0.7206396801599201, total=   0.3s\n",
      "[CV] learning_rate=1, algorithm=SAMME.R, n_estimators=400 ............\n",
      "[CV]  learning_rate=1, algorithm=SAMME.R, n_estimators=500, score=0.729, total=   0.3s\n",
      "[CV] learning_rate=1, algorithm=SAMME.R, n_estimators=400 ............\n",
      "[CV]  learning_rate=1, algorithm=SAMME.R, n_estimators=500, score=0.7235, total=   0.3s\n",
      "[CV]  learning_rate=1, algorithm=SAMME.R, n_estimators=500, score=0.7335, total=   0.3s\n",
      "[CV]  learning_rate=1, algorithm=SAMME.R, n_estimators=500, score=0.7198599299649825, total=   0.3s\n",
      "[CV]  learning_rate=1, algorithm=SAMME.R, n_estimators=400, score=0.719640179910045, total=   0.3s\n",
      "[CV]  learning_rate=1, algorithm=SAMME.R, n_estimators=400, score=0.74, total=   0.3s\n",
      "[CV]  learning_rate=1, algorithm=SAMME.R, n_estimators=400, score=0.7235, total=   0.2s\n",
      "[CV]  learning_rate=1, algorithm=SAMME.R, n_estimators=400, score=0.7335, total=   0.2s\n",
      "[CV]  learning_rate=1, algorithm=SAMME.R, n_estimators=400, score=0.7198599299649825, total=   0.2s\n"
     ]
    },
    {
     "name": "stderr",
     "output_type": "stream",
     "text": [
      "[Parallel(n_jobs=-1)]: Done 118 out of 120 | elapsed:    4.7s remaining:    0.1s\n",
      "[Parallel(n_jobs=-1)]: Done 120 out of 120 | elapsed:    4.8s finished\n"
     ]
    },
    {
     "name": "stdout",
     "output_type": "stream",
     "text": [
      "Fitting 5 folds for each of 24 candidates, totalling 120 fits\n",
      "[CV] learning_rate=1e-05, algorithm=SAMME, n_estimators=500 ..........\n",
      "[CV] learning_rate=1e-05, algorithm=SAMME, n_estimators=500 ..........\n",
      "[CV] learning_rate=1e-05, algorithm=SAMME, n_estimators=500 ..........\n",
      "[CV] learning_rate=1e-05, algorithm=SAMME, n_estimators=500 ..........\n",
      "[CV] learning_rate=1e-05, algorithm=SAMME, n_estimators=500 ..........\n",
      "[CV] learning_rate=1e-05, algorithm=SAMME, n_estimators=400 ..........\n",
      "[CV] learning_rate=1e-05, algorithm=SAMME, n_estimators=400 ..........\n",
      "[CV] learning_rate=1e-05, algorithm=SAMME, n_estimators=400 ..........\n",
      "[CV]  learning_rate=1e-05, algorithm=SAMME, n_estimators=500, score=0.7166416791604198, total=   0.1s\n",
      "[CV] learning_rate=1e-05, algorithm=SAMME, n_estimators=400 ..........\n",
      "[CV]  learning_rate=1e-05, algorithm=SAMME, n_estimators=500, score=0.7426856714178545, total=   0.1s\n",
      "[CV]  learning_rate=1e-05, algorithm=SAMME, n_estimators=500, score=0.7503748125937032, total=   0.2s\n",
      "[CV] learning_rate=1e-05, algorithm=SAMME, n_estimators=400 ..........\n",
      "[CV] learning_rate=0.0001, algorithm=SAMME, n_estimators=500 .........\n",
      "[CV]  learning_rate=1e-05, algorithm=SAMME, n_estimators=500, score=0.7079579579579579, total=   0.1s\n",
      "[CV]  learning_rate=1e-05, algorithm=SAMME, n_estimators=500, score=0.7419354838709677, total=   0.2s\n",
      "[CV] learning_rate=0.0001, algorithm=SAMME, n_estimators=500 .........\n",
      "[CV] learning_rate=0.0001, algorithm=SAMME, n_estimators=500 .........\n",
      "[CV]  learning_rate=1e-05, algorithm=SAMME, n_estimators=400, score=0.7166416791604198, total=   0.2s\n",
      "[CV] learning_rate=0.0001, algorithm=SAMME, n_estimators=500 .........\n",
      "[CV]  learning_rate=1e-05, algorithm=SAMME, n_estimators=400, score=0.7503748125937032, total=   0.2s\n",
      "[CV]  learning_rate=1e-05, algorithm=SAMME, n_estimators=400, score=0.7426856714178545, total=   0.2s\n",
      "[CV] learning_rate=0.0001, algorithm=SAMME, n_estimators=500 .........\n",
      "[CV] learning_rate=0.0001, algorithm=SAMME, n_estimators=400 .........\n",
      "[CV]  learning_rate=1e-05, algorithm=SAMME, n_estimators=400, score=0.7291822955738935, total=   0.2s\n"
     ]
    },
    {
     "name": "stderr",
     "output_type": "stream",
     "text": [
      "[Parallel(n_jobs=-1)]: Batch computation too fast (0.1719s.) Setting batch_size=2.\n",
      "[Parallel(n_jobs=-1)]: Done   2 tasks      | elapsed:    0.2s\n",
      "[Parallel(n_jobs=-1)]: Done   9 tasks      | elapsed:    0.4s\n"
     ]
    },
    {
     "name": "stdout",
     "output_type": "stream",
     "text": [
      "[CV] learning_rate=0.0001, algorithm=SAMME, n_estimators=400 .........\n",
      "[CV]  learning_rate=1e-05, algorithm=SAMME, n_estimators=400, score=0.6966966966966966, total=   0.2s\n",
      "[CV] learning_rate=0.0001, algorithm=SAMME, n_estimators=400 .........\n",
      "[CV]  learning_rate=0.0001, algorithm=SAMME, n_estimators=500, score=0.7226386806596702, total=   0.2s\n",
      "[CV] learning_rate=0.001, algorithm=SAMME, n_estimators=500 ..........\n",
      "[CV]  learning_rate=0.0001, algorithm=SAMME, n_estimators=500, score=0.7486871717929482, total=   0.2s\n",
      "[CV] learning_rate=0.001, algorithm=SAMME, n_estimators=500 ..........\n",
      "[CV]  learning_rate=0.0001, algorithm=SAMME, n_estimators=500, score=0.7391304347826086, total=   0.2s\n",
      "[CV]  learning_rate=0.0001, algorithm=SAMME, n_estimators=500, score=0.7291822955738935, total=   0.2s\n",
      "[CV] learning_rate=0.001, algorithm=SAMME, n_estimators=500 ..........\n",
      "[CV] learning_rate=0.001, algorithm=SAMME, n_estimators=400 ..........\n",
      "[CV]  learning_rate=0.0001, algorithm=SAMME, n_estimators=500, score=0.6966966966966966, total=   0.2s\n",
      "[CV]  learning_rate=0.0001, algorithm=SAMME, n_estimators=400, score=0.7226386806596702, total=   0.2s\n",
      "[CV] learning_rate=0.001, algorithm=SAMME, n_estimators=400 ..........\n",
      "[CV] learning_rate=0.01, algorithm=SAMME, n_estimators=500 ...........\n",
      "[CV]  learning_rate=0.0001, algorithm=SAMME, n_estimators=400, score=0.7391304347826086, total=   0.2s\n",
      "[CV] learning_rate=0.0001, algorithm=SAMME, n_estimators=400 .........\n",
      "[CV]  learning_rate=0.0001, algorithm=SAMME, n_estimators=400, score=0.7419354838709677, total=   0.2s\n",
      "[CV] learning_rate=0.0001, algorithm=SAMME, n_estimators=400 .........\n",
      "[CV]  learning_rate=0.001, algorithm=SAMME, n_estimators=500, score=0.7203898050974513, total=   0.2s\n",
      "[CV] learning_rate=0.001, algorithm=SAMME, n_estimators=500 ..........\n",
      "[CV]  learning_rate=0.001, algorithm=SAMME, n_estimators=500, score=0.7554388597149287, total=   0.2s\n",
      "[CV] learning_rate=0.001, algorithm=SAMME, n_estimators=500 ..........\n",
      "[CV]  learning_rate=0.001, algorithm=SAMME, n_estimators=500, score=0.6996996996996997, total=   0.2s\n",
      "[CV] learning_rate=0.001, algorithm=SAMME, n_estimators=400 ..........\n",
      "[CV]  learning_rate=0.001, algorithm=SAMME, n_estimators=400, score=0.7391304347826086, total=   0.2s\n",
      "[CV] learning_rate=0.001, algorithm=SAMME, n_estimators=400 ..........\n",
      "[CV]  learning_rate=0.001, algorithm=SAMME, n_estimators=400, score=0.7419354838709677, total=   0.2s\n",
      "[CV]  learning_rate=0.01, algorithm=SAMME, n_estimators=500, score=0.7203898050974513, total=   0.2s\n",
      "[CV] learning_rate=0.01, algorithm=SAMME, n_estimators=500 ...........\n",
      "[CV] learning_rate=0.001, algorithm=SAMME, n_estimators=400 ..........\n"
     ]
    },
    {
     "name": "stderr",
     "output_type": "stream",
     "text": [
      "[Parallel(n_jobs=-1)]: Done  16 tasks      | elapsed:    0.5s\n"
     ]
    },
    {
     "name": "stdout",
     "output_type": "stream",
     "text": [
      "[CV]  learning_rate=0.0001, algorithm=SAMME, n_estimators=400, score=0.7064564564564565, total=   0.2s\n",
      "[CV]  learning_rate=0.0001, algorithm=SAMME, n_estimators=400, score=0.7554388597149287, total=   0.2s\n",
      "[CV] learning_rate=0.01, algorithm=SAMME, n_estimators=500 ...........\n",
      "[CV] learning_rate=0.01, algorithm=SAMME, n_estimators=500 ...........\n",
      "[CV]  learning_rate=0.001, algorithm=SAMME, n_estimators=500, score=0.7428785607196402, total=   0.2s\n",
      "[CV] learning_rate=0.01, algorithm=SAMME, n_estimators=400 ...........\n",
      "[CV]  learning_rate=0.001, algorithm=SAMME, n_estimators=400, score=0.717391304347826, total=   0.2s\n",
      "[CV]  learning_rate=0.001, algorithm=SAMME, n_estimators=500, score=0.7269317329332333, total=   0.2s\n",
      "[CV] learning_rate=0.01, algorithm=SAMME, n_estimators=400 ...........\n",
      "[CV] learning_rate=0.1, algorithm=SAMME, n_estimators=500 ............\n",
      "[CV]  learning_rate=0.001, algorithm=SAMME, n_estimators=400, score=0.7554388597149287, total=   0.2s\n",
      "[CV]  learning_rate=0.001, algorithm=SAMME, n_estimators=400, score=0.7064564564564565, total=   0.2s\n",
      "[CV] learning_rate=0.1, algorithm=SAMME, n_estimators=500 ............\n",
      "[CV] learning_rate=0.1, algorithm=SAMME, n_estimators=500 ............\n",
      "[CV]  learning_rate=0.01, algorithm=SAMME, n_estimators=500, score=0.7428785607196402, total=   0.2s\n",
      "[CV] learning_rate=0.1, algorithm=SAMME, n_estimators=400 ............\n",
      "[CV]  learning_rate=0.01, algorithm=SAMME, n_estimators=500, score=0.7019519519519519, total=   0.2s\n",
      "[CV] learning_rate=0.01, algorithm=SAMME, n_estimators=400 ...........\n",
      "[CV]  learning_rate=0.01, algorithm=SAMME, n_estimators=500, score=0.7516879219804952, total=   0.2s\n",
      "[CV] learning_rate=0.01, algorithm=SAMME, n_estimators=500 ...........\n",
      "[CV]  learning_rate=0.01, algorithm=SAMME, n_estimators=400, score=0.7473763118440779, total=   0.2s\n",
      "[CV] learning_rate=0.01, algorithm=SAMME, n_estimators=400 ...........\n",
      "[CV]  learning_rate=0.01, algorithm=SAMME, n_estimators=400, score=0.7366841710427607, total=   0.2s\n",
      "[CV] learning_rate=0.01, algorithm=SAMME, n_estimators=400 ...........\n",
      "[CV]  learning_rate=0.1, algorithm=SAMME, n_estimators=500, score=0.719640179910045, total=   0.2s\n",
      "[CV] learning_rate=0.1, algorithm=SAMME, n_estimators=500 ............\n",
      "[CV]  learning_rate=0.1, algorithm=SAMME, n_estimators=500, score=0.7516879219804952, total=   0.2s\n",
      "[CV] learning_rate=0.1, algorithm=SAMME, n_estimators=500 ............\n",
      "[CV]  learning_rate=0.1, algorithm=SAMME, n_estimators=500, score=0.7019519519519519, total=   0.2s\n",
      "[CV] learning_rate=0.1, algorithm=SAMME, n_estimators=400 ............\n",
      "[CV]  learning_rate=0.1, algorithm=SAMME, n_estimators=400, score=0.7473763118440779, total=   0.2s\n",
      "[CV] learning_rate=0.1, algorithm=SAMME, n_estimators=400 ............\n",
      "[CV]  learning_rate=0.01, algorithm=SAMME, n_estimators=400, score=0.712143928035982, total=   0.2s\n",
      "[CV]  learning_rate=0.01, algorithm=SAMME, n_estimators=500, score=0.7336834208552138, total=   0.2s\n",
      "[CV] learning_rate=0.1, algorithm=SAMME, n_estimators=400 ............\n",
      "[CV] learning_rate=1, algorithm=SAMME, n_estimators=500 ..............\n",
      "[CV]  learning_rate=0.01, algorithm=SAMME, n_estimators=400, score=0.7629407351837959, total=   0.2s\n",
      "[CV]  learning_rate=0.01, algorithm=SAMME, n_estimators=400, score=0.6974474474474475, total=   0.2s\n",
      "[CV] learning_rate=1, algorithm=SAMME, n_estimators=500 ..............\n",
      "[CV]  learning_rate=0.1, algorithm=SAMME, n_estimators=500, score=0.7406296851574213, total=   0.2s\n",
      "[CV] learning_rate=1, algorithm=SAMME, n_estimators=500 ..............\n",
      "[CV] learning_rate=1, algorithm=SAMME, n_estimators=400 ..............\n",
      "[CV]  learning_rate=0.1, algorithm=SAMME, n_estimators=400, score=0.712143928035982, total=   0.2s\n",
      "[CV]  learning_rate=0.1, algorithm=SAMME, n_estimators=500, score=0.7336834208552138, total=   0.2s\n",
      "[CV] learning_rate=1, algorithm=SAMME, n_estimators=400 ..............\n",
      "[CV] learning_rate=1e-05, algorithm=SAMME.R, n_estimators=500 ........\n",
      "[CV]  learning_rate=0.1, algorithm=SAMME, n_estimators=400, score=0.7629407351837959, total=   0.2s\n",
      "[CV] learning_rate=1e-05, algorithm=SAMME.R, n_estimators=500 ........\n",
      "[CV]  learning_rate=0.1, algorithm=SAMME, n_estimators=400, score=0.7389347336834209, total=   0.2s\n",
      "[CV] learning_rate=0.1, algorithm=SAMME, n_estimators=400 ............\n"
     ]
    },
    {
     "name": "stderr",
     "output_type": "stream",
     "text": [
      "[Parallel(n_jobs=-1)]: Done  34 tasks      | elapsed:    1.2s\n"
     ]
    },
    {
     "name": "stdout",
     "output_type": "stream",
     "text": [
      "[CV]  learning_rate=1, algorithm=SAMME, n_estimators=500, score=0.7226386806596702, total=   0.2s\n",
      "[CV] learning_rate=1, algorithm=SAMME, n_estimators=500 ..............\n",
      "[CV]  learning_rate=1, algorithm=SAMME, n_estimators=500, score=0.6974474474474475, total=   0.2s\n",
      "[CV] learning_rate=1, algorithm=SAMME, n_estimators=400 ..............\n",
      "[CV]  learning_rate=1, algorithm=SAMME, n_estimators=500, score=0.7516879219804952, total=   0.2s\n",
      "[CV] learning_rate=1, algorithm=SAMME, n_estimators=500 ..............\n",
      "[CV]  learning_rate=1, algorithm=SAMME, n_estimators=400, score=0.7443778110944528, total=   0.2s\n",
      "[CV] learning_rate=1, algorithm=SAMME, n_estimators=400 ..............\n",
      "[CV]  learning_rate=1e-05, algorithm=SAMME.R, n_estimators=500, score=0.7226386806596702, total=   0.2s\n",
      "[CV] learning_rate=1e-05, algorithm=SAMME.R, n_estimators=500 ........\n",
      "[CV]  learning_rate=1, algorithm=SAMME, n_estimators=400, score=0.7389347336834209, total=   0.2s\n",
      "[CV] learning_rate=1, algorithm=SAMME, n_estimators=400 ..............\n",
      "[CV]  learning_rate=1e-05, algorithm=SAMME.R, n_estimators=500, score=0.7516879219804952, total=   0.2s\n",
      "[CV] learning_rate=1e-05, algorithm=SAMME.R, n_estimators=500 ........\n",
      "[CV]  learning_rate=0.1, algorithm=SAMME, n_estimators=400, score=0.7117117117117117, total=   0.2s\n",
      "[CV] learning_rate=1e-05, algorithm=SAMME.R, n_estimators=500 ........\n",
      "[CV]  learning_rate=1, algorithm=SAMME, n_estimators=500, score=0.7421289355322339, total=   0.2s\n",
      "[CV] learning_rate=1e-05, algorithm=SAMME.R, n_estimators=400 ........\n",
      "[CV]  learning_rate=1, algorithm=SAMME, n_estimators=500, score=0.7366841710427607, total=   0.2s\n",
      "[CV]  learning_rate=1, algorithm=SAMME, n_estimators=400, score=0.7091454272863568, total=   0.2s\n",
      "[CV] learning_rate=1e-05, algorithm=SAMME.R, n_estimators=400 ........\n",
      "[CV]  learning_rate=1, algorithm=SAMME, n_estimators=400, score=0.7509377344336085, total=   0.2s\n",
      "[CV]  learning_rate=1, algorithm=SAMME, n_estimators=400, score=0.7117117117117117, total=   0.1s\n",
      "[CV] learning_rate=0.0001, algorithm=SAMME.R, n_estimators=500 .......\n",
      "[CV] learning_rate=0.0001, algorithm=SAMME.R, n_estimators=500 .......\n",
      "[CV]  learning_rate=1e-05, algorithm=SAMME.R, n_estimators=500, score=0.7366841710427607, total=   0.2s\n",
      "[CV] learning_rate=0.0001, algorithm=SAMME.R, n_estimators=500 .......\n",
      "[CV] learning_rate=0.0001, algorithm=SAMME.R, n_estimators=400 .......\n",
      "[CV]  learning_rate=1e-05, algorithm=SAMME.R, n_estimators=500, score=0.7064564564564565, total=   0.2s\n",
      "[CV] learning_rate=1e-05, algorithm=SAMME.R, n_estimators=400 ........\n",
      "[CV]  learning_rate=1e-05, algorithm=SAMME.R, n_estimators=500, score=0.7421289355322339, total=   0.3s\n",
      "[CV] learning_rate=0.0001, algorithm=SAMME.R, n_estimators=400 .......\n",
      "[CV]  learning_rate=1e-05, algorithm=SAMME.R, n_estimators=400, score=0.7361319340329835, total=   0.2s\n",
      "[CV] learning_rate=1e-05, algorithm=SAMME.R, n_estimators=400 ........\n"
     ]
    },
    {
     "name": "stderr",
     "output_type": "stream",
     "text": [
      "[Parallel(n_jobs=-1)]: Done  52 tasks      | elapsed:    1.6s\n"
     ]
    },
    {
     "name": "stdout",
     "output_type": "stream",
     "text": [
      "[CV]  learning_rate=1e-05, algorithm=SAMME.R, n_estimators=400, score=0.7321830457614403, total=   0.2s\n",
      "[CV] learning_rate=1e-05, algorithm=SAMME.R, n_estimators=400 ........\n",
      "[CV]  learning_rate=0.0001, algorithm=SAMME.R, n_estimators=500, score=0.7113943028485757, total=   0.2s\n",
      "[CV] learning_rate=0.0001, algorithm=SAMME.R, n_estimators=500 .......\n",
      "[CV]  learning_rate=0.0001, algorithm=SAMME.R, n_estimators=500, score=0.7524381095273819, total=   0.2s\n",
      "[CV] learning_rate=0.0001, algorithm=SAMME.R, n_estimators=500 .......\n",
      "[CV]  learning_rate=0.0001, algorithm=SAMME.R, n_estimators=500, score=0.7064564564564565, total=   0.2s\n",
      "[CV] learning_rate=0.0001, algorithm=SAMME.R, n_estimators=400 .......\n",
      "[CV]  learning_rate=0.0001, algorithm=SAMME.R, n_estimators=400, score=0.7361319340329835, total=   0.2s\n",
      "[CV] learning_rate=0.0001, algorithm=SAMME.R, n_estimators=400 .......\n",
      "[CV]  learning_rate=1e-05, algorithm=SAMME.R, n_estimators=400, score=0.7166416791604198, total=   0.2s\n",
      "[CV] learning_rate=0.001, algorithm=SAMME.R, n_estimators=500 ........\n",
      "[CV]  learning_rate=0.0001, algorithm=SAMME.R, n_estimators=400, score=0.7321830457614403, total=   0.2s\n",
      "[CV] learning_rate=0.0001, algorithm=SAMME.R, n_estimators=400 .......\n",
      "[CV]  learning_rate=1e-05, algorithm=SAMME.R, n_estimators=400, score=0.7486871717929482, total=   0.2s\n",
      "[CV]  learning_rate=1e-05, algorithm=SAMME.R, n_estimators=400, score=0.6981981981981982, total=   0.2s\n",
      "[CV] learning_rate=0.001, algorithm=SAMME.R, n_estimators=500 ........\n",
      "[CV] learning_rate=0.001, algorithm=SAMME.R, n_estimators=500 ........\n",
      "[CV]  learning_rate=0.0001, algorithm=SAMME.R, n_estimators=500, score=0.7421289355322339, total=   0.2s\n",
      "[CV] learning_rate=0.001, algorithm=SAMME.R, n_estimators=400 ........\n",
      "[CV]  learning_rate=0.0001, algorithm=SAMME.R, n_estimators=500, score=0.7374343585896475, total=   0.2s\n",
      "[CV] learning_rate=0.001, algorithm=SAMME.R, n_estimators=400 ........\n",
      "[CV]  learning_rate=0.0001, algorithm=SAMME.R, n_estimators=400, score=0.7166416791604198, total=   0.2s\n",
      "[CV] learning_rate=0.01, algorithm=SAMME.R, n_estimators=500 .........\n",
      "[CV]  learning_rate=0.0001, algorithm=SAMME.R, n_estimators=400, score=0.7486871717929482, total=   0.2s\n",
      "[CV] learning_rate=0.01, algorithm=SAMME.R, n_estimators=500 .........\n",
      "[CV]  learning_rate=0.001, algorithm=SAMME.R, n_estimators=500, score=0.7083958020989505, total=   0.2s\n",
      "[CV] learning_rate=0.001, algorithm=SAMME.R, n_estimators=500 ........\n",
      "[CV]  learning_rate=0.0001, algorithm=SAMME.R, n_estimators=400, score=0.6981981981981982, total=   0.2s\n",
      "[CV] learning_rate=0.01, algorithm=SAMME.R, n_estimators=500 .........\n",
      "[CV]  learning_rate=0.001, algorithm=SAMME.R, n_estimators=500, score=0.7184684684684685, total=   0.2s\n",
      "[CV] learning_rate=0.001, algorithm=SAMME.R, n_estimators=400 ........\n",
      "[CV]  learning_rate=0.001, algorithm=SAMME.R, n_estimators=500, score=0.754688672168042, total=   0.2s\n",
      "[CV] learning_rate=0.001, algorithm=SAMME.R, n_estimators=500 ........\n",
      "[CV]  learning_rate=0.001, algorithm=SAMME.R, n_estimators=400, score=0.7443778110944528, total=   0.2s\n",
      "[CV] learning_rate=0.001, algorithm=SAMME.R, n_estimators=400 ........\n"
     ]
    },
    {
     "name": "stderr",
     "output_type": "stream",
     "text": [
      "[Parallel(n_jobs=-1)]: Done  74 tasks      | elapsed:    2.0s\n"
     ]
    },
    {
     "name": "stdout",
     "output_type": "stream",
     "text": [
      "[CV]  learning_rate=0.001, algorithm=SAMME.R, n_estimators=400, score=0.7404351087771943, total=   0.2s\n",
      "[CV] learning_rate=0.001, algorithm=SAMME.R, n_estimators=400 ........\n",
      "[CV]  learning_rate=0.01, algorithm=SAMME.R, n_estimators=500, score=0.7083958020989505, total=   0.2s\n",
      "[CV] learning_rate=0.01, algorithm=SAMME.R, n_estimators=500 .........\n",
      "[CV]  learning_rate=0.01, algorithm=SAMME.R, n_estimators=500, score=0.754688672168042, total=   0.2s\n",
      "[CV] learning_rate=0.01, algorithm=SAMME.R, n_estimators=500 .........\n",
      "[CV]  learning_rate=0.001, algorithm=SAMME.R, n_estimators=500, score=0.7368815592203898, total=   0.2s\n",
      "[CV] learning_rate=0.01, algorithm=SAMME.R, n_estimators=400 .........\n",
      "[CV]  learning_rate=0.01, algorithm=SAMME.R, n_estimators=500, score=0.7184684684684685, total=   0.2s\n",
      "[CV] learning_rate=0.01, algorithm=SAMME.R, n_estimators=400 .........\n",
      "[CV]  learning_rate=0.001, algorithm=SAMME.R, n_estimators=400, score=0.7128935532233883, total=   0.2s\n",
      "[CV] learning_rate=0.01, algorithm=SAMME.R, n_estimators=400 .........\n",
      "[CV]  learning_rate=0.001, algorithm=SAMME.R, n_estimators=500, score=0.7449362340585146, total=   0.2s\n",
      "[CV] learning_rate=0.1, algorithm=SAMME.R, n_estimators=500 ..........\n",
      "[CV]  learning_rate=0.001, algorithm=SAMME.R, n_estimators=400, score=0.7004504504504504, total=   0.2s\n",
      "[CV]  learning_rate=0.001, algorithm=SAMME.R, n_estimators=400, score=0.7486871717929482, total=   0.2s\n",
      "[CV] learning_rate=0.1, algorithm=SAMME.R, n_estimators=500 ..........\n",
      "[CV] learning_rate=0.1, algorithm=SAMME.R, n_estimators=500 ..........\n",
      "[CV]  learning_rate=0.01, algorithm=SAMME.R, n_estimators=500, score=0.7368815592203898, total=   0.2s\n",
      "[CV] learning_rate=0.1, algorithm=SAMME.R, n_estimators=400 ..........\n",
      "[CV]  learning_rate=0.01, algorithm=SAMME.R, n_estimators=500, score=0.7449362340585146, total=   0.2s\n",
      "[CV] learning_rate=0.1, algorithm=SAMME.R, n_estimators=400 ..........\n",
      "[CV]  learning_rate=0.01, algorithm=SAMME.R, n_estimators=400, score=0.7128935532233883, total=   0.2s\n",
      "[CV]  learning_rate=0.01, algorithm=SAMME.R, n_estimators=400, score=0.7413793103448276, total=   0.2s\n",
      "[CV] learning_rate=0.01, algorithm=SAMME.R, n_estimators=400 .........\n",
      "[CV] learning_rate=1, algorithm=SAMME.R, n_estimators=500 ............\n",
      "[CV]  learning_rate=0.01, algorithm=SAMME.R, n_estimators=400, score=0.735933983495874, total=   0.2s\n",
      "[CV] learning_rate=0.01, algorithm=SAMME.R, n_estimators=400 .........\n",
      "[CV]  learning_rate=0.1, algorithm=SAMME.R, n_estimators=500, score=0.7098950524737632, total=   0.2s\n",
      "[CV] learning_rate=0.1, algorithm=SAMME.R, n_estimators=500 ..........\n",
      "[CV]  learning_rate=0.1, algorithm=SAMME.R, n_estimators=500, score=0.704954954954955, total=   0.2s\n",
      "[CV] learning_rate=0.1, algorithm=SAMME.R, n_estimators=400 ..........\n",
      "[CV]  learning_rate=0.1, algorithm=SAMME.R, n_estimators=500, score=0.746436609152288, total=   0.2s\n",
      "[CV] learning_rate=0.1, algorithm=SAMME.R, n_estimators=500 ..........\n"
     ]
    },
    {
     "name": "stderr",
     "output_type": "stream",
     "text": [
      "[Parallel(n_jobs=-1)]: Done  92 out of 120 | elapsed:    2.5s remaining:    0.7s\n"
     ]
    },
    {
     "name": "stdout",
     "output_type": "stream",
     "text": [
      "[CV]  learning_rate=0.1, algorithm=SAMME.R, n_estimators=400, score=0.735933983495874, total=   0.2s\n",
      "[CV]  learning_rate=0.1, algorithm=SAMME.R, n_estimators=400, score=0.7413793103448276, total=   0.2s\n",
      "[CV] learning_rate=0.1, algorithm=SAMME.R, n_estimators=400 ..........\n",
      "[CV] learning_rate=0.1, algorithm=SAMME.R, n_estimators=400 ..........\n",
      "[CV]  learning_rate=1, algorithm=SAMME.R, n_estimators=500, score=0.7098950524737632, total=   0.2s\n",
      "[CV] learning_rate=1, algorithm=SAMME.R, n_estimators=500 ............\n",
      "[CV]  learning_rate=0.01, algorithm=SAMME.R, n_estimators=400, score=0.7501875468867217, total=   0.2s\n",
      "[CV] learning_rate=1, algorithm=SAMME.R, n_estimators=500 ............\n",
      "[CV]  learning_rate=0.01, algorithm=SAMME.R, n_estimators=400, score=0.7079579579579579, total=   0.2s\n",
      "[CV] learning_rate=1, algorithm=SAMME.R, n_estimators=500 ............\n",
      "[CV]  learning_rate=0.1, algorithm=SAMME.R, n_estimators=500, score=0.739880059970015, total=   0.2s\n",
      "[CV] learning_rate=1, algorithm=SAMME.R, n_estimators=400 ............\n",
      "[CV]  learning_rate=0.1, algorithm=SAMME.R, n_estimators=400, score=0.712143928035982, total=   0.2s\n",
      "[CV] learning_rate=1, algorithm=SAMME.R, n_estimators=400 ............\n",
      "[CV]  learning_rate=0.1, algorithm=SAMME.R, n_estimators=500, score=0.7344336084021005, total=   0.2s\n",
      "[CV]  learning_rate=0.1, algorithm=SAMME.R, n_estimators=400, score=0.7079579579579579, total=   0.2s\n",
      "[CV]  learning_rate=0.1, algorithm=SAMME.R, n_estimators=400, score=0.7501875468867217, total=   0.2s\n",
      "[CV]  learning_rate=1, algorithm=SAMME.R, n_estimators=500, score=0.739880059970015, total=   0.2s\n",
      "[CV]  learning_rate=1, algorithm=SAMME.R, n_estimators=500, score=0.7524381095273819, total=   0.2s\n",
      "[CV] learning_rate=1, algorithm=SAMME.R, n_estimators=500 ............\n",
      "[CV]  learning_rate=1, algorithm=SAMME.R, n_estimators=500, score=0.6996996996996997, total=   0.2s\n",
      "[CV] learning_rate=1, algorithm=SAMME.R, n_estimators=400 ............\n",
      "[CV]  learning_rate=1, algorithm=SAMME.R, n_estimators=400, score=0.7458770614692654, total=   0.2s\n",
      "[CV] learning_rate=1, algorithm=SAMME.R, n_estimators=400 ............\n",
      "[CV]  learning_rate=1, algorithm=SAMME.R, n_estimators=400, score=0.7404351087771943, total=   0.1s\n",
      "[CV] learning_rate=1, algorithm=SAMME.R, n_estimators=400 ............\n",
      "[CV]  learning_rate=1, algorithm=SAMME.R, n_estimators=500, score=0.732933233308327, total=   0.1s\n",
      "[CV]  learning_rate=1, algorithm=SAMME.R, n_estimators=400, score=0.7106446776611695, total=   0.1s\n",
      "[CV]  learning_rate=1, algorithm=SAMME.R, n_estimators=400, score=0.7057057057057057, total=   0.1s\n",
      "[CV]  learning_rate=1, algorithm=SAMME.R, n_estimators=400, score=0.7441860465116279, total=   0.1s\n"
     ]
    },
    {
     "name": "stderr",
     "output_type": "stream",
     "text": [
      "[Parallel(n_jobs=-1)]: Done 118 out of 120 | elapsed:    3.1s remaining:    0.1s\n",
      "[Parallel(n_jobs=-1)]: Done 120 out of 120 | elapsed:    3.1s finished\n"
     ]
    },
    {
     "name": "stdout",
     "output_type": "stream",
     "text": [
      "Fitting 5 folds for each of 24 candidates, totalling 120 fits\n",
      "[CV] learning_rate=1e-05, algorithm=SAMME, n_estimators=500 ..........\n",
      "[CV] learning_rate=1e-05, algorithm=SAMME, n_estimators=500 ..........\n",
      "[CV] learning_rate=1e-05, algorithm=SAMME, n_estimators=500 ..........\n",
      "[CV] learning_rate=1e-05, algorithm=SAMME, n_estimators=500 ..........\n",
      "[CV] learning_rate=1e-05, algorithm=SAMME, n_estimators=500 ..........\n",
      "[CV] learning_rate=1e-05, algorithm=SAMME, n_estimators=400 ..........\n",
      "[CV] learning_rate=1e-05, algorithm=SAMME, n_estimators=400 ..........\n",
      "[CV] learning_rate=1e-05, algorithm=SAMME, n_estimators=400 ..........\n",
      "[CV]  learning_rate=1e-05, algorithm=SAMME, n_estimators=500, score=0.7181409295352323, total=   0.1s\n",
      "[CV] learning_rate=1e-05, algorithm=SAMME, n_estimators=400 ..........\n",
      "[CV]  learning_rate=1e-05, algorithm=SAMME, n_estimators=500, score=0.7151424287856072, total=   0.1s\n",
      "[CV] learning_rate=1e-05, algorithm=SAMME, n_estimators=400 ..........\n",
      "[CV]  learning_rate=1e-05, algorithm=SAMME, n_estimators=500, score=0.7179294823705926, total=   0.2s\n",
      "[CV] learning_rate=0.0001, algorithm=SAMME, n_estimators=500 .........\n",
      "[CV]  learning_rate=1e-05, algorithm=SAMME, n_estimators=500, score=0.7237237237237237, total=   0.2s\n",
      "[CV]  learning_rate=1e-05, algorithm=SAMME, n_estimators=500, score=0.7119279819954989, total=   0.2s\n",
      "[CV] learning_rate=0.0001, algorithm=SAMME, n_estimators=500 .........\n",
      "[CV]  learning_rate=1e-05, algorithm=SAMME, n_estimators=400, score=0.7181409295352323, total=   0.2s\n",
      "[CV] learning_rate=0.0001, algorithm=SAMME, n_estimators=500 .........\n",
      "[CV] learning_rate=0.0001, algorithm=SAMME, n_estimators=500 .........\n",
      "[CV]  learning_rate=1e-05, algorithm=SAMME, n_estimators=400, score=0.7151424287856072, total=   0.2s\n",
      "[CV] learning_rate=0.0001, algorithm=SAMME, n_estimators=500 .........\n",
      "[CV]  learning_rate=1e-05, algorithm=SAMME, n_estimators=400, score=0.7179294823705926, total=   0.2s\n",
      "[CV] learning_rate=0.0001, algorithm=SAMME, n_estimators=400 .........\n"
     ]
    },
    {
     "name": "stderr",
     "output_type": "stream",
     "text": [
      "[Parallel(n_jobs=-1)]: Batch computation too fast (0.1801s.) Setting batch_size=2.\n",
      "[Parallel(n_jobs=-1)]: Done   2 tasks      | elapsed:    0.2s\n"
     ]
    },
    {
     "name": "stdout",
     "output_type": "stream",
     "text": [
      "[CV]  learning_rate=1e-05, algorithm=SAMME, n_estimators=400, score=0.7237237237237237, total=   0.2s\n",
      "[CV]  learning_rate=1e-05, algorithm=SAMME, n_estimators=400, score=0.7164291072768192, total=   0.2s\n",
      "[CV]  learning_rate=0.0001, algorithm=SAMME, n_estimators=500, score=0.7113943028485757, total=   0.2s\n",
      "[CV] learning_rate=0.0001, algorithm=SAMME, n_estimators=400 .........\n",
      "[CV] learning_rate=0.0001, algorithm=SAMME, n_estimators=400 .........\n",
      "[CV]  learning_rate=0.0001, algorithm=SAMME, n_estimators=500, score=0.714178544636159, total=   0.2s\n",
      "[CV]  learning_rate=0.0001, algorithm=SAMME, n_estimators=500, score=0.704647676161919, total=   0.2s\n",
      "[CV] learning_rate=0.001, algorithm=SAMME, n_estimators=500 ..........\n",
      "[CV] learning_rate=0.001, algorithm=SAMME, n_estimators=500 ..........\n",
      "[CV]  learning_rate=0.0001, algorithm=SAMME, n_estimators=500, score=0.7164291072768192, total=   0.2s\n",
      "[CV]  learning_rate=0.0001, algorithm=SAMME, n_estimators=500, score=0.7237237237237237, total=   0.2s\n",
      "[CV] learning_rate=0.001, algorithm=SAMME, n_estimators=500 ..........\n",
      "[CV]  learning_rate=0.0001, algorithm=SAMME, n_estimators=400, score=0.7113943028485757, total=   0.2s\n",
      "[CV] learning_rate=0.001, algorithm=SAMME, n_estimators=400 ..........\n",
      "[CV] learning_rate=0.001, algorithm=SAMME, n_estimators=400 ..........\n",
      "[CV] learning_rate=0.01, algorithm=SAMME, n_estimators=500 ...........\n",
      "[CV]  learning_rate=0.0001, algorithm=SAMME, n_estimators=400, score=0.704647676161919, total=   0.2s\n",
      "[CV] learning_rate=0.0001, algorithm=SAMME, n_estimators=400 .........\n"
     ]
    },
    {
     "name": "stderr",
     "output_type": "stream",
     "text": [
      "[Parallel(n_jobs=-1)]: Done   9 tasks      | elapsed:    0.4s\n",
      "[Parallel(n_jobs=-1)]: Done  16 tasks      | elapsed:    0.5s\n"
     ]
    },
    {
     "name": "stdout",
     "output_type": "stream",
     "text": [
      "[CV]  learning_rate=0.001, algorithm=SAMME, n_estimators=500, score=0.7053973013493253, total=   0.2s\n",
      "[CV] learning_rate=0.001, algorithm=SAMME, n_estimators=500 ..........\n",
      "[CV]  learning_rate=0.0001, algorithm=SAMME, n_estimators=400, score=0.7171792948237059, total=   0.2s\n",
      "[CV] learning_rate=0.0001, algorithm=SAMME, n_estimators=400 .........\n",
      "[CV]  learning_rate=0.001, algorithm=SAMME, n_estimators=500, score=0.7119279819954989, total=   0.2s\n",
      "[CV] learning_rate=0.001, algorithm=SAMME, n_estimators=500 ..........\n",
      "[CV]  learning_rate=0.001, algorithm=SAMME, n_estimators=500, score=0.7192192192192193, total=   0.2s\n",
      "[CV] learning_rate=0.001, algorithm=SAMME, n_estimators=400 ..........\n",
      "[CV]  learning_rate=0.001, algorithm=SAMME, n_estimators=400, score=0.704647676161919, total=   0.2s\n",
      "[CV] learning_rate=0.001, algorithm=SAMME, n_estimators=400 ..........\n",
      "[CV]  learning_rate=0.01, algorithm=SAMME, n_estimators=500, score=0.7053973013493253, total=   0.2s\n",
      "[CV] learning_rate=0.01, algorithm=SAMME, n_estimators=500 ...........\n",
      "[CV]  learning_rate=0.001, algorithm=SAMME, n_estimators=400, score=0.7171792948237059, total=   0.2s\n",
      "[CV] learning_rate=0.001, algorithm=SAMME, n_estimators=400 ..........\n",
      "[CV]  learning_rate=0.0001, algorithm=SAMME, n_estimators=400, score=0.7036759189797449, total=   0.2s\n",
      "[CV] learning_rate=0.01, algorithm=SAMME, n_estimators=500 ...........\n",
      "[CV]  learning_rate=0.001, algorithm=SAMME, n_estimators=500, score=0.7151424287856072, total=   0.2s\n",
      "[CV]  learning_rate=0.0001, algorithm=SAMME, n_estimators=400, score=0.722972972972973, total=   0.2s\n",
      "[CV] learning_rate=0.01, algorithm=SAMME, n_estimators=500 ...........\n",
      "[CV] learning_rate=0.01, algorithm=SAMME, n_estimators=400 ...........\n",
      "[CV]  learning_rate=0.001, algorithm=SAMME, n_estimators=400, score=0.7083958020989505, total=   0.2s\n",
      "[CV]  learning_rate=0.001, algorithm=SAMME, n_estimators=500, score=0.7164291072768192, total=   0.2s\n",
      "[CV] learning_rate=0.01, algorithm=SAMME, n_estimators=400 ...........\n",
      "[CV] learning_rate=0.1, algorithm=SAMME, n_estimators=500 ............\n",
      "[CV]  learning_rate=0.001, algorithm=SAMME, n_estimators=400, score=0.7036759189797449, total=   0.2s\n",
      "[CV]  learning_rate=0.01, algorithm=SAMME, n_estimators=500, score=0.7151424287856072, total=   0.2s\n",
      "[CV] learning_rate=0.1, algorithm=SAMME, n_estimators=500 ............\n",
      "[CV] learning_rate=0.1, algorithm=SAMME, n_estimators=500 ............\n",
      "[CV]  learning_rate=0.001, algorithm=SAMME, n_estimators=400, score=0.722972972972973, total=   0.2s\n",
      "[CV] learning_rate=0.1, algorithm=SAMME, n_estimators=400 ............\n",
      "[CV]  learning_rate=0.01, algorithm=SAMME, n_estimators=500, score=0.7074268567141786, total=   0.2s\n",
      "[CV] learning_rate=0.01, algorithm=SAMME, n_estimators=500 ...........\n",
      "[CV]  learning_rate=0.01, algorithm=SAMME, n_estimators=500, score=0.7057057057057057, total=   0.2s\n",
      "[CV] learning_rate=0.01, algorithm=SAMME, n_estimators=400 ...........\n",
      "[CV]  learning_rate=0.01, algorithm=SAMME, n_estimators=400, score=0.7166416791604198, total=   0.2s\n",
      "[CV] learning_rate=0.01, algorithm=SAMME, n_estimators=400 ...........\n",
      "[CV]  learning_rate=0.1, algorithm=SAMME, n_estimators=500, score=0.704647676161919, total=   0.2s\n",
      "[CV] learning_rate=0.1, algorithm=SAMME, n_estimators=500 ............\n",
      "[CV]  learning_rate=0.01, algorithm=SAMME, n_estimators=400, score=0.7171792948237059, total=   0.2s\n",
      "[CV] learning_rate=0.01, algorithm=SAMME, n_estimators=400 ...........\n",
      "[CV]  learning_rate=0.1, algorithm=SAMME, n_estimators=500, score=0.7074268567141786, total=   0.2s\n",
      "[CV] learning_rate=0.1, algorithm=SAMME, n_estimators=500 ............\n",
      "[CV]  learning_rate=0.1, algorithm=SAMME, n_estimators=500, score=0.7057057057057057, total=   0.2s\n",
      "[CV] learning_rate=0.1, algorithm=SAMME, n_estimators=400 ............\n",
      "[CV]  learning_rate=0.1, algorithm=SAMME, n_estimators=400, score=0.7166416791604198, total=   0.2s\n",
      "[CV] learning_rate=0.1, algorithm=SAMME, n_estimators=400 ............\n",
      "[CV]  learning_rate=0.01, algorithm=SAMME, n_estimators=500, score=0.7179294823705926, total=   0.2s\n",
      "[CV]  learning_rate=0.01, algorithm=SAMME, n_estimators=400, score=0.7068965517241379, total=   0.2s\n",
      "[CV] learning_rate=0.1, algorithm=SAMME, n_estimators=400 ............\n",
      "[CV]  learning_rate=0.01, algorithm=SAMME, n_estimators=400, score=0.7081770442610653, total=   0.2s\n",
      "[CV] learning_rate=1, algorithm=SAMME, n_estimators=500 ..............\n",
      "[CV] learning_rate=1, algorithm=SAMME, n_estimators=500 ..............\n",
      "[CV]  learning_rate=0.1, algorithm=SAMME, n_estimators=500, score=0.7076461769115442, total=   0.2s\n",
      "[CV] learning_rate=1, algorithm=SAMME, n_estimators=500 ..............\n",
      "[CV]  learning_rate=0.01, algorithm=SAMME, n_estimators=400, score=0.7147147147147147, total=   0.2s\n",
      "[CV] learning_rate=1, algorithm=SAMME, n_estimators=400 ..............\n",
      "[CV]  learning_rate=0.1, algorithm=SAMME, n_estimators=400, score=0.7068965517241379, total=   0.2s\n",
      "[CV] learning_rate=1, algorithm=SAMME, n_estimators=400 ..............\n",
      "[CV]  learning_rate=0.1, algorithm=SAMME, n_estimators=500, score=0.7179294823705926, total=   0.2s\n",
      "[CV] learning_rate=1e-05, algorithm=SAMME.R, n_estimators=500 ........\n",
      "[CV]  learning_rate=0.1, algorithm=SAMME, n_estimators=400, score=0.7081770442610653, total=   0.2s\n",
      "[CV] learning_rate=1e-05, algorithm=SAMME.R, n_estimators=500 ........\n",
      "[CV]  learning_rate=1, algorithm=SAMME, n_estimators=500, score=0.704647676161919, total=   0.2s\n"
     ]
    },
    {
     "name": "stderr",
     "output_type": "stream",
     "text": [
      "[Parallel(n_jobs=-1)]: Done  34 tasks      | elapsed:    1.2s\n"
     ]
    },
    {
     "name": "stdout",
     "output_type": "stream",
     "text": [
      "[CV] learning_rate=1, algorithm=SAMME, n_estimators=500 ..............\n",
      "[CV]  learning_rate=1, algorithm=SAMME, n_estimators=500, score=0.719429857464366, total=   0.2s\n",
      "[CV] learning_rate=1, algorithm=SAMME, n_estimators=500 ..............\n",
      "[CV]  learning_rate=0.1, algorithm=SAMME, n_estimators=400, score=0.7216804201050263, total=   0.2s\n",
      "[CV] learning_rate=0.1, algorithm=SAMME, n_estimators=400 ............\n",
      "[CV]  learning_rate=1, algorithm=SAMME, n_estimators=500, score=0.71996996996997, total=   0.2s\n",
      "[CV] learning_rate=1, algorithm=SAMME, n_estimators=400 ..............\n",
      "[CV]  learning_rate=1, algorithm=SAMME, n_estimators=400, score=0.7218890554722639, total=   0.2s\n",
      "[CV] learning_rate=1, algorithm=SAMME, n_estimators=400 ..............\n",
      "[CV]  learning_rate=1e-05, algorithm=SAMME.R, n_estimators=500, score=0.704647676161919, total=   0.2s\n",
      "[CV]  learning_rate=1, algorithm=SAMME, n_estimators=400, score=0.7216804201050263, total=   0.2s\n",
      "[CV] learning_rate=1e-05, algorithm=SAMME.R, n_estimators=500 ........\n",
      "[CV] learning_rate=1, algorithm=SAMME, n_estimators=400 ..............\n",
      "[CV]  learning_rate=1e-05, algorithm=SAMME.R, n_estimators=500, score=0.719429857464366, total=   0.2s\n",
      "[CV] learning_rate=1e-05, algorithm=SAMME.R, n_estimators=500 ........\n",
      "[CV]  learning_rate=1, algorithm=SAMME, n_estimators=500, score=0.717391304347826, total=   0.2s\n",
      "[CV] learning_rate=1e-05, algorithm=SAMME.R, n_estimators=500 ........\n",
      "[CV]  learning_rate=0.1, algorithm=SAMME, n_estimators=400, score=0.7117117117117117, total=   0.2s\n",
      "[CV] learning_rate=1e-05, algorithm=SAMME.R, n_estimators=400 ........\n",
      "[CV]  learning_rate=1, algorithm=SAMME, n_estimators=400, score=0.704647676161919, total=   0.2s\n",
      "[CV] learning_rate=1e-05, algorithm=SAMME.R, n_estimators=400 ........\n",
      "[CV]  learning_rate=1, algorithm=SAMME, n_estimators=500, score=0.708927231807952, total=   0.2s\n",
      "[CV] learning_rate=0.0001, algorithm=SAMME.R, n_estimators=500 .......\n",
      "[CV]  learning_rate=1, algorithm=SAMME, n_estimators=400, score=0.7074268567141786, total=   0.2s\n",
      "[CV] learning_rate=0.0001, algorithm=SAMME.R, n_estimators=500 .......\n",
      "[CV]  learning_rate=1e-05, algorithm=SAMME.R, n_estimators=500, score=0.717391304347826, total=   0.2s\n",
      "[CV]  learning_rate=1, algorithm=SAMME, n_estimators=400, score=0.7117117117117117, total=   0.2s\n",
      "[CV] learning_rate=0.0001, algorithm=SAMME.R, n_estimators=500 .......\n",
      "[CV] learning_rate=0.0001, algorithm=SAMME.R, n_estimators=400 .......\n",
      "[CV]  learning_rate=1e-05, algorithm=SAMME.R, n_estimators=500, score=0.708927231807952, total=   0.2s\n",
      "[CV] learning_rate=0.0001, algorithm=SAMME.R, n_estimators=400 .......\n",
      "[CV]  learning_rate=1e-05, algorithm=SAMME.R, n_estimators=500, score=0.7184684684684685, total=   0.2s\n",
      "[CV] learning_rate=1e-05, algorithm=SAMME.R, n_estimators=400 ........\n"
     ]
    },
    {
     "name": "stderr",
     "output_type": "stream",
     "text": [
      "[Parallel(n_jobs=-1)]: Done  52 tasks      | elapsed:    1.6s\n"
     ]
    },
    {
     "name": "stdout",
     "output_type": "stream",
     "text": [
      "[CV]  learning_rate=1e-05, algorithm=SAMME.R, n_estimators=400, score=0.7181409295352323, total=   0.2s\n",
      "[CV] learning_rate=1e-05, algorithm=SAMME.R, n_estimators=400 ........\n",
      "[CV]  learning_rate=0.0001, algorithm=SAMME.R, n_estimators=500, score=0.7113943028485757, total=   0.2s\n",
      "[CV] learning_rate=0.0001, algorithm=SAMME.R, n_estimators=500 .......\n",
      "[CV]  learning_rate=1e-05, algorithm=SAMME.R, n_estimators=400, score=0.7104276069017255, total=   0.2s\n",
      "[CV] learning_rate=1e-05, algorithm=SAMME.R, n_estimators=400 ........\n",
      "[CV]  learning_rate=0.0001, algorithm=SAMME.R, n_estimators=500, score=0.7074268567141786, total=   0.2s\n",
      "[CV] learning_rate=0.0001, algorithm=SAMME.R, n_estimators=500 .......\n",
      "[CV]  learning_rate=0.0001, algorithm=SAMME.R, n_estimators=500, score=0.7184684684684685, total=   0.2s\n",
      "[CV] learning_rate=0.0001, algorithm=SAMME.R, n_estimators=400 .......\n",
      "[CV]  learning_rate=0.0001, algorithm=SAMME.R, n_estimators=400, score=0.7181409295352323, total=   0.2s\n",
      "[CV] learning_rate=0.0001, algorithm=SAMME.R, n_estimators=400 .......\n",
      "[CV]  learning_rate=0.0001, algorithm=SAMME.R, n_estimators=400, score=0.7104276069017255, total=   0.2s\n",
      "[CV] learning_rate=0.0001, algorithm=SAMME.R, n_estimators=400 .......\n",
      "[CV]  learning_rate=1e-05, algorithm=SAMME.R, n_estimators=400, score=0.7158920539730135, total=   0.2s\n",
      "[CV] learning_rate=0.001, algorithm=SAMME.R, n_estimators=500 ........\n",
      "[CV]  learning_rate=1e-05, algorithm=SAMME.R, n_estimators=400, score=0.7134283570892723, total=   0.2s\n",
      "[CV] learning_rate=0.001, algorithm=SAMME.R, n_estimators=500 ........\n",
      "[CV]  learning_rate=0.0001, algorithm=SAMME.R, n_estimators=500, score=0.7181409295352323, total=   0.2s\n",
      "[CV] learning_rate=0.001, algorithm=SAMME.R, n_estimators=500 ........\n",
      "[CV]  learning_rate=1e-05, algorithm=SAMME.R, n_estimators=400, score=0.7147147147147147, total=   0.2s\n",
      "[CV] learning_rate=0.001, algorithm=SAMME.R, n_estimators=400 ........\n",
      "[CV]  learning_rate=0.0001, algorithm=SAMME.R, n_estimators=400, score=0.7158920539730135, total=   0.2s\n",
      "[CV]  learning_rate=0.0001, algorithm=SAMME.R, n_estimators=500, score=0.7119279819954989, total=   0.2s\n",
      "[CV] learning_rate=0.001, algorithm=SAMME.R, n_estimators=400 ........\n",
      "[CV]  learning_rate=0.0001, algorithm=SAMME.R, n_estimators=400, score=0.7134283570892723, total=   0.2s\n",
      "[CV] learning_rate=0.01, algorithm=SAMME.R, n_estimators=500 .........\n",
      "[CV] learning_rate=0.01, algorithm=SAMME.R, n_estimators=500 .........\n",
      "[CV]  learning_rate=0.0001, algorithm=SAMME.R, n_estimators=400, score=0.7147147147147147, total=   0.2s\n",
      "[CV] learning_rate=0.01, algorithm=SAMME.R, n_estimators=500 .........\n",
      "[CV]  learning_rate=0.001, algorithm=SAMME.R, n_estimators=500, score=0.7113943028485757, total=   0.2s\n",
      "[CV] learning_rate=0.001, algorithm=SAMME.R, n_estimators=500 ........\n",
      "[CV]  learning_rate=0.001, algorithm=SAMME.R, n_estimators=500, score=0.714178544636159, total=   0.2s\n",
      "[CV] learning_rate=0.001, algorithm=SAMME.R, n_estimators=500 ........\n",
      "[CV]  learning_rate=0.001, algorithm=SAMME.R, n_estimators=500, score=0.7184684684684685, total=   0.2s\n",
      "[CV] learning_rate=0.001, algorithm=SAMME.R, n_estimators=400 ........\n",
      "[CV]  learning_rate=0.001, algorithm=SAMME.R, n_estimators=400, score=0.7181409295352323, total=   0.2s\n",
      "[CV] learning_rate=0.001, algorithm=SAMME.R, n_estimators=400 ........\n",
      "[CV]  learning_rate=0.01, algorithm=SAMME.R, n_estimators=500, score=0.7113943028485757, total=   0.2s\n",
      "[CV] learning_rate=0.01, algorithm=SAMME.R, n_estimators=500 .........\n"
     ]
    },
    {
     "name": "stderr",
     "output_type": "stream",
     "text": [
      "[Parallel(n_jobs=-1)]: Done  74 tasks      | elapsed:    2.1s\n"
     ]
    },
    {
     "name": "stdout",
     "output_type": "stream",
     "text": [
      "[CV]  learning_rate=0.001, algorithm=SAMME.R, n_estimators=400, score=0.7201800450112528, total=   0.2s\n",
      "[CV] learning_rate=0.001, algorithm=SAMME.R, n_estimators=400 ........\n",
      "[CV]  learning_rate=0.01, algorithm=SAMME.R, n_estimators=500, score=0.714178544636159, total=   0.2s\n",
      "[CV] learning_rate=0.01, algorithm=SAMME.R, n_estimators=500 .........\n",
      "[CV]  learning_rate=0.01, algorithm=SAMME.R, n_estimators=500, score=0.7184684684684685, total=   0.2s\n",
      "[CV] learning_rate=0.01, algorithm=SAMME.R, n_estimators=400 .........\n",
      "[CV]  learning_rate=0.001, algorithm=SAMME.R, n_estimators=500, score=0.717391304347826, total=   0.2s\n",
      "[CV] learning_rate=0.01, algorithm=SAMME.R, n_estimators=400 .........\n",
      "[CV]  learning_rate=0.001, algorithm=SAMME.R, n_estimators=400, score=0.704647676161919, total=   0.2s\n",
      "[CV] learning_rate=0.01, algorithm=SAMME.R, n_estimators=400 .........\n",
      "[CV]  learning_rate=0.001, algorithm=SAMME.R, n_estimators=500, score=0.7119279819954989, total=   0.2s\n",
      "[CV] learning_rate=0.1, algorithm=SAMME.R, n_estimators=500 ..........\n",
      "[CV]  learning_rate=0.001, algorithm=SAMME.R, n_estimators=400, score=0.7111777944486122, total=   0.2s\n",
      "[CV] learning_rate=0.1, algorithm=SAMME.R, n_estimators=500 ..........\n",
      "[CV]  learning_rate=0.01, algorithm=SAMME.R, n_estimators=500, score=0.717391304347826, total=   0.2s\n",
      "[CV] learning_rate=0.1, algorithm=SAMME.R, n_estimators=500 ..........\n",
      "[CV]  learning_rate=0.001, algorithm=SAMME.R, n_estimators=400, score=0.7162162162162162, total=   0.2s\n",
      "[CV] learning_rate=0.1, algorithm=SAMME.R, n_estimators=400 ..........\n",
      "[CV]  learning_rate=0.01, algorithm=SAMME.R, n_estimators=500, score=0.7119279819954989, total=   0.2s\n",
      "[CV]  learning_rate=0.01, algorithm=SAMME.R, n_estimators=400, score=0.704647676161919, total=   0.2s\n",
      "[CV] learning_rate=0.1, algorithm=SAMME.R, n_estimators=400 ..........\n",
      "[CV] learning_rate=1, algorithm=SAMME.R, n_estimators=500 ............\n",
      "[CV]  learning_rate=0.01, algorithm=SAMME.R, n_estimators=400, score=0.7188905547226386, total=   0.2s\n",
      "[CV] learning_rate=0.01, algorithm=SAMME.R, n_estimators=400 .........\n",
      "[CV]  learning_rate=0.1, algorithm=SAMME.R, n_estimators=500, score=0.7128935532233883, total=   0.2s\n",
      "[CV]  learning_rate=0.01, algorithm=SAMME.R, n_estimators=400, score=0.7179294823705926, total=   0.2s\n",
      "[CV] learning_rate=0.1, algorithm=SAMME.R, n_estimators=500 ..........\n",
      "[CV] learning_rate=0.01, algorithm=SAMME.R, n_estimators=400 .........\n",
      "[CV]  learning_rate=0.1, algorithm=SAMME.R, n_estimators=500, score=0.7051762940735183, total=   0.2s\n",
      "[CV] learning_rate=0.1, algorithm=SAMME.R, n_estimators=500 ..........\n",
      "[CV]  learning_rate=0.1, algorithm=SAMME.R, n_estimators=500, score=0.7102102102102102, total=   0.2s\n",
      "[CV] learning_rate=0.1, algorithm=SAMME.R, n_estimators=400 ..........\n"
     ]
    },
    {
     "name": "stderr",
     "output_type": "stream",
     "text": [
      "[Parallel(n_jobs=-1)]: Done  92 out of 120 | elapsed:    2.5s remaining:    0.8s\n"
     ]
    },
    {
     "name": "stdout",
     "output_type": "stream",
     "text": [
      "[CV]  learning_rate=0.1, algorithm=SAMME.R, n_estimators=400, score=0.7188905547226386, total=   0.2s\n",
      "[CV] learning_rate=0.1, algorithm=SAMME.R, n_estimators=400 ..........\n",
      "[CV]  learning_rate=1, algorithm=SAMME.R, n_estimators=500, score=0.7128935532233883, total=   0.2s\n",
      "[CV] learning_rate=1, algorithm=SAMME.R, n_estimators=500 ............\n",
      "[CV]  learning_rate=0.1, algorithm=SAMME.R, n_estimators=400, score=0.7179294823705926, total=   0.2s\n",
      "[CV] learning_rate=0.1, algorithm=SAMME.R, n_estimators=400 ..........\n",
      "[CV]  learning_rate=0.01, algorithm=SAMME.R, n_estimators=400, score=0.7111777944486122, total=   0.2s\n",
      "[CV] learning_rate=1, algorithm=SAMME.R, n_estimators=500 ............\n",
      "[CV]  learning_rate=0.01, algorithm=SAMME.R, n_estimators=400, score=0.7177177177177178, total=   0.2s\n",
      "[CV]  learning_rate=0.1, algorithm=SAMME.R, n_estimators=500, score=0.7136431784107946, total=   0.2s\n",
      "[CV] learning_rate=1, algorithm=SAMME.R, n_estimators=500 ............\n",
      "[CV] learning_rate=1, algorithm=SAMME.R, n_estimators=400 ............\n",
      "[CV]  learning_rate=0.1, algorithm=SAMME.R, n_estimators=400, score=0.7091454272863568, total=   0.2s\n",
      "[CV]  learning_rate=0.1, algorithm=SAMME.R, n_estimators=500, score=0.7254313578394599, total=   0.2s\n",
      "[CV] learning_rate=1, algorithm=SAMME.R, n_estimators=400 ............\n",
      "[CV]  learning_rate=0.1, algorithm=SAMME.R, n_estimators=400, score=0.7111777944486122, total=   0.2s\n",
      "[CV]  learning_rate=1, algorithm=SAMME.R, n_estimators=500, score=0.7136431784107946, total=   0.2s\n",
      "[CV]  learning_rate=0.1, algorithm=SAMME.R, n_estimators=400, score=0.7177177177177178, total=   0.2s\n",
      "[CV]  learning_rate=1, algorithm=SAMME.R, n_estimators=500, score=0.7074268567141786, total=   0.2s\n",
      "[CV] learning_rate=1, algorithm=SAMME.R, n_estimators=500 ............\n",
      "[CV]  learning_rate=1, algorithm=SAMME.R, n_estimators=500, score=0.7184684684684685, total=   0.1s\n",
      "[CV] learning_rate=1, algorithm=SAMME.R, n_estimators=400 ............\n",
      "[CV]  learning_rate=1, algorithm=SAMME.R, n_estimators=400, score=0.7136431784107946, total=   0.1s\n",
      "[CV] learning_rate=1, algorithm=SAMME.R, n_estimators=400 ............\n",
      "[CV]  learning_rate=1, algorithm=SAMME.R, n_estimators=400, score=0.7051762940735183, total=   0.1s\n",
      "[CV] learning_rate=1, algorithm=SAMME.R, n_estimators=400 ............\n",
      "[CV]  learning_rate=1, algorithm=SAMME.R, n_estimators=500, score=0.7179294823705926, total=   0.1s\n",
      "[CV]  learning_rate=1, algorithm=SAMME.R, n_estimators=400, score=0.7076461769115442, total=   0.1s\n",
      "[CV]  learning_rate=1, algorithm=SAMME.R, n_estimators=400, score=0.7164291072768192, total=   0.1s\n",
      "[CV]  learning_rate=1, algorithm=SAMME.R, n_estimators=400, score=0.7207207207207207, total=   0.1s\n"
     ]
    },
    {
     "name": "stderr",
     "output_type": "stream",
     "text": [
      "[Parallel(n_jobs=-1)]: Done 118 out of 120 | elapsed:    3.1s remaining:    0.1s\n",
      "[Parallel(n_jobs=-1)]: Done 120 out of 120 | elapsed:    3.1s finished\n"
     ]
    },
    {
     "name": "stdout",
     "output_type": "stream",
     "text": [
      "Fitting 5 folds for each of 24 candidates, totalling 120 fits\n",
      "[CV] learning_rate=1e-05, algorithm=SAMME, n_estimators=500 ..........\n",
      "[CV] learning_rate=1e-05, algorithm=SAMME, n_estimators=500 ..........\n",
      "[CV] learning_rate=1e-05, algorithm=SAMME, n_estimators=500 ..........\n",
      "[CV] learning_rate=1e-05, algorithm=SAMME, n_estimators=500 ..........\n",
      "[CV] learning_rate=1e-05, algorithm=SAMME, n_estimators=500 ..........\n",
      "[CV] learning_rate=1e-05, algorithm=SAMME, n_estimators=400 ..........\n",
      "[CV] learning_rate=1e-05, algorithm=SAMME, n_estimators=400 ..........\n",
      "[CV] learning_rate=1e-05, algorithm=SAMME, n_estimators=400 ..........\n",
      "[CV]  learning_rate=1e-05, algorithm=SAMME, n_estimators=500, score=0.7053973013493253, total=   0.1s\n",
      "[CV]  learning_rate=1e-05, algorithm=SAMME, n_estimators=500, score=0.7211394302848576, total=   0.1s\n",
      "[CV]  learning_rate=1e-05, algorithm=SAMME, n_estimators=500, score=0.7293853073463268, total=   0.1s\n",
      "[CV] learning_rate=1e-05, algorithm=SAMME, n_estimators=400 ..........\n",
      "[CV] learning_rate=1e-05, algorithm=SAMME, n_estimators=400 ..........\n",
      "[CV] learning_rate=0.0001, algorithm=SAMME, n_estimators=500 .........\n",
      "[CV]  learning_rate=1e-05, algorithm=SAMME, n_estimators=500, score=0.7051762940735183, total=   0.2s\n",
      "[CV]  learning_rate=1e-05, algorithm=SAMME, n_estimators=500, score=0.7374343585896475, total=   0.2s\n",
      "[CV] learning_rate=0.0001, algorithm=SAMME, n_estimators=500 .........\n",
      "[CV] learning_rate=0.0001, algorithm=SAMME, n_estimators=500 .........\n",
      "[CV]  learning_rate=1e-05, algorithm=SAMME, n_estimators=400, score=0.7211394302848576, total=   0.2s\n",
      "[CV]  learning_rate=1e-05, algorithm=SAMME, n_estimators=400, score=0.7053973013493253, total=   0.2s\n",
      "[CV] learning_rate=0.0001, algorithm=SAMME, n_estimators=500 .........\n",
      "[CV] learning_rate=0.0001, algorithm=SAMME, n_estimators=500 .........\n",
      "[CV]  learning_rate=1e-05, algorithm=SAMME, n_estimators=400, score=0.7293853073463268, total=   0.2s\n",
      "[CV] learning_rate=0.0001, algorithm=SAMME, n_estimators=400 .........\n",
      "[CV]  learning_rate=1e-05, algorithm=SAMME, n_estimators=400, score=0.7291822955738935, total=   0.2s\n"
     ]
    },
    {
     "name": "stderr",
     "output_type": "stream",
     "text": [
      "[Parallel(n_jobs=-1)]: Batch computation too fast (0.1921s.) Setting batch_size=2.\n",
      "[Parallel(n_jobs=-1)]: Done   2 tasks      | elapsed:    0.2s\n",
      "[Parallel(n_jobs=-1)]: Done   9 tasks      | elapsed:    0.4s\n"
     ]
    },
    {
     "name": "stdout",
     "output_type": "stream",
     "text": [
      "[CV]  learning_rate=1e-05, algorithm=SAMME, n_estimators=400, score=0.7111777944486122, total=   0.2s\n",
      "[CV] learning_rate=0.0001, algorithm=SAMME, n_estimators=400 .........\n",
      "[CV] learning_rate=0.0001, algorithm=SAMME, n_estimators=400 .........\n",
      "[CV]  learning_rate=0.0001, algorithm=SAMME, n_estimators=500, score=0.7068965517241379, total=   0.2s\n",
      "[CV] learning_rate=0.001, algorithm=SAMME, n_estimators=500 ..........\n",
      "[CV]  learning_rate=0.0001, algorithm=SAMME, n_estimators=500, score=0.7293853073463268, total=   0.2s\n",
      "[CV]  learning_rate=0.0001, algorithm=SAMME, n_estimators=500, score=0.7181409295352323, total=   0.2s\n",
      "[CV] learning_rate=0.001, algorithm=SAMME, n_estimators=500 ..........\n",
      "[CV] learning_rate=0.001, algorithm=SAMME, n_estimators=500 ..........\n",
      "[CV]  learning_rate=0.0001, algorithm=SAMME, n_estimators=500, score=0.7291822955738935, total=   0.2s\n",
      "[CV] learning_rate=0.001, algorithm=SAMME, n_estimators=400 ..........\n",
      "[CV]  learning_rate=0.0001, algorithm=SAMME, n_estimators=500, score=0.7111777944486122, total=   0.2s\n",
      "[CV] learning_rate=0.001, algorithm=SAMME, n_estimators=400 ..........\n",
      "[CV]  learning_rate=0.0001, algorithm=SAMME, n_estimators=400, score=0.7068965517241379, total=   0.2s\n",
      "[CV] learning_rate=0.01, algorithm=SAMME, n_estimators=500 ...........\n",
      "[CV]  learning_rate=0.0001, algorithm=SAMME, n_estimators=400, score=0.7113943028485757, total=   0.2s\n",
      "[CV] learning_rate=0.0001, algorithm=SAMME, n_estimators=400 .........\n",
      "[CV]  learning_rate=0.0001, algorithm=SAMME, n_estimators=400, score=0.708927231807952, total=   0.2s\n",
      "[CV] learning_rate=0.0001, algorithm=SAMME, n_estimators=400 .........\n",
      "[CV]  learning_rate=0.001, algorithm=SAMME, n_estimators=500, score=0.7299324831207802, total=   0.2s\n",
      "[CV] learning_rate=0.001, algorithm=SAMME, n_estimators=400 ..........\n",
      "[CV]  learning_rate=0.001, algorithm=SAMME, n_estimators=500, score=0.7203898050974513, total=   0.2s\n",
      "[CV] learning_rate=0.001, algorithm=SAMME, n_estimators=500 ..........\n",
      "[CV]  learning_rate=0.001, algorithm=SAMME, n_estimators=500, score=0.712143928035982, total=   0.2s\n",
      "[CV] learning_rate=0.001, algorithm=SAMME, n_estimators=500 ..........\n",
      "[CV]  learning_rate=0.001, algorithm=SAMME, n_estimators=400, score=0.7113943028485757, total=   0.2s\n",
      "[CV] learning_rate=0.001, algorithm=SAMME, n_estimators=400 ..........\n",
      "[CV]  learning_rate=0.001, algorithm=SAMME, n_estimators=400, score=0.708927231807952, total=   0.2s\n",
      "[CV] learning_rate=0.001, algorithm=SAMME, n_estimators=400 ..........\n"
     ]
    },
    {
     "name": "stderr",
     "output_type": "stream",
     "text": [
      "[Parallel(n_jobs=-1)]: Done  16 tasks      | elapsed:    0.5s\n"
     ]
    },
    {
     "name": "stdout",
     "output_type": "stream",
     "text": [
      "[CV]  learning_rate=0.01, algorithm=SAMME, n_estimators=500, score=0.712143928035982, total=   0.2s\n",
      "[CV] learning_rate=0.01, algorithm=SAMME, n_estimators=500 ...........\n",
      "[CV]  learning_rate=0.0001, algorithm=SAMME, n_estimators=400, score=0.7308845577211395, total=   0.2s\n",
      "[CV] learning_rate=0.01, algorithm=SAMME, n_estimators=500 ...........\n",
      "[CV]  learning_rate=0.0001, algorithm=SAMME, n_estimators=400, score=0.7321830457614403, total=   0.2s\n",
      "[CV] learning_rate=0.01, algorithm=SAMME, n_estimators=500 ...........\n",
      "[CV]  learning_rate=0.001, algorithm=SAMME, n_estimators=500, score=0.7098950524737632, total=   0.2s\n",
      "[CV]  learning_rate=0.001, algorithm=SAMME, n_estimators=400, score=0.704647676161919, total=   0.2s\n",
      "[CV]  learning_rate=0.001, algorithm=SAMME, n_estimators=500, score=0.6984246061515379, total=   0.2s\n",
      "[CV] learning_rate=0.01, algorithm=SAMME, n_estimators=400 ...........\n",
      "[CV]  learning_rate=0.001, algorithm=SAMME, n_estimators=400, score=0.7308845577211395, total=   0.2s\n",
      "[CV] learning_rate=0.01, algorithm=SAMME, n_estimators=400 ...........\n",
      "[CV] learning_rate=0.1, algorithm=SAMME, n_estimators=500 ............\n",
      "[CV] learning_rate=0.1, algorithm=SAMME, n_estimators=500 ............\n",
      "[CV]  learning_rate=0.001, algorithm=SAMME, n_estimators=400, score=0.7321830457614403, total=   0.2s\n",
      "[CV]  learning_rate=0.01, algorithm=SAMME, n_estimators=500, score=0.7098950524737632, total=   0.2s\n",
      "[CV] learning_rate=0.1, algorithm=SAMME, n_estimators=500 ............\n",
      "[CV] learning_rate=0.1, algorithm=SAMME, n_estimators=400 ............\n",
      "[CV]  learning_rate=0.01, algorithm=SAMME, n_estimators=500, score=0.7233883058470765, total=   0.2s\n",
      "[CV] learning_rate=0.01, algorithm=SAMME, n_estimators=500 ...........\n",
      "[CV]  learning_rate=0.01, algorithm=SAMME, n_estimators=500, score=0.735933983495874, total=   0.2s\n",
      "[CV] learning_rate=0.01, algorithm=SAMME, n_estimators=400 ...........\n",
      "[CV]  learning_rate=0.01, algorithm=SAMME, n_estimators=400, score=0.7128935532233883, total=   0.2s\n",
      "[CV] learning_rate=0.01, algorithm=SAMME, n_estimators=400 ...........\n",
      "[CV]  learning_rate=0.01, algorithm=SAMME, n_estimators=400, score=0.7111777944486122, total=   0.2s\n",
      "[CV]  learning_rate=0.1, algorithm=SAMME, n_estimators=500, score=0.704647676161919, total=   0.2s\n",
      "[CV] learning_rate=0.01, algorithm=SAMME, n_estimators=400 ...........\n",
      "[CV] learning_rate=0.1, algorithm=SAMME, n_estimators=500 ............\n",
      "[CV]  learning_rate=0.1, algorithm=SAMME, n_estimators=500, score=0.7233883058470765, total=   0.2s\n",
      "[CV] learning_rate=0.1, algorithm=SAMME, n_estimators=500 ............\n",
      "[CV]  learning_rate=0.1, algorithm=SAMME, n_estimators=500, score=0.735933983495874, total=   0.2s\n",
      "[CV] learning_rate=0.1, algorithm=SAMME, n_estimators=400 ............\n",
      "[CV]  learning_rate=0.1, algorithm=SAMME, n_estimators=400, score=0.7128935532233883, total=   0.2s\n",
      "[CV] learning_rate=0.1, algorithm=SAMME, n_estimators=400 ............\n",
      "[CV]  learning_rate=0.01, algorithm=SAMME, n_estimators=500, score=0.719429857464366, total=   0.2s\n",
      "[CV] learning_rate=0.1, algorithm=SAMME, n_estimators=400 ............\n",
      "[CV]  learning_rate=0.01, algorithm=SAMME, n_estimators=400, score=0.7106446776611695, total=   0.2s\n",
      "[CV]  learning_rate=0.01, algorithm=SAMME, n_estimators=400, score=0.7271364317841079, total=   0.2s\n",
      "[CV] learning_rate=1, algorithm=SAMME, n_estimators=500 ..............\n",
      "[CV] learning_rate=1, algorithm=SAMME, n_estimators=500 ..............\n",
      "[CV]  learning_rate=0.01, algorithm=SAMME, n_estimators=400, score=0.7374343585896475, total=   0.2s\n",
      "[CV]  learning_rate=0.1, algorithm=SAMME, n_estimators=500, score=0.7166416791604198, total=   0.2s\n",
      "[CV]  learning_rate=0.1, algorithm=SAMME, n_estimators=500, score=0.719429857464366, total=   0.2s\n",
      "[CV] learning_rate=1, algorithm=SAMME, n_estimators=500 ..............\n",
      "[CV] learning_rate=1, algorithm=SAMME, n_estimators=400 ..............\n",
      "[CV] learning_rate=1, algorithm=SAMME, n_estimators=400 ..............\n",
      "[CV]  learning_rate=0.1, algorithm=SAMME, n_estimators=400, score=0.7106446776611695, total=   0.2s\n",
      "[CV]  learning_rate=0.1, algorithm=SAMME, n_estimators=400, score=0.7271364317841079, total=   0.2s\n",
      "[CV] learning_rate=1e-05, algorithm=SAMME.R, n_estimators=500 ........\n",
      "[CV] learning_rate=1e-05, algorithm=SAMME.R, n_estimators=500 ........\n"
     ]
    },
    {
     "name": "stderr",
     "output_type": "stream",
     "text": [
      "[Parallel(n_jobs=-1)]: Done  34 tasks      | elapsed:    1.2s\n"
     ]
    },
    {
     "name": "stdout",
     "output_type": "stream",
     "text": [
      "[CV]  learning_rate=0.1, algorithm=SAMME, n_estimators=400, score=0.7074268567141786, total=   0.2s\n",
      "[CV] learning_rate=0.1, algorithm=SAMME, n_estimators=400 ............\n",
      "[CV]  learning_rate=1, algorithm=SAMME, n_estimators=500, score=0.7271364317841079, total=   0.2s\n",
      "[CV] learning_rate=1, algorithm=SAMME, n_estimators=500 ..............\n",
      "[CV]  learning_rate=1, algorithm=SAMME, n_estimators=500, score=0.7008995502248876, total=   0.2s\n",
      "[CV] learning_rate=1, algorithm=SAMME, n_estimators=500 ..............\n",
      "[CV]  learning_rate=1, algorithm=SAMME, n_estimators=500, score=0.7389347336834209, total=   0.2s\n",
      "[CV] learning_rate=1, algorithm=SAMME, n_estimators=400 ..............\n",
      "[CV]  learning_rate=1, algorithm=SAMME, n_estimators=400, score=0.7143928035982009, total=   0.2s\n",
      "[CV] learning_rate=1, algorithm=SAMME, n_estimators=400 ..............\n",
      "[CV]  learning_rate=1, algorithm=SAMME, n_estimators=400, score=0.7074268567141786, total=   0.2s\n",
      "[CV] learning_rate=1, algorithm=SAMME, n_estimators=400 ..............\n",
      "[CV]  learning_rate=1e-05, algorithm=SAMME.R, n_estimators=500, score=0.7271364317841079, total=   0.2s\n",
      "[CV] learning_rate=1e-05, algorithm=SAMME.R, n_estimators=500 ........\n",
      "[CV]  learning_rate=1e-05, algorithm=SAMME.R, n_estimators=500, score=0.7008995502248876, total=   0.2s\n",
      "[CV] learning_rate=1e-05, algorithm=SAMME.R, n_estimators=500 ........\n",
      "[CV]  learning_rate=0.1, algorithm=SAMME, n_estimators=400, score=0.7389347336834209, total=   0.2s\n",
      "[CV] learning_rate=1e-05, algorithm=SAMME.R, n_estimators=500 ........\n",
      "[CV]  learning_rate=1, algorithm=SAMME, n_estimators=500, score=0.7186796699174793, total=   0.2s\n",
      "[CV]  learning_rate=1, algorithm=SAMME, n_estimators=500, score=0.7218890554722639, total=   0.2s\n",
      "[CV] learning_rate=1e-05, algorithm=SAMME.R, n_estimators=400 ........\n",
      "[CV] learning_rate=1e-05, algorithm=SAMME.R, n_estimators=400 ........\n",
      "[CV]  learning_rate=1, algorithm=SAMME, n_estimators=400, score=0.7016491754122939, total=   0.2s\n",
      "[CV]  learning_rate=1, algorithm=SAMME, n_estimators=400, score=0.7218890554722639, total=   0.2s\n",
      "[CV] learning_rate=0.0001, algorithm=SAMME.R, n_estimators=500 .......\n",
      "[CV]  learning_rate=1, algorithm=SAMME, n_estimators=400, score=0.7389347336834209, total=   0.2s\n",
      "[CV] learning_rate=0.0001, algorithm=SAMME.R, n_estimators=500 .......\n",
      "[CV] learning_rate=0.0001, algorithm=SAMME.R, n_estimators=500 .......\n",
      "[CV]  learning_rate=1e-05, algorithm=SAMME.R, n_estimators=500, score=0.7218890554722639, total=   0.2s\n",
      "[CV]  learning_rate=1e-05, algorithm=SAMME.R, n_estimators=500, score=0.7186796699174793, total=   0.2s\n",
      "[CV] learning_rate=0.0001, algorithm=SAMME.R, n_estimators=400 .......\n",
      "[CV] learning_rate=0.0001, algorithm=SAMME.R, n_estimators=400 .......\n",
      "[CV]  learning_rate=1e-05, algorithm=SAMME.R, n_estimators=500, score=0.732933233308327, total=   0.2s\n",
      "[CV] learning_rate=1e-05, algorithm=SAMME.R, n_estimators=400 ........\n"
     ]
    },
    {
     "name": "stderr",
     "output_type": "stream",
     "text": [
      "[Parallel(n_jobs=-1)]: Done  52 tasks      | elapsed:    1.7s\n"
     ]
    },
    {
     "name": "stdout",
     "output_type": "stream",
     "text": [
      "[CV]  learning_rate=1e-05, algorithm=SAMME.R, n_estimators=400, score=0.7211394302848576, total=   0.2s\n",
      "[CV] learning_rate=1e-05, algorithm=SAMME.R, n_estimators=400 ........\n",
      "[CV]  learning_rate=0.0001, algorithm=SAMME.R, n_estimators=500, score=0.7241379310344828, total=   0.2s\n",
      "[CV]  learning_rate=1e-05, algorithm=SAMME.R, n_estimators=400, score=0.7066766691672918, total=   0.2s\n",
      "[CV] learning_rate=0.0001, algorithm=SAMME.R, n_estimators=500 .......\n",
      "[CV] learning_rate=1e-05, algorithm=SAMME.R, n_estimators=400 ........\n",
      "[CV]  learning_rate=0.0001, algorithm=SAMME.R, n_estimators=500, score=0.732933233308327, total=   0.2s\n",
      "[CV] learning_rate=0.0001, algorithm=SAMME.R, n_estimators=400 .......\n",
      "[CV]  learning_rate=0.0001, algorithm=SAMME.R, n_estimators=500, score=0.7031484257871065, total=   0.2s\n",
      "[CV] learning_rate=0.0001, algorithm=SAMME.R, n_estimators=500 .......\n",
      "[CV]  learning_rate=0.0001, algorithm=SAMME.R, n_estimators=400, score=0.7211394302848576, total=   0.2s\n",
      "[CV] learning_rate=0.0001, algorithm=SAMME.R, n_estimators=400 .......\n",
      "[CV]  learning_rate=0.0001, algorithm=SAMME.R, n_estimators=400, score=0.7066766691672918, total=   0.2s\n",
      "[CV] learning_rate=0.0001, algorithm=SAMME.R, n_estimators=400 .......\n",
      "[CV]  learning_rate=1e-05, algorithm=SAMME.R, n_estimators=400, score=0.7008995502248876, total=   0.2s\n",
      "[CV] learning_rate=0.001, algorithm=SAMME.R, n_estimators=500 ........\n",
      "[CV]  learning_rate=1e-05, algorithm=SAMME.R, n_estimators=400, score=0.724887556221889, total=   0.2s\n",
      "[CV] learning_rate=0.001, algorithm=SAMME.R, n_estimators=500 ........\n",
      "[CV]  learning_rate=1e-05, algorithm=SAMME.R, n_estimators=400, score=0.7321830457614403, total=   0.2s\n",
      "[CV] learning_rate=0.001, algorithm=SAMME.R, n_estimators=500 ........\n",
      "[CV]  learning_rate=0.0001, algorithm=SAMME.R, n_estimators=500, score=0.7181409295352323, total=   0.2s\n",
      "[CV]  learning_rate=0.0001, algorithm=SAMME.R, n_estimators=500, score=0.700675168792198, total=   0.2s\n",
      "[CV] learning_rate=0.001, algorithm=SAMME.R, n_estimators=400 ........\n",
      "[CV] learning_rate=0.001, algorithm=SAMME.R, n_estimators=400 ........\n",
      "[CV]  learning_rate=0.0001, algorithm=SAMME.R, n_estimators=400, score=0.7008995502248876, total=   0.2s\n",
      "[CV] learning_rate=0.01, algorithm=SAMME.R, n_estimators=500 .........\n",
      "[CV]  learning_rate=0.0001, algorithm=SAMME.R, n_estimators=400, score=0.724887556221889, total=   0.2s\n",
      "[CV] learning_rate=0.01, algorithm=SAMME.R, n_estimators=500 .........\n",
      "[CV]  learning_rate=0.0001, algorithm=SAMME.R, n_estimators=400, score=0.7321830457614403, total=   0.2s\n",
      "[CV] learning_rate=0.01, algorithm=SAMME.R, n_estimators=500 .........\n",
      "[CV]  learning_rate=0.001, algorithm=SAMME.R, n_estimators=500, score=0.699400299850075, total=   0.2s\n",
      "[CV] learning_rate=0.001, algorithm=SAMME.R, n_estimators=500 ........\n"
     ]
    },
    {
     "name": "stderr",
     "output_type": "stream",
     "text": [
      "[Parallel(n_jobs=-1)]: Done  74 tasks      | elapsed:    2.1s\n"
     ]
    },
    {
     "name": "stdout",
     "output_type": "stream",
     "text": [
      "[CV]  learning_rate=0.001, algorithm=SAMME.R, n_estimators=500, score=0.7286356821589205, total=   0.2s\n",
      "[CV] learning_rate=0.001, algorithm=SAMME.R, n_estimators=500 ........\n",
      "[CV]  learning_rate=0.001, algorithm=SAMME.R, n_estimators=500, score=0.7299324831207802, total=   0.2s\n",
      "[CV] learning_rate=0.001, algorithm=SAMME.R, n_estimators=400 ........\n",
      "[CV]  learning_rate=0.001, algorithm=SAMME.R, n_estimators=400, score=0.7226386806596702, total=   0.2s\n",
      "[CV] learning_rate=0.001, algorithm=SAMME.R, n_estimators=400 ........\n",
      "[CV]  learning_rate=0.001, algorithm=SAMME.R, n_estimators=400, score=0.708927231807952, total=   0.2s\n",
      "[CV] learning_rate=0.001, algorithm=SAMME.R, n_estimators=400 ........\n",
      "[CV]  learning_rate=0.01, algorithm=SAMME.R, n_estimators=500, score=0.699400299850075, total=   0.2s\n",
      "[CV] learning_rate=0.01, algorithm=SAMME.R, n_estimators=500 .........\n",
      "[CV]  learning_rate=0.01, algorithm=SAMME.R, n_estimators=500, score=0.7286356821589205, total=   0.2s\n",
      "[CV] learning_rate=0.01, algorithm=SAMME.R, n_estimators=500 .........\n",
      "[CV]  learning_rate=0.01, algorithm=SAMME.R, n_estimators=500, score=0.7299324831207802, total=   0.2s\n",
      "[CV] learning_rate=0.01, algorithm=SAMME.R, n_estimators=400 .........\n",
      "[CV]  learning_rate=0.001, algorithm=SAMME.R, n_estimators=500, score=0.7218890554722639, total=   0.2s\n",
      "[CV] learning_rate=0.01, algorithm=SAMME.R, n_estimators=400 .........\n",
      "[CV]  learning_rate=0.001, algorithm=SAMME.R, n_estimators=500, score=0.714178544636159, total=   0.2s\n",
      "[CV] learning_rate=0.01, algorithm=SAMME.R, n_estimators=400 .........\n",
      "[CV]  learning_rate=0.001, algorithm=SAMME.R, n_estimators=400, score=0.7076461769115442, total=   0.2s\n",
      "[CV] learning_rate=0.1, algorithm=SAMME.R, n_estimators=500 ..........\n",
      "[CV]  learning_rate=0.001, algorithm=SAMME.R, n_estimators=400, score=0.7143928035982009, total=   0.2s\n",
      "[CV]  learning_rate=0.001, algorithm=SAMME.R, n_estimators=400, score=0.7306826706676669, total=   0.2s\n",
      "[CV] learning_rate=0.1, algorithm=SAMME.R, n_estimators=500 ..........\n",
      "[CV] learning_rate=0.1, algorithm=SAMME.R, n_estimators=500 ..........\n",
      "[CV]  learning_rate=0.01, algorithm=SAMME.R, n_estimators=500, score=0.7218890554722639, total=   0.2s\n",
      "[CV] learning_rate=0.1, algorithm=SAMME.R, n_estimators=400 ..........\n",
      "[CV]  learning_rate=0.01, algorithm=SAMME.R, n_estimators=500, score=0.714178544636159, total=   0.3s\n",
      "[CV]  learning_rate=0.01, algorithm=SAMME.R, n_estimators=400, score=0.7076461769115442, total=   0.3s\n",
      "[CV] learning_rate=0.1, algorithm=SAMME.R, n_estimators=400 ..........\n",
      "[CV] learning_rate=1, algorithm=SAMME.R, n_estimators=500 ............\n",
      "[CV]  learning_rate=0.01, algorithm=SAMME.R, n_estimators=400, score=0.7218890554722639, total=   0.2s\n",
      "[CV] learning_rate=0.01, algorithm=SAMME.R, n_estimators=400 .........\n",
      "[CV]  learning_rate=0.01, algorithm=SAMME.R, n_estimators=400, score=0.7186796699174793, total=   0.3s\n",
      "[CV] learning_rate=0.01, algorithm=SAMME.R, n_estimators=400 .........\n",
      "[CV]  learning_rate=0.1, algorithm=SAMME.R, n_estimators=500, score=0.7113943028485757, total=   0.2s\n",
      "[CV] learning_rate=0.1, algorithm=SAMME.R, n_estimators=500 ..........\n",
      "[CV]  learning_rate=0.1, algorithm=SAMME.R, n_estimators=500, score=0.6949025487256372, total=   0.3s\n",
      "[CV] learning_rate=0.1, algorithm=SAMME.R, n_estimators=500 ..........\n",
      "[CV]  learning_rate=0.1, algorithm=SAMME.R, n_estimators=500, score=0.7344336084021005, total=   0.2s\n"
     ]
    },
    {
     "name": "stderr",
     "output_type": "stream",
     "text": [
      "[Parallel(n_jobs=-1)]: Done  92 out of 120 | elapsed:    2.7s remaining:    0.8s\n"
     ]
    },
    {
     "name": "stdout",
     "output_type": "stream",
     "text": [
      "[CV] learning_rate=0.1, algorithm=SAMME.R, n_estimators=400 ..........\n",
      "[CV]  learning_rate=0.1, algorithm=SAMME.R, n_estimators=400, score=0.7218890554722639, total=   0.2s\n",
      "[CV] learning_rate=0.1, algorithm=SAMME.R, n_estimators=400 ..........\n",
      "[CV]  learning_rate=0.1, algorithm=SAMME.R, n_estimators=400, score=0.7186796699174793, total=   0.2s\n",
      "[CV] learning_rate=0.1, algorithm=SAMME.R, n_estimators=400 ..........\n",
      "[CV]  learning_rate=1, algorithm=SAMME.R, n_estimators=500, score=0.6949025487256372, total=   0.2s\n",
      "[CV] learning_rate=1, algorithm=SAMME.R, n_estimators=500 ............\n",
      "[CV]  learning_rate=0.01, algorithm=SAMME.R, n_estimators=400, score=0.7211394302848576, total=   0.2s\n",
      "[CV] learning_rate=1, algorithm=SAMME.R, n_estimators=500 ............\n",
      "[CV]  learning_rate=0.01, algorithm=SAMME.R, n_estimators=400, score=0.735933983495874, total=   0.2s\n",
      "[CV] learning_rate=1, algorithm=SAMME.R, n_estimators=500 ............\n",
      "[CV]  learning_rate=0.1, algorithm=SAMME.R, n_estimators=500, score=0.7203898050974513, total=   0.2s\n",
      "[CV] learning_rate=1, algorithm=SAMME.R, n_estimators=400 ............\n",
      "[CV]  learning_rate=0.1, algorithm=SAMME.R, n_estimators=500, score=0.7051762940735183, total=   0.2s\n",
      "[CV]  learning_rate=0.1, algorithm=SAMME.R, n_estimators=400, score=0.7211394302848576, total=   0.2s\n",
      "[CV] learning_rate=1, algorithm=SAMME.R, n_estimators=400 ............\n",
      "[CV]  learning_rate=0.1, algorithm=SAMME.R, n_estimators=400, score=0.7091454272863568, total=   0.2s\n",
      "[CV]  learning_rate=0.1, algorithm=SAMME.R, n_estimators=400, score=0.735933983495874, total=   0.2s\n",
      "[CV]  learning_rate=1, algorithm=SAMME.R, n_estimators=500, score=0.7203898050974513, total=   0.2s\n",
      "[CV]  learning_rate=1, algorithm=SAMME.R, n_estimators=500, score=0.7271364317841079, total=   0.1s\n",
      "[CV] learning_rate=1, algorithm=SAMME.R, n_estimators=500 ............\n",
      "[CV]  learning_rate=1, algorithm=SAMME.R, n_estimators=500, score=0.7336834208552138, total=   0.1s\n",
      "[CV] learning_rate=1, algorithm=SAMME.R, n_estimators=400 ............\n",
      "[CV]  learning_rate=1, algorithm=SAMME.R, n_estimators=400, score=0.7136431784107946, total=   0.1s\n",
      "[CV] learning_rate=1, algorithm=SAMME.R, n_estimators=400 ............\n",
      "[CV]  learning_rate=1, algorithm=SAMME.R, n_estimators=400, score=0.7074268567141786, total=   0.1s\n",
      "[CV] learning_rate=1, algorithm=SAMME.R, n_estimators=400 ............\n",
      "[CV]  learning_rate=1, algorithm=SAMME.R, n_estimators=500, score=0.7066766691672918, total=   0.1s\n",
      "[CV]  learning_rate=1, algorithm=SAMME.R, n_estimators=400, score=0.7061469265367316, total=   0.1s\n",
      "[CV]  learning_rate=1, algorithm=SAMME.R, n_estimators=400, score=0.7241379310344828, total=   0.1s\n",
      "[CV]  learning_rate=1, algorithm=SAMME.R, n_estimators=400, score=0.7291822955738935, total=   0.1s\n",
      "Accuracy 0.7203010778396542\n",
      "0.7282\n"
     ]
    },
    {
     "name": "stderr",
     "output_type": "stream",
     "text": [
      "[Parallel(n_jobs=-1)]: Done 118 out of 120 | elapsed:    3.3s remaining:    0.1s\n",
      "[Parallel(n_jobs=-1)]: Done 120 out of 120 | elapsed:    3.3s finished\n"
     ]
    }
   ],
   "source": [
    "import pandas as pd\n",
    "import numpy as np\n",
    "from sklearn.ensemble import RandomForestClassifier\n",
    "from sklearn.tree import DecisionTreeClassifier\n",
    "from sklearn.cross_validation import cross_val_score\n",
    "from sklearn import metrics\n",
    "from sklearn.model_selection import train_test_split, cross_val_score, GridSearchCV\n",
    "import matplotlib.pyplot as pt\n",
    "from sklearn.ensemble import AdaBoostClassifier\n",
    "\n",
    "import time\n",
    "\n",
    "start_time = time.time()\n",
    "\n",
    "\n",
    "\n",
    "data = pd.read_csv('/Users/gali/Downloads/UCI_Credit_Card.csv')\n",
    "data = data.sample(n=15000)\n",
    "\n",
    "x = data.loc[:, data.columns != 'default.payment.next.month']\n",
    "y = data['default.payment.next.month']\n",
    "# print(y.head())\n",
    "\n",
    "\n",
    "from sklearn.model_selection import train_test_split\n",
    "X_train, X_test, Y_train, Y_test = train_test_split(x, y, test_size=1/3)\n",
    "\n",
    "print ('training...')\n",
    "clf = DecisionTreeClassifier()\n",
    "\n",
    "#model = DecisionTreeClassifier(criterion='entropy',max_depth=1)\n",
    "#AdaBoost = AdaBoostClassifier(base_estimator= model,n_estimators=400,learning_rate=1)\n",
    "AdaBoost = AdaBoostClassifier(base_estimator=clf)#,learning_rate=0.001)#,algorithm='SAMME')\n",
    "params = {'learning_rate': [0.00001,0.0001,0.001,0.01,0.1,1],'n_estimators':[500,400],'algorithm':['SAMME','SAMME.R']}\n",
    "AdaBoost = GridSearchCV(AdaBoost, params, verbose=10, n_jobs=-1, cv=5)\n",
    "AdaBoost.fit(X_train,Y_train)\n",
    "\n",
    "scores = cross_val_score(AdaBoost, X_train, Y_train)\n",
    "print ('Accuracy {0}'.format(np.mean(scores)))\n",
    "print(AdaBoost.score(X_test,Y_test))\n",
    "\n"
   ]
  },
  {
   "cell_type": "code",
   "execution_count": 4,
   "metadata": {
    "collapsed": false,
    "deletable": true,
    "editable": true
   },
   "outputs": [
    {
     "name": "stdout",
     "output_type": "stream",
     "text": [
      "[1 0 0 ..., 0 0 0]\n",
      "0.7282\n",
      "--- 15.615467071533203 seconds ---\n"
     ]
    }
   ],
   "source": [
    "from sklearn.metrics import accuracy_score\n",
    "# print(clf.score(X_test,Y_test))\n",
    "predicted = AdaBoost.predict(X_test)\n",
    "print(predicted)\n",
    "cc = accuracy_score(Y_test, predicted)\n",
    "print(cc)\n",
    "\n",
    "print(\"--- %s seconds ---\" % (time.time() - start_time))"
   ]
  },
  {
   "cell_type": "code",
   "execution_count": 5,
   "metadata": {
    "collapsed": false,
    "deletable": true,
    "editable": true
   },
   "outputs": [
    {
     "name": "stdout",
     "output_type": "stream",
     "text": [
      "0.610445428564\n",
      "0.7282\n",
      "0.728756860469\n"
     ]
    }
   ],
   "source": [
    "# Calculating F1 score\n",
    "from sklearn.metrics import f1_score\n",
    "print(f1_score(Y_test, predicted, average='macro'))\n",
    "print(f1_score(Y_test, predicted, average='micro'))\n",
    "print(f1_score(Y_test, predicted, average='weighted'))"
   ]
  },
  {
   "cell_type": "code",
   "execution_count": 6,
   "metadata": {
    "collapsed": false,
    "deletable": true,
    "editable": true
   },
   "outputs": [
    {
     "name": "stdout",
     "output_type": "stream",
     "text": [
      "Confusion matrix, without normalization\n",
      "Normalized confusion matrix\n"
     ]
    },
    {
     "data": {
      "image/png": "[encoded data removed]",
      "text/plain": [
       "<Figure size 432x288 with 2 Axes>"
      ]
     },
     "metadata": {},
     "output_type": "display_data"
    },
    {
     "data": {
      "image/png": "[encoded data removed]",
      "text/plain": [
       "<Figure size 432x288 with 2 Axes>"
      ]
     },
     "metadata": {},
     "output_type": "display_data"
    }
   ],
   "source": [
    "# Plotting confusion matrix\n",
    "import itertools\n",
    "from sklearn.metrics import confusion_matrix\n",
    "def plot_confusion_matrix(cm, classes,\n",
    "                          normalize=False,\n",
    "                          title='Confusion matrix',\n",
    "                          cmap=pt.cm.Blues):\n",
    "    \"\"\"\n",
    "    This function prints and plots the confusion matrix.\n",
    "    Normalization can be applied by setting `normalize=True`.\n",
    "    \"\"\"\n",
    "    if normalize:\n",
    "        cm = cm.astype('float') / cm.sum(axis=1)[:, np.newaxis]\n",
    "        print(\"Normalized confusion matrix\")\n",
    "    else:\n",
    "        print('Confusion matrix, without normalization')\n",
    "\n",
    "#     print(cm)\n",
    "\n",
    "    pt.imshow(cm, interpolation='nearest', cmap=cmap)\n",
    "    pt.title(title)\n",
    "    pt.colorbar()\n",
    "    tick_marks = np.arange(len(classes))\n",
    "    pt.xticks(tick_marks, classes, rotation=45)\n",
    "    pt.yticks(tick_marks, classes)\n",
    "\n",
    "    fmt = '.2f' if normalize else 'd'\n",
    "    thresh = cm.max() / 2.\n",
    "    for i, j in itertools.product(range(cm.shape[0]), range(cm.shape[1])):\n",
    "        pt.text(j, i, format(cm[i, j], fmt),\n",
    "                 horizontalalignment=\"center\",\n",
    "                 color=\"white\" if cm[i, j] > thresh else \"black\")\n",
    "\n",
    "    pt.tight_layout()\n",
    "    pt.ylabel('True label')\n",
    "    pt.xlabel('Predicted label')\n",
    "\n",
    "cnf_matrix = confusion_matrix(Y_test, predicted)\n",
    "pt.figure()\n",
    "plot_confusion_matrix(cnf_matrix, classes=[0,1],\n",
    "                      title='Confusion matrix, without normalization')\n",
    "pt.figure()\n",
    "plot_confusion_matrix(cnf_matrix, classes=[0,1],normalize=True,\n",
    "                      title='Confusion matrix, with normalization - Boosting(Adaboost) - Credit Card Defaulter')\n",
    "pt.show()"
   ]
  },
  {
   "cell_type": "code",
   "execution_count": 7,
   "metadata": {
    "collapsed": false,
    "deletable": true,
    "editable": true
   },
   "outputs": [
    {
     "name": "stdout",
     "output_type": "stream",
     "text": [
      "Fitting 5 folds for each of 24 candidates, totalling 120 fits\n"
     ]
    },
    {
     "name": "stderr",
     "output_type": "stream",
     "text": [
      "/Users/gali/anaconda/envs/carnd-term1/lib/python3.5/site-packages/sklearn/externals/joblib/parallel.py:547: UserWarning: Multiprocessing-backed parallel loops cannot be nested, setting n_jobs=1\n",
      "  **self._backend_args)\n"
     ]
    },
    {
     "name": "stdout",
     "output_type": "stream",
     "text": [
      "[CV] learning_rate=1e-05, algorithm=SAMME, n_estimators=500 ..........\n",
      "Fitting 5 folds for each of 24 candidates, totalling 120 fits\n"
     ]
    },
    {
     "name": "stderr",
     "output_type": "stream",
     "text": [
      "/Users/gali/anaconda/envs/carnd-term1/lib/python3.5/site-packages/sklearn/externals/joblib/parallel.py:547: UserWarning: Multiprocessing-backed parallel loops cannot be nested, setting n_jobs=1\n",
      "  **self._backend_args)\n"
     ]
    },
    {
     "name": "stdout",
     "output_type": "stream",
     "text": [
      "Fitting 5 folds for each of 24 candidates, totalling 120 fits\n",
      "[CV] learning_rate=1e-05, algorithm=SAMME, n_estimators=500 ..........\n",
      "[CV]  learning_rate=1e-05, algorithm=SAMME, n_estimators=500, score=0.6832298136645962, total=   0.0s\n"
     ]
    },
    {
     "name": "stderr",
     "output_type": "stream",
     "text": [
      "[Parallel(n_jobs=-1)]: Done   1 out of   1 | elapsed:    0.0s remaining:    0.0s\n"
     ]
    },
    {
     "name": "stdout",
     "output_type": "stream",
     "text": [
      "[CV] learning_rate=1e-05, algorithm=SAMME, n_estimators=500 ..........\n"
     ]
    },
    {
     "name": "stderr",
     "output_type": "stream",
     "text": [
      "/Users/gali/anaconda/envs/carnd-term1/lib/python3.5/site-packages/sklearn/externals/joblib/parallel.py:547: UserWarning: Multiprocessing-backed parallel loops cannot be nested, setting n_jobs=1\n",
      "  **self._backend_args)\n"
     ]
    },
    {
     "name": "stdout",
     "output_type": "stream",
     "text": [
      "[CV] learning_rate=1e-05, algorithm=SAMME, n_estimators=500 ..........\n",
      "Fitting 5 folds for each of 24 candidates, totalling 120 fits\n"
     ]
    },
    {
     "name": "stderr",
     "output_type": "stream",
     "text": [
      "/Users/gali/anaconda/envs/carnd-term1/lib/python3.5/site-packages/sklearn/externals/joblib/parallel.py:547: UserWarning: Multiprocessing-backed parallel loops cannot be nested, setting n_jobs=1\n",
      "  **self._backend_args)\n"
     ]
    },
    {
     "name": "stdout",
     "output_type": "stream",
     "text": [
      "[CV]  learning_rate=1e-05, algorithm=SAMME, n_estimators=500, score=0.68125, total=   0.0s\n",
      "[CV] learning_rate=1e-05, algorithm=SAMME, n_estimators=500 ..........\n"
     ]
    },
    {
     "name": "stderr",
     "output_type": "stream",
     "text": [
      "[Parallel(n_jobs=-1)]: Done   2 out of   2 | elapsed:    0.1s remaining:    0.0s\n"
     ]
    },
    {
     "name": "stdout",
     "output_type": "stream",
     "text": [
      "[CV] learning_rate=1e-05, algorithm=SAMME, n_estimators=500 ..........\n",
      "[CV]  learning_rate=1e-05, algorithm=SAMME, n_estimators=500, score=0.7428023032629558, total=   0.1s\n",
      "[CV]  learning_rate=1e-05, algorithm=SAMME, n_estimators=500, score=0.74375, total=   0.0s\n"
     ]
    },
    {
     "name": "stderr",
     "output_type": "stream",
     "text": [
      "[Parallel(n_jobs=-1)]: Done   1 out of   1 | elapsed:    0.1s remaining:    0.0s\n",
      "[Parallel(n_jobs=-1)]: Done   3 out of   3 | elapsed:    0.1s remaining:    0.0s\n"
     ]
    },
    {
     "name": "stdout",
     "output_type": "stream",
     "text": [
      "[CV] learning_rate=1e-05, algorithm=SAMME, n_estimators=500 ..........\n",
      "[CV] learning_rate=1e-05, algorithm=SAMME, n_estimators=500 ..........\n",
      "[CV]  learning_rate=1e-05, algorithm=SAMME, n_estimators=500, score=0.7, total=   0.0s\n"
     ]
    },
    {
     "name": "stderr",
     "output_type": "stream",
     "text": [
      "[Parallel(n_jobs=-1)]: Done   4 out of   4 | elapsed:    0.1s remaining:    0.0s\n"
     ]
    },
    {
     "name": "stdout",
     "output_type": "stream",
     "text": [
      "[CV] learning_rate=1e-05, algorithm=SAMME, n_estimators=500 ..........\n",
      "[CV]  learning_rate=1e-05, algorithm=SAMME, n_estimators=500, score=0.7547169811320755, total=   0.0s\n"
     ]
    },
    {
     "name": "stderr",
     "output_type": "stream",
     "text": [
      "[Parallel(n_jobs=-1)]: Done   5 out of   5 | elapsed:    0.1s remaining:    0.0s\n"
     ]
    },
    {
     "name": "stdout",
     "output_type": "stream",
     "text": [
      "[CV] learning_rate=1e-05, algorithm=SAMME, n_estimators=400 ..........\n",
      "[CV]  learning_rate=1e-05, algorithm=SAMME, n_estimators=500, score=0.710172744721689, total=   0.0s\n"
     ]
    },
    {
     "name": "stderr",
     "output_type": "stream",
     "text": [
      "[Parallel(n_jobs=-1)]: Done   2 out of   2 | elapsed:    0.1s remaining:    0.0s\n"
     ]
    },
    {
     "name": "stdout",
     "output_type": "stream",
     "text": [
      "[CV]  learning_rate=1e-05, algorithm=SAMME, n_estimators=500, score=0.7227272727272728, total=   0.1s\n",
      "[CV] learning_rate=1e-05, algorithm=SAMME, n_estimators=500 ..........\n"
     ]
    },
    {
     "name": "stderr",
     "output_type": "stream",
     "text": [
      "[Parallel(n_jobs=-1)]: Done   1 out of   1 | elapsed:    0.1s remaining:    0.0s\n"
     ]
    },
    {
     "name": "stdout",
     "output_type": "stream",
     "text": [
      "[CV] learning_rate=1e-05, algorithm=SAMME, n_estimators=500 ..........\n",
      "[CV]  learning_rate=1e-05, algorithm=SAMME, n_estimators=400, score=0.6832298136645962, total=   0.0s\n"
     ]
    },
    {
     "name": "stderr",
     "output_type": "stream",
     "text": [
      "[Parallel(n_jobs=-1)]: Done   6 out of   6 | elapsed:    0.1s remaining:    0.0s\n"
     ]
    },
    {
     "name": "stdout",
     "output_type": "stream",
     "text": [
      "[CV] learning_rate=1e-05, algorithm=SAMME, n_estimators=400 ..........\n",
      "[CV]  learning_rate=1e-05, algorithm=SAMME, n_estimators=400, score=0.7, total=   0.0s\n"
     ]
    },
    {
     "name": "stderr",
     "output_type": "stream",
     "text": [
      "[Parallel(n_jobs=-1)]: Done   7 out of   7 | elapsed:    0.2s remaining:    0.0s\n"
     ]
    },
    {
     "name": "stdout",
     "output_type": "stream",
     "text": [
      "[CV]  learning_rate=1e-05, algorithm=SAMME, n_estimators=500, score=0.75, total=   0.0s\n",
      "[CV] learning_rate=1e-05, algorithm=SAMME, n_estimators=400 ..........\n"
     ]
    },
    {
     "name": "stderr",
     "output_type": "stream",
     "text": [
      "[Parallel(n_jobs=-1)]: Done   3 out of   3 | elapsed:    0.1s remaining:    0.0s\n"
     ]
    },
    {
     "name": "stdout",
     "output_type": "stream",
     "text": [
      "[CV] learning_rate=1e-05, algorithm=SAMME, n_estimators=500 ..........\n",
      "[CV]  learning_rate=1e-05, algorithm=SAMME, n_estimators=500, score=0.7236099919419823, total=   0.1s\n"
     ]
    },
    {
     "name": "stderr",
     "output_type": "stream",
     "text": [
      "[Parallel(n_jobs=-1)]: Done   1 out of   1 | elapsed:    0.1s remaining:    0.0s\n"
     ]
    },
    {
     "name": "stdout",
     "output_type": "stream",
     "text": [
      "[CV] learning_rate=1e-05, algorithm=SAMME, n_estimators=500 ..........\n",
      "[CV]  learning_rate=1e-05, algorithm=SAMME, n_estimators=400, score=0.74375, total=   0.0s\n"
     ]
    },
    {
     "name": "stderr",
     "output_type": "stream",
     "text": [
      "[Parallel(n_jobs=-1)]: Done   8 out of   8 | elapsed:    0.2s remaining:    0.0s\n"
     ]
    },
    {
     "name": "stdout",
     "output_type": "stream",
     "text": [
      "[CV] learning_rate=1e-05, algorithm=SAMME, n_estimators=400 ..........\n",
      "[CV]  learning_rate=1e-05, algorithm=SAMME, n_estimators=400, score=0.7, total=   0.0s\n",
      "[CV]  learning_rate=1e-05, algorithm=SAMME, n_estimators=500, score=0.7306818181818182, total=   0.1s\n"
     ]
    },
    {
     "name": "stderr",
     "output_type": "stream",
     "text": [
      "[Parallel(n_jobs=-1)]: Done   9 out of   9 | elapsed:    0.2s remaining:    0.0s\n",
      "[Parallel(n_jobs=-1)]: Done   2 out of   2 | elapsed:    0.2s remaining:    0.0s\n"
     ]
    },
    {
     "name": "stdout",
     "output_type": "stream",
     "text": [
      "[CV] learning_rate=1e-05, algorithm=SAMME, n_estimators=400 ..........\n",
      "[CV] learning_rate=1e-05, algorithm=SAMME, n_estimators=500 ..........\n",
      "[CV]  learning_rate=1e-05, algorithm=SAMME, n_estimators=500, score=0.7032755298651252, total=   0.0s\n"
     ]
    },
    {
     "name": "stderr",
     "output_type": "stream",
     "text": [
      "[Parallel(n_jobs=-1)]: Done   4 out of   4 | elapsed:    0.2s remaining:    0.0s\n"
     ]
    },
    {
     "name": "stdout",
     "output_type": "stream",
     "text": [
      "[CV] learning_rate=1e-05, algorithm=SAMME, n_estimators=500 ..........\n",
      "[CV]  learning_rate=1e-05, algorithm=SAMME, n_estimators=400, score=0.7295597484276729, total=   0.0s\n",
      "[CV] learning_rate=0.0001, algorithm=SAMME, n_estimators=500 .........\n",
      "[CV]  learning_rate=0.0001, algorithm=SAMME, n_estimators=500, score=0.6645962732919255, total=   0.0s\n",
      "[CV] learning_rate=0.0001, algorithm=SAMME, n_estimators=500 .........\n",
      "[CV]  learning_rate=0.0001, algorithm=SAMME, n_estimators=500, score=0.70625, total=   0.0s\n",
      "[CV] learning_rate=0.0001, algorithm=SAMME, n_estimators=500 .........\n",
      "[CV]  learning_rate=1e-05, algorithm=SAMME, n_estimators=500, score=0.7456647398843931, total=   0.0s\n"
     ]
    },
    {
     "name": "stderr",
     "output_type": "stream",
     "text": [
      "[Parallel(n_jobs=-1)]: Done   5 out of   5 | elapsed:    0.2s remaining:    0.0s\n"
     ]
    },
    {
     "name": "stdout",
     "output_type": "stream",
     "text": [
      "[CV] learning_rate=1e-05, algorithm=SAMME, n_estimators=400 ..........\n",
      "[CV]  learning_rate=0.0001, algorithm=SAMME, n_estimators=500, score=0.725, total=   0.0s\n",
      "[CV] learning_rate=0.0001, algorithm=SAMME, n_estimators=500 .........\n",
      "[CV]  learning_rate=1e-05, algorithm=SAMME, n_estimators=500, score=0.7170454545454545, total=   0.1s\n",
      "[CV]  learning_rate=1e-05, algorithm=SAMME, n_estimators=500, score=0.7217741935483871, total=   0.1s\n"
     ]
    },
    {
     "name": "stderr",
     "output_type": "stream",
     "text": [
      "[Parallel(n_jobs=-1)]: Done   2 out of   2 | elapsed:    0.2s remaining:    0.0s\n",
      "[Parallel(n_jobs=-1)]: Done   3 out of   3 | elapsed:    0.3s remaining:    0.0s\n"
     ]
    },
    {
     "name": "stdout",
     "output_type": "stream",
     "text": [
      "[CV] learning_rate=1e-05, algorithm=SAMME, n_estimators=500 ..........\n",
      "[CV] learning_rate=1e-05, algorithm=SAMME, n_estimators=500 ..........\n",
      "[CV]  learning_rate=0.0001, algorithm=SAMME, n_estimators=500, score=0.69375, total=   0.0s\n",
      "[CV] learning_rate=0.0001, algorithm=SAMME, n_estimators=500 .........\n",
      "[CV]  learning_rate=1e-05, algorithm=SAMME, n_estimators=400, score=0.7370441458733206, total=   0.0s\n"
     ]
    },
    {
     "name": "stderr",
     "output_type": "stream",
     "text": [
      "[Parallel(n_jobs=-1)]: Done   6 out of   6 | elapsed:    0.3s remaining:    0.0s\n"
     ]
    },
    {
     "name": "stdout",
     "output_type": "stream",
     "text": [
      "[CV] learning_rate=1e-05, algorithm=SAMME, n_estimators=400 ..........\n",
      "[CV]  learning_rate=0.0001, algorithm=SAMME, n_estimators=500, score=0.7295597484276729, total=   0.0s\n",
      "[CV] learning_rate=0.0001, algorithm=SAMME, n_estimators=400 .........\n",
      "[CV]  learning_rate=0.0001, algorithm=SAMME, n_estimators=400, score=0.6770186335403726, total=   0.0s\n",
      "[CV] learning_rate=0.0001, algorithm=SAMME, n_estimators=400 .........\n",
      "[CV]  learning_rate=0.0001, algorithm=SAMME, n_estimators=400, score=0.7, total=   0.0s\n",
      "[CV] learning_rate=0.0001, algorithm=SAMME, n_estimators=400 .........\n",
      "[CV]  learning_rate=1e-05, algorithm=SAMME, n_estimators=400, score=0.7178502879078695, total=   0.0s\n"
     ]
    },
    {
     "name": "stderr",
     "output_type": "stream",
     "text": [
      "[Parallel(n_jobs=-1)]: Done   7 out of   7 | elapsed:    0.3s remaining:    0.0s\n"
     ]
    },
    {
     "name": "stdout",
     "output_type": "stream",
     "text": [
      "[CV] learning_rate=1e-05, algorithm=SAMME, n_estimators=400 ..........\n",
      "[CV]  learning_rate=1e-05, algorithm=SAMME, n_estimators=500, score=0.7375, total=   0.1s\n"
     ]
    },
    {
     "name": "stderr",
     "output_type": "stream",
     "text": [
      "[Parallel(n_jobs=-1)]: Done   4 out of   4 | elapsed:    0.3s remaining:    0.0s\n"
     ]
    },
    {
     "name": "stdout",
     "output_type": "stream",
     "text": [
      "[CV]  learning_rate=0.0001, algorithm=SAMME, n_estimators=400, score=0.7375, total=   0.0s\n",
      "[CV] learning_rate=1e-05, algorithm=SAMME, n_estimators=500 ..........\n",
      "[CV] learning_rate=0.0001, algorithm=SAMME, n_estimators=400 .........\n",
      "[CV]  learning_rate=0.0001, algorithm=SAMME, n_estimators=400, score=0.7, total=   0.0s\n",
      "[CV] learning_rate=0.0001, algorithm=SAMME, n_estimators=400 .........\n",
      "[CV]  learning_rate=1e-05, algorithm=SAMME, n_estimators=500, score=0.742741935483871, total=   0.1s\n"
     ]
    },
    {
     "name": "stderr",
     "output_type": "stream",
     "text": [
      "[Parallel(n_jobs=-1)]: Done   3 out of   3 | elapsed:    0.3s remaining:    0.0s\n"
     ]
    },
    {
     "name": "stdout",
     "output_type": "stream",
     "text": [
      "[CV]  learning_rate=1e-05, algorithm=SAMME, n_estimators=400, score=0.7519230769230769, total=   0.0s\n",
      "[CV] learning_rate=1e-05, algorithm=SAMME, n_estimators=500 ..........\n"
     ]
    },
    {
     "name": "stderr",
     "output_type": "stream",
     "text": [
      "[Parallel(n_jobs=-1)]: Done   8 out of   8 | elapsed:    0.4s remaining:    0.0s\n"
     ]
    },
    {
     "name": "stdout",
     "output_type": "stream",
     "text": [
      "[CV] learning_rate=1e-05, algorithm=SAMME, n_estimators=400 ..........\n",
      "[CV]  learning_rate=0.0001, algorithm=SAMME, n_estimators=400, score=0.7295597484276729, total=   0.0s\n",
      "[CV] learning_rate=0.001, algorithm=SAMME, n_estimators=500 ..........\n",
      "[CV]  learning_rate=0.001, algorithm=SAMME, n_estimators=500, score=0.7204968944099379, total=   0.0s\n",
      "[CV] learning_rate=0.001, algorithm=SAMME, n_estimators=500 ..........\n",
      "[CV]  learning_rate=1e-05, algorithm=SAMME, n_estimators=400, score=0.7148362235067437, total=   0.0s\n"
     ]
    },
    {
     "name": "stderr",
     "output_type": "stream",
     "text": [
      "[Parallel(n_jobs=-1)]: Done   9 out of   9 | elapsed:    0.4s remaining:    0.0s\n"
     ]
    },
    {
     "name": "stdout",
     "output_type": "stream",
     "text": [
      "[CV]  learning_rate=0.001, algorithm=SAMME, n_estimators=500, score=0.70625, total=   0.0s\n",
      "[CV] learning_rate=1e-05, algorithm=SAMME, n_estimators=400 ..........\n",
      "[CV] learning_rate=0.001, algorithm=SAMME, n_estimators=500 ..........\n",
      "[CV]  learning_rate=1e-05, algorithm=SAMME, n_estimators=500, score=0.7204545454545455, total=   0.1s\n"
     ]
    },
    {
     "name": "stderr",
     "output_type": "stream",
     "text": [
      "[Parallel(n_jobs=-1)]: Done   5 out of   5 | elapsed:    0.4s remaining:    0.0s\n"
     ]
    },
    {
     "name": "stdout",
     "output_type": "stream",
     "text": [
      "[CV] learning_rate=1e-05, algorithm=SAMME, n_estimators=400 ..........\n",
      "[CV]  learning_rate=0.001, algorithm=SAMME, n_estimators=500, score=0.75, total=   0.0s\n",
      "[CV] learning_rate=0.001, algorithm=SAMME, n_estimators=500 ..........\n",
      "[CV]  learning_rate=0.001, algorithm=SAMME, n_estimators=500, score=0.7, total=   0.0s\n",
      "[CV] learning_rate=0.001, algorithm=SAMME, n_estimators=500 ..........\n",
      "[CV]  learning_rate=1e-05, algorithm=SAMME, n_estimators=400, score=0.7456647398843931, total=   0.0s\n",
      "[CV] learning_rate=0.0001, algorithm=SAMME, n_estimators=500 .........\n",
      "[CV]  learning_rate=0.001, algorithm=SAMME, n_estimators=500, score=0.7484276729559748, total=   0.0s\n",
      "[CV] learning_rate=0.001, algorithm=SAMME, n_estimators=400 ..........\n",
      "[CV]  learning_rate=1e-05, algorithm=SAMME, n_estimators=500, score=0.7225806451612903, total=   0.1s\n"
     ]
    },
    {
     "name": "stderr",
     "output_type": "stream",
     "text": [
      "[Parallel(n_jobs=-1)]: Done   4 out of   4 | elapsed:    0.5s remaining:    0.0s\n"
     ]
    },
    {
     "name": "stdout",
     "output_type": "stream",
     "text": [
      "[CV]  learning_rate=0.001, algorithm=SAMME, n_estimators=400, score=0.6645962732919255, total=   0.0s\n",
      "[CV] learning_rate=1e-05, algorithm=SAMME, n_estimators=500 ..........\n",
      "[CV] learning_rate=0.001, algorithm=SAMME, n_estimators=400 ..........\n",
      "[CV]  learning_rate=0.0001, algorithm=SAMME, n_estimators=500, score=0.7428023032629558, total=   0.0s\n",
      "[CV]  learning_rate=0.001, algorithm=SAMME, n_estimators=400, score=0.68125, total=   0.0s\n",
      "[CV]  learning_rate=1e-05, algorithm=SAMME, n_estimators=400, score=0.7159090909090909, total=   0.1s\n",
      "[CV] learning_rate=0.001, algorithm=SAMME, n_estimators=400 ..........\n"
     ]
    },
    {
     "name": "stderr",
     "output_type": "stream",
     "text": [
      "[Parallel(n_jobs=-1)]: Done   6 out of   6 | elapsed:    0.5s remaining:    0.0s\n"
     ]
    },
    {
     "name": "stdout",
     "output_type": "stream",
     "text": [
      "[CV] learning_rate=0.0001, algorithm=SAMME, n_estimators=500 .........\n",
      "[CV] learning_rate=1e-05, algorithm=SAMME, n_estimators=400 ..........\n",
      "[CV]  learning_rate=0.001, algorithm=SAMME, n_estimators=400, score=0.725, total=   0.0s\n",
      "[CV] learning_rate=0.001, algorithm=SAMME, n_estimators=400 ..........\n",
      "[CV]  learning_rate=0.001, algorithm=SAMME, n_estimators=400, score=0.69375, total=   0.0s\n",
      "[CV] learning_rate=0.001, algorithm=SAMME, n_estimators=400 ..........\n",
      "[CV]  learning_rate=0.0001, algorithm=SAMME, n_estimators=500, score=0.7159309021113244, total=   0.0s\n",
      "[CV] learning_rate=0.0001, algorithm=SAMME, n_estimators=500 .........\n",
      "[CV]  learning_rate=0.001, algorithm=SAMME, n_estimators=400, score=0.7295597484276729, total=   0.0s\n",
      "[CV] learning_rate=0.01, algorithm=SAMME, n_estimators=500 ...........\n",
      "[CV]  learning_rate=0.01, algorithm=SAMME, n_estimators=500, score=0.6956521739130435, total=   0.0s\n",
      "[CV] learning_rate=0.01, algorithm=SAMME, n_estimators=500 ...........\n",
      "[CV]  learning_rate=1e-05, algorithm=SAMME, n_estimators=400, score=0.7227272727272728, total=   0.1s\n"
     ]
    },
    {
     "name": "stderr",
     "output_type": "stream",
     "text": [
      "[Parallel(n_jobs=-1)]: Done   7 out of   7 | elapsed:    0.6s remaining:    0.0s\n"
     ]
    },
    {
     "name": "stdout",
     "output_type": "stream",
     "text": [
      "[CV] learning_rate=1e-05, algorithm=SAMME, n_estimators=400 ..........\n",
      "[CV]  learning_rate=0.0001, algorithm=SAMME, n_estimators=500, score=0.7519230769230769, total=   0.0s\n",
      "[CV]  learning_rate=0.01, algorithm=SAMME, n_estimators=500, score=0.7, total=   0.0s\n",
      "[CV] learning_rate=0.0001, algorithm=SAMME, n_estimators=500 .........\n",
      "[CV] learning_rate=0.01, algorithm=SAMME, n_estimators=500 ...........\n",
      "[CV]  learning_rate=1e-05, algorithm=SAMME, n_estimators=500, score=0.718321226795803, total=   0.1s\n"
     ]
    },
    {
     "name": "stderr",
     "output_type": "stream",
     "text": [
      "[Parallel(n_jobs=-1)]: Done   5 out of   5 | elapsed:    0.6s remaining:    0.0s\n"
     ]
    },
    {
     "name": "stdout",
     "output_type": "stream",
     "text": [
      "[CV] learning_rate=1e-05, algorithm=SAMME, n_estimators=400 ..........\n",
      "[CV]  learning_rate=0.01, algorithm=SAMME, n_estimators=500, score=0.725, total=   0.0s\n",
      "[CV] learning_rate=0.01, algorithm=SAMME, n_estimators=500 ...........\n",
      "[CV]  learning_rate=0.01, algorithm=SAMME, n_estimators=500, score=0.69375, total=   0.0s\n",
      "[CV]  learning_rate=0.0001, algorithm=SAMME, n_estimators=500, score=0.720616570327553, total=   0.0s\n",
      "[CV] learning_rate=0.01, algorithm=SAMME, n_estimators=500 ...........\n",
      "[CV] learning_rate=0.0001, algorithm=SAMME, n_estimators=500 .........\n",
      "[CV]  learning_rate=0.01, algorithm=SAMME, n_estimators=500, score=0.7169811320754716, total=   0.0s\n",
      "[CV] learning_rate=0.01, algorithm=SAMME, n_estimators=400 ...........\n",
      "[CV]  learning_rate=1e-05, algorithm=SAMME, n_estimators=400, score=0.7147727272727272, total=   0.1s\n"
     ]
    },
    {
     "name": "stderr",
     "output_type": "stream",
     "text": [
      "[Parallel(n_jobs=-1)]: Done   8 out of   8 | elapsed:    0.7s remaining:    0.0s\n"
     ]
    },
    {
     "name": "stdout",
     "output_type": "stream",
     "text": [
      "[CV] learning_rate=1e-05, algorithm=SAMME, n_estimators=400 ..........\n",
      "[CV]  learning_rate=0.01, algorithm=SAMME, n_estimators=400, score=0.6770186335403726, total=   0.0s\n",
      "[CV] learning_rate=0.01, algorithm=SAMME, n_estimators=400 ...........\n",
      "[CV]  learning_rate=0.0001, algorithm=SAMME, n_estimators=500, score=0.74373795761079, total=   0.0s\n",
      "[CV] learning_rate=0.0001, algorithm=SAMME, n_estimators=400 .........\n",
      "[CV]  learning_rate=0.01, algorithm=SAMME, n_estimators=400, score=0.70625, total=   0.0s\n",
      "[CV] learning_rate=0.01, algorithm=SAMME, n_estimators=400 ...........\n",
      "[CV]  learning_rate=0.01, algorithm=SAMME, n_estimators=400, score=0.75, total=   0.0s\n",
      "[CV] learning_rate=0.01, algorithm=SAMME, n_estimators=400 ...........\n",
      "[CV]  learning_rate=1e-05, algorithm=SAMME, n_estimators=400, score=0.7244157937147462, total=   0.1s\n"
     ]
    },
    {
     "name": "stderr",
     "output_type": "stream",
     "text": [
      "[Parallel(n_jobs=-1)]: Done   6 out of   6 | elapsed:    0.7s remaining:    0.0s\n"
     ]
    },
    {
     "name": "stdout",
     "output_type": "stream",
     "text": [
      "[CV] learning_rate=1e-05, algorithm=SAMME, n_estimators=400 ..........\n",
      "[CV]  learning_rate=0.01, algorithm=SAMME, n_estimators=400, score=0.725, total=   0.0s\n",
      "[CV]  learning_rate=0.0001, algorithm=SAMME, n_estimators=400, score=0.727447216890595, total=   0.0s\n",
      "[CV] learning_rate=0.01, algorithm=SAMME, n_estimators=400 ...........\n",
      "[CV] learning_rate=0.0001, algorithm=SAMME, n_estimators=400 .........\n",
      "[CV]  learning_rate=0.01, algorithm=SAMME, n_estimators=400, score=0.7484276729559748, total=   0.0s\n",
      "[CV]  learning_rate=1e-05, algorithm=SAMME, n_estimators=400, score=0.7568181818181818, total=   0.1s\n"
     ]
    },
    {
     "name": "stderr",
     "output_type": "stream",
     "text": [
      "[Parallel(n_jobs=-1)]: Done   9 out of   9 | elapsed:    0.7s remaining:    0.0s\n"
     ]
    },
    {
     "name": "stdout",
     "output_type": "stream",
     "text": [
      "[CV] learning_rate=0.1, algorithm=SAMME, n_estimators=500 ............\n",
      "[CV] learning_rate=1e-05, algorithm=SAMME, n_estimators=400 ..........\n",
      "[CV]  learning_rate=0.1, algorithm=SAMME, n_estimators=500, score=0.6521739130434783, total=   0.0s\n",
      "[CV] learning_rate=0.1, algorithm=SAMME, n_estimators=500 ............\n",
      "[CV]  learning_rate=0.0001, algorithm=SAMME, n_estimators=400, score=0.7120921305182342, total=   0.0s\n",
      "[CV] learning_rate=0.0001, algorithm=SAMME, n_estimators=400 .........\n",
      "[CV]  learning_rate=0.1, algorithm=SAMME, n_estimators=500, score=0.675, total=   0.0s\n",
      "[CV] learning_rate=0.1, algorithm=SAMME, n_estimators=500 ............\n",
      "[CV]  learning_rate=0.1, algorithm=SAMME, n_estimators=500, score=0.71875, total=   0.0s\n",
      "[CV] learning_rate=0.1, algorithm=SAMME, n_estimators=500 ............\n",
      "[CV]  learning_rate=0.0001, algorithm=SAMME, n_estimators=400, score=0.7576923076923077, total=   0.0s\n",
      "[CV] learning_rate=0.0001, algorithm=SAMME, n_estimators=400 .........\n",
      "[CV]  learning_rate=0.1, algorithm=SAMME, n_estimators=500, score=0.7125, total=   0.0s\n",
      "[CV] learning_rate=0.1, algorithm=SAMME, n_estimators=500 ............\n",
      "[CV]  learning_rate=1e-05, algorithm=SAMME, n_estimators=400, score=0.7193548387096774, total=   0.1s\n"
     ]
    },
    {
     "name": "stderr",
     "output_type": "stream",
     "text": [
      "[Parallel(n_jobs=-1)]: Done   7 out of   7 | elapsed:    0.8s remaining:    0.0s\n"
     ]
    },
    {
     "name": "stdout",
     "output_type": "stream",
     "text": [
      "[CV]  learning_rate=1e-05, algorithm=SAMME, n_estimators=400, score=0.7443181818181818, total=   0.1s\n",
      "[CV] learning_rate=1e-05, algorithm=SAMME, n_estimators=400 ..........\n",
      "[CV] learning_rate=0.0001, algorithm=SAMME, n_estimators=500 .........\n",
      "[CV]  learning_rate=0.1, algorithm=SAMME, n_estimators=500, score=0.710691823899371, total=   0.0s\n",
      "[CV] learning_rate=0.1, algorithm=SAMME, n_estimators=400 ............\n",
      "[CV]  learning_rate=0.1, algorithm=SAMME, n_estimators=400, score=0.6832298136645962, total=   0.0s\n",
      "[CV]  learning_rate=0.0001, algorithm=SAMME, n_estimators=400, score=0.7186897880539499, total=   0.0s\n",
      "[CV] learning_rate=0.1, algorithm=SAMME, n_estimators=400 ............\n",
      "[CV] learning_rate=0.0001, algorithm=SAMME, n_estimators=400 .........\n",
      "[CV]  learning_rate=0.1, algorithm=SAMME, n_estimators=400, score=0.675, total=   0.0s\n",
      "[CV] learning_rate=0.1, algorithm=SAMME, n_estimators=400 ............\n",
      "[CV]  learning_rate=0.1, algorithm=SAMME, n_estimators=400, score=0.75, total=   0.0s\n",
      "[CV] learning_rate=0.1, algorithm=SAMME, n_estimators=400 ............\n",
      "[CV]  learning_rate=0.0001, algorithm=SAMME, n_estimators=400, score=0.7398843930635838, total=   0.0s\n",
      "[CV] learning_rate=0.001, algorithm=SAMME, n_estimators=500 ..........\n",
      "[CV]  learning_rate=0.1, algorithm=SAMME, n_estimators=400, score=0.71875, total=   0.0s\n",
      "[CV]  learning_rate=0.0001, algorithm=SAMME, n_estimators=500, score=0.7295454545454545, total=   0.1s\n",
      "[CV] learning_rate=0.1, algorithm=SAMME, n_estimators=400 ............\n",
      "[CV] learning_rate=0.0001, algorithm=SAMME, n_estimators=500 .........\n",
      "[CV]  learning_rate=0.1, algorithm=SAMME, n_estimators=400, score=0.7421383647798742, total=   0.0s\n",
      "[CV] learning_rate=1, algorithm=SAMME, n_estimators=500 ..............\n",
      "[CV]  learning_rate=1e-05, algorithm=SAMME, n_estimators=400, score=0.7370967741935484, total=   0.1s\n"
     ]
    },
    {
     "name": "stderr",
     "output_type": "stream",
     "text": [
      "[Parallel(n_jobs=-1)]: Done   8 out of   8 | elapsed:    0.9s remaining:    0.0s\n"
     ]
    },
    {
     "name": "stdout",
     "output_type": "stream",
     "text": [
      "[CV] learning_rate=1e-05, algorithm=SAMME, n_estimators=400 ..........\n",
      "[CV]  learning_rate=1, algorithm=SAMME, n_estimators=500, score=0.6708074534161491, total=   0.0s\n",
      "[CV] learning_rate=1, algorithm=SAMME, n_estimators=500 ..............\n",
      "[CV]  learning_rate=0.001, algorithm=SAMME, n_estimators=500, score=0.7293666026871402, total=   0.0s\n",
      "[CV] learning_rate=0.001, algorithm=SAMME, n_estimators=500 ..........\n",
      "[CV]  learning_rate=1, algorithm=SAMME, n_estimators=500, score=0.6875, total=   0.0s\n",
      "[CV] learning_rate=1, algorithm=SAMME, n_estimators=500 ..............\n",
      "[CV]  learning_rate=0.0001, algorithm=SAMME, n_estimators=500, score=0.7386363636363636, total=   0.1s\n",
      "[CV]  learning_rate=1, algorithm=SAMME, n_estimators=500, score=0.74375, total=   0.0s\n",
      "[CV] learning_rate=0.0001, algorithm=SAMME, n_estimators=500 .........\n",
      "[CV] learning_rate=1, algorithm=SAMME, n_estimators=500 ..............\n",
      "[CV]  learning_rate=0.001, algorithm=SAMME, n_estimators=500, score=0.7178502879078695, total=   0.0s\n",
      "[CV] learning_rate=0.001, algorithm=SAMME, n_estimators=500 ..........\n",
      "[CV]  learning_rate=1, algorithm=SAMME, n_estimators=500, score=0.7, total=   0.0s\n",
      "[CV] learning_rate=1, algorithm=SAMME, n_estimators=500 ..............\n",
      "[CV]  learning_rate=1, algorithm=SAMME, n_estimators=500, score=0.6981132075471698, total=   0.0s\n",
      "[CV] learning_rate=1, algorithm=SAMME, n_estimators=400 ..............\n",
      "[CV]  learning_rate=1, algorithm=SAMME, n_estimators=400, score=0.6832298136645962, total=   0.0s\n",
      "[CV] learning_rate=1, algorithm=SAMME, n_estimators=400 ..............\n",
      "[CV]  learning_rate=0.001, algorithm=SAMME, n_estimators=500, score=0.7615384615384615, total=   0.0s\n",
      "[CV] learning_rate=0.001, algorithm=SAMME, n_estimators=500 ..........\n",
      "[CV]  learning_rate=1, algorithm=SAMME, n_estimators=400, score=0.71875, total=   0.0s\n",
      "[CV]  learning_rate=1e-05, algorithm=SAMME, n_estimators=400, score=0.717741935483871, total=   0.1s\n"
     ]
    },
    {
     "name": "stderr",
     "output_type": "stream",
     "text": [
      "[Parallel(n_jobs=-1)]: Done   9 out of   9 | elapsed:    1.0s remaining:    0.0s\n"
     ]
    },
    {
     "name": "stdout",
     "output_type": "stream",
     "text": [
      "[CV] learning_rate=1, algorithm=SAMME, n_estimators=400 ..............\n",
      "[CV] learning_rate=1e-05, algorithm=SAMME, n_estimators=400 ..........\n",
      "[CV]  learning_rate=0.0001, algorithm=SAMME, n_estimators=500, score=0.7102272727272727, total=   0.1s\n",
      "[CV] learning_rate=0.0001, algorithm=SAMME, n_estimators=500 .........\n",
      "[CV]  learning_rate=1, algorithm=SAMME, n_estimators=400, score=0.725, total=   0.0s\n",
      "[CV] learning_rate=1, algorithm=SAMME, n_estimators=400 ..............\n",
      "[CV]  learning_rate=0.001, algorithm=SAMME, n_estimators=500, score=0.7302504816955684, total=   0.0s\n",
      "[CV] learning_rate=0.001, algorithm=SAMME, n_estimators=500 ..........\n",
      "[CV]  learning_rate=1, algorithm=SAMME, n_estimators=400, score=0.71875, total=   0.0s\n",
      "[CV] learning_rate=1, algorithm=SAMME, n_estimators=400 ..............\n",
      "[CV]  learning_rate=1, algorithm=SAMME, n_estimators=400, score=0.7295597484276729, total=   0.0s\n",
      "[CV] learning_rate=1e-05, algorithm=SAMME.R, n_estimators=500 ........\n",
      "[CV]  learning_rate=1e-05, algorithm=SAMME.R, n_estimators=500, score=0.6894409937888198, total=   0.0s\n",
      "[CV] learning_rate=1e-05, algorithm=SAMME.R, n_estimators=500 ........\n",
      "[CV]  learning_rate=0.001, algorithm=SAMME, n_estimators=500, score=0.7341040462427746, total=   0.0s\n",
      "[CV] learning_rate=0.001, algorithm=SAMME, n_estimators=400 ..........\n",
      "[CV]  learning_rate=0.0001, algorithm=SAMME, n_estimators=500, score=0.7465909090909091, total=   0.1s\n",
      "[CV] learning_rate=0.0001, algorithm=SAMME, n_estimators=500 .........\n",
      "[CV]  learning_rate=1e-05, algorithm=SAMME.R, n_estimators=500, score=0.725, total=   0.0s\n",
      "[CV] learning_rate=1e-05, algorithm=SAMME.R, n_estimators=500 ........\n",
      "[CV]  learning_rate=1e-05, algorithm=SAMME.R, n_estimators=500, score=0.73125, total=   0.0s\n",
      "[CV] learning_rate=1e-05, algorithm=SAMME.R, n_estimators=500 ........\n",
      "[CV]  learning_rate=1e-05, algorithm=SAMME, n_estimators=400, score=0.7110573042776432, total=   0.1s\n",
      "[CV] learning_rate=0.0001, algorithm=SAMME, n_estimators=500 .........\n",
      "[CV]  learning_rate=0.001, algorithm=SAMME, n_estimators=400, score=0.7408829174664108, total=   0.0s\n",
      "[CV] learning_rate=0.001, algorithm=SAMME, n_estimators=400 ..........\n",
      "[CV]  learning_rate=1e-05, algorithm=SAMME.R, n_estimators=500, score=0.69375, total=   0.0s\n",
      "[CV] learning_rate=1e-05, algorithm=SAMME.R, n_estimators=500 ........\n",
      "[CV]  learning_rate=1e-05, algorithm=SAMME.R, n_estimators=500, score=0.7295597484276729, total=   0.0s\n",
      "[CV] learning_rate=1e-05, algorithm=SAMME.R, n_estimators=400 ........\n",
      "[CV]  learning_rate=0.001, algorithm=SAMME, n_estimators=400, score=0.7063339731285988, total=   0.0s\n",
      "[CV]  learning_rate=1e-05, algorithm=SAMME.R, n_estimators=400, score=0.6770186335403726, total=   0.0s\n",
      "[CV] learning_rate=0.001, algorithm=SAMME, n_estimators=400 ..........\n",
      "[CV] learning_rate=1e-05, algorithm=SAMME.R, n_estimators=400 ........\n",
      "[CV]  learning_rate=0.0001, algorithm=SAMME, n_estimators=500, score=0.7352272727272727, total=   0.1s\n",
      "[CV] learning_rate=0.0001, algorithm=SAMME, n_estimators=400 .........\n",
      "[CV]  learning_rate=1e-05, algorithm=SAMME.R, n_estimators=400, score=0.71875, total=   0.0s\n",
      "[CV] learning_rate=1e-05, algorithm=SAMME.R, n_estimators=400 ........\n",
      "[CV]  learning_rate=1e-05, algorithm=SAMME.R, n_estimators=400, score=0.73125, total=   0.0s\n",
      "[CV]  learning_rate=0.001, algorithm=SAMME, n_estimators=400, score=0.75, total=   0.0s\n",
      "[CV] learning_rate=1e-05, algorithm=SAMME.R, n_estimators=400 ........\n",
      "[CV] learning_rate=0.001, algorithm=SAMME, n_estimators=400 ..........\n",
      "[CV]  learning_rate=1e-05, algorithm=SAMME.R, n_estimators=400, score=0.7, total=   0.0s\n",
      "[CV]  learning_rate=0.0001, algorithm=SAMME, n_estimators=500, score=0.7381144238517324, total=   0.1s\n",
      "[CV] learning_rate=1e-05, algorithm=SAMME.R, n_estimators=400 ........\n",
      "[CV] learning_rate=0.0001, algorithm=SAMME, n_estimators=500 .........\n",
      "[CV]  learning_rate=1e-05, algorithm=SAMME.R, n_estimators=400, score=0.7421383647798742, total=   0.0s\n",
      "[CV] learning_rate=0.0001, algorithm=SAMME.R, n_estimators=500 .......\n",
      "[CV]  learning_rate=0.001, algorithm=SAMME, n_estimators=400, score=0.720616570327553, total=   0.0s\n",
      "[CV] learning_rate=0.001, algorithm=SAMME, n_estimators=400 ..........\n",
      "[CV]  learning_rate=0.0001, algorithm=SAMME, n_estimators=400, score=0.7193181818181819, total=   0.1s\n",
      "[CV] learning_rate=0.0001, algorithm=SAMME, n_estimators=400 .........\n",
      "[CV]  learning_rate=0.0001, algorithm=SAMME.R, n_estimators=500, score=0.6770186335403726, total=   0.0s\n",
      "[CV] learning_rate=0.0001, algorithm=SAMME.R, n_estimators=500 .......\n",
      "[CV]  learning_rate=0.0001, algorithm=SAMME.R, n_estimators=500, score=0.725, total=   0.0s\n",
      "[CV] learning_rate=0.0001, algorithm=SAMME.R, n_estimators=500 .......\n",
      "[CV]  learning_rate=0.0001, algorithm=SAMME.R, n_estimators=500, score=0.7125, total=   0.0s\n",
      "[CV]  learning_rate=0.001, algorithm=SAMME, n_estimators=400, score=0.7341040462427746, total=   0.0s\n",
      "[CV] learning_rate=0.0001, algorithm=SAMME.R, n_estimators=500 .......\n",
      "[CV] learning_rate=0.01, algorithm=SAMME, n_estimators=500 ...........\n",
      "[CV]  learning_rate=0.0001, algorithm=SAMME.R, n_estimators=500, score=0.73125, total=   0.0s\n",
      "[CV] learning_rate=0.0001, algorithm=SAMME.R, n_estimators=500 .......\n",
      "[CV]  learning_rate=0.0001, algorithm=SAMME, n_estimators=400, score=0.7272727272727273, total=   0.1s\n",
      "[CV] learning_rate=0.0001, algorithm=SAMME, n_estimators=400 .........\n",
      "[CV]  learning_rate=0.0001, algorithm=SAMME.R, n_estimators=500, score=0.7547169811320755, total=   0.0s\n",
      "[CV]  learning_rate=0.0001, algorithm=SAMME, n_estimators=500, score=0.7193548387096774, total=   0.1s\n",
      "[CV] learning_rate=0.0001, algorithm=SAMME.R, n_estimators=400 .......\n",
      "[CV] learning_rate=0.0001, algorithm=SAMME, n_estimators=500 .........\n",
      "[CV]  learning_rate=0.01, algorithm=SAMME, n_estimators=500, score=0.744721689059501, total=   0.0s\n",
      "[CV] learning_rate=0.01, algorithm=SAMME, n_estimators=500 ...........\n",
      "[CV]  learning_rate=0.0001, algorithm=SAMME.R, n_estimators=400, score=0.6956521739130435, total=   0.0s\n",
      "[CV] learning_rate=0.0001, algorithm=SAMME.R, n_estimators=400 .......\n",
      "[CV]  learning_rate=0.0001, algorithm=SAMME.R, n_estimators=400, score=0.69375, total=   0.0s\n",
      "[CV] learning_rate=0.0001, algorithm=SAMME.R, n_estimators=400 .......\n",
      "[CV]  learning_rate=0.01, algorithm=SAMME, n_estimators=500, score=0.72552783109405, total=   0.0s\n",
      "[CV]  learning_rate=0.0001, algorithm=SAMME.R, n_estimators=400, score=0.73125, total=   0.0s\n",
      "[CV] learning_rate=0.01, algorithm=SAMME, n_estimators=500 ...........\n",
      "[CV] learning_rate=0.0001, algorithm=SAMME.R, n_estimators=400 .......\n",
      "[CV]  learning_rate=0.0001, algorithm=SAMME, n_estimators=400, score=0.7090909090909091, total=   0.1s\n",
      "[CV] learning_rate=0.0001, algorithm=SAMME, n_estimators=400 .........\n",
      "[CV]  learning_rate=0.0001, algorithm=SAMME.R, n_estimators=400, score=0.70625, total=   0.0s\n",
      "[CV] learning_rate=0.0001, algorithm=SAMME.R, n_estimators=400 .......\n",
      "[CV]  learning_rate=0.01, algorithm=SAMME, n_estimators=500, score=0.7538461538461538, total=   0.0s\n",
      "[CV]  learning_rate=0.0001, algorithm=SAMME.R, n_estimators=400, score=0.7547169811320755, total=   0.0s\n",
      "[CV] learning_rate=0.01, algorithm=SAMME, n_estimators=500 ...........\n",
      "[CV] learning_rate=0.001, algorithm=SAMME.R, n_estimators=500 ........\n",
      "[CV]  learning_rate=0.0001, algorithm=SAMME, n_estimators=500, score=0.7459677419354839, total=   0.1s\n",
      "[CV]  learning_rate=0.001, algorithm=SAMME.R, n_estimators=500, score=0.6956521739130435, total=   0.0s\n",
      "[CV] learning_rate=0.0001, algorithm=SAMME, n_estimators=500 .........\n",
      "[CV] learning_rate=0.001, algorithm=SAMME.R, n_estimators=500 ........\n",
      "[CV]  learning_rate=0.001, algorithm=SAMME.R, n_estimators=500, score=0.7, total=   0.0s\n",
      "[CV] learning_rate=0.001, algorithm=SAMME.R, n_estimators=500 ........\n",
      "[CV]  learning_rate=0.01, algorithm=SAMME, n_estimators=500, score=0.7263969171483622, total=   0.0s\n",
      "[CV] learning_rate=0.01, algorithm=SAMME, n_estimators=500 ...........\n",
      "[CV]  learning_rate=0.001, algorithm=SAMME.R, n_estimators=500, score=0.70625, total=   0.0s\n",
      "[CV] learning_rate=0.001, algorithm=SAMME.R, n_estimators=500 ........\n",
      "[CV]  learning_rate=0.0001, algorithm=SAMME, n_estimators=400, score=0.7340909090909091, total=   0.1s\n",
      "[CV] learning_rate=0.0001, algorithm=SAMME, n_estimators=400 .........\n",
      "[CV]  learning_rate=0.001, algorithm=SAMME.R, n_estimators=500, score=0.7125, total=   0.0s\n",
      "[CV] learning_rate=0.001, algorithm=SAMME.R, n_estimators=500 ........\n",
      "[CV]  learning_rate=0.01, algorithm=SAMME, n_estimators=500, score=0.7418111753371869, total=   0.0s\n",
      "[CV]  learning_rate=0.001, algorithm=SAMME.R, n_estimators=500, score=0.7421383647798742, total=   0.0s\n",
      "[CV] learning_rate=0.01, algorithm=SAMME, n_estimators=400 ...........\n",
      "[CV] learning_rate=0.001, algorithm=SAMME.R, n_estimators=400 ........\n",
      "[CV]  learning_rate=0.001, algorithm=SAMME.R, n_estimators=400, score=0.6832298136645962, total=   0.0s\n",
      "[CV] learning_rate=0.001, algorithm=SAMME.R, n_estimators=400 ........\n",
      "[CV]  learning_rate=0.001, algorithm=SAMME.R, n_estimators=400, score=0.68125, total=   0.0s\n",
      "[CV]  learning_rate=0.0001, algorithm=SAMME, n_estimators=500, score=0.7233870967741935, total=   0.1s\n",
      "[CV] learning_rate=0.001, algorithm=SAMME.R, n_estimators=400 ........\n",
      "[CV] learning_rate=0.0001, algorithm=SAMME, n_estimators=500 .........\n",
      "[CV]  learning_rate=0.01, algorithm=SAMME, n_estimators=400, score=0.7370441458733206, total=   0.0s\n",
      "[CV] learning_rate=0.01, algorithm=SAMME, n_estimators=400 ...........\n",
      "[CV]  learning_rate=0.0001, algorithm=SAMME, n_estimators=400, score=0.7386363636363636, total=   0.1s\n",
      "[CV] learning_rate=0.001, algorithm=SAMME, n_estimators=500 ..........\n",
      "[CV]  learning_rate=0.001, algorithm=SAMME.R, n_estimators=400, score=0.7125, total=   0.0s\n",
      "[CV] learning_rate=0.001, algorithm=SAMME.R, n_estimators=400 ........\n",
      "[CV]  learning_rate=0.001, algorithm=SAMME.R, n_estimators=400, score=0.70625, total=   0.0s\n",
      "[CV] learning_rate=0.001, algorithm=SAMME.R, n_estimators=400 ........\n",
      "[CV]  learning_rate=0.01, algorithm=SAMME, n_estimators=400, score=0.708253358925144, total=   0.0s\n",
      "[CV]  learning_rate=0.001, algorithm=SAMME.R, n_estimators=400, score=0.7358490566037735, total=   0.0s\n",
      "[CV] learning_rate=0.01, algorithm=SAMME, n_estimators=400 ...........\n",
      "[CV] learning_rate=0.01, algorithm=SAMME.R, n_estimators=500 .........\n",
      "[CV]  learning_rate=0.01, algorithm=SAMME.R, n_estimators=500, score=0.6645962732919255, total=   0.0s\n",
      "[CV] learning_rate=0.01, algorithm=SAMME.R, n_estimators=500 .........\n",
      "[CV]  learning_rate=0.01, algorithm=SAMME.R, n_estimators=500, score=0.69375, total=   0.0s\n",
      "[CV]  learning_rate=0.01, algorithm=SAMME, n_estimators=400, score=0.7557692307692307, total=   0.0s\n",
      "[CV] learning_rate=0.01, algorithm=SAMME.R, n_estimators=500 .........\n",
      "[CV]  learning_rate=0.001, algorithm=SAMME, n_estimators=500, score=0.7113636363636363, total=   0.1s\n",
      "[CV] learning_rate=0.01, algorithm=SAMME, n_estimators=400 ...........\n",
      "[CV] learning_rate=0.001, algorithm=SAMME, n_estimators=500 ..........\n",
      "[CV]  learning_rate=0.01, algorithm=SAMME.R, n_estimators=500, score=0.725, total=   0.0s\n",
      "[CV] learning_rate=0.01, algorithm=SAMME.R, n_estimators=500 .........\n",
      "[CV]  learning_rate=0.0001, algorithm=SAMME, n_estimators=500, score=0.7150928167877321, total=   0.1s\n",
      "[CV] learning_rate=0.0001, algorithm=SAMME, n_estimators=400 .........\n",
      "[CV]  learning_rate=0.01, algorithm=SAMME.R, n_estimators=500, score=0.69375, total=   0.0s\n",
      "[CV] learning_rate=0.01, algorithm=SAMME.R, n_estimators=500 .........\n",
      "[CV]  learning_rate=0.01, algorithm=SAMME, n_estimators=400, score=0.7148362235067437, total=   0.0s\n",
      "[CV] learning_rate=0.01, algorithm=SAMME, n_estimators=400 ...........\n",
      "[CV]  learning_rate=0.01, algorithm=SAMME.R, n_estimators=500, score=0.7358490566037735, total=   0.0s\n",
      "[CV] learning_rate=0.01, algorithm=SAMME.R, n_estimators=400 .........\n",
      "[CV]  learning_rate=0.01, algorithm=SAMME.R, n_estimators=400, score=0.6894409937888198, total=   0.0s\n",
      "[CV]  learning_rate=0.001, algorithm=SAMME, n_estimators=500, score=0.7215909090909091, total=   0.1s\n",
      "[CV] learning_rate=0.01, algorithm=SAMME.R, n_estimators=400 .........\n",
      "[CV] learning_rate=0.001, algorithm=SAMME, n_estimators=500 ..........\n",
      "[CV]  learning_rate=0.01, algorithm=SAMME, n_estimators=400, score=0.74373795761079, total=   0.0s\n",
      "[CV]  learning_rate=0.01, algorithm=SAMME.R, n_estimators=400, score=0.70625, total=   0.0s\n",
      "[CV] learning_rate=0.1, algorithm=SAMME, n_estimators=500 ............\n",
      "[CV] learning_rate=0.01, algorithm=SAMME.R, n_estimators=400 .........\n",
      "[CV]  learning_rate=0.01, algorithm=SAMME.R, n_estimators=400, score=0.725, total=   0.0s\n",
      "[CV] learning_rate=0.01, algorithm=SAMME.R, n_estimators=400 .........\n",
      "[CV]  learning_rate=0.01, algorithm=SAMME.R, n_estimators=400, score=0.6875, total=   0.0s\n",
      "[CV]  learning_rate=0.1, algorithm=SAMME, n_estimators=500, score=0.7140115163147792, total=   0.0s\n",
      "[CV] learning_rate=0.01, algorithm=SAMME.R, n_estimators=400 .........\n",
      "[CV] learning_rate=0.1, algorithm=SAMME, n_estimators=500 ............\n",
      "[CV]  learning_rate=0.0001, algorithm=SAMME, n_estimators=400, score=0.7356970185334408, total=   0.1s\n",
      "[CV] learning_rate=0.0001, algorithm=SAMME, n_estimators=400 .........\n",
      "[CV]  learning_rate=0.01, algorithm=SAMME.R, n_estimators=400, score=0.7358490566037735, total=   0.0s\n",
      "[CV] learning_rate=0.1, algorithm=SAMME.R, n_estimators=500 ..........\n",
      "[CV]  learning_rate=0.001, algorithm=SAMME, n_estimators=500, score=0.7261363636363637, total=   0.1s\n",
      "[CV] learning_rate=0.001, algorithm=SAMME, n_estimators=500 ..........\n",
      "[CV]  learning_rate=0.1, algorithm=SAMME.R, n_estimators=500, score=0.6521739130434783, total=   0.0s\n",
      "[CV] learning_rate=0.1, algorithm=SAMME.R, n_estimators=500 ..........\n",
      "[CV]  learning_rate=0.1, algorithm=SAMME, n_estimators=500, score=0.7216890595009597, total=   0.0s\n",
      "[CV] learning_rate=0.1, algorithm=SAMME, n_estimators=500 ............\n",
      "[CV]  learning_rate=0.1, algorithm=SAMME.R, n_estimators=500, score=0.70625, total=   0.0s\n",
      "[CV] learning_rate=0.1, algorithm=SAMME.R, n_estimators=500 ..........\n",
      "[CV]  learning_rate=0.1, algorithm=SAMME.R, n_estimators=500, score=0.75, total=   0.0s\n",
      "[CV] learning_rate=0.1, algorithm=SAMME.R, n_estimators=500 ..........\n",
      "[CV]  learning_rate=0.1, algorithm=SAMME, n_estimators=500, score=0.7346153846153847, total=   0.0s\n",
      "[CV]  learning_rate=0.1, algorithm=SAMME.R, n_estimators=500, score=0.7125, total=   0.0s\n",
      "[CV] learning_rate=0.1, algorithm=SAMME, n_estimators=500 ............\n",
      "[CV] learning_rate=0.1, algorithm=SAMME.R, n_estimators=500 ..........\n",
      "[CV]  learning_rate=0.001, algorithm=SAMME, n_estimators=500, score=0.7431818181818182, total=   0.1s\n",
      "[CV] learning_rate=0.001, algorithm=SAMME, n_estimators=500 ..........\n",
      "[CV]  learning_rate=0.1, algorithm=SAMME.R, n_estimators=500, score=0.7232704402515723, total=   0.0s\n",
      "[CV] learning_rate=0.1, algorithm=SAMME.R, n_estimators=400 ..........\n",
      "[CV]  learning_rate=0.0001, algorithm=SAMME, n_estimators=400, score=0.7161290322580646, total=   0.1s\n",
      "[CV] learning_rate=0.0001, algorithm=SAMME, n_estimators=400 .........\n",
      "[CV]  learning_rate=0.1, algorithm=SAMME.R, n_estimators=400, score=0.6708074534161491, total=   0.0s\n",
      "[CV] learning_rate=0.1, algorithm=SAMME.R, n_estimators=400 ..........\n",
      "[CV]  learning_rate=0.1, algorithm=SAMME, n_estimators=500, score=0.7225433526011561, total=   0.0s\n",
      "[CV] learning_rate=0.1, algorithm=SAMME, n_estimators=500 ............\n",
      "[CV]  learning_rate=0.1, algorithm=SAMME.R, n_estimators=400, score=0.68125, total=   0.0s\n",
      "[CV] learning_rate=0.1, algorithm=SAMME.R, n_estimators=400 ..........\n",
      "[CV]  learning_rate=0.1, algorithm=SAMME.R, n_estimators=400, score=0.7375, total=   0.0s\n",
      "[CV] learning_rate=0.1, algorithm=SAMME.R, n_estimators=400 ..........\n",
      "[CV]  learning_rate=0.1, algorithm=SAMME, n_estimators=500, score=0.7475915221579962, total=   0.0s\n",
      "[CV] learning_rate=0.1, algorithm=SAMME, n_estimators=400 ............\n",
      "[CV]  learning_rate=0.1, algorithm=SAMME.R, n_estimators=400, score=0.71875, total=   0.0s\n",
      "[CV] learning_rate=0.1, algorithm=SAMME.R, n_estimators=400 ..........\n",
      "[CV]  learning_rate=0.001, algorithm=SAMME, n_estimators=500, score=0.740909090909091, total=   0.1s\n",
      "[CV] learning_rate=0.001, algorithm=SAMME, n_estimators=400 ..........\n",
      "[CV]  learning_rate=0.1, algorithm=SAMME.R, n_estimators=400, score=0.7295597484276729, total=   0.0s\n",
      "[CV] learning_rate=1, algorithm=SAMME.R, n_estimators=500 ............\n",
      "[CV]  learning_rate=0.1, algorithm=SAMME, n_estimators=400, score=0.7428023032629558, total=   0.0s\n",
      "[CV] learning_rate=0.1, algorithm=SAMME, n_estimators=400 ............\n",
      "[CV]  learning_rate=1, algorithm=SAMME.R, n_estimators=500, score=0.6645962732919255, total=   0.0s\n",
      "[CV] learning_rate=1, algorithm=SAMME.R, n_estimators=500 ............\n",
      "[CV]  learning_rate=0.0001, algorithm=SAMME, n_estimators=400, score=0.7419354838709677, total=   0.1s\n",
      "[CV] learning_rate=0.0001, algorithm=SAMME, n_estimators=400 .........\n",
      "[CV]  learning_rate=1, algorithm=SAMME.R, n_estimators=500, score=0.69375, total=   0.0s\n",
      "[CV] learning_rate=1, algorithm=SAMME.R, n_estimators=500 ............\n",
      "[CV]  learning_rate=1, algorithm=SAMME.R, n_estimators=500, score=0.7375, total=   0.0s\n",
      "[CV] learning_rate=1, algorithm=SAMME.R, n_estimators=500 ............\n",
      "[CV]  learning_rate=0.1, algorithm=SAMME, n_estimators=400, score=0.7236084452975048, total=   0.0s\n",
      "[CV]  learning_rate=0.001, algorithm=SAMME, n_estimators=400, score=0.7125, total=   0.1s\n",
      "[CV] learning_rate=0.1, algorithm=SAMME, n_estimators=400 ............\n",
      "[CV] learning_rate=0.001, algorithm=SAMME, n_estimators=400 ..........\n",
      "[CV]  learning_rate=1, algorithm=SAMME.R, n_estimators=500, score=0.7, total=   0.0s\n",
      "[CV] learning_rate=1, algorithm=SAMME.R, n_estimators=500 ............\n",
      "[CV]  learning_rate=1, algorithm=SAMME.R, n_estimators=500, score=0.7044025157232704, total=   0.0s\n",
      "[CV] learning_rate=1, algorithm=SAMME.R, n_estimators=400 ............\n",
      "[CV]  learning_rate=0.1, algorithm=SAMME, n_estimators=400, score=0.7480769230769231, total=   0.0s\n",
      "[CV] learning_rate=0.1, algorithm=SAMME, n_estimators=400 ............\n",
      "[CV]  learning_rate=1, algorithm=SAMME.R, n_estimators=400, score=0.6521739130434783, total=   0.0s\n",
      "[CV] learning_rate=1, algorithm=SAMME.R, n_estimators=400 ............\n",
      "[CV]  learning_rate=1, algorithm=SAMME.R, n_estimators=400, score=0.6875, total=   0.0s\n",
      "[CV] learning_rate=1, algorithm=SAMME.R, n_estimators=400 ............\n",
      "[CV]  learning_rate=0.0001, algorithm=SAMME, n_estimators=400, score=0.7266129032258064, total=   0.1s\n",
      "[CV]  learning_rate=0.001, algorithm=SAMME, n_estimators=400, score=0.7227272727272728, total=   0.1s\n",
      "[CV] learning_rate=0.001, algorithm=SAMME, n_estimators=400 ..........\n",
      "[CV] learning_rate=0.0001, algorithm=SAMME, n_estimators=400 .........\n",
      "[CV]  learning_rate=0.1, algorithm=SAMME, n_estimators=400, score=0.7283236994219653, total=   0.0s\n",
      "[CV]  learning_rate=1, algorithm=SAMME.R, n_estimators=400, score=0.7125, total=   0.0s\n",
      "[CV] learning_rate=0.1, algorithm=SAMME, n_estimators=400 ............\n",
      "[CV] learning_rate=1, algorithm=SAMME.R, n_estimators=400 ............\n",
      "[CV]  learning_rate=1, algorithm=SAMME.R, n_estimators=400, score=0.71875, total=   0.0s\n",
      "[CV] learning_rate=1, algorithm=SAMME.R, n_estimators=400 ............\n",
      "[CV]  learning_rate=1, algorithm=SAMME.R, n_estimators=400, score=0.6981132075471698, total=   0.0s\n"
     ]
    },
    {
     "name": "stderr",
     "output_type": "stream",
     "text": [
      "[Parallel(n_jobs=-1)]: Done 120 out of 120 | elapsed:    2.3s finished\n"
     ]
    },
    {
     "name": "stdout",
     "output_type": "stream",
     "text": [
      "[CV]  learning_rate=0.1, algorithm=SAMME, n_estimators=400, score=0.7514450867052023, total=   0.0s\n",
      "[CV] learning_rate=1, algorithm=SAMME, n_estimators=500 ..............\n",
      "[CV]  learning_rate=0.001, algorithm=SAMME, n_estimators=400, score=0.7272727272727273, total=   0.1s\n",
      "[CV] learning_rate=0.001, algorithm=SAMME, n_estimators=400 ..........\n",
      "Fitting 5 folds for each of 24 candidates, totalling 120 fits\n"
     ]
    },
    {
     "name": "stderr",
     "output_type": "stream",
     "text": [
      "/Users/gali/anaconda/envs/carnd-term1/lib/python3.5/site-packages/sklearn/externals/joblib/parallel.py:547: UserWarning: Multiprocessing-backed parallel loops cannot be nested, setting n_jobs=1\n",
      "  **self._backend_args)\n"
     ]
    },
    {
     "name": "stdout",
     "output_type": "stream",
     "text": [
      "[CV] learning_rate=1e-05, algorithm=SAMME, n_estimators=500 ..........\n",
      "[CV]  learning_rate=1, algorithm=SAMME, n_estimators=500, score=0.7293666026871402, total=   0.0s\n",
      "[CV] learning_rate=1, algorithm=SAMME, n_estimators=500 ..............\n",
      "[CV]  learning_rate=0.0001, algorithm=SAMME, n_estimators=400, score=0.7142857142857143, total=   0.1s\n",
      "[CV] learning_rate=0.001, algorithm=SAMME, n_estimators=500 ..........\n",
      "[CV]  learning_rate=1, algorithm=SAMME, n_estimators=500, score=0.7178502879078695, total=   0.0s\n",
      "[CV] learning_rate=1, algorithm=SAMME, n_estimators=500 ..............\n",
      "[CV]  learning_rate=0.001, algorithm=SAMME, n_estimators=400, score=0.7420454545454546, total=   0.1s\n",
      "[CV] learning_rate=0.001, algorithm=SAMME, n_estimators=400 ..........\n",
      "[CV]  learning_rate=1, algorithm=SAMME, n_estimators=500, score=0.7480769230769231, total=   0.0s\n",
      "[CV] learning_rate=1, algorithm=SAMME, n_estimators=500 ..............\n",
      "[CV]  learning_rate=0.001, algorithm=SAMME, n_estimators=500, score=0.7252215954875101, total=   0.1s\n",
      "[CV] learning_rate=0.001, algorithm=SAMME, n_estimators=500 ..........\n",
      "[CV]  learning_rate=1, algorithm=SAMME, n_estimators=500, score=0.7186897880539499, total=   0.0s\n",
      "[CV] learning_rate=1, algorithm=SAMME, n_estimators=500 ..............\n",
      "[CV]  learning_rate=1e-05, algorithm=SAMME, n_estimators=500, score=0.7364147407870081, total=   0.1s\n",
      "[CV]  learning_rate=0.001, algorithm=SAMME, n_estimators=400, score=0.7397727272727272, total=   0.1s\n"
     ]
    },
    {
     "name": "stderr",
     "output_type": "stream",
     "text": [
      "[Parallel(n_jobs=-1)]: Done   1 out of   1 | elapsed:    0.2s remaining:    0.0s\n"
     ]
    },
    {
     "name": "stdout",
     "output_type": "stream",
     "text": [
      "[CV] learning_rate=0.01, algorithm=SAMME, n_estimators=500 ...........\n",
      "[CV] learning_rate=1e-05, algorithm=SAMME, n_estimators=500 ..........\n",
      "[CV]  learning_rate=1, algorithm=SAMME, n_estimators=500, score=0.7360308285163777, total=   0.0s\n",
      "[CV] learning_rate=1, algorithm=SAMME, n_estimators=400 ..............\n",
      "[CV]  learning_rate=0.01, algorithm=SAMME, n_estimators=500, score=0.7318181818181818, total=   0.1s\n",
      "[CV] learning_rate=0.01, algorithm=SAMME, n_estimators=500 ...........\n",
      "[CV]  learning_rate=1, algorithm=SAMME, n_estimators=400, score=0.7312859884836852, total=   0.0s\n",
      "[CV] learning_rate=1, algorithm=SAMME, n_estimators=400 ..............\n",
      "[CV]  learning_rate=0.001, algorithm=SAMME, n_estimators=500, score=0.717741935483871, total=   0.1s\n",
      "[CV] learning_rate=0.001, algorithm=SAMME, n_estimators=500 ..........\n",
      "[CV]  learning_rate=1, algorithm=SAMME, n_estimators=400, score=0.7140115163147792, total=   0.0s\n",
      "[CV] learning_rate=1, algorithm=SAMME, n_estimators=400 ..............\n",
      "[CV]  learning_rate=1e-05, algorithm=SAMME, n_estimators=500, score=0.7295440349781387, total=   0.1s\n",
      "[CV]  learning_rate=0.01, algorithm=SAMME, n_estimators=500, score=0.7215909090909091, total=   0.1s\n"
     ]
    },
    {
     "name": "stderr",
     "output_type": "stream",
     "text": [
      "[Parallel(n_jobs=-1)]: Done   2 out of   2 | elapsed:    0.3s remaining:    0.0s\n"
     ]
    },
    {
     "name": "stdout",
     "output_type": "stream",
     "text": [
      "[CV] learning_rate=0.01, algorithm=SAMME, n_estimators=500 ...........\n",
      "[CV] learning_rate=1e-05, algorithm=SAMME, n_estimators=500 ..........\n",
      "[CV]  learning_rate=1, algorithm=SAMME, n_estimators=400, score=0.75, total=   0.0s\n",
      "[CV] learning_rate=1, algorithm=SAMME, n_estimators=400 ..............\n",
      "[CV]  learning_rate=0.001, algorithm=SAMME, n_estimators=500, score=0.7354838709677419, total=   0.1s\n",
      "[CV] learning_rate=0.001, algorithm=SAMME, n_estimators=500 ..........\n",
      "[CV]  learning_rate=1, algorithm=SAMME, n_estimators=400, score=0.7167630057803468, total=   0.0s\n",
      "[CV] learning_rate=1, algorithm=SAMME, n_estimators=400 ..............\n",
      "[CV]  learning_rate=0.01, algorithm=SAMME, n_estimators=500, score=0.7238636363636364, total=   0.1s\n",
      "[CV] learning_rate=0.01, algorithm=SAMME, n_estimators=500 ...........\n",
      "[CV]  learning_rate=1, algorithm=SAMME, n_estimators=400, score=0.7321772639691715, total=   0.0s\n",
      "[CV] learning_rate=1e-05, algorithm=SAMME.R, n_estimators=500 ........\n",
      "[CV]  learning_rate=1e-05, algorithm=SAMME.R, n_estimators=500, score=0.7293666026871402, total=   0.0s\n",
      "[CV] learning_rate=1e-05, algorithm=SAMME.R, n_estimators=500 ........\n",
      "[CV]  learning_rate=0.01, algorithm=SAMME, n_estimators=500, score=0.7420454545454546, total=   0.1s\n",
      "[CV] learning_rate=0.01, algorithm=SAMME, n_estimators=500 ...........\n",
      "[CV]  learning_rate=1e-05, algorithm=SAMME, n_estimators=500, score=0.72, total=   0.2s\n",
      "[CV]  learning_rate=0.001, algorithm=SAMME, n_estimators=500, score=0.7209677419354839, total=   0.1s\n"
     ]
    },
    {
     "name": "stderr",
     "output_type": "stream",
     "text": [
      "[Parallel(n_jobs=-1)]: Done   3 out of   3 | elapsed:    0.5s remaining:    0.0s\n"
     ]
    },
    {
     "name": "stdout",
     "output_type": "stream",
     "text": [
      "[CV] learning_rate=0.001, algorithm=SAMME, n_estimators=500 ..........\n",
      "[CV] learning_rate=1e-05, algorithm=SAMME, n_estimators=500 ..........\n",
      "[CV]  learning_rate=1e-05, algorithm=SAMME.R, n_estimators=500, score=0.72552783109405, total=   0.0s\n",
      "[CV] learning_rate=1e-05, algorithm=SAMME.R, n_estimators=500 ........\n",
      "[CV]  learning_rate=1e-05, algorithm=SAMME.R, n_estimators=500, score=0.7576923076923077, total=   0.0s\n",
      "[CV]  learning_rate=0.01, algorithm=SAMME, n_estimators=500, score=0.7340909090909091, total=   0.1s\n",
      "[CV] learning_rate=1e-05, algorithm=SAMME.R, n_estimators=500 ........\n",
      "[CV] learning_rate=0.01, algorithm=SAMME, n_estimators=400 ...........\n",
      "[CV]  learning_rate=0.001, algorithm=SAMME, n_estimators=500, score=0.7102502017756255, total=   0.1s\n",
      "[CV] learning_rate=0.001, algorithm=SAMME, n_estimators=400 ..........\n",
      "[CV]  learning_rate=1e-05, algorithm=SAMME.R, n_estimators=500, score=0.7341040462427746, total=   0.0s\n",
      "[CV] learning_rate=1e-05, algorithm=SAMME.R, n_estimators=500 ........\n",
      "[CV]  learning_rate=1e-05, algorithm=SAMME, n_estimators=500, score=0.7135709818636647, total=   0.1s\n"
     ]
    },
    {
     "name": "stderr",
     "output_type": "stream",
     "text": [
      "[Parallel(n_jobs=-1)]: Done   4 out of   4 | elapsed:    0.6s remaining:    0.0s\n"
     ]
    },
    {
     "name": "stdout",
     "output_type": "stream",
     "text": [
      "[CV] learning_rate=1e-05, algorithm=SAMME, n_estimators=500 ..........\n",
      "[CV]  learning_rate=0.01, algorithm=SAMME, n_estimators=400, score=0.725, total=   0.1s\n",
      "[CV] learning_rate=0.01, algorithm=SAMME, n_estimators=400 ...........\n",
      "[CV]  learning_rate=1e-05, algorithm=SAMME.R, n_estimators=500, score=0.7398843930635838, total=   0.0s\n",
      "[CV] learning_rate=1e-05, algorithm=SAMME.R, n_estimators=400 ........\n",
      "[CV]  learning_rate=1e-05, algorithm=SAMME.R, n_estimators=400, score=0.7351247600767754, total=   0.0s\n",
      "[CV] learning_rate=1e-05, algorithm=SAMME.R, n_estimators=400 ........\n",
      "[CV]  learning_rate=0.001, algorithm=SAMME, n_estimators=400, score=0.7268331990330379, total=   0.1s\n",
      "[CV]  learning_rate=0.01, algorithm=SAMME, n_estimators=400, score=0.7329545454545454, total=   0.1s\n",
      "[CV] learning_rate=0.001, algorithm=SAMME, n_estimators=400 ..........\n",
      "[CV] learning_rate=0.01, algorithm=SAMME, n_estimators=400 ...........\n",
      "[CV]  learning_rate=1e-05, algorithm=SAMME.R, n_estimators=400, score=0.72552783109405, total=   0.0s\n",
      "[CV] learning_rate=1e-05, algorithm=SAMME.R, n_estimators=400 ........\n",
      "[CV]  learning_rate=1e-05, algorithm=SAMME.R, n_estimators=400, score=0.7480769230769231, total=   0.0s\n",
      "[CV] learning_rate=1e-05, algorithm=SAMME.R, n_estimators=400 ........\n",
      "[CV]  learning_rate=0.01, algorithm=SAMME, n_estimators=400, score=0.7181818181818181, total=   0.1s\n",
      "[CV]  learning_rate=1e-05, algorithm=SAMME, n_estimators=500, score=0.7254534083802376, total=   0.2s\n",
      "[CV] learning_rate=0.01, algorithm=SAMME, n_estimators=400 ...........\n"
     ]
    },
    {
     "name": "stderr",
     "output_type": "stream",
     "text": [
      "[Parallel(n_jobs=-1)]: Done   5 out of   5 | elapsed:    0.8s remaining:    0.0s\n"
     ]
    },
    {
     "name": "stdout",
     "output_type": "stream",
     "text": [
      "[CV] learning_rate=1e-05, algorithm=SAMME, n_estimators=400 ..........\n",
      "[CV]  learning_rate=0.001, algorithm=SAMME, n_estimators=400, score=0.7274193548387097, total=   0.1s\n",
      "[CV]  learning_rate=1e-05, algorithm=SAMME.R, n_estimators=400, score=0.7244701348747592, total=   0.0s\n",
      "[CV] learning_rate=0.001, algorithm=SAMME, n_estimators=400 ..........\n",
      "[CV] learning_rate=1e-05, algorithm=SAMME.R, n_estimators=400 ........\n",
      "[CV]  learning_rate=0.01, algorithm=SAMME, n_estimators=400, score=0.7556818181818182, total=   0.1s\n",
      "[CV]  learning_rate=1e-05, algorithm=SAMME.R, n_estimators=400, score=0.7360308285163777, total=   0.0s\n",
      "[CV] learning_rate=0.01, algorithm=SAMME, n_estimators=400 ...........\n",
      "[CV] learning_rate=0.0001, algorithm=SAMME.R, n_estimators=500 .......\n",
      "[CV]  learning_rate=0.0001, algorithm=SAMME.R, n_estimators=500, score=0.7389635316698656, total=   0.0s\n",
      "[CV] learning_rate=0.0001, algorithm=SAMME.R, n_estimators=500 .......\n",
      "[CV]  learning_rate=0.001, algorithm=SAMME, n_estimators=400, score=0.7362903225806452, total=   0.1s\n",
      "[CV] learning_rate=0.001, algorithm=SAMME, n_estimators=400 ..........\n",
      "[CV]  learning_rate=1e-05, algorithm=SAMME, n_estimators=400, score=0.73579013116802, total=   0.1s\n"
     ]
    },
    {
     "name": "stderr",
     "output_type": "stream",
     "text": [
      "[Parallel(n_jobs=-1)]: Done   6 out of   6 | elapsed:    0.9s remaining:    0.0s\n"
     ]
    },
    {
     "name": "stdout",
     "output_type": "stream",
     "text": [
      "[CV] learning_rate=1e-05, algorithm=SAMME, n_estimators=400 ..........\n",
      "[CV]  learning_rate=0.01, algorithm=SAMME, n_estimators=400, score=0.7477272727272727, total=   0.1s\n",
      "[CV] learning_rate=0.1, algorithm=SAMME, n_estimators=500 ............\n",
      "[CV]  learning_rate=0.0001, algorithm=SAMME.R, n_estimators=500, score=0.7159309021113244, total=   0.0s\n",
      "[CV] learning_rate=0.0001, algorithm=SAMME.R, n_estimators=500 .......\n",
      "[CV]  learning_rate=0.0001, algorithm=SAMME.R, n_estimators=500, score=0.7596153846153846, total=   0.0s\n",
      "[CV] learning_rate=0.0001, algorithm=SAMME.R, n_estimators=500 .......\n",
      "[CV]  learning_rate=0.1, algorithm=SAMME, n_estimators=500, score=0.7363636363636363, total=   0.1s\n",
      "[CV] learning_rate=0.1, algorithm=SAMME, n_estimators=500 ............\n",
      "[CV]  learning_rate=0.001, algorithm=SAMME, n_estimators=400, score=0.7290322580645161, total=   0.1s\n",
      "[CV] learning_rate=0.001, algorithm=SAMME, n_estimators=400 ..........\n",
      "[CV]  learning_rate=0.0001, algorithm=SAMME.R, n_estimators=500, score=0.7283236994219653, total=   0.0s\n",
      "[CV] learning_rate=0.0001, algorithm=SAMME.R, n_estimators=500 .......\n",
      "[CV]  learning_rate=1e-05, algorithm=SAMME, n_estimators=400, score=0.7289194253591506, total=   0.1s\n"
     ]
    },
    {
     "name": "stderr",
     "output_type": "stream",
     "text": [
      "[Parallel(n_jobs=-1)]: Done   7 out of   7 | elapsed:    1.1s remaining:    0.0s\n"
     ]
    },
    {
     "name": "stdout",
     "output_type": "stream",
     "text": [
      "[CV]  learning_rate=0.0001, algorithm=SAMME.R, n_estimators=500, score=0.7475915221579962, total=   0.0s\n",
      "[CV] learning_rate=1e-05, algorithm=SAMME, n_estimators=400 ..........\n",
      "[CV] learning_rate=0.0001, algorithm=SAMME.R, n_estimators=400 .......\n",
      "[CV]  learning_rate=0.1, algorithm=SAMME, n_estimators=500, score=0.7295454545454545, total=   0.1s\n",
      "[CV] learning_rate=0.1, algorithm=SAMME, n_estimators=500 ............\n",
      "[CV]  learning_rate=0.0001, algorithm=SAMME.R, n_estimators=400, score=0.7312859884836852, total=   0.0s\n",
      "[CV] learning_rate=0.0001, algorithm=SAMME.R, n_estimators=400 .......\n",
      "[CV]  learning_rate=0.001, algorithm=SAMME, n_estimators=400, score=0.7037933817594835, total=   0.1s\n",
      "[CV] learning_rate=0.01, algorithm=SAMME, n_estimators=500 ...........\n",
      "[CV]  learning_rate=0.1, algorithm=SAMME, n_estimators=500, score=0.7090909090909091, total=   0.1s\n",
      "[CV]  learning_rate=0.0001, algorithm=SAMME.R, n_estimators=400, score=0.7236084452975048, total=   0.0s\n",
      "[CV] learning_rate=0.0001, algorithm=SAMME.R, n_estimators=400 .......\n",
      "[CV] learning_rate=0.1, algorithm=SAMME, n_estimators=500 ............\n",
      "[CV]  learning_rate=0.0001, algorithm=SAMME.R, n_estimators=400, score=0.7576923076923077, total=   0.0s\n",
      "[CV] learning_rate=0.0001, algorithm=SAMME.R, n_estimators=400 .......\n",
      "[CV]  learning_rate=1e-05, algorithm=SAMME, n_estimators=400, score=0.73, total=   0.1s\n"
     ]
    },
    {
     "name": "stderr",
     "output_type": "stream",
     "text": [
      "[Parallel(n_jobs=-1)]: Done   8 out of   8 | elapsed:    1.2s remaining:    0.0s\n"
     ]
    },
    {
     "name": "stdout",
     "output_type": "stream",
     "text": [
      "[CV] learning_rate=1e-05, algorithm=SAMME, n_estimators=400 ..........\n",
      "[CV]  learning_rate=0.01, algorithm=SAMME, n_estimators=500, score=0.7300564061240935, total=   0.1s\n",
      "[CV] learning_rate=0.01, algorithm=SAMME, n_estimators=500 ...........\n",
      "[CV]  learning_rate=0.1, algorithm=SAMME, n_estimators=500, score=0.7465909090909091, total=   0.1s\n",
      "[CV]  learning_rate=0.0001, algorithm=SAMME.R, n_estimators=400, score=0.7129094412331407, total=   0.0s\n",
      "[CV] learning_rate=0.1, algorithm=SAMME, n_estimators=500 ............\n",
      "[CV] learning_rate=0.0001, algorithm=SAMME.R, n_estimators=400 .......\n",
      "[CV]  learning_rate=0.0001, algorithm=SAMME.R, n_estimators=400, score=0.7418111753371869, total=   0.0s\n",
      "[CV] learning_rate=0.001, algorithm=SAMME.R, n_estimators=500 ........\n",
      "[CV]  learning_rate=0.1, algorithm=SAMME, n_estimators=500, score=0.7420454545454546, total=   0.1s\n",
      "[CV] learning_rate=0.1, algorithm=SAMME, n_estimators=400 ............\n",
      "[CV]  learning_rate=0.001, algorithm=SAMME.R, n_estimators=500, score=0.72552783109405, total=   0.0s\n",
      "[CV] learning_rate=0.001, algorithm=SAMME.R, n_estimators=500 ........\n",
      "[CV]  learning_rate=0.01, algorithm=SAMME, n_estimators=500, score=0.7096774193548387, total=   0.1s\n",
      "[CV] learning_rate=0.01, algorithm=SAMME, n_estimators=500 ...........\n",
      "[CV]  learning_rate=1e-05, algorithm=SAMME, n_estimators=400, score=0.707942464040025, total=   0.1s\n"
     ]
    },
    {
     "name": "stderr",
     "output_type": "stream",
     "text": [
      "[Parallel(n_jobs=-1)]: Done   9 out of   9 | elapsed:    1.4s remaining:    0.0s\n"
     ]
    },
    {
     "name": "stdout",
     "output_type": "stream",
     "text": [
      "[CV] learning_rate=1e-05, algorithm=SAMME, n_estimators=400 ..........\n",
      "[CV]  learning_rate=0.001, algorithm=SAMME.R, n_estimators=500, score=0.7178502879078695, total=   0.0s\n",
      "[CV] learning_rate=0.001, algorithm=SAMME.R, n_estimators=500 ........\n",
      "[CV]  learning_rate=0.1, algorithm=SAMME, n_estimators=400, score=0.7261363636363637, total=   0.1s\n",
      "[CV] learning_rate=0.1, algorithm=SAMME, n_estimators=400 ............\n",
      "[CV]  learning_rate=0.001, algorithm=SAMME.R, n_estimators=500, score=0.7519230769230769, total=   0.0s\n",
      "[CV] learning_rate=0.001, algorithm=SAMME.R, n_estimators=500 ........\n",
      "[CV]  learning_rate=0.01, algorithm=SAMME, n_estimators=500, score=0.742741935483871, total=   0.1s\n",
      "[CV] learning_rate=0.01, algorithm=SAMME, n_estimators=500 ...........\n",
      "[CV]  learning_rate=0.001, algorithm=SAMME.R, n_estimators=500, score=0.7148362235067437, total=   0.0s\n",
      "[CV] learning_rate=0.001, algorithm=SAMME.R, n_estimators=500 ........\n",
      "[CV]  learning_rate=0.1, algorithm=SAMME, n_estimators=400, score=0.7318181818181818, total=   0.1s\n",
      "[CV] learning_rate=0.1, algorithm=SAMME, n_estimators=400 ............\n",
      "[CV]  learning_rate=0.001, algorithm=SAMME.R, n_estimators=500, score=0.7379576107899807, total=   0.0s\n",
      "[CV] learning_rate=0.001, algorithm=SAMME.R, n_estimators=400 ........\n",
      "[CV]  learning_rate=1e-05, algorithm=SAMME, n_estimators=400, score=0.726078799249531, total=   0.2s\n",
      "[CV] learning_rate=0.0001, algorithm=SAMME, n_estimators=500 .........\n",
      "[CV]  learning_rate=0.1, algorithm=SAMME, n_estimators=400, score=0.7136363636363636, total=   0.1s\n",
      "[CV]  learning_rate=0.001, algorithm=SAMME.R, n_estimators=400, score=0.7408829174664108, total=   0.0s\n",
      "[CV] learning_rate=0.001, algorithm=SAMME.R, n_estimators=400 ........\n",
      "[CV] learning_rate=0.1, algorithm=SAMME, n_estimators=400 ............\n",
      "[CV]  learning_rate=0.01, algorithm=SAMME, n_estimators=500, score=0.7266129032258064, total=   0.1s\n",
      "[CV] learning_rate=0.01, algorithm=SAMME, n_estimators=500 ...........\n",
      "[CV]  learning_rate=0.001, algorithm=SAMME.R, n_estimators=400, score=0.72552783109405, total=   0.0s\n",
      "[CV] learning_rate=0.001, algorithm=SAMME.R, n_estimators=400 ........\n",
      "[CV]  learning_rate=0.1, algorithm=SAMME, n_estimators=400, score=0.7454545454545455, total=   0.1s\n",
      "[CV] learning_rate=0.1, algorithm=SAMME, n_estimators=400 ............\n",
      "[CV]  learning_rate=0.001, algorithm=SAMME.R, n_estimators=400, score=0.7634615384615384, total=   0.0s\n",
      "[CV] learning_rate=0.001, algorithm=SAMME.R, n_estimators=400 ........\n",
      "[CV]  learning_rate=0.01, algorithm=SAMME, n_estimators=500, score=0.711864406779661, total=   0.1s\n",
      "[CV]  learning_rate=0.001, algorithm=SAMME.R, n_estimators=400, score=0.7167630057803468, total=   0.0s\n",
      "[CV] learning_rate=0.01, algorithm=SAMME, n_estimators=400 ...........\n",
      "[CV]  learning_rate=0.0001, algorithm=SAMME, n_estimators=500, score=0.7332916926920675, total=   0.1s\n",
      "[CV] learning_rate=0.001, algorithm=SAMME.R, n_estimators=400 ........\n",
      "[CV] learning_rate=0.0001, algorithm=SAMME, n_estimators=500 .........\n",
      "[CV]  learning_rate=0.1, algorithm=SAMME, n_estimators=400, score=0.7329545454545454, total=   0.1s\n",
      "[CV] learning_rate=1, algorithm=SAMME, n_estimators=500 ..............\n",
      "[CV]  learning_rate=0.001, algorithm=SAMME.R, n_estimators=400, score=0.7360308285163777, total=   0.0s\n",
      "[CV] learning_rate=0.01, algorithm=SAMME.R, n_estimators=500 .........\n",
      "[CV]  learning_rate=0.01, algorithm=SAMME.R, n_estimators=500, score=0.7370441458733206, total=   0.0s\n",
      "[CV] learning_rate=0.01, algorithm=SAMME.R, n_estimators=500 .........\n",
      "[CV]  learning_rate=0.01, algorithm=SAMME, n_estimators=400, score=0.7348912167606769, total=   0.1s\n",
      "[CV] learning_rate=0.01, algorithm=SAMME, n_estimators=400 ...........\n",
      "[CV]  learning_rate=1, algorithm=SAMME, n_estimators=500, score=0.7238636363636364, total=   0.1s\n",
      "[CV] learning_rate=1, algorithm=SAMME, n_estimators=500 ..............\n",
      "[CV]  learning_rate=0.01, algorithm=SAMME.R, n_estimators=500, score=0.72552783109405, total=   0.0s\n",
      "[CV] learning_rate=0.01, algorithm=SAMME.R, n_estimators=500 .........\n",
      "[CV]  learning_rate=0.0001, algorithm=SAMME, n_estimators=500, score=0.7314178638351031, total=   0.1s\n",
      "[CV] learning_rate=0.0001, algorithm=SAMME, n_estimators=500 .........\n",
      "[CV]  learning_rate=0.01, algorithm=SAMME.R, n_estimators=500, score=0.7519230769230769, total=   0.0s\n",
      "[CV] learning_rate=0.01, algorithm=SAMME.R, n_estimators=500 .........\n",
      "[CV]  learning_rate=1, algorithm=SAMME, n_estimators=500, score=0.7284090909090909, total=   0.1s\n",
      "[CV] learning_rate=1, algorithm=SAMME, n_estimators=500 ..............\n",
      "[CV]  learning_rate=0.01, algorithm=SAMME.R, n_estimators=500, score=0.720616570327553, total=   0.0s\n",
      "[CV]  learning_rate=0.01, algorithm=SAMME, n_estimators=400, score=0.7201612903225807, total=   0.1s\n",
      "[CV] learning_rate=0.01, algorithm=SAMME.R, n_estimators=500 .........\n",
      "[CV] learning_rate=0.01, algorithm=SAMME, n_estimators=400 ...........\n",
      "[CV]  learning_rate=1, algorithm=SAMME, n_estimators=500, score=0.7147727272727272, total=   0.1s\n",
      "[CV]  learning_rate=0.01, algorithm=SAMME.R, n_estimators=500, score=0.7456647398843931, total=   0.0s\n",
      "[CV] learning_rate=1, algorithm=SAMME, n_estimators=500 ..............\n",
      "[CV] learning_rate=0.01, algorithm=SAMME.R, n_estimators=400 .........\n",
      "[CV]  learning_rate=0.01, algorithm=SAMME.R, n_estimators=400, score=0.7370441458733206, total=   0.0s\n",
      "[CV]  learning_rate=0.0001, algorithm=SAMME, n_estimators=500, score=0.72375, total=   0.2s\n",
      "[CV] learning_rate=0.01, algorithm=SAMME.R, n_estimators=400 .........\n",
      "[CV] learning_rate=0.0001, algorithm=SAMME, n_estimators=500 .........\n",
      "[CV]  learning_rate=0.01, algorithm=SAMME, n_estimators=400, score=0.7419354838709677, total=   0.1s\n",
      "[CV] learning_rate=0.01, algorithm=SAMME, n_estimators=400 ...........\n",
      "[CV]  learning_rate=1, algorithm=SAMME, n_estimators=500, score=0.7352272727272727, total=   0.1s\n",
      "[CV] learning_rate=1, algorithm=SAMME, n_estimators=500 ..............\n",
      "[CV]  learning_rate=0.01, algorithm=SAMME.R, n_estimators=400, score=0.7197696737044146, total=   0.0s\n",
      "[CV] learning_rate=0.01, algorithm=SAMME.R, n_estimators=400 .........\n",
      "[CV]  learning_rate=0.01, algorithm=SAMME.R, n_estimators=400, score=0.7557692307692307, total=   0.0s\n",
      "[CV] learning_rate=0.01, algorithm=SAMME.R, n_estimators=400 .........\n",
      "[CV]  learning_rate=1, algorithm=SAMME, n_estimators=500, score=0.7397727272727272, total=   0.1s\n",
      "[CV] learning_rate=1, algorithm=SAMME, n_estimators=400 ..............\n",
      "[CV]  learning_rate=0.01, algorithm=SAMME.R, n_estimators=400, score=0.7283236994219653, total=   0.0s\n",
      "[CV]  learning_rate=0.01, algorithm=SAMME, n_estimators=400, score=0.7225806451612903, total=   0.1s\n",
      "[CV] learning_rate=0.01, algorithm=SAMME.R, n_estimators=400 .........\n",
      "[CV] learning_rate=0.01, algorithm=SAMME, n_estimators=400 ...........\n",
      "[CV]  learning_rate=0.0001, algorithm=SAMME, n_estimators=500, score=0.7116948092557849, total=   0.1s\n",
      "[CV] learning_rate=0.0001, algorithm=SAMME, n_estimators=500 .........\n",
      "[CV]  learning_rate=0.01, algorithm=SAMME.R, n_estimators=400, score=0.7572254335260116, total=   0.0s\n",
      "[CV] learning_rate=0.1, algorithm=SAMME.R, n_estimators=500 ..........\n",
      "[CV]  learning_rate=1, algorithm=SAMME, n_estimators=400, score=0.7159090909090909, total=   0.1s\n",
      "[CV] learning_rate=1, algorithm=SAMME, n_estimators=400 ..............\n",
      "[CV]  learning_rate=0.1, algorithm=SAMME.R, n_estimators=500, score=0.7370441458733206, total=   0.0s\n",
      "[CV] learning_rate=0.1, algorithm=SAMME.R, n_estimators=500 ..........\n",
      "[CV]  learning_rate=0.01, algorithm=SAMME, n_estimators=400, score=0.7110573042776432, total=   0.1s\n",
      "[CV] learning_rate=0.1, algorithm=SAMME, n_estimators=500 ............\n",
      "[CV]  learning_rate=0.1, algorithm=SAMME.R, n_estimators=500, score=0.7197696737044146, total=   0.0s\n",
      "[CV]  learning_rate=1, algorithm=SAMME, n_estimators=400, score=0.7397727272727272, total=   0.1s\n",
      "[CV] learning_rate=0.1, algorithm=SAMME.R, n_estimators=500 ..........\n",
      "[CV] learning_rate=1, algorithm=SAMME, n_estimators=400 ..............\n",
      "[CV]  learning_rate=0.0001, algorithm=SAMME, n_estimators=500, score=0.7335834896810507, total=   0.1s\n",
      "[CV] learning_rate=0.0001, algorithm=SAMME, n_estimators=400 .........\n",
      "[CV]  learning_rate=0.1, algorithm=SAMME.R, n_estimators=500, score=0.7557692307692307, total=   0.0s\n",
      "[CV] learning_rate=0.1, algorithm=SAMME.R, n_estimators=500 ..........\n",
      "[CV]  learning_rate=1, algorithm=SAMME, n_estimators=400, score=0.7261363636363637, total=   0.1s\n",
      "[CV] learning_rate=1, algorithm=SAMME, n_estimators=400 ..............\n",
      "[CV]  learning_rate=0.1, algorithm=SAMME, n_estimators=500, score=0.7316680096696213, total=   0.1s\n",
      "[CV]  learning_rate=0.1, algorithm=SAMME.R, n_estimators=500, score=0.7167630057803468, total=   0.0s\n",
      "[CV] learning_rate=0.1, algorithm=SAMME, n_estimators=500 ............\n",
      "[CV] learning_rate=0.1, algorithm=SAMME.R, n_estimators=500 ..........\n",
      "[CV]  learning_rate=0.1, algorithm=SAMME.R, n_estimators=500, score=0.7456647398843931, total=   0.0s\n",
      "[CV] learning_rate=0.1, algorithm=SAMME.R, n_estimators=400 ..........\n",
      "[CV]  learning_rate=1, algorithm=SAMME, n_estimators=400, score=0.7363636363636363, total=   0.1s\n",
      "[CV] learning_rate=1, algorithm=SAMME, n_estimators=400 ..............\n",
      "[CV]  learning_rate=0.1, algorithm=SAMME.R, n_estimators=400, score=0.7159309021113244, total=   0.0s\n",
      "[CV] learning_rate=0.1, algorithm=SAMME.R, n_estimators=400 ..........\n",
      "[CV]  learning_rate=0.0001, algorithm=SAMME, n_estimators=400, score=0.7395377888819488, total=   0.1s\n",
      "[CV] learning_rate=0.0001, algorithm=SAMME, n_estimators=400 .........\n",
      "[CV]  learning_rate=0.1, algorithm=SAMME, n_estimators=500, score=0.7241935483870968, total=   0.1s\n",
      "[CV] learning_rate=0.1, algorithm=SAMME, n_estimators=500 ............\n",
      "[CV]  learning_rate=0.1, algorithm=SAMME.R, n_estimators=400, score=0.7216890595009597, total=   0.0s\n",
      "[CV] learning_rate=0.1, algorithm=SAMME.R, n_estimators=400 ..........\n",
      "[CV]  learning_rate=1, algorithm=SAMME, n_estimators=400, score=0.7306818181818182, total=   0.1s\n",
      "[CV] learning_rate=1e-05, algorithm=SAMME.R, n_estimators=500 ........\n",
      "[CV]  learning_rate=0.1, algorithm=SAMME.R, n_estimators=400, score=0.7461538461538462, total=   0.0s\n",
      "[CV] learning_rate=0.1, algorithm=SAMME.R, n_estimators=400 ..........\n",
      "[CV]  learning_rate=0.1, algorithm=SAMME, n_estimators=500, score=0.7403225806451613, total=   0.1s\n",
      "[CV] learning_rate=0.1, algorithm=SAMME, n_estimators=500 ............\n",
      "[CV]  learning_rate=0.1, algorithm=SAMME.R, n_estimators=400, score=0.7360308285163777, total=   0.0s\n",
      "[CV] learning_rate=0.1, algorithm=SAMME.R, n_estimators=400 ..........\n",
      "[CV]  learning_rate=1e-05, algorithm=SAMME.R, n_estimators=500, score=0.7306818181818182, total=   0.1s\n",
      "[CV] learning_rate=1e-05, algorithm=SAMME.R, n_estimators=500 ........\n",
      "[CV]  learning_rate=0.0001, algorithm=SAMME, n_estimators=400, score=0.7320424734540912, total=   0.1s\n",
      "[CV] learning_rate=0.0001, algorithm=SAMME, n_estimators=400 .........\n",
      "[CV]  learning_rate=0.1, algorithm=SAMME.R, n_estimators=400, score=0.7475915221579962, total=   0.0s\n",
      "[CV] learning_rate=1, algorithm=SAMME.R, n_estimators=500 ............\n",
      "[CV]  learning_rate=1, algorithm=SAMME.R, n_estimators=500, score=0.7389635316698656, total=   0.0s\n",
      "[CV] learning_rate=1, algorithm=SAMME.R, n_estimators=500 ............\n",
      "[CV]  learning_rate=1e-05, algorithm=SAMME.R, n_estimators=500, score=0.7329545454545454, total=   0.1s\n",
      "[CV] learning_rate=1e-05, algorithm=SAMME.R, n_estimators=500 ........\n",
      "[CV]  learning_rate=0.1, algorithm=SAMME, n_estimators=500, score=0.725, total=   0.1s\n",
      "[CV] learning_rate=0.1, algorithm=SAMME, n_estimators=500 ............\n",
      "[CV]  learning_rate=1, algorithm=SAMME.R, n_estimators=500, score=0.72552783109405, total=   0.0s\n",
      "[CV] learning_rate=1, algorithm=SAMME.R, n_estimators=500 ............\n",
      "[CV]  learning_rate=1e-05, algorithm=SAMME.R, n_estimators=500, score=0.7238636363636364, total=   0.1s\n",
      "[CV]  learning_rate=1, algorithm=SAMME.R, n_estimators=500, score=0.7480769230769231, total=   0.0s\n",
      "[CV] learning_rate=1e-05, algorithm=SAMME.R, n_estimators=500 ........\n",
      "[CV] learning_rate=1, algorithm=SAMME.R, n_estimators=500 ............\n",
      "[CV]  learning_rate=0.0001, algorithm=SAMME, n_estimators=400, score=0.7275, total=   0.2s\n",
      "[CV] learning_rate=0.0001, algorithm=SAMME, n_estimators=400 .........\n",
      "[CV]  learning_rate=1, algorithm=SAMME.R, n_estimators=500, score=0.720616570327553, total=   0.0s\n",
      "[CV] learning_rate=1, algorithm=SAMME.R, n_estimators=500 ............\n",
      "[CV]  learning_rate=0.1, algorithm=SAMME, n_estimators=500, score=0.7078288942695722, total=   0.1s\n",
      "[CV] learning_rate=0.1, algorithm=SAMME, n_estimators=400 ............\n",
      "[CV]  learning_rate=1e-05, algorithm=SAMME.R, n_estimators=500, score=0.7397727272727272, total=   0.1s\n",
      "[CV] learning_rate=1e-05, algorithm=SAMME.R, n_estimators=500 ........\n",
      "[CV]  learning_rate=1, algorithm=SAMME.R, n_estimators=500, score=0.7263969171483622, total=   0.0s\n",
      "[CV] learning_rate=1, algorithm=SAMME.R, n_estimators=400 ............\n",
      "[CV]  learning_rate=1, algorithm=SAMME.R, n_estimators=400, score=0.727447216890595, total=   0.0s\n",
      "[CV] learning_rate=1, algorithm=SAMME.R, n_estimators=400 ............\n",
      "[CV]  learning_rate=0.1, algorithm=SAMME, n_estimators=400, score=0.7332796132151491, total=   0.1s\n",
      "[CV]  learning_rate=0.0001, algorithm=SAMME, n_estimators=400, score=0.7129455909943715, total=   0.1s\n",
      "[CV] learning_rate=0.1, algorithm=SAMME, n_estimators=400 ............\n",
      "[CV] learning_rate=0.0001, algorithm=SAMME, n_estimators=400 .........\n",
      "[CV]  learning_rate=1e-05, algorithm=SAMME.R, n_estimators=500, score=0.7488636363636364, total=   0.1s\n",
      "[CV] learning_rate=1e-05, algorithm=SAMME.R, n_estimators=400 ........\n",
      "[CV]  learning_rate=1, algorithm=SAMME.R, n_estimators=400, score=0.710172744721689, total=   0.0s\n",
      "[CV] learning_rate=1, algorithm=SAMME.R, n_estimators=400 ............\n",
      "[CV]  learning_rate=1, algorithm=SAMME.R, n_estimators=400, score=0.7596153846153846, total=   0.0s\n",
      "[CV] learning_rate=1, algorithm=SAMME.R, n_estimators=400 ............\n",
      "[CV]  learning_rate=1e-05, algorithm=SAMME.R, n_estimators=400, score=0.7238636363636364, total=   0.1s\n",
      "[CV] learning_rate=1e-05, algorithm=SAMME.R, n_estimators=400 ........\n",
      "[CV]  learning_rate=1, algorithm=SAMME.R, n_estimators=400, score=0.7225433526011561, total=   0.0s\n",
      "[CV] learning_rate=1, algorithm=SAMME.R, n_estimators=400 ............\n",
      "[CV]  learning_rate=0.1, algorithm=SAMME, n_estimators=400, score=0.7217741935483871, total=   0.1s\n",
      "[CV] learning_rate=0.1, algorithm=SAMME, n_estimators=400 ............\n",
      "[CV]  learning_rate=1, algorithm=SAMME.R, n_estimators=400, score=0.7495183044315993, total=   0.0s\n"
     ]
    },
    {
     "name": "stderr",
     "output_type": "stream",
     "text": [
      "[Parallel(n_jobs=-1)]: Done 120 out of 120 | elapsed:    5.4s finished\n"
     ]
    },
    {
     "name": "stdout",
     "output_type": "stream",
     "text": [
      "[CV]  learning_rate=1e-05, algorithm=SAMME.R, n_estimators=400, score=0.7329545454545454, total=   0.1s\n",
      "[CV] learning_rate=1e-05, algorithm=SAMME.R, n_estimators=400 ........\n",
      "[CV]  learning_rate=0.0001, algorithm=SAMME, n_estimators=400, score=0.7267041901188243, total=   0.1s\n",
      "[CV] learning_rate=0.001, algorithm=SAMME, n_estimators=500 ..........\n",
      "[CV]  learning_rate=0.1, algorithm=SAMME, n_estimators=400, score=0.7403225806451613, total=   0.1s\n",
      "Fitting 5 folds for each of 24 candidates, totalling 120 fits\n",
      "[CV] learning_rate=0.1, algorithm=SAMME, n_estimators=400 ............\n"
     ]
    },
    {
     "name": "stderr",
     "output_type": "stream",
     "text": [
      "/Users/gali/anaconda/envs/carnd-term1/lib/python3.5/site-packages/sklearn/externals/joblib/parallel.py:547: UserWarning: Multiprocessing-backed parallel loops cannot be nested, setting n_jobs=1\n",
      "  **self._backend_args)\n"
     ]
    },
    {
     "name": "stdout",
     "output_type": "stream",
     "text": [
      "[CV] learning_rate=1e-05, algorithm=SAMME, n_estimators=500 ..........\n",
      "[CV]  learning_rate=1e-05, algorithm=SAMME, n_estimators=500, score=0.7267080745341615, total=   0.0s\n"
     ]
    },
    {
     "name": "stderr",
     "output_type": "stream",
     "text": [
      "[Parallel(n_jobs=-1)]: Done   1 out of   1 | elapsed:    0.0s remaining:    0.0s\n"
     ]
    },
    {
     "name": "stdout",
     "output_type": "stream",
     "text": [
      "[CV]  learning_rate=1e-05, algorithm=SAMME.R, n_estimators=400, score=0.7125, total=   0.1s\n",
      "[CV] learning_rate=1e-05, algorithm=SAMME, n_estimators=500 ..........\n",
      "[CV] learning_rate=1e-05, algorithm=SAMME.R, n_estimators=400 ........\n",
      "[CV]  learning_rate=1e-05, algorithm=SAMME, n_estimators=500, score=0.7375, total=   0.0s\n"
     ]
    },
    {
     "name": "stderr",
     "output_type": "stream",
     "text": [
      "[Parallel(n_jobs=-1)]: Done   2 out of   2 | elapsed:    0.0s remaining:    0.0s\n"
     ]
    },
    {
     "name": "stdout",
     "output_type": "stream",
     "text": [
      "[CV] learning_rate=1e-05, algorithm=SAMME, n_estimators=500 ..........\n",
      "[CV]  learning_rate=1e-05, algorithm=SAMME, n_estimators=500, score=0.7375, total=   0.0s\n"
     ]
    },
    {
     "name": "stderr",
     "output_type": "stream",
     "text": [
      "[Parallel(n_jobs=-1)]: Done   3 out of   3 | elapsed:    0.1s remaining:    0.0s\n"
     ]
    },
    {
     "name": "stdout",
     "output_type": "stream",
     "text": [
      "[CV] learning_rate=1e-05, algorithm=SAMME, n_estimators=500 ..........\n",
      "[CV]  learning_rate=1e-05, algorithm=SAMME, n_estimators=500, score=0.74375, total=   0.0s\n"
     ]
    },
    {
     "name": "stderr",
     "output_type": "stream",
     "text": [
      "[Parallel(n_jobs=-1)]: Done   4 out of   4 | elapsed:    0.1s remaining:    0.0s\n"
     ]
    },
    {
     "name": "stdout",
     "output_type": "stream",
     "text": [
      "[CV] learning_rate=1e-05, algorithm=SAMME, n_estimators=500 ..........\n",
      "[CV]  learning_rate=1e-05, algorithm=SAMME, n_estimators=500, score=0.7610062893081762, total=   0.0s\n"
     ]
    },
    {
     "name": "stderr",
     "output_type": "stream",
     "text": [
      "[Parallel(n_jobs=-1)]: Done   5 out of   5 | elapsed:    0.1s remaining:    0.0s\n"
     ]
    },
    {
     "name": "stdout",
     "output_type": "stream",
     "text": [
      "[CV] learning_rate=1e-05, algorithm=SAMME, n_estimators=400 ..........\n",
      "[CV]  learning_rate=0.001, algorithm=SAMME, n_estimators=500, score=0.7270455965021861, total=   0.1s\n",
      "[CV] learning_rate=0.001, algorithm=SAMME, n_estimators=500 ..........\n",
      "[CV]  learning_rate=1e-05, algorithm=SAMME.R, n_estimators=400, score=0.7477272727272727, total=   0.1s\n",
      "[CV] learning_rate=1e-05, algorithm=SAMME.R, n_estimators=400 ........\n",
      "[CV]  learning_rate=1e-05, algorithm=SAMME, n_estimators=400, score=0.7329192546583851, total=   0.0s\n"
     ]
    },
    {
     "name": "stderr",
     "output_type": "stream",
     "text": [
      "[Parallel(n_jobs=-1)]: Done   6 out of   6 | elapsed:    0.1s remaining:    0.0s\n"
     ]
    },
    {
     "name": "stdout",
     "output_type": "stream",
     "text": [
      "[CV]  learning_rate=0.1, algorithm=SAMME, n_estimators=400, score=0.725, total=   0.1s\n",
      "[CV] learning_rate=1e-05, algorithm=SAMME, n_estimators=400 ..........\n",
      "[CV] learning_rate=0.1, algorithm=SAMME, n_estimators=400 ............\n",
      "[CV]  learning_rate=1e-05, algorithm=SAMME, n_estimators=400, score=0.7, total=   0.0s\n"
     ]
    },
    {
     "name": "stderr",
     "output_type": "stream",
     "text": [
      "[Parallel(n_jobs=-1)]: Done   7 out of   7 | elapsed:    0.1s remaining:    0.0s\n"
     ]
    },
    {
     "name": "stdout",
     "output_type": "stream",
     "text": [
      "[CV] learning_rate=1e-05, algorithm=SAMME, n_estimators=400 ..........\n",
      "[CV]  learning_rate=1e-05, algorithm=SAMME, n_estimators=400, score=0.7375, total=   0.0s\n"
     ]
    },
    {
     "name": "stderr",
     "output_type": "stream",
     "text": [
      "[Parallel(n_jobs=-1)]: Done   8 out of   8 | elapsed:    0.2s remaining:    0.0s\n"
     ]
    },
    {
     "name": "stdout",
     "output_type": "stream",
     "text": [
      "[CV] learning_rate=1e-05, algorithm=SAMME, n_estimators=400 ..........\n",
      "[CV]  learning_rate=1e-05, algorithm=SAMME, n_estimators=400, score=0.73125, total=   0.0s\n"
     ]
    },
    {
     "name": "stderr",
     "output_type": "stream",
     "text": [
      "[Parallel(n_jobs=-1)]: Done   9 out of   9 | elapsed:    0.2s remaining:    0.0s\n"
     ]
    },
    {
     "name": "stdout",
     "output_type": "stream",
     "text": [
      "[CV] learning_rate=1e-05, algorithm=SAMME, n_estimators=400 ..........\n",
      "[CV]  learning_rate=1e-05, algorithm=SAMME, n_estimators=400, score=0.779874213836478, total=   0.0s\n",
      "[CV]  learning_rate=1e-05, algorithm=SAMME.R, n_estimators=400, score=0.7375, total=   0.1s\n",
      "[CV] learning_rate=0.0001, algorithm=SAMME, n_estimators=500 .........\n",
      "[CV] learning_rate=0.0001, algorithm=SAMME.R, n_estimators=500 .......\n",
      "[CV]  learning_rate=0.0001, algorithm=SAMME, n_estimators=500, score=0.7080745341614907, total=   0.0s\n",
      "[CV] learning_rate=0.0001, algorithm=SAMME, n_estimators=500 .........\n",
      "[CV]  learning_rate=0.0001, algorithm=SAMME, n_estimators=500, score=0.71875, total=   0.0s\n",
      "[CV] learning_rate=0.0001, algorithm=SAMME, n_estimators=500 .........\n",
      "[CV]  learning_rate=0.1, algorithm=SAMME, n_estimators=400, score=0.7150928167877321, total=   0.1s\n",
      "[CV] learning_rate=1, algorithm=SAMME, n_estimators=500 ..............\n",
      "[CV]  learning_rate=0.0001, algorithm=SAMME, n_estimators=500, score=0.71875, total=   0.0s\n",
      "[CV] learning_rate=0.0001, algorithm=SAMME, n_estimators=500 .........\n",
      "[CV]  learning_rate=0.001, algorithm=SAMME, n_estimators=500, score=0.7295440349781387, total=   0.1s\n",
      "[CV] learning_rate=0.001, algorithm=SAMME, n_estimators=500 ..........\n",
      "[CV]  learning_rate=0.0001, algorithm=SAMME, n_estimators=500, score=0.73125, total=   0.0s\n",
      "[CV] learning_rate=0.0001, algorithm=SAMME, n_estimators=500 .........\n",
      "[CV]  learning_rate=0.0001, algorithm=SAMME.R, n_estimators=500, score=0.7306818181818182, total=   0.1s\n",
      "[CV] learning_rate=0.0001, algorithm=SAMME.R, n_estimators=500 .......\n",
      "[CV]  learning_rate=0.0001, algorithm=SAMME, n_estimators=500, score=0.7861635220125787, total=   0.0s\n",
      "[CV] learning_rate=0.0001, algorithm=SAMME, n_estimators=400 .........\n",
      "[CV]  learning_rate=0.0001, algorithm=SAMME, n_estimators=400, score=0.6956521739130435, total=   0.0s\n",
      "[CV] learning_rate=0.0001, algorithm=SAMME, n_estimators=400 .........\n",
      "[CV]  learning_rate=0.0001, algorithm=SAMME, n_estimators=400, score=0.71875, total=   0.0s\n",
      "[CV] learning_rate=0.0001, algorithm=SAMME, n_estimators=400 .........\n",
      "[CV]  learning_rate=0.0001, algorithm=SAMME, n_estimators=400, score=0.7125, total=   0.0s\n",
      "[CV] learning_rate=0.0001, algorithm=SAMME, n_estimators=400 .........\n",
      "[CV]  learning_rate=0.0001, algorithm=SAMME.R, n_estimators=500, score=0.7329545454545454, total=   0.1s\n",
      "[CV]  learning_rate=1, algorithm=SAMME, n_estimators=500, score=0.7356970185334408, total=   0.1s\n",
      "[CV] learning_rate=0.0001, algorithm=SAMME.R, n_estimators=500 .......\n",
      "[CV]  learning_rate=0.0001, algorithm=SAMME, n_estimators=400, score=0.71875, total=   0.0s\n",
      "[CV] learning_rate=1, algorithm=SAMME, n_estimators=500 ..............\n",
      "[CV] learning_rate=0.0001, algorithm=SAMME, n_estimators=400 .........\n",
      "[CV]  learning_rate=0.0001, algorithm=SAMME, n_estimators=400, score=0.7421383647798742, total=   0.0s\n",
      "[CV] learning_rate=0.001, algorithm=SAMME, n_estimators=500 ..........\n",
      "[CV]  learning_rate=0.001, algorithm=SAMME, n_estimators=500, score=0.7142857142857143, total=   0.0s\n",
      "[CV] learning_rate=0.001, algorithm=SAMME, n_estimators=500 ..........\n",
      "[CV]  learning_rate=0.001, algorithm=SAMME, n_estimators=500, score=0.73125, total=   0.0s\n",
      "[CV] learning_rate=0.001, algorithm=SAMME, n_estimators=500 ..........\n",
      "[CV]  learning_rate=0.001, algorithm=SAMME, n_estimators=500, score=0.71875, total=   0.0s\n",
      "[CV]  learning_rate=0.001, algorithm=SAMME, n_estimators=500, score=0.721875, total=   0.2s\n",
      "[CV] learning_rate=0.001, algorithm=SAMME, n_estimators=500 ..........\n",
      "[CV] learning_rate=0.001, algorithm=SAMME, n_estimators=500 ..........\n",
      "[CV]  learning_rate=0.0001, algorithm=SAMME.R, n_estimators=500, score=0.7170454545454545, total=   0.1s\n",
      "[CV] learning_rate=0.0001, algorithm=SAMME.R, n_estimators=500 .......\n",
      "[CV]  learning_rate=0.001, algorithm=SAMME, n_estimators=500, score=0.7375, total=   0.0s\n",
      "[CV] learning_rate=0.001, algorithm=SAMME, n_estimators=500 ..........\n",
      "[CV]  learning_rate=0.001, algorithm=SAMME, n_estimators=500, score=0.7610062893081762, total=   0.0s\n",
      "[CV] learning_rate=0.001, algorithm=SAMME, n_estimators=400 ..........\n",
      "[CV]  learning_rate=1, algorithm=SAMME, n_estimators=500, score=0.7241935483870968, total=   0.1s\n",
      "[CV] learning_rate=1, algorithm=SAMME, n_estimators=500 ..............\n",
      "[CV]  learning_rate=0.001, algorithm=SAMME, n_estimators=400, score=0.7080745341614907, total=   0.0s\n",
      "[CV] learning_rate=0.001, algorithm=SAMME, n_estimators=400 ..........\n",
      "[CV]  learning_rate=0.001, algorithm=SAMME, n_estimators=400, score=0.73125, total=   0.0s\n",
      "[CV] learning_rate=0.001, algorithm=SAMME, n_estimators=400 ..........\n",
      "[CV]  learning_rate=0.001, algorithm=SAMME, n_estimators=400, score=0.73125, total=   0.0s\n",
      "[CV] learning_rate=0.001, algorithm=SAMME, n_estimators=400 ..........\n",
      "[CV]  learning_rate=0.0001, algorithm=SAMME.R, n_estimators=500, score=0.7295454545454545, total=   0.1s\n",
      "[CV] learning_rate=0.0001, algorithm=SAMME.R, n_estimators=500 .......\n",
      "[CV]  learning_rate=0.001, algorithm=SAMME, n_estimators=400, score=0.725, total=   0.0s\n",
      "[CV] learning_rate=0.001, algorithm=SAMME, n_estimators=400 ..........\n",
      "[CV]  learning_rate=0.001, algorithm=SAMME, n_estimators=400, score=0.7861635220125787, total=   0.0s\n",
      "[CV] learning_rate=0.01, algorithm=SAMME, n_estimators=500 ...........\n",
      "[CV]  learning_rate=0.01, algorithm=SAMME, n_estimators=500, score=0.6956521739130435, total=   0.0s\n",
      "[CV] learning_rate=0.01, algorithm=SAMME, n_estimators=500 ...........\n",
      "[CV]  learning_rate=0.001, algorithm=SAMME, n_estimators=500, score=0.7135709818636647, total=   0.1s\n",
      "[CV]  learning_rate=1, algorithm=SAMME, n_estimators=500, score=0.7379032258064516, total=   0.1s\n",
      "[CV] learning_rate=0.001, algorithm=SAMME, n_estimators=500 ..........\n",
      "[CV] learning_rate=1, algorithm=SAMME, n_estimators=500 ..............\n",
      "[CV]  learning_rate=0.01, algorithm=SAMME, n_estimators=500, score=0.73125, total=   0.0s\n",
      "[CV] learning_rate=0.01, algorithm=SAMME, n_estimators=500 ...........\n",
      "[CV]  learning_rate=0.01, algorithm=SAMME, n_estimators=500, score=0.73125, total=   0.0s\n",
      "[CV] learning_rate=0.01, algorithm=SAMME, n_estimators=500 ...........\n",
      "[CV]  learning_rate=0.0001, algorithm=SAMME.R, n_estimators=500, score=0.7375, total=   0.1s\n",
      "[CV] learning_rate=0.0001, algorithm=SAMME.R, n_estimators=400 .......\n",
      "[CV]  learning_rate=0.01, algorithm=SAMME, n_estimators=500, score=0.725, total=   0.0s\n",
      "[CV] learning_rate=0.01, algorithm=SAMME, n_estimators=500 ...........\n",
      "[CV]  learning_rate=0.01, algorithm=SAMME, n_estimators=500, score=0.7421383647798742, total=   0.0s\n",
      "[CV] learning_rate=0.01, algorithm=SAMME, n_estimators=400 ...........\n",
      "[CV]  learning_rate=0.01, algorithm=SAMME, n_estimators=400, score=0.7018633540372671, total=   0.0s\n",
      "[CV] learning_rate=0.01, algorithm=SAMME, n_estimators=400 ...........\n",
      "[CV]  learning_rate=0.01, algorithm=SAMME, n_estimators=400, score=0.7375, total=   0.0s\n",
      "[CV] learning_rate=0.01, algorithm=SAMME, n_estimators=400 ...........\n",
      "[CV]  learning_rate=0.0001, algorithm=SAMME.R, n_estimators=400, score=0.7295454545454545, total=   0.1s\n",
      "[CV]  learning_rate=0.01, algorithm=SAMME, n_estimators=400, score=0.7125, total=   0.0s\n",
      "[CV]  learning_rate=1, algorithm=SAMME, n_estimators=500, score=0.7258064516129032, total=   0.1s\n",
      "[CV] learning_rate=0.0001, algorithm=SAMME.R, n_estimators=400 .......\n",
      "[CV] learning_rate=0.01, algorithm=SAMME, n_estimators=400 ...........\n",
      "[CV] learning_rate=1, algorithm=SAMME, n_estimators=500 ..............\n",
      "[CV]  learning_rate=0.01, algorithm=SAMME, n_estimators=400, score=0.725, total=   0.0s\n",
      "[CV] learning_rate=0.01, algorithm=SAMME, n_estimators=400 ...........\n",
      "[CV]  learning_rate=0.01, algorithm=SAMME, n_estimators=400, score=0.7735849056603774, total=   0.0s\n",
      "[CV] learning_rate=0.1, algorithm=SAMME, n_estimators=500 ............\n",
      "[CV]  learning_rate=0.001, algorithm=SAMME, n_estimators=500, score=0.7248280175109444, total=   0.2s\n",
      "[CV]  learning_rate=0.1, algorithm=SAMME, n_estimators=500, score=0.7018633540372671, total=   0.0s\n",
      "[CV] learning_rate=0.1, algorithm=SAMME, n_estimators=500 ............\n",
      "[CV] learning_rate=0.001, algorithm=SAMME, n_estimators=400 ..........\n",
      "[CV]  learning_rate=0.1, algorithm=SAMME, n_estimators=500, score=0.69375, total=   0.0s\n",
      "[CV]  learning_rate=0.0001, algorithm=SAMME.R, n_estimators=400, score=0.7431818181818182, total=   0.1s\n",
      "[CV] learning_rate=0.1, algorithm=SAMME, n_estimators=500 ............\n",
      "[CV] learning_rate=0.0001, algorithm=SAMME.R, n_estimators=400 .......\n",
      "[CV]  learning_rate=0.1, algorithm=SAMME, n_estimators=500, score=0.73125, total=   0.0s\n",
      "[CV] learning_rate=0.1, algorithm=SAMME, n_estimators=500 ............\n",
      "[CV]  learning_rate=0.1, algorithm=SAMME, n_estimators=500, score=0.7375, total=   0.0s\n",
      "[CV] learning_rate=0.1, algorithm=SAMME, n_estimators=500 ............\n",
      "[CV]  learning_rate=1, algorithm=SAMME, n_estimators=500, score=0.7150928167877321, total=   0.1s\n",
      "[CV] learning_rate=1, algorithm=SAMME, n_estimators=400 ..............\n",
      "[CV]  learning_rate=0.1, algorithm=SAMME, n_estimators=500, score=0.779874213836478, total=   0.0s\n",
      "[CV] learning_rate=0.1, algorithm=SAMME, n_estimators=400 ............\n",
      "[CV]  learning_rate=0.1, algorithm=SAMME, n_estimators=400, score=0.7267080745341615, total=   0.0s\n",
      "[CV] learning_rate=0.1, algorithm=SAMME, n_estimators=400 ............\n",
      "[CV]  learning_rate=0.1, algorithm=SAMME, n_estimators=400, score=0.75, total=   0.0s\n",
      "[CV]  learning_rate=0.0001, algorithm=SAMME.R, n_estimators=400, score=0.7284090909090909, total=   0.1s\n",
      "[CV] learning_rate=0.1, algorithm=SAMME, n_estimators=400 ............\n",
      "[CV] learning_rate=0.0001, algorithm=SAMME.R, n_estimators=400 .......\n",
      "[CV]  learning_rate=0.1, algorithm=SAMME, n_estimators=400, score=0.75, total=   0.0s\n",
      "[CV] learning_rate=0.1, algorithm=SAMME, n_estimators=400 ............\n",
      "[CV]  learning_rate=0.1, algorithm=SAMME, n_estimators=400, score=0.7375, total=   0.0s\n",
      "[CV] learning_rate=0.1, algorithm=SAMME, n_estimators=400 ............\n",
      "[CV]  learning_rate=0.1, algorithm=SAMME, n_estimators=400, score=0.7610062893081762, total=   0.0s\n",
      "[CV] learning_rate=1, algorithm=SAMME, n_estimators=500 ..............\n",
      "[CV]  learning_rate=0.001, algorithm=SAMME, n_estimators=400, score=0.7282948157401624, total=   0.1s\n",
      "[CV] learning_rate=0.001, algorithm=SAMME, n_estimators=400 ..........\n",
      "[CV]  learning_rate=1, algorithm=SAMME, n_estimators=500, score=0.7018633540372671, total=   0.0s\n",
      "[CV]  learning_rate=1, algorithm=SAMME, n_estimators=400, score=0.7252215954875101, total=   0.1s\n",
      "[CV] learning_rate=1, algorithm=SAMME, n_estimators=500 ..............\n",
      "[CV] learning_rate=1, algorithm=SAMME, n_estimators=400 ..............\n",
      "[CV]  learning_rate=0.0001, algorithm=SAMME.R, n_estimators=400, score=0.7488636363636364, total=   0.1s\n",
      "[CV]  learning_rate=1, algorithm=SAMME, n_estimators=500, score=0.73125, total=   0.0s\n",
      "[CV] learning_rate=0.0001, algorithm=SAMME.R, n_estimators=400 .......\n",
      "[CV] learning_rate=1, algorithm=SAMME, n_estimators=500 ..............\n",
      "[CV]  learning_rate=1, algorithm=SAMME, n_estimators=500, score=0.71875, total=   0.0s\n",
      "[CV] learning_rate=1, algorithm=SAMME, n_estimators=500 ..............\n",
      "[CV]  learning_rate=1, algorithm=SAMME, n_estimators=500, score=0.725, total=   0.0s\n",
      "[CV] learning_rate=1, algorithm=SAMME, n_estimators=500 ..............\n",
      "[CV]  learning_rate=1, algorithm=SAMME, n_estimators=500, score=0.7672955974842768, total=   0.0s\n",
      "[CV] learning_rate=1, algorithm=SAMME, n_estimators=400 ..............\n",
      "[CV]  learning_rate=1, algorithm=SAMME, n_estimators=400, score=0.7267080745341615, total=   0.0s\n",
      "[CV] learning_rate=1, algorithm=SAMME, n_estimators=400 ..............\n",
      "[CV]  learning_rate=0.0001, algorithm=SAMME.R, n_estimators=400, score=0.7545454545454545, total=   0.1s\n",
      "[CV]  learning_rate=1, algorithm=SAMME, n_estimators=400, score=0.74375, total=   0.0s\n",
      "[CV] learning_rate=0.001, algorithm=SAMME.R, n_estimators=500 ........\n",
      "[CV] learning_rate=1, algorithm=SAMME, n_estimators=400 ..............\n",
      "[CV]  learning_rate=1, algorithm=SAMME, n_estimators=400, score=0.725, total=   0.0s\n",
      "[CV]  learning_rate=1, algorithm=SAMME, n_estimators=400, score=0.7274193548387097, total=   0.1s\n",
      "[CV] learning_rate=1, algorithm=SAMME, n_estimators=400 ..............\n",
      "[CV] learning_rate=1, algorithm=SAMME, n_estimators=400 ..............\n",
      "[CV]  learning_rate=1, algorithm=SAMME, n_estimators=400, score=0.725, total=   0.0s\n",
      "[CV]  learning_rate=0.001, algorithm=SAMME, n_estimators=400, score=0.7282948157401624, total=   0.1s\n",
      "[CV] learning_rate=1, algorithm=SAMME, n_estimators=400 ..............\n",
      "[CV] learning_rate=0.001, algorithm=SAMME, n_estimators=400 ..........\n",
      "[CV]  learning_rate=1, algorithm=SAMME, n_estimators=400, score=0.7610062893081762, total=   0.0s\n",
      "[CV] learning_rate=1e-05, algorithm=SAMME.R, n_estimators=500 ........\n",
      "[CV]  learning_rate=1e-05, algorithm=SAMME.R, n_estimators=500, score=0.7080745341614907, total=   0.0s\n",
      "[CV] learning_rate=1e-05, algorithm=SAMME.R, n_estimators=500 ........\n",
      "[CV]  learning_rate=0.001, algorithm=SAMME.R, n_estimators=500, score=0.7420454545454546, total=   0.1s\n",
      "[CV] learning_rate=0.001, algorithm=SAMME.R, n_estimators=500 ........\n",
      "[CV]  learning_rate=1e-05, algorithm=SAMME.R, n_estimators=500, score=0.7125, total=   0.0s\n",
      "[CV] learning_rate=1e-05, algorithm=SAMME.R, n_estimators=500 ........\n",
      "[CV]  learning_rate=1e-05, algorithm=SAMME.R, n_estimators=500, score=0.7375, total=   0.0s\n",
      "[CV] learning_rate=1e-05, algorithm=SAMME.R, n_estimators=500 ........\n",
      "[CV]  learning_rate=1e-05, algorithm=SAMME.R, n_estimators=500, score=0.73125, total=   0.0s\n",
      "[CV]  learning_rate=1, algorithm=SAMME, n_estimators=400, score=0.7379032258064516, total=   0.1s\n",
      "[CV] learning_rate=1e-05, algorithm=SAMME.R, n_estimators=500 ........\n",
      "[CV] learning_rate=1, algorithm=SAMME, n_estimators=400 ..............\n",
      "[CV]  learning_rate=1e-05, algorithm=SAMME.R, n_estimators=500, score=0.7610062893081762, total=   0.0s\n",
      "[CV] learning_rate=1e-05, algorithm=SAMME.R, n_estimators=400 ........\n",
      "[CV]  learning_rate=0.001, algorithm=SAMME.R, n_estimators=500, score=0.7261363636363637, total=   0.1s\n",
      "[CV]  learning_rate=1e-05, algorithm=SAMME.R, n_estimators=400, score=0.6956521739130435, total=   0.0s\n",
      "[CV] learning_rate=0.001, algorithm=SAMME.R, n_estimators=500 ........\n",
      "[CV] learning_rate=1e-05, algorithm=SAMME.R, n_estimators=400 ........\n",
      "[CV]  learning_rate=1e-05, algorithm=SAMME.R, n_estimators=400, score=0.70625, total=   0.0s\n",
      "[CV] learning_rate=1e-05, algorithm=SAMME.R, n_estimators=400 ........\n",
      "[CV]  learning_rate=1e-05, algorithm=SAMME.R, n_estimators=400, score=0.725, total=   0.0s\n",
      "[CV] learning_rate=1e-05, algorithm=SAMME.R, n_estimators=400 ........\n",
      "[CV]  learning_rate=0.001, algorithm=SAMME, n_estimators=400, score=0.721875, total=   0.1s\n",
      "[CV] learning_rate=0.001, algorithm=SAMME, n_estimators=400 ..........\n",
      "[CV]  learning_rate=1e-05, algorithm=SAMME.R, n_estimators=400, score=0.71875, total=   0.0s\n",
      "[CV] learning_rate=1e-05, algorithm=SAMME.R, n_estimators=400 ........\n",
      "[CV]  learning_rate=1e-05, algorithm=SAMME.R, n_estimators=400, score=0.779874213836478, total=   0.0s\n",
      "[CV] learning_rate=0.0001, algorithm=SAMME.R, n_estimators=500 .......\n",
      "[CV]  learning_rate=0.001, algorithm=SAMME.R, n_estimators=500, score=0.7125, total=   0.1s\n",
      "[CV] learning_rate=0.001, algorithm=SAMME.R, n_estimators=500 ........\n",
      "[CV]  learning_rate=1, algorithm=SAMME, n_estimators=400, score=0.7258064516129032, total=   0.1s\n",
      "[CV]  learning_rate=0.0001, algorithm=SAMME.R, n_estimators=500, score=0.7329192546583851, total=   0.0s\n",
      "[CV] learning_rate=1, algorithm=SAMME, n_estimators=400 ..............\n",
      "[CV] learning_rate=0.0001, algorithm=SAMME.R, n_estimators=500 .......\n",
      "[CV]  learning_rate=0.0001, algorithm=SAMME.R, n_estimators=500, score=0.73125, total=   0.0s\n",
      "[CV] learning_rate=0.0001, algorithm=SAMME.R, n_estimators=500 .......\n",
      "[CV]  learning_rate=0.0001, algorithm=SAMME.R, n_estimators=500, score=0.73125, total=   0.0s\n",
      "[CV] learning_rate=0.0001, algorithm=SAMME.R, n_estimators=500 .......\n",
      "[CV]  learning_rate=0.0001, algorithm=SAMME.R, n_estimators=500, score=0.73125, total=   0.0s\n",
      "[CV] learning_rate=0.0001, algorithm=SAMME.R, n_estimators=500 .......\n",
      "[CV]  learning_rate=0.0001, algorithm=SAMME.R, n_estimators=500, score=0.7735849056603774, total=   0.0s\n",
      "[CV] learning_rate=0.0001, algorithm=SAMME.R, n_estimators=400 .......\n",
      "[CV]  learning_rate=0.001, algorithm=SAMME.R, n_estimators=500, score=0.7295454545454545, total=   0.1s\n",
      "[CV] learning_rate=0.001, algorithm=SAMME.R, n_estimators=500 ........\n",
      "[CV]  learning_rate=0.0001, algorithm=SAMME.R, n_estimators=400, score=0.7018633540372671, total=   0.0s\n",
      "[CV] learning_rate=0.0001, algorithm=SAMME.R, n_estimators=400 .......\n",
      "[CV]  learning_rate=0.0001, algorithm=SAMME.R, n_estimators=400, score=0.725, total=   0.0s\n",
      "[CV]  learning_rate=0.001, algorithm=SAMME, n_estimators=400, score=0.7185741088180112, total=   0.1s\n",
      "[CV] learning_rate=0.0001, algorithm=SAMME.R, n_estimators=400 .......\n",
      "[CV] learning_rate=0.001, algorithm=SAMME, n_estimators=400 ..........\n",
      "[CV]  learning_rate=1, algorithm=SAMME, n_estimators=400, score=0.711864406779661, total=   0.1s\n",
      "[CV] learning_rate=1e-05, algorithm=SAMME.R, n_estimators=500 ........\n",
      "[CV]  learning_rate=0.0001, algorithm=SAMME.R, n_estimators=400, score=0.70625, total=   0.0s\n",
      "[CV] learning_rate=0.0001, algorithm=SAMME.R, n_estimators=400 .......\n",
      "[CV]  learning_rate=0.0001, algorithm=SAMME.R, n_estimators=400, score=0.725, total=   0.0s\n",
      "[CV] learning_rate=0.0001, algorithm=SAMME.R, n_estimators=400 .......\n",
      "[CV]  learning_rate=0.0001, algorithm=SAMME.R, n_estimators=400, score=0.7672955974842768, total=   0.0s\n",
      "[CV] learning_rate=0.001, algorithm=SAMME.R, n_estimators=500 ........\n",
      "[CV]  learning_rate=0.001, algorithm=SAMME.R, n_estimators=500, score=0.7375, total=   0.1s\n",
      "[CV] learning_rate=0.001, algorithm=SAMME.R, n_estimators=400 ........\n",
      "[CV]  learning_rate=0.001, algorithm=SAMME.R, n_estimators=500, score=0.7453416149068323, total=   0.0s\n",
      "[CV] learning_rate=0.001, algorithm=SAMME.R, n_estimators=500 ........\n",
      "[CV]  learning_rate=0.001, algorithm=SAMME.R, n_estimators=500, score=0.725, total=   0.0s\n",
      "[CV] learning_rate=0.001, algorithm=SAMME.R, n_estimators=500 ........\n",
      "[CV]  learning_rate=0.001, algorithm=SAMME.R, n_estimators=500, score=0.725, total=   0.0s\n",
      "[CV] learning_rate=0.001, algorithm=SAMME.R, n_estimators=500 ........\n",
      "[CV]  learning_rate=0.001, algorithm=SAMME.R, n_estimators=500, score=0.74375, total=   0.0s\n",
      "[CV]  learning_rate=1e-05, algorithm=SAMME.R, n_estimators=500, score=0.7324738114423852, total=   0.1s\n",
      "[CV] learning_rate=0.001, algorithm=SAMME.R, n_estimators=500 ........\n",
      "[CV] learning_rate=1e-05, algorithm=SAMME.R, n_estimators=500 ........\n",
      "[CV]  learning_rate=0.001, algorithm=SAMME.R, n_estimators=500, score=0.7610062893081762, total=   0.0s\n",
      "[CV] learning_rate=0.001, algorithm=SAMME.R, n_estimators=400 ........\n",
      "[CV]  learning_rate=0.001, algorithm=SAMME.R, n_estimators=400, score=0.7306818181818182, total=   0.1s\n",
      "[CV] learning_rate=0.001, algorithm=SAMME.R, n_estimators=400 ........\n",
      "[CV]  learning_rate=0.001, algorithm=SAMME.R, n_estimators=400, score=0.7018633540372671, total=   0.0s\n",
      "[CV] learning_rate=0.001, algorithm=SAMME.R, n_estimators=400 ........\n",
      "[CV]  learning_rate=0.001, algorithm=SAMME, n_estimators=400, score=0.726078799249531, total=   0.2s\n",
      "[CV] learning_rate=0.01, algorithm=SAMME, n_estimators=500 ...........\n",
      "[CV]  learning_rate=0.001, algorithm=SAMME.R, n_estimators=400, score=0.74375, total=   0.0s\n",
      "[CV] learning_rate=0.001, algorithm=SAMME.R, n_estimators=400 ........\n",
      "[CV]  learning_rate=0.001, algorithm=SAMME.R, n_estimators=400, score=0.71875, total=   0.0s\n",
      "[CV] learning_rate=0.001, algorithm=SAMME.R, n_estimators=400 ........\n",
      "[CV]  learning_rate=0.001, algorithm=SAMME.R, n_estimators=400, score=0.71875, total=   0.0s\n",
      "[CV] learning_rate=0.001, algorithm=SAMME.R, n_estimators=400 ........\n",
      "[CV]  learning_rate=0.001, algorithm=SAMME.R, n_estimators=400, score=0.7477272727272727, total=   0.1s\n",
      "[CV] learning_rate=0.001, algorithm=SAMME.R, n_estimators=400 ........\n",
      "[CV]  learning_rate=0.001, algorithm=SAMME.R, n_estimators=400, score=0.7924528301886793, total=   0.0s\n",
      "[CV] learning_rate=0.01, algorithm=SAMME.R, n_estimators=500 .........\n",
      "[CV]  learning_rate=1e-05, algorithm=SAMME.R, n_estimators=500, score=0.7217741935483871, total=   0.1s\n",
      "[CV] learning_rate=1e-05, algorithm=SAMME.R, n_estimators=500 ........\n",
      "[CV]  learning_rate=0.01, algorithm=SAMME.R, n_estimators=500, score=0.7080745341614907, total=   0.0s\n",
      "[CV] learning_rate=0.01, algorithm=SAMME.R, n_estimators=500 .........\n",
      "[CV]  learning_rate=0.01, algorithm=SAMME.R, n_estimators=500, score=0.73125, total=   0.0s\n",
      "[CV] learning_rate=0.01, algorithm=SAMME.R, n_estimators=500 .........\n",
      "[CV]  learning_rate=0.01, algorithm=SAMME.R, n_estimators=500, score=0.725, total=   0.0s\n",
      "[CV] learning_rate=0.01, algorithm=SAMME.R, n_estimators=500 .........\n",
      "[CV]  learning_rate=0.01, algorithm=SAMME.R, n_estimators=500, score=0.725, total=   0.0s\n",
      "[CV] learning_rate=0.01, algorithm=SAMME.R, n_estimators=500 .........\n",
      "[CV]  learning_rate=0.001, algorithm=SAMME.R, n_estimators=400, score=0.7102272727272727, total=   0.1s\n",
      "[CV] learning_rate=0.001, algorithm=SAMME.R, n_estimators=400 ........\n",
      "[CV]  learning_rate=0.01, algorithm=SAMME.R, n_estimators=500, score=0.7610062893081762, total=   0.0s\n",
      "[CV]  learning_rate=0.01, algorithm=SAMME, n_estimators=500, score=0.7370393504059962, total=   0.1s\n",
      "[CV] learning_rate=0.01, algorithm=SAMME.R, n_estimators=400 .........\n",
      "[CV] learning_rate=0.01, algorithm=SAMME, n_estimators=500 ...........\n",
      "[CV]  learning_rate=0.01, algorithm=SAMME.R, n_estimators=400, score=0.7329192546583851, total=   0.0s\n",
      "[CV] learning_rate=0.01, algorithm=SAMME.R, n_estimators=400 .........\n",
      "[CV]  learning_rate=0.01, algorithm=SAMME.R, n_estimators=400, score=0.7125, total=   0.0s\n",
      "[CV]  learning_rate=1e-05, algorithm=SAMME.R, n_estimators=500, score=0.7354838709677419, total=   0.1s\n",
      "[CV] learning_rate=0.01, algorithm=SAMME.R, n_estimators=400 .........\n",
      "[CV] learning_rate=1e-05, algorithm=SAMME.R, n_estimators=500 ........\n",
      "[CV]  learning_rate=0.01, algorithm=SAMME.R, n_estimators=400, score=0.7375, total=   0.0s\n",
      "[CV] learning_rate=0.01, algorithm=SAMME.R, n_estimators=400 .........\n",
      "[CV]  learning_rate=0.01, algorithm=SAMME.R, n_estimators=400, score=0.7125, total=   0.0s\n",
      "[CV] learning_rate=0.01, algorithm=SAMME.R, n_estimators=400 .........\n",
      "[CV]  learning_rate=0.001, algorithm=SAMME.R, n_estimators=400, score=0.740909090909091, total=   0.1s\n",
      "[CV] learning_rate=0.001, algorithm=SAMME.R, n_estimators=400 ........\n",
      "[CV]  learning_rate=0.01, algorithm=SAMME.R, n_estimators=400, score=0.7672955974842768, total=   0.0s\n",
      "[CV] learning_rate=0.1, algorithm=SAMME.R, n_estimators=500 ..........\n",
      "[CV]  learning_rate=0.1, algorithm=SAMME.R, n_estimators=500, score=0.7204968944099379, total=   0.0s\n",
      "[CV] learning_rate=0.1, algorithm=SAMME.R, n_estimators=500 ..........\n",
      "[CV]  learning_rate=0.1, algorithm=SAMME.R, n_estimators=500, score=0.70625, total=   0.0s\n",
      "[CV] learning_rate=0.1, algorithm=SAMME.R, n_estimators=500 ..........\n",
      "[CV]  learning_rate=0.1, algorithm=SAMME.R, n_estimators=500, score=0.74375, total=   0.0s\n",
      "[CV] learning_rate=0.1, algorithm=SAMME.R, n_estimators=500 ..........\n",
      "[CV]  learning_rate=0.01, algorithm=SAMME, n_estimators=500, score=0.726420986883198, total=   0.1s\n",
      "[CV] learning_rate=0.01, algorithm=SAMME, n_estimators=500 ...........\n",
      "[CV]  learning_rate=1e-05, algorithm=SAMME.R, n_estimators=500, score=0.7233870967741935, total=   0.1s\n",
      "[CV]  learning_rate=0.1, algorithm=SAMME.R, n_estimators=500, score=0.7125, total=   0.0s\n",
      "[CV] learning_rate=1e-05, algorithm=SAMME.R, n_estimators=500 ........\n",
      "[CV]  learning_rate=0.001, algorithm=SAMME.R, n_estimators=400, score=0.7363636363636363, total=   0.1s\n",
      "[CV] learning_rate=0.1, algorithm=SAMME.R, n_estimators=500 ..........\n",
      "[CV] learning_rate=0.01, algorithm=SAMME.R, n_estimators=500 .........\n",
      "[CV]  learning_rate=0.1, algorithm=SAMME.R, n_estimators=500, score=0.7672955974842768, total=   0.0s\n",
      "[CV] learning_rate=0.1, algorithm=SAMME.R, n_estimators=400 ..........\n",
      "[CV]  learning_rate=0.1, algorithm=SAMME.R, n_estimators=400, score=0.6956521739130435, total=   0.0s\n",
      "[CV] learning_rate=0.1, algorithm=SAMME.R, n_estimators=400 ..........\n",
      "[CV]  learning_rate=0.1, algorithm=SAMME.R, n_estimators=400, score=0.75, total=   0.0s\n",
      "[CV] learning_rate=0.1, algorithm=SAMME.R, n_estimators=400 ..........\n",
      "[CV]  learning_rate=0.1, algorithm=SAMME.R, n_estimators=400, score=0.725, total=   0.0s\n",
      "[CV] learning_rate=0.1, algorithm=SAMME.R, n_estimators=400 ..........\n",
      "[CV]  learning_rate=0.01, algorithm=SAMME.R, n_estimators=500, score=0.7227272727272728, total=   0.1s\n",
      "[CV] learning_rate=0.01, algorithm=SAMME.R, n_estimators=500 .........\n",
      "[CV]  learning_rate=0.1, algorithm=SAMME.R, n_estimators=400, score=0.7375, total=   0.0s\n",
      "[CV] learning_rate=0.1, algorithm=SAMME.R, n_estimators=400 ..........\n",
      "[CV]  learning_rate=0.1, algorithm=SAMME.R, n_estimators=400, score=0.7484276729559748, total=   0.0s\n",
      "[CV] learning_rate=1, algorithm=SAMME.R, n_estimators=500 ............\n",
      "[CV]  learning_rate=1e-05, algorithm=SAMME.R, n_estimators=500, score=0.7110573042776432, total=   0.1s\n",
      "[CV] learning_rate=1e-05, algorithm=SAMME.R, n_estimators=400 ........\n",
      "[CV]  learning_rate=1, algorithm=SAMME.R, n_estimators=500, score=0.7329192546583851, total=   0.0s\n",
      "[CV] learning_rate=1, algorithm=SAMME.R, n_estimators=500 ............\n",
      "[CV]  learning_rate=1, algorithm=SAMME.R, n_estimators=500, score=0.725, total=   0.0s\n",
      "[CV] learning_rate=1, algorithm=SAMME.R, n_estimators=500 ............\n",
      "[CV]  learning_rate=0.01, algorithm=SAMME.R, n_estimators=500, score=0.7272727272727273, total=   0.1s\n",
      "[CV] learning_rate=0.01, algorithm=SAMME.R, n_estimators=500 .........\n",
      "[CV]  learning_rate=1, algorithm=SAMME.R, n_estimators=500, score=0.73125, total=   0.0s\n",
      "[CV] learning_rate=1, algorithm=SAMME.R, n_estimators=500 ............\n",
      "[CV]  learning_rate=0.01, algorithm=SAMME, n_estimators=500, score=0.723125, total=   0.2s\n",
      "[CV] learning_rate=0.01, algorithm=SAMME, n_estimators=500 ...........\n",
      "[CV]  learning_rate=1, algorithm=SAMME.R, n_estimators=500, score=0.71875, total=   0.0s\n",
      "[CV] learning_rate=1, algorithm=SAMME.R, n_estimators=500 ............\n",
      "[CV]  learning_rate=1, algorithm=SAMME.R, n_estimators=500, score=0.7610062893081762, total=   0.0s\n",
      "[CV] learning_rate=1, algorithm=SAMME.R, n_estimators=400 ............\n",
      "[CV]  learning_rate=1, algorithm=SAMME.R, n_estimators=400, score=0.6956521739130435, total=   0.0s\n",
      "[CV] learning_rate=1, algorithm=SAMME.R, n_estimators=400 ............\n",
      "[CV]  learning_rate=1, algorithm=SAMME.R, n_estimators=400, score=0.69375, total=   0.0s\n",
      "[CV]  learning_rate=1e-05, algorithm=SAMME.R, n_estimators=400, score=0.7268331990330379, total=   0.1s\n",
      "[CV] learning_rate=1, algorithm=SAMME.R, n_estimators=400 ............\n",
      "[CV] learning_rate=1e-05, algorithm=SAMME.R, n_estimators=400 ........\n",
      "[CV]  learning_rate=0.01, algorithm=SAMME.R, n_estimators=500, score=0.7125, total=   0.1s\n",
      "[CV] learning_rate=0.01, algorithm=SAMME.R, n_estimators=500 .........\n",
      "[CV]  learning_rate=1, algorithm=SAMME.R, n_estimators=400, score=0.71875, total=   0.0s\n",
      "[CV] learning_rate=1, algorithm=SAMME.R, n_estimators=400 ............\n",
      "[CV]  learning_rate=1, algorithm=SAMME.R, n_estimators=400, score=0.73125, total=   0.0s\n",
      "[CV] learning_rate=1, algorithm=SAMME.R, n_estimators=400 ............\n",
      "[CV]  learning_rate=1, algorithm=SAMME.R, n_estimators=400, score=0.7547169811320755, total=   0.0s\n"
     ]
    },
    {
     "name": "stderr",
     "output_type": "stream",
     "text": [
      "[Parallel(n_jobs=-1)]: Done 120 out of 120 | elapsed:    2.1s finished\n"
     ]
    },
    {
     "name": "stdout",
     "output_type": "stream",
     "text": [
      "Fitting 5 folds for each of 24 candidates, totalling 120 fits\n",
      "[CV]  learning_rate=0.01, algorithm=SAMME, n_estimators=500, score=0.7141963727329581, total=   0.1s\n"
     ]
    },
    {
     "name": "stderr",
     "output_type": "stream",
     "text": [
      "/Users/gali/anaconda/envs/carnd-term1/lib/python3.5/site-packages/sklearn/externals/joblib/parallel.py:547: UserWarning: Multiprocessing-backed parallel loops cannot be nested, setting n_jobs=1\n",
      "  **self._backend_args)\n"
     ]
    },
    {
     "name": "stdout",
     "output_type": "stream",
     "text": [
      "[CV] learning_rate=0.01, algorithm=SAMME, n_estimators=500 ...........\n",
      "[CV] learning_rate=1e-05, algorithm=SAMME, n_estimators=500 ..........\n",
      "[CV]  learning_rate=0.01, algorithm=SAMME.R, n_estimators=500, score=0.7477272727272727, total=   0.1s\n",
      "[CV] learning_rate=0.01, algorithm=SAMME.R, n_estimators=500 .........\n",
      "[CV]  learning_rate=1e-05, algorithm=SAMME.R, n_estimators=400, score=0.7209677419354839, total=   0.1s\n",
      "[CV] learning_rate=1e-05, algorithm=SAMME.R, n_estimators=400 ........\n",
      "[CV]  learning_rate=1e-05, algorithm=SAMME, n_estimators=500, score=0.744721689059501, total=   0.0s\n"
     ]
    },
    {
     "name": "stderr",
     "output_type": "stream",
     "text": [
      "[Parallel(n_jobs=-1)]: Done   1 out of   1 | elapsed:    0.0s remaining:    0.0s\n"
     ]
    },
    {
     "name": "stdout",
     "output_type": "stream",
     "text": [
      "[CV] learning_rate=1e-05, algorithm=SAMME, n_estimators=500 ..........\n",
      "[CV]  learning_rate=1e-05, algorithm=SAMME, n_estimators=500, score=0.746641074856046, total=   0.0s\n",
      "[CV]  learning_rate=0.01, algorithm=SAMME.R, n_estimators=500, score=0.7443181818181818, total=   0.1s\n"
     ]
    },
    {
     "name": "stderr",
     "output_type": "stream",
     "text": [
      "[Parallel(n_jobs=-1)]: Done   2 out of   2 | elapsed:    0.1s remaining:    0.0s\n"
     ]
    },
    {
     "name": "stdout",
     "output_type": "stream",
     "text": [
      "[CV] learning_rate=0.01, algorithm=SAMME.R, n_estimators=400 .........\n",
      "[CV] learning_rate=1e-05, algorithm=SAMME, n_estimators=500 ..........\n",
      "[CV]  learning_rate=1e-05, algorithm=SAMME, n_estimators=500, score=0.7442307692307693, total=   0.0s\n",
      "[CV]  learning_rate=1e-05, algorithm=SAMME.R, n_estimators=400, score=0.7362903225806452, total=   0.1s\n"
     ]
    },
    {
     "name": "stderr",
     "output_type": "stream",
     "text": [
      "[Parallel(n_jobs=-1)]: Done   3 out of   3 | elapsed:    0.1s remaining:    0.0s\n"
     ]
    },
    {
     "name": "stdout",
     "output_type": "stream",
     "text": [
      "[CV] learning_rate=1e-05, algorithm=SAMME.R, n_estimators=400 ........\n",
      "[CV] learning_rate=1e-05, algorithm=SAMME, n_estimators=500 ..........\n",
      "[CV]  learning_rate=0.01, algorithm=SAMME, n_estimators=500, score=0.7154471544715447, total=   0.2s\n",
      "[CV] learning_rate=0.01, algorithm=SAMME, n_estimators=400 ...........\n",
      "[CV]  learning_rate=0.01, algorithm=SAMME.R, n_estimators=400, score=0.7238636363636364, total=   0.1s\n",
      "[CV] learning_rate=0.01, algorithm=SAMME.R, n_estimators=400 .........\n",
      "[CV]  learning_rate=1e-05, algorithm=SAMME, n_estimators=500, score=0.7090558766859345, total=   0.1s\n"
     ]
    },
    {
     "name": "stderr",
     "output_type": "stream",
     "text": [
      "[Parallel(n_jobs=-1)]: Done   4 out of   4 | elapsed:    0.2s remaining:    0.0s\n"
     ]
    },
    {
     "name": "stdout",
     "output_type": "stream",
     "text": [
      "[CV] learning_rate=1e-05, algorithm=SAMME, n_estimators=500 ..........\n",
      "[CV]  learning_rate=1e-05, algorithm=SAMME, n_estimators=500, score=0.74373795761079, total=   0.0s\n"
     ]
    },
    {
     "name": "stderr",
     "output_type": "stream",
     "text": [
      "[Parallel(n_jobs=-1)]: Done   5 out of   5 | elapsed:    0.3s remaining:    0.0s\n"
     ]
    },
    {
     "name": "stdout",
     "output_type": "stream",
     "text": [
      "[CV] learning_rate=1e-05, algorithm=SAMME, n_estimators=400 ..........\n",
      "[CV]  learning_rate=0.01, algorithm=SAMME.R, n_estimators=400, score=0.7329545454545454, total=   0.1s\n",
      "[CV] learning_rate=0.01, algorithm=SAMME.R, n_estimators=400 .........\n",
      "[CV]  learning_rate=1e-05, algorithm=SAMME.R, n_estimators=400, score=0.7298387096774194, total=   0.2s\n",
      "[CV] learning_rate=1e-05, algorithm=SAMME.R, n_estimators=400 ........\n",
      "[CV]  learning_rate=1e-05, algorithm=SAMME, n_estimators=400, score=0.7504798464491362, total=   0.0s\n"
     ]
    },
    {
     "name": "stderr",
     "output_type": "stream",
     "text": [
      "[Parallel(n_jobs=-1)]: Done   6 out of   6 | elapsed:    0.3s remaining:    0.0s\n"
     ]
    },
    {
     "name": "stdout",
     "output_type": "stream",
     "text": [
      "[CV] learning_rate=1e-05, algorithm=SAMME, n_estimators=400 ..........\n",
      "[CV]  learning_rate=1e-05, algorithm=SAMME, n_estimators=400, score=0.7562380038387716, total=   0.0s\n"
     ]
    },
    {
     "name": "stderr",
     "output_type": "stream",
     "text": [
      "[Parallel(n_jobs=-1)]: Done   7 out of   7 | elapsed:    0.4s remaining:    0.0s\n"
     ]
    },
    {
     "name": "stdout",
     "output_type": "stream",
     "text": [
      "[CV] learning_rate=1e-05, algorithm=SAMME, n_estimators=400 ..........\n",
      "[CV]  learning_rate=0.01, algorithm=SAMME, n_estimators=400, score=0.7345409119300437, total=   0.2s\n",
      "[CV] learning_rate=0.01, algorithm=SAMME, n_estimators=400 ...........\n",
      "[CV]  learning_rate=0.01, algorithm=SAMME.R, n_estimators=400, score=0.725, total=   0.1s\n",
      "[CV] learning_rate=0.01, algorithm=SAMME.R, n_estimators=400 .........\n",
      "[CV]  learning_rate=1e-05, algorithm=SAMME, n_estimators=400, score=0.7615384615384615, total=   0.0s\n"
     ]
    },
    {
     "name": "stderr",
     "output_type": "stream",
     "text": [
      "[Parallel(n_jobs=-1)]: Done   8 out of   8 | elapsed:    0.4s remaining:    0.0s\n"
     ]
    },
    {
     "name": "stdout",
     "output_type": "stream",
     "text": [
      "[CV] learning_rate=1e-05, algorithm=SAMME, n_estimators=400 ..........\n",
      "[CV]  learning_rate=1e-05, algorithm=SAMME.R, n_estimators=400, score=0.7167070217917676, total=   0.1s\n",
      "[CV] learning_rate=0.0001, algorithm=SAMME.R, n_estimators=500 .......\n",
      "[CV]  learning_rate=1e-05, algorithm=SAMME, n_estimators=400, score=0.7129094412331407, total=   0.0s\n"
     ]
    },
    {
     "name": "stderr",
     "output_type": "stream",
     "text": [
      "[Parallel(n_jobs=-1)]: Done   9 out of   9 | elapsed:    0.5s remaining:    0.0s\n"
     ]
    },
    {
     "name": "stdout",
     "output_type": "stream",
     "text": [
      "[CV] learning_rate=1e-05, algorithm=SAMME, n_estimators=400 ..........\n",
      "[CV]  learning_rate=0.01, algorithm=SAMME.R, n_estimators=400, score=0.7454545454545455, total=   0.1s\n",
      "[CV] learning_rate=0.01, algorithm=SAMME.R, n_estimators=400 .........\n",
      "[CV]  learning_rate=1e-05, algorithm=SAMME, n_estimators=400, score=0.7456647398843931, total=   0.0s\n",
      "[CV] learning_rate=0.0001, algorithm=SAMME, n_estimators=500 .........\n",
      "[CV]  learning_rate=0.01, algorithm=SAMME, n_estimators=400, score=0.7282948157401624, total=   0.1s\n",
      "[CV] learning_rate=0.01, algorithm=SAMME, n_estimators=400 ...........\n",
      "[CV]  learning_rate=0.0001, algorithm=SAMME.R, n_estimators=500, score=0.7284448025785657, total=   0.1s\n",
      "[CV] learning_rate=0.0001, algorithm=SAMME.R, n_estimators=500 .......\n",
      "[CV]  learning_rate=0.0001, algorithm=SAMME, n_estimators=500, score=0.7351247600767754, total=   0.0s\n",
      "[CV] learning_rate=0.0001, algorithm=SAMME, n_estimators=500 .........\n",
      "[CV]  learning_rate=0.01, algorithm=SAMME.R, n_estimators=400, score=0.7340909090909091, total=   0.1s\n",
      "[CV] learning_rate=0.1, algorithm=SAMME.R, n_estimators=500 ..........\n",
      "[CV]  learning_rate=0.0001, algorithm=SAMME, n_estimators=500, score=0.7389635316698656, total=   0.0s\n",
      "[CV] learning_rate=0.0001, algorithm=SAMME, n_estimators=500 .........\n",
      "[CV]  learning_rate=0.0001, algorithm=SAMME, n_estimators=500, score=0.7480769230769231, total=   0.0s\n",
      "[CV] learning_rate=0.0001, algorithm=SAMME, n_estimators=500 .........\n",
      "[CV]  learning_rate=0.1, algorithm=SAMME.R, n_estimators=500, score=0.7284090909090909, total=   0.1s\n",
      "[CV] learning_rate=0.1, algorithm=SAMME.R, n_estimators=500 ..........\n",
      "[CV]  learning_rate=0.0001, algorithm=SAMME.R, n_estimators=500, score=0.714516129032258, total=   0.1s\n",
      "[CV] learning_rate=0.0001, algorithm=SAMME.R, n_estimators=500 .......\n",
      "[CV]  learning_rate=0.0001, algorithm=SAMME, n_estimators=500, score=0.7321772639691715, total=   0.0s\n",
      "[CV] learning_rate=0.0001, algorithm=SAMME, n_estimators=500 .........\n",
      "[CV]  learning_rate=0.01, algorithm=SAMME, n_estimators=400, score=0.72125, total=   0.1s\n",
      "[CV] learning_rate=0.01, algorithm=SAMME, n_estimators=400 ...........\n",
      "[CV]  learning_rate=0.1, algorithm=SAMME.R, n_estimators=500, score=0.7284090909090909, total=   0.1s\n",
      "[CV] learning_rate=0.1, algorithm=SAMME.R, n_estimators=500 ..........\n",
      "[CV]  learning_rate=0.0001, algorithm=SAMME, n_estimators=500, score=0.7360308285163777, total=   0.0s\n",
      "[CV] learning_rate=0.0001, algorithm=SAMME, n_estimators=400 .........\n",
      "[CV]  learning_rate=0.0001, algorithm=SAMME.R, n_estimators=500, score=0.7354838709677419, total=   0.1s\n",
      "[CV] learning_rate=0.0001, algorithm=SAMME.R, n_estimators=500 .......\n",
      "[CV]  learning_rate=0.0001, algorithm=SAMME, n_estimators=400, score=0.7485604606525912, total=   0.0s\n",
      "[CV] learning_rate=0.0001, algorithm=SAMME, n_estimators=400 .........\n",
      "[CV]  learning_rate=0.1, algorithm=SAMME.R, n_estimators=500, score=0.7204545454545455, total=   0.1s\n",
      "[CV] learning_rate=0.1, algorithm=SAMME.R, n_estimators=500 ..........\n",
      "[CV]  learning_rate=0.0001, algorithm=SAMME, n_estimators=400, score=0.7389635316698656, total=   0.0s\n",
      "[CV] learning_rate=0.0001, algorithm=SAMME, n_estimators=400 .........\n",
      "[CV]  learning_rate=0.01, algorithm=SAMME, n_estimators=400, score=0.7116948092557849, total=   0.1s\n",
      "[CV] learning_rate=0.01, algorithm=SAMME, n_estimators=400 ...........\n",
      "[CV]  learning_rate=0.0001, algorithm=SAMME, n_estimators=400, score=0.7461538461538462, total=   0.0s\n",
      "[CV] learning_rate=0.0001, algorithm=SAMME, n_estimators=400 .........\n",
      "[CV]  learning_rate=0.1, algorithm=SAMME.R, n_estimators=500, score=0.7261363636363637, total=   0.1s\n",
      "[CV] learning_rate=0.1, algorithm=SAMME.R, n_estimators=500 ..........\n",
      "[CV]  learning_rate=0.0001, algorithm=SAMME.R, n_estimators=500, score=0.725, total=   0.1s\n",
      "[CV] learning_rate=0.0001, algorithm=SAMME.R, n_estimators=500 .......\n",
      "[CV]  learning_rate=0.0001, algorithm=SAMME, n_estimators=400, score=0.7302504816955684, total=   0.0s\n",
      "[CV] learning_rate=0.0001, algorithm=SAMME, n_estimators=400 .........\n",
      "[CV]  learning_rate=0.0001, algorithm=SAMME, n_estimators=400, score=0.7456647398843931, total=   0.0s\n",
      "[CV] learning_rate=0.001, algorithm=SAMME, n_estimators=500 ..........\n",
      "[CV]  learning_rate=0.1, algorithm=SAMME.R, n_estimators=500, score=0.7284090909090909, total=   0.1s\n",
      "[CV] learning_rate=0.1, algorithm=SAMME.R, n_estimators=400 ..........\n",
      "[CV]  learning_rate=0.001, algorithm=SAMME, n_estimators=500, score=0.7408829174664108, total=   0.0s\n",
      "[CV] learning_rate=0.001, algorithm=SAMME, n_estimators=500 ..........\n",
      "[CV]  learning_rate=0.01, algorithm=SAMME, n_estimators=400, score=0.7223264540337712, total=   0.1s\n",
      "[CV] learning_rate=0.1, algorithm=SAMME, n_estimators=500 ............\n",
      "[CV]  learning_rate=0.0001, algorithm=SAMME.R, n_estimators=500, score=0.7150928167877321, total=   0.1s\n",
      "[CV] learning_rate=0.0001, algorithm=SAMME.R, n_estimators=400 .......\n",
      "[CV]  learning_rate=0.001, algorithm=SAMME, n_estimators=500, score=0.7485604606525912, total=   0.0s\n",
      "[CV] learning_rate=0.001, algorithm=SAMME, n_estimators=500 ..........\n",
      "[CV]  learning_rate=0.1, algorithm=SAMME.R, n_estimators=400, score=0.7272727272727273, total=   0.1s\n",
      "[CV] learning_rate=0.1, algorithm=SAMME.R, n_estimators=400 ..........\n",
      "[CV]  learning_rate=0.001, algorithm=SAMME, n_estimators=500, score=0.7423076923076923, total=   0.0s\n",
      "[CV] learning_rate=0.001, algorithm=SAMME, n_estimators=500 ..........\n",
      "[CV]  learning_rate=0.0001, algorithm=SAMME.R, n_estimators=400, score=0.7276390008058018, total=   0.1s\n",
      "[CV] learning_rate=0.0001, algorithm=SAMME.R, n_estimators=400 .......\n",
      "[CV]  learning_rate=0.1, algorithm=SAMME.R, n_estimators=400, score=0.7352272727272727, total=   0.1s\n",
      "[CV] learning_rate=0.1, algorithm=SAMME.R, n_estimators=400 ..........\n",
      "[CV]  learning_rate=0.001, algorithm=SAMME, n_estimators=500, score=0.7244701348747592, total=   0.0s\n",
      "[CV] learning_rate=0.001, algorithm=SAMME, n_estimators=500 ..........\n",
      "[CV]  learning_rate=0.1, algorithm=SAMME, n_estimators=500, score=0.726420986883198, total=   0.1s\n",
      "[CV] learning_rate=0.1, algorithm=SAMME, n_estimators=500 ............\n",
      "[CV]  learning_rate=0.001, algorithm=SAMME, n_estimators=500, score=0.7514450867052023, total=   0.0s\n",
      "[CV] learning_rate=0.001, algorithm=SAMME, n_estimators=400 ..........\n",
      "[CV]  learning_rate=0.1, algorithm=SAMME.R, n_estimators=400, score=0.7125, total=   0.1s\n",
      "[CV] learning_rate=0.1, algorithm=SAMME.R, n_estimators=400 ..........\n",
      "[CV]  learning_rate=0.001, algorithm=SAMME, n_estimators=400, score=0.7428023032629558, total=   0.0s\n",
      "[CV] learning_rate=0.001, algorithm=SAMME, n_estimators=400 ..........\n",
      "[CV]  learning_rate=0.0001, algorithm=SAMME.R, n_estimators=400, score=0.7153225806451613, total=   0.1s\n",
      "[CV] learning_rate=0.0001, algorithm=SAMME.R, n_estimators=400 .......\n",
      "[CV]  learning_rate=0.001, algorithm=SAMME, n_estimators=400, score=0.7428023032629558, total=   0.0s\n",
      "[CV] learning_rate=0.001, algorithm=SAMME, n_estimators=400 ..........\n",
      "[CV]  learning_rate=0.1, algorithm=SAMME.R, n_estimators=400, score=0.7352272727272727, total=   0.1s\n",
      "[CV] learning_rate=0.1, algorithm=SAMME.R, n_estimators=400 ..........\n",
      "[CV]  learning_rate=0.1, algorithm=SAMME, n_estimators=500, score=0.7257963772642099, total=   0.1s\n",
      "[CV]  learning_rate=0.001, algorithm=SAMME, n_estimators=400, score=0.75, total=   0.0s\n",
      "[CV] learning_rate=0.1, algorithm=SAMME, n_estimators=500 ............\n",
      "[CV] learning_rate=0.001, algorithm=SAMME, n_estimators=400 ..........\n",
      "[CV]  learning_rate=0.0001, algorithm=SAMME.R, n_estimators=400, score=0.7443548387096774, total=   0.1s\n",
      "[CV] learning_rate=0.0001, algorithm=SAMME.R, n_estimators=400 .......\n",
      "[CV]  learning_rate=0.001, algorithm=SAMME, n_estimators=400, score=0.7071290944123314, total=   0.0s\n",
      "[CV] learning_rate=0.001, algorithm=SAMME, n_estimators=400 ..........\n",
      "[CV]  learning_rate=0.1, algorithm=SAMME.R, n_estimators=400, score=0.7420454545454546, total=   0.1s\n",
      "[CV] learning_rate=1, algorithm=SAMME.R, n_estimators=500 ............\n",
      "[CV]  learning_rate=0.001, algorithm=SAMME, n_estimators=400, score=0.7398843930635838, total=   0.0s\n",
      "[CV] learning_rate=0.01, algorithm=SAMME, n_estimators=500 ...........\n",
      "[CV]  learning_rate=0.01, algorithm=SAMME, n_estimators=500, score=0.746641074856046, total=   0.0s\n",
      "[CV] learning_rate=0.01, algorithm=SAMME, n_estimators=500 ...........\n",
      "[CV]  learning_rate=1, algorithm=SAMME.R, n_estimators=500, score=0.7227272727272728, total=   0.1s\n",
      "[CV] learning_rate=1, algorithm=SAMME.R, n_estimators=500 ............\n",
      "[CV]  learning_rate=0.0001, algorithm=SAMME.R, n_estimators=400, score=0.7217741935483871, total=   0.1s\n",
      "[CV] learning_rate=0.0001, algorithm=SAMME.R, n_estimators=400 .......\n",
      "[CV]  learning_rate=0.1, algorithm=SAMME, n_estimators=500, score=0.726875, total=   0.1s\n",
      "[CV] learning_rate=0.1, algorithm=SAMME, n_estimators=500 ............\n",
      "[CV]  learning_rate=0.01, algorithm=SAMME, n_estimators=500, score=0.7485604606525912, total=   0.0s\n",
      "[CV] learning_rate=0.01, algorithm=SAMME, n_estimators=500 ...........\n",
      "[CV]  learning_rate=1, algorithm=SAMME.R, n_estimators=500, score=0.7204545454545455, total=   0.1s\n",
      "[CV] learning_rate=1, algorithm=SAMME.R, n_estimators=500 ............\n",
      "[CV]  learning_rate=0.01, algorithm=SAMME, n_estimators=500, score=0.7461538461538462, total=   0.0s\n",
      "[CV] learning_rate=0.01, algorithm=SAMME, n_estimators=500 ...........\n",
      "[CV]  learning_rate=0.01, algorithm=SAMME, n_estimators=500, score=0.7321772639691715, total=   0.0s\n",
      "[CV] learning_rate=0.01, algorithm=SAMME, n_estimators=500 ...........\n",
      "[CV]  learning_rate=0.0001, algorithm=SAMME.R, n_estimators=400, score=0.7150928167877321, total=   0.1s\n",
      "[CV] learning_rate=0.001, algorithm=SAMME.R, n_estimators=500 ........\n",
      "[CV]  learning_rate=1, algorithm=SAMME.R, n_estimators=500, score=0.7215909090909091, total=   0.1s\n",
      "[CV] learning_rate=1, algorithm=SAMME.R, n_estimators=500 ............\n",
      "[CV]  learning_rate=0.01, algorithm=SAMME, n_estimators=500, score=0.74373795761079, total=   0.0s\n",
      "[CV] learning_rate=0.01, algorithm=SAMME, n_estimators=400 ...........\n",
      "[CV]  learning_rate=0.1, algorithm=SAMME, n_estimators=500, score=0.7191994996873046, total=   0.1s\n",
      "[CV] learning_rate=0.1, algorithm=SAMME, n_estimators=500 ............\n",
      "[CV]  learning_rate=0.01, algorithm=SAMME, n_estimators=400, score=0.744721689059501, total=   0.0s\n",
      "[CV] learning_rate=0.01, algorithm=SAMME, n_estimators=400 ...........\n",
      "[CV]  learning_rate=0.001, algorithm=SAMME.R, n_estimators=500, score=0.7365028203062046, total=   0.1s\n",
      "[CV]  learning_rate=1, algorithm=SAMME.R, n_estimators=500, score=0.7284090909090909, total=   0.1s\n",
      "[CV] learning_rate=1, algorithm=SAMME.R, n_estimators=500 ............\n",
      "[CV] learning_rate=0.001, algorithm=SAMME.R, n_estimators=500 ........\n",
      "[CV]  learning_rate=0.01, algorithm=SAMME, n_estimators=400, score=0.7389635316698656, total=   0.0s\n",
      "[CV] learning_rate=0.01, algorithm=SAMME, n_estimators=400 ...........\n",
      "[CV]  learning_rate=0.01, algorithm=SAMME, n_estimators=400, score=0.7384615384615385, total=   0.0s\n",
      "[CV] learning_rate=0.01, algorithm=SAMME, n_estimators=400 ...........\n",
      "[CV]  learning_rate=1, algorithm=SAMME.R, n_estimators=500, score=0.7522727272727273, total=   0.1s\n",
      "[CV] learning_rate=1, algorithm=SAMME.R, n_estimators=400 ............\n",
      "[CV]  learning_rate=0.1, algorithm=SAMME, n_estimators=500, score=0.7166979362101313, total=   0.1s\n",
      "[CV] learning_rate=0.1, algorithm=SAMME, n_estimators=400 ............\n",
      "[CV]  learning_rate=0.01, algorithm=SAMME, n_estimators=400, score=0.7360308285163777, total=   0.0s\n",
      "[CV] learning_rate=0.01, algorithm=SAMME, n_estimators=400 ...........\n",
      "[CV]  learning_rate=0.001, algorithm=SAMME.R, n_estimators=500, score=0.714516129032258, total=   0.1s\n",
      "[CV] learning_rate=0.001, algorithm=SAMME.R, n_estimators=500 ........\n",
      "[CV]  learning_rate=0.01, algorithm=SAMME, n_estimators=400, score=0.7418111753371869, total=   0.0s\n",
      "[CV] learning_rate=0.1, algorithm=SAMME, n_estimators=500 ............\n",
      "[CV]  learning_rate=1, algorithm=SAMME.R, n_estimators=400, score=0.7375, total=   0.1s\n",
      "[CV] learning_rate=1, algorithm=SAMME.R, n_estimators=400 ............\n",
      "[CV]  learning_rate=0.1, algorithm=SAMME, n_estimators=500, score=0.7408829174664108, total=   0.0s\n",
      "[CV] learning_rate=0.1, algorithm=SAMME, n_estimators=500 ............\n",
      "[CV]  learning_rate=0.001, algorithm=SAMME.R, n_estimators=500, score=0.7403225806451613, total=   0.1s\n",
      "[CV] learning_rate=0.001, algorithm=SAMME.R, n_estimators=500 ........\n",
      "[CV]  learning_rate=0.1, algorithm=SAMME, n_estimators=500, score=0.7523992322456814, total=   0.0s\n",
      "[CV] learning_rate=0.1, algorithm=SAMME, n_estimators=500 ............\n",
      "[CV]  learning_rate=1, algorithm=SAMME.R, n_estimators=400, score=0.7295454545454545, total=   0.1s\n",
      "[CV] learning_rate=1, algorithm=SAMME.R, n_estimators=400 ............\n",
      "[CV]  learning_rate=0.1, algorithm=SAMME, n_estimators=400, score=0.7239225484072455, total=   0.1s\n",
      "[CV] learning_rate=0.1, algorithm=SAMME, n_estimators=400 ............\n",
      "[CV]  learning_rate=0.1, algorithm=SAMME, n_estimators=500, score=0.7461538461538462, total=   0.0s\n",
      "[CV] learning_rate=0.1, algorithm=SAMME, n_estimators=500 ............\n",
      "[CV]  learning_rate=1, algorithm=SAMME.R, n_estimators=400, score=0.7125, total=   0.1s\n",
      "[CV]  learning_rate=0.1, algorithm=SAMME, n_estimators=500, score=0.7263969171483622, total=   0.0s\n",
      "[CV] learning_rate=1, algorithm=SAMME.R, n_estimators=400 ............\n",
      "[CV] learning_rate=0.1, algorithm=SAMME, n_estimators=500 ............\n",
      "[CV]  learning_rate=0.001, algorithm=SAMME.R, n_estimators=500, score=0.7201612903225807, total=   0.1s\n",
      "[CV] learning_rate=0.001, algorithm=SAMME.R, n_estimators=500 ........\n",
      "[CV]  learning_rate=0.1, algorithm=SAMME, n_estimators=500, score=0.7360308285163777, total=   0.0s\n",
      "[CV] learning_rate=0.1, algorithm=SAMME, n_estimators=400 ............\n",
      "[CV]  learning_rate=1, algorithm=SAMME.R, n_estimators=400, score=0.7318181818181818, total=   0.1s\n",
      "[CV]  learning_rate=0.1, algorithm=SAMME, n_estimators=400, score=0.7276702061211743, total=   0.1s\n",
      "[CV] learning_rate=1, algorithm=SAMME.R, n_estimators=400 ............\n",
      "[CV] learning_rate=0.1, algorithm=SAMME, n_estimators=400 ............\n",
      "[CV]  learning_rate=0.1, algorithm=SAMME, n_estimators=400, score=0.746641074856046, total=   0.0s\n",
      "[CV] learning_rate=0.1, algorithm=SAMME, n_estimators=400 ............\n",
      "[CV]  learning_rate=0.1, algorithm=SAMME, n_estimators=400, score=0.7523992322456814, total=   0.0s\n",
      "[CV] learning_rate=0.1, algorithm=SAMME, n_estimators=400 ............\n",
      "[CV]  learning_rate=0.001, algorithm=SAMME.R, n_estimators=500, score=0.7199354317998385, total=   0.1s\n",
      "[CV] learning_rate=0.001, algorithm=SAMME.R, n_estimators=400 ........\n",
      "[CV]  learning_rate=1, algorithm=SAMME.R, n_estimators=400, score=0.7477272727272727, total=   0.1s\n"
     ]
    },
    {
     "name": "stderr",
     "output_type": "stream",
     "text": [
      "[Parallel(n_jobs=-1)]: Done 120 out of 120 | elapsed:    9.6s finished\n"
     ]
    },
    {
     "name": "stdout",
     "output_type": "stream",
     "text": [
      "[CV]  learning_rate=0.1, algorithm=SAMME, n_estimators=400, score=0.7423076923076923, total=   0.0s\n",
      "[CV] learning_rate=0.1, algorithm=SAMME, n_estimators=400 ............\n",
      "[CV]  learning_rate=0.1, algorithm=SAMME, n_estimators=400, score=0.7244701348747592, total=   0.0s\n",
      "[CV] learning_rate=0.1, algorithm=SAMME, n_estimators=400 ............\n",
      "[CV]  learning_rate=0.001, algorithm=SAMME.R, n_estimators=400, score=0.7324738114423852, total=   0.1s\n",
      "[CV]  learning_rate=0.1, algorithm=SAMME, n_estimators=400, score=0.718125, total=   0.1s\n",
      "[CV] learning_rate=0.001, algorithm=SAMME.R, n_estimators=400 ........\n",
      "[CV] learning_rate=0.1, algorithm=SAMME, n_estimators=400 ............\n",
      "[CV]  learning_rate=0.1, algorithm=SAMME, n_estimators=400, score=0.7475915221579962, total=   0.0s\n",
      "[CV] learning_rate=1, algorithm=SAMME, n_estimators=500 ..............\n",
      "Fitting 5 folds for each of 24 candidates, totalling 120 fits\n"
     ]
    },
    {
     "name": "stderr",
     "output_type": "stream",
     "text": [
      "/Users/gali/anaconda/envs/carnd-term1/lib/python3.5/site-packages/sklearn/externals/joblib/parallel.py:547: UserWarning: Multiprocessing-backed parallel loops cannot be nested, setting n_jobs=1\n",
      "  **self._backend_args)\n"
     ]
    },
    {
     "name": "stdout",
     "output_type": "stream",
     "text": [
      "[CV] learning_rate=1e-05, algorithm=SAMME, n_estimators=500 ..........\n",
      "[CV]  learning_rate=1, algorithm=SAMME, n_estimators=500, score=0.7428023032629558, total=   0.0s\n",
      "[CV] learning_rate=1, algorithm=SAMME, n_estimators=500 ..............\n",
      "[CV]  learning_rate=1, algorithm=SAMME, n_estimators=500, score=0.744721689059501, total=   0.0s\n",
      "[CV] learning_rate=1, algorithm=SAMME, n_estimators=500 ..............\n",
      "[CV]  learning_rate=1e-05, algorithm=SAMME, n_estimators=500, score=0.7284090909090909, total=   0.1s\n"
     ]
    },
    {
     "name": "stderr",
     "output_type": "stream",
     "text": [
      "[Parallel(n_jobs=-1)]: Done   1 out of   1 | elapsed:    0.1s remaining:    0.0s\n"
     ]
    },
    {
     "name": "stdout",
     "output_type": "stream",
     "text": [
      "[CV] learning_rate=1e-05, algorithm=SAMME, n_estimators=500 ..........\n",
      "[CV]  learning_rate=0.001, algorithm=SAMME.R, n_estimators=400, score=0.7225806451612903, total=   0.1s\n",
      "[CV] learning_rate=0.001, algorithm=SAMME.R, n_estimators=400 ........\n",
      "[CV]  learning_rate=0.1, algorithm=SAMME, n_estimators=400, score=0.7116948092557849, total=   0.1s\n",
      "[CV]  learning_rate=1, algorithm=SAMME, n_estimators=500, score=0.7519230769230769, total=   0.0s\n",
      "[CV] learning_rate=0.1, algorithm=SAMME, n_estimators=400 ............\n",
      "[CV] learning_rate=1, algorithm=SAMME, n_estimators=500 ..............\n",
      "[CV]  learning_rate=1, algorithm=SAMME, n_estimators=500, score=0.7071290944123314, total=   0.0s\n",
      "[CV] learning_rate=1, algorithm=SAMME, n_estimators=500 ..............\n",
      "[CV]  learning_rate=1e-05, algorithm=SAMME, n_estimators=500, score=0.7136363636363636, total=   0.1s\n"
     ]
    },
    {
     "name": "stderr",
     "output_type": "stream",
     "text": [
      "[Parallel(n_jobs=-1)]: Done   2 out of   2 | elapsed:    0.2s remaining:    0.0s\n"
     ]
    },
    {
     "name": "stdout",
     "output_type": "stream",
     "text": [
      "[CV] learning_rate=1e-05, algorithm=SAMME, n_estimators=500 ..........\n",
      "[CV]  learning_rate=0.001, algorithm=SAMME.R, n_estimators=400, score=0.7411290322580645, total=   0.1s\n",
      "[CV] learning_rate=0.001, algorithm=SAMME.R, n_estimators=400 ........\n",
      "[CV]  learning_rate=1, algorithm=SAMME, n_estimators=500, score=0.7533718689788054, total=   0.0s\n",
      "[CV] learning_rate=1, algorithm=SAMME, n_estimators=400 ..............\n",
      "[CV]  learning_rate=1e-05, algorithm=SAMME, n_estimators=500, score=0.7045454545454546, total=   0.1s\n",
      "[CV]  learning_rate=1, algorithm=SAMME, n_estimators=400, score=0.746641074856046, total=   0.0s\n"
     ]
    },
    {
     "name": "stderr",
     "output_type": "stream",
     "text": [
      "[Parallel(n_jobs=-1)]: Done   3 out of   3 | elapsed:    0.2s remaining:    0.0s\n"
     ]
    },
    {
     "name": "stdout",
     "output_type": "stream",
     "text": [
      "[CV] learning_rate=1, algorithm=SAMME, n_estimators=400 ..............\n",
      "[CV] learning_rate=1e-05, algorithm=SAMME, n_estimators=500 ..........\n",
      "[CV]  learning_rate=0.1, algorithm=SAMME, n_estimators=400, score=0.7210756722951845, total=   0.1s\n",
      "[CV] learning_rate=1, algorithm=SAMME, n_estimators=500 ..............\n",
      "[CV]  learning_rate=1, algorithm=SAMME, n_estimators=400, score=0.7428023032629558, total=   0.0s\n",
      "[CV] learning_rate=1, algorithm=SAMME, n_estimators=400 ..............\n",
      "[CV]  learning_rate=0.001, algorithm=SAMME.R, n_estimators=400, score=0.7258064516129032, total=   0.1s\n",
      "[CV] learning_rate=0.001, algorithm=SAMME.R, n_estimators=400 ........\n",
      "[CV]  learning_rate=1e-05, algorithm=SAMME, n_estimators=500, score=0.7068181818181818, total=   0.1s\n"
     ]
    },
    {
     "name": "stderr",
     "output_type": "stream",
     "text": [
      "[Parallel(n_jobs=-1)]: Done   4 out of   4 | elapsed:    0.3s remaining:    0.0s\n"
     ]
    },
    {
     "name": "stdout",
     "output_type": "stream",
     "text": [
      "[CV] learning_rate=1e-05, algorithm=SAMME, n_estimators=500 ..........\n",
      "[CV]  learning_rate=1, algorithm=SAMME, n_estimators=400, score=0.7326923076923076, total=   0.0s\n",
      "[CV] learning_rate=1, algorithm=SAMME, n_estimators=400 ..............\n",
      "[CV]  learning_rate=1, algorithm=SAMME, n_estimators=400, score=0.7167630057803468, total=   0.0s\n",
      "[CV] learning_rate=1, algorithm=SAMME, n_estimators=400 ..............\n",
      "[CV]  learning_rate=1e-05, algorithm=SAMME, n_estimators=500, score=0.7136363636363636, total=   0.1s\n"
     ]
    },
    {
     "name": "stderr",
     "output_type": "stream",
     "text": [
      "[Parallel(n_jobs=-1)]: Done   5 out of   5 | elapsed:    0.4s remaining:    0.0s\n"
     ]
    },
    {
     "name": "stdout",
     "output_type": "stream",
     "text": [
      "[CV] learning_rate=1e-05, algorithm=SAMME, n_estimators=400 ..........\n",
      "[CV]  learning_rate=1, algorithm=SAMME, n_estimators=400, score=0.7321772639691715, total=   0.0s\n",
      "[CV]  learning_rate=0.001, algorithm=SAMME.R, n_estimators=400, score=0.7175141242937854, total=   0.1s\n",
      "[CV] learning_rate=1e-05, algorithm=SAMME.R, n_estimators=500 ........\n",
      "[CV]  learning_rate=1, algorithm=SAMME, n_estimators=500, score=0.7370393504059962, total=   0.1s\n",
      "[CV] learning_rate=0.01, algorithm=SAMME.R, n_estimators=500 .........\n",
      "[CV] learning_rate=1, algorithm=SAMME, n_estimators=500 ..............\n",
      "[CV]  learning_rate=1e-05, algorithm=SAMME.R, n_estimators=500, score=0.7312859884836852, total=   0.0s\n",
      "[CV] learning_rate=1e-05, algorithm=SAMME.R, n_estimators=500 ........\n",
      "[CV]  learning_rate=1e-05, algorithm=SAMME, n_estimators=400, score=0.7363636363636363, total=   0.1s\n"
     ]
    },
    {
     "name": "stderr",
     "output_type": "stream",
     "text": [
      "[Parallel(n_jobs=-1)]: Done   6 out of   6 | elapsed:    0.5s remaining:    0.0s\n"
     ]
    },
    {
     "name": "stdout",
     "output_type": "stream",
     "text": [
      "[CV] learning_rate=1e-05, algorithm=SAMME, n_estimators=400 ..........\n",
      "[CV]  learning_rate=1e-05, algorithm=SAMME.R, n_estimators=500, score=0.744721689059501, total=   0.0s\n",
      "[CV] learning_rate=1e-05, algorithm=SAMME.R, n_estimators=500 ........\n",
      "[CV]  learning_rate=0.01, algorithm=SAMME.R, n_estimators=500, score=0.7268331990330379, total=   0.1s\n",
      "[CV] learning_rate=0.01, algorithm=SAMME.R, n_estimators=500 .........\n",
      "[CV]  learning_rate=1e-05, algorithm=SAMME.R, n_estimators=500, score=0.7538461538461538, total=   0.0s\n",
      "[CV] learning_rate=1e-05, algorithm=SAMME.R, n_estimators=500 ........\n",
      "[CV]  learning_rate=1e-05, algorithm=SAMME, n_estimators=400, score=0.7090909090909091, total=   0.1s\n",
      "[CV]  learning_rate=1, algorithm=SAMME, n_estimators=500, score=0.7295440349781387, total=   0.1s\n"
     ]
    },
    {
     "name": "stderr",
     "output_type": "stream",
     "text": [
      "[Parallel(n_jobs=-1)]: Done   7 out of   7 | elapsed:    0.5s remaining:    0.0s\n"
     ]
    },
    {
     "name": "stdout",
     "output_type": "stream",
     "text": [
      "[CV] learning_rate=1, algorithm=SAMME, n_estimators=500 ..............\n",
      "[CV] learning_rate=1e-05, algorithm=SAMME, n_estimators=400 ..........\n",
      "[CV]  learning_rate=1e-05, algorithm=SAMME.R, n_estimators=500, score=0.7283236994219653, total=   0.0s\n",
      "[CV] learning_rate=1e-05, algorithm=SAMME.R, n_estimators=500 ........\n",
      "[CV]  learning_rate=1e-05, algorithm=SAMME.R, n_estimators=500, score=0.7456647398843931, total=   0.0s\n",
      "[CV] learning_rate=1e-05, algorithm=SAMME.R, n_estimators=400 ........\n",
      "[CV]  learning_rate=1e-05, algorithm=SAMME, n_estimators=400, score=0.7034090909090909, total=   0.1s\n"
     ]
    },
    {
     "name": "stderr",
     "output_type": "stream",
     "text": [
      "[Parallel(n_jobs=-1)]: Done   8 out of   8 | elapsed:    0.6s remaining:    0.0s\n"
     ]
    },
    {
     "name": "stdout",
     "output_type": "stream",
     "text": [
      "[CV]  learning_rate=0.01, algorithm=SAMME.R, n_estimators=500, score=0.7185483870967742, total=   0.1s\n",
      "[CV] learning_rate=1e-05, algorithm=SAMME, n_estimators=400 ..........\n",
      "[CV] learning_rate=0.01, algorithm=SAMME.R, n_estimators=500 .........\n",
      "[CV]  learning_rate=1e-05, algorithm=SAMME.R, n_estimators=400, score=0.7562380038387716, total=   0.0s\n",
      "[CV] learning_rate=1e-05, algorithm=SAMME.R, n_estimators=400 ........\n",
      "[CV]  learning_rate=1e-05, algorithm=SAMME, n_estimators=400, score=0.7090909090909091, total=   0.1s\n"
     ]
    },
    {
     "name": "stderr",
     "output_type": "stream",
     "text": [
      "[Parallel(n_jobs=-1)]: Done   9 out of   9 | elapsed:    0.7s remaining:    0.0s\n"
     ]
    },
    {
     "name": "stdout",
     "output_type": "stream",
     "text": [
      "[CV] learning_rate=1e-05, algorithm=SAMME, n_estimators=400 ..........\n",
      "[CV]  learning_rate=1e-05, algorithm=SAMME.R, n_estimators=400, score=0.746641074856046, total=   0.0s\n",
      "[CV]  learning_rate=1, algorithm=SAMME, n_estimators=500, score=0.729375, total=   0.1s\n",
      "[CV] learning_rate=1e-05, algorithm=SAMME.R, n_estimators=400 ........\n",
      "[CV] learning_rate=1, algorithm=SAMME, n_estimators=500 ..............\n",
      "[CV]  learning_rate=0.01, algorithm=SAMME.R, n_estimators=500, score=0.7419354838709677, total=   0.1s\n",
      "[CV] learning_rate=0.01, algorithm=SAMME.R, n_estimators=500 .........\n",
      "[CV]  learning_rate=1e-05, algorithm=SAMME.R, n_estimators=400, score=0.7519230769230769, total=   0.0s\n",
      "[CV] learning_rate=1e-05, algorithm=SAMME.R, n_estimators=400 ........\n",
      "[CV]  learning_rate=1e-05, algorithm=SAMME, n_estimators=400, score=0.7204545454545455, total=   0.1s\n",
      "[CV] learning_rate=0.0001, algorithm=SAMME, n_estimators=500 .........\n",
      "[CV]  learning_rate=1e-05, algorithm=SAMME.R, n_estimators=400, score=0.7283236994219653, total=   0.0s\n",
      "[CV] learning_rate=1e-05, algorithm=SAMME.R, n_estimators=400 ........\n",
      "[CV]  learning_rate=1e-05, algorithm=SAMME.R, n_estimators=400, score=0.7379576107899807, total=   0.0s\n",
      "[CV] learning_rate=0.0001, algorithm=SAMME.R, n_estimators=500 .......\n",
      "[CV]  learning_rate=0.01, algorithm=SAMME.R, n_estimators=500, score=0.725, total=   0.1s\n",
      "[CV]  learning_rate=1, algorithm=SAMME, n_estimators=500, score=0.7166979362101313, total=   0.1s\n",
      "[CV] learning_rate=0.01, algorithm=SAMME.R, n_estimators=500 .........\n",
      "[CV] learning_rate=1, algorithm=SAMME, n_estimators=500 ..............\n",
      "[CV]  learning_rate=0.0001, algorithm=SAMME, n_estimators=500, score=0.7306818181818182, total=   0.1s\n",
      "[CV] learning_rate=0.0001, algorithm=SAMME, n_estimators=500 .........\n",
      "[CV]  learning_rate=0.0001, algorithm=SAMME.R, n_estimators=500, score=0.744721689059501, total=   0.0s\n",
      "[CV] learning_rate=0.0001, algorithm=SAMME.R, n_estimators=500 .......\n",
      "[CV]  learning_rate=0.0001, algorithm=SAMME.R, n_estimators=500, score=0.744721689059501, total=   0.0s\n",
      "[CV] learning_rate=0.0001, algorithm=SAMME.R, n_estimators=500 .......\n",
      "[CV]  learning_rate=0.0001, algorithm=SAMME, n_estimators=500, score=0.7125, total=   0.1s\n",
      "[CV] learning_rate=0.0001, algorithm=SAMME, n_estimators=500 .........\n",
      "[CV]  learning_rate=0.01, algorithm=SAMME.R, n_estimators=500, score=0.711864406779661, total=   0.1s\n",
      "[CV] learning_rate=0.01, algorithm=SAMME.R, n_estimators=400 .........\n",
      "[CV]  learning_rate=0.0001, algorithm=SAMME.R, n_estimators=500, score=0.7461538461538462, total=   0.0s\n",
      "[CV] learning_rate=0.0001, algorithm=SAMME.R, n_estimators=500 .......\n",
      "[CV]  learning_rate=1, algorithm=SAMME, n_estimators=500, score=0.7285803627267042, total=   0.1s\n",
      "[CV]  learning_rate=0.0001, algorithm=SAMME.R, n_estimators=500, score=0.7244701348747592, total=   0.0s\n",
      "[CV] learning_rate=1, algorithm=SAMME, n_estimators=400 ..............\n",
      "[CV] learning_rate=0.0001, algorithm=SAMME.R, n_estimators=500 .......\n",
      "[CV]  learning_rate=0.0001, algorithm=SAMME, n_estimators=500, score=0.7045454545454546, total=   0.1s\n",
      "[CV] learning_rate=0.0001, algorithm=SAMME, n_estimators=500 .........\n",
      "[CV]  learning_rate=0.0001, algorithm=SAMME.R, n_estimators=500, score=0.7495183044315993, total=   0.0s\n",
      "[CV] learning_rate=0.0001, algorithm=SAMME.R, n_estimators=400 .......\n",
      "[CV]  learning_rate=0.01, algorithm=SAMME.R, n_estimators=400, score=0.7356970185334408, total=   0.1s\n",
      "[CV] learning_rate=0.01, algorithm=SAMME.R, n_estimators=400 .........\n",
      "[CV]  learning_rate=0.0001, algorithm=SAMME, n_estimators=500, score=0.7079545454545455, total=   0.1s\n",
      "[CV] learning_rate=0.0001, algorithm=SAMME, n_estimators=500 .........\n",
      "[CV]  learning_rate=0.0001, algorithm=SAMME.R, n_estimators=400, score=0.7428023032629558, total=   0.0s\n",
      "[CV] learning_rate=0.0001, algorithm=SAMME.R, n_estimators=400 .......\n",
      "[CV]  learning_rate=0.0001, algorithm=SAMME.R, n_estimators=400, score=0.7370441458733206, total=   0.0s\n",
      "[CV] learning_rate=0.0001, algorithm=SAMME.R, n_estimators=400 .......\n",
      "[CV]  learning_rate=1, algorithm=SAMME, n_estimators=400, score=0.7364147407870081, total=   0.1s\n",
      "[CV] learning_rate=1, algorithm=SAMME, n_estimators=400 ..............\n",
      "[CV]  learning_rate=0.0001, algorithm=SAMME, n_estimators=500, score=0.7056818181818182, total=   0.1s\n",
      "[CV] learning_rate=0.0001, algorithm=SAMME, n_estimators=400 .........\n",
      "[CV]  learning_rate=0.01, algorithm=SAMME.R, n_estimators=400, score=0.7185483870967742, total=   0.1s\n",
      "[CV] learning_rate=0.01, algorithm=SAMME.R, n_estimators=400 .........\n",
      "[CV]  learning_rate=0.0001, algorithm=SAMME.R, n_estimators=400, score=0.7596153846153846, total=   0.0s\n",
      "[CV] learning_rate=0.0001, algorithm=SAMME.R, n_estimators=400 .......\n",
      "[CV]  learning_rate=0.0001, algorithm=SAMME.R, n_estimators=400, score=0.7129094412331407, total=   0.0s\n",
      "[CV] learning_rate=0.0001, algorithm=SAMME.R, n_estimators=400 .......\n",
      "[CV]  learning_rate=0.0001, algorithm=SAMME, n_estimators=400, score=0.7215909090909091, total=   0.1s\n",
      "[CV] learning_rate=0.0001, algorithm=SAMME, n_estimators=400 .........\n",
      "[CV]  learning_rate=0.0001, algorithm=SAMME.R, n_estimators=400, score=0.7398843930635838, total=   0.0s\n",
      "[CV] learning_rate=0.001, algorithm=SAMME.R, n_estimators=500 ........\n",
      "[CV]  learning_rate=0.01, algorithm=SAMME.R, n_estimators=400, score=0.7346774193548387, total=   0.1s\n",
      "[CV] learning_rate=0.01, algorithm=SAMME.R, n_estimators=400 .........\n",
      "[CV]  learning_rate=1, algorithm=SAMME, n_estimators=400, score=0.730793254216115, total=   0.2s\n",
      "[CV] learning_rate=1, algorithm=SAMME, n_estimators=400 ..............\n",
      "[CV]  learning_rate=0.001, algorithm=SAMME.R, n_estimators=500, score=0.7408829174664108, total=   0.1s\n",
      "[CV]  learning_rate=0.0001, algorithm=SAMME, n_estimators=400, score=0.7181818181818181, total=   0.1s\n",
      "[CV] learning_rate=0.001, algorithm=SAMME.R, n_estimators=500 ........\n",
      "[CV] learning_rate=0.0001, algorithm=SAMME, n_estimators=400 .........\n",
      "[CV]  learning_rate=0.001, algorithm=SAMME.R, n_estimators=500, score=0.744721689059501, total=   0.0s\n",
      "[CV] learning_rate=0.001, algorithm=SAMME.R, n_estimators=500 ........\n",
      "[CV]  learning_rate=0.01, algorithm=SAMME.R, n_estimators=400, score=0.7225806451612903, total=   0.1s\n",
      "[CV] learning_rate=0.01, algorithm=SAMME.R, n_estimators=400 .........\n",
      "[CV]  learning_rate=0.0001, algorithm=SAMME, n_estimators=400, score=0.6931818181818182, total=   0.1s\n",
      "[CV] learning_rate=0.0001, algorithm=SAMME, n_estimators=400 .........\n",
      "[CV]  learning_rate=0.001, algorithm=SAMME.R, n_estimators=500, score=0.7615384615384615, total=   0.0s\n",
      "[CV] learning_rate=0.001, algorithm=SAMME.R, n_estimators=500 ........\n",
      "[CV]  learning_rate=0.001, algorithm=SAMME.R, n_estimators=500, score=0.7283236994219653, total=   0.0s\n",
      "[CV]  learning_rate=1, algorithm=SAMME, n_estimators=400, score=0.719375, total=   0.2s\n",
      "[CV] learning_rate=0.001, algorithm=SAMME.R, n_estimators=500 ........\n",
      "[CV] learning_rate=1, algorithm=SAMME, n_estimators=400 ..............\n",
      "[CV]  learning_rate=0.0001, algorithm=SAMME, n_estimators=400, score=0.7079545454545455, total=   0.1s\n",
      "[CV] learning_rate=0.0001, algorithm=SAMME, n_estimators=400 .........\n",
      "[CV]  learning_rate=0.001, algorithm=SAMME.R, n_estimators=500, score=0.7263969171483622, total=   0.0s\n",
      "[CV] learning_rate=0.001, algorithm=SAMME.R, n_estimators=400 ........\n",
      "[CV]  learning_rate=0.01, algorithm=SAMME.R, n_estimators=400, score=0.7110573042776432, total=   0.1s\n",
      "[CV] learning_rate=0.1, algorithm=SAMME.R, n_estimators=500 ..........\n",
      "[CV]  learning_rate=0.001, algorithm=SAMME.R, n_estimators=400, score=0.746641074856046, total=   0.0s\n",
      "[CV] learning_rate=0.001, algorithm=SAMME.R, n_estimators=400 ........\n",
      "[CV]  learning_rate=0.0001, algorithm=SAMME, n_estimators=400, score=0.7181818181818181, total=   0.1s\n",
      "[CV] learning_rate=0.001, algorithm=SAMME, n_estimators=500 ..........\n",
      "[CV]  learning_rate=0.001, algorithm=SAMME.R, n_estimators=400, score=0.7504798464491362, total=   0.0s\n",
      "[CV] learning_rate=0.001, algorithm=SAMME.R, n_estimators=400 ........\n",
      "[CV]  learning_rate=1, algorithm=SAMME, n_estimators=400, score=0.7129455909943715, total=   0.1s\n",
      "[CV] learning_rate=1, algorithm=SAMME, n_estimators=400 ..............\n",
      "[CV]  learning_rate=0.1, algorithm=SAMME.R, n_estimators=500, score=0.7308622078968574, total=   0.1s\n",
      "[CV] learning_rate=0.1, algorithm=SAMME.R, n_estimators=500 ..........\n",
      "[CV]  learning_rate=0.001, algorithm=SAMME.R, n_estimators=400, score=0.7346153846153847, total=   0.0s\n",
      "[CV] learning_rate=0.001, algorithm=SAMME.R, n_estimators=400 ........\n",
      "[CV]  learning_rate=0.001, algorithm=SAMME, n_estimators=500, score=0.7318181818181818, total=   0.1s\n",
      "[CV] learning_rate=0.001, algorithm=SAMME, n_estimators=500 ..........\n",
      "[CV]  learning_rate=0.001, algorithm=SAMME.R, n_estimators=400, score=0.7341040462427746, total=   0.0s\n",
      "[CV] learning_rate=0.001, algorithm=SAMME.R, n_estimators=400 ........\n",
      "[CV]  learning_rate=0.001, algorithm=SAMME.R, n_estimators=400, score=0.7360308285163777, total=   0.0s\n",
      "[CV] learning_rate=0.01, algorithm=SAMME.R, n_estimators=500 .........\n",
      "[CV]  learning_rate=0.001, algorithm=SAMME, n_estimators=500, score=0.7125, total=   0.1s\n",
      "[CV] learning_rate=0.001, algorithm=SAMME, n_estimators=500 ..........\n",
      "[CV]  learning_rate=0.1, algorithm=SAMME.R, n_estimators=500, score=0.7185483870967742, total=   0.1s\n",
      "[CV] learning_rate=0.1, algorithm=SAMME.R, n_estimators=500 ..........\n",
      "[CV]  learning_rate=1, algorithm=SAMME, n_estimators=400, score=0.7154471544715447, total=   0.1s\n",
      "[CV]  learning_rate=0.01, algorithm=SAMME.R, n_estimators=500, score=0.744721689059501, total=   0.0s\n",
      "[CV] learning_rate=0.01, algorithm=SAMME.R, n_estimators=500 .........\n",
      "[CV] learning_rate=1e-05, algorithm=SAMME.R, n_estimators=500 ........\n",
      "[CV]  learning_rate=0.01, algorithm=SAMME.R, n_estimators=500, score=0.7600767754318618, total=   0.0s\n",
      "[CV]  learning_rate=0.001, algorithm=SAMME, n_estimators=500, score=0.6954545454545454, total=   0.1s\n",
      "[CV] learning_rate=0.01, algorithm=SAMME.R, n_estimators=500 .........\n",
      "[CV] learning_rate=0.001, algorithm=SAMME, n_estimators=500 ..........\n",
      "[CV]  learning_rate=0.1, algorithm=SAMME.R, n_estimators=500, score=0.7362903225806452, total=   0.1s\n",
      "[CV] learning_rate=0.1, algorithm=SAMME.R, n_estimators=500 ..........\n",
      "[CV]  learning_rate=0.01, algorithm=SAMME.R, n_estimators=500, score=0.7230769230769231, total=   0.0s\n",
      "[CV] learning_rate=0.01, algorithm=SAMME.R, n_estimators=500 .........\n",
      "[CV]  learning_rate=0.001, algorithm=SAMME, n_estimators=500, score=0.7045454545454546, total=   0.1s\n",
      "[CV] learning_rate=0.001, algorithm=SAMME, n_estimators=500 ..........\n",
      "[CV]  learning_rate=0.01, algorithm=SAMME.R, n_estimators=500, score=0.7283236994219653, total=   0.0s\n",
      "[CV] learning_rate=0.01, algorithm=SAMME.R, n_estimators=500 .........\n",
      "[CV]  learning_rate=1e-05, algorithm=SAMME.R, n_estimators=500, score=0.7345409119300437, total=   0.1s\n",
      "[CV] learning_rate=1e-05, algorithm=SAMME.R, n_estimators=500 ........\n",
      "[CV]  learning_rate=0.01, algorithm=SAMME.R, n_estimators=500, score=0.7456647398843931, total=   0.0s\n",
      "[CV] learning_rate=0.01, algorithm=SAMME.R, n_estimators=400 .........\n",
      "[CV]  learning_rate=0.001, algorithm=SAMME, n_estimators=500, score=0.7204545454545455, total=   0.1s\n",
      "[CV] learning_rate=0.001, algorithm=SAMME, n_estimators=400 ..........\n",
      "[CV]  learning_rate=0.1, algorithm=SAMME.R, n_estimators=500, score=0.7266129032258064, total=   0.1s\n",
      "[CV] learning_rate=0.1, algorithm=SAMME.R, n_estimators=500 ..........\n",
      "[CV]  learning_rate=0.01, algorithm=SAMME.R, n_estimators=400, score=0.7408829174664108, total=   0.0s\n",
      "[CV] learning_rate=0.01, algorithm=SAMME.R, n_estimators=400 .........\n",
      "[CV]  learning_rate=0.01, algorithm=SAMME.R, n_estimators=400, score=0.7485604606525912, total=   0.0s\n",
      "[CV] learning_rate=0.01, algorithm=SAMME.R, n_estimators=400 .........\n",
      "[CV]  learning_rate=0.001, algorithm=SAMME, n_estimators=400, score=0.75, total=   0.1s\n",
      "[CV] learning_rate=0.001, algorithm=SAMME, n_estimators=400 ..........\n",
      "[CV]  learning_rate=1e-05, algorithm=SAMME.R, n_estimators=500, score=0.7282948157401624, total=   0.1s\n",
      "[CV]  learning_rate=0.01, algorithm=SAMME.R, n_estimators=400, score=0.7692307692307693, total=   0.0s\n",
      "[CV] learning_rate=1e-05, algorithm=SAMME.R, n_estimators=500 ........\n",
      "[CV] learning_rate=0.01, algorithm=SAMME.R, n_estimators=400 .........\n",
      "[CV]  learning_rate=0.1, algorithm=SAMME.R, n_estimators=500, score=0.7191283292978208, total=   0.1s\n",
      "[CV] learning_rate=0.1, algorithm=SAMME.R, n_estimators=400 ..........\n",
      "[CV]  learning_rate=0.01, algorithm=SAMME.R, n_estimators=400, score=0.7129094412331407, total=   0.0s\n",
      "[CV] learning_rate=0.01, algorithm=SAMME.R, n_estimators=400 .........\n",
      "[CV]  learning_rate=0.001, algorithm=SAMME, n_estimators=400, score=0.7068181818181818, total=   0.1s\n",
      "[CV] learning_rate=0.001, algorithm=SAMME, n_estimators=400 ..........\n",
      "[CV]  learning_rate=0.01, algorithm=SAMME.R, n_estimators=400, score=0.7456647398843931, total=   0.0s\n",
      "[CV] learning_rate=0.1, algorithm=SAMME.R, n_estimators=500 ..........\n",
      "[CV]  learning_rate=0.1, algorithm=SAMME.R, n_estimators=400, score=0.7292506043513296, total=   0.1s\n",
      "[CV] learning_rate=0.1, algorithm=SAMME.R, n_estimators=400 ..........\n",
      "[CV]  learning_rate=0.001, algorithm=SAMME, n_estimators=400, score=0.7, total=   0.1s\n",
      "[CV]  learning_rate=0.1, algorithm=SAMME.R, n_estimators=500, score=0.7389635316698656, total=   0.0s\n",
      "[CV] learning_rate=0.001, algorithm=SAMME, n_estimators=400 ..........\n",
      "[CV] learning_rate=0.1, algorithm=SAMME.R, n_estimators=500 ..........\n",
      "[CV]  learning_rate=1e-05, algorithm=SAMME.R, n_estimators=500, score=0.7325, total=   0.1s\n",
      "[CV] learning_rate=1e-05, algorithm=SAMME.R, n_estimators=500 ........\n",
      "[CV]  learning_rate=0.1, algorithm=SAMME.R, n_estimators=500, score=0.7428023032629558, total=   0.0s\n",
      "[CV] learning_rate=0.1, algorithm=SAMME.R, n_estimators=500 ..........\n",
      "[CV]  learning_rate=0.001, algorithm=SAMME, n_estimators=400, score=0.7079545454545455, total=   0.1s\n",
      "[CV] learning_rate=0.001, algorithm=SAMME, n_estimators=400 ..........\n",
      "[CV]  learning_rate=0.1, algorithm=SAMME.R, n_estimators=500, score=0.7307692307692307, total=   0.0s\n",
      "[CV] learning_rate=0.1, algorithm=SAMME.R, n_estimators=500 ..........\n",
      "[CV]  learning_rate=0.1, algorithm=SAMME.R, n_estimators=400, score=0.7225806451612903, total=   0.1s\n",
      "[CV] learning_rate=0.1, algorithm=SAMME.R, n_estimators=400 ..........\n",
      "[CV]  learning_rate=0.1, algorithm=SAMME.R, n_estimators=500, score=0.7263969171483622, total=   0.0s\n",
      "[CV] learning_rate=0.1, algorithm=SAMME.R, n_estimators=500 ..........\n",
      "[CV]  learning_rate=0.001, algorithm=SAMME, n_estimators=400, score=0.7193181818181819, total=   0.1s\n",
      "[CV] learning_rate=0.01, algorithm=SAMME, n_estimators=500 ...........\n",
      "[CV]  learning_rate=0.1, algorithm=SAMME.R, n_estimators=500, score=0.7302504816955684, total=   0.0s\n",
      "[CV]  learning_rate=1e-05, algorithm=SAMME.R, n_estimators=500, score=0.7098186366479049, total=   0.1s\n",
      "[CV] learning_rate=0.1, algorithm=SAMME.R, n_estimators=400 ..........\n",
      "[CV] learning_rate=1e-05, algorithm=SAMME.R, n_estimators=500 ........\n",
      "[CV]  learning_rate=0.1, algorithm=SAMME.R, n_estimators=400, score=0.7403225806451613, total=   0.1s\n",
      "[CV] learning_rate=0.1, algorithm=SAMME.R, n_estimators=400 ..........\n",
      "[CV]  learning_rate=0.1, algorithm=SAMME.R, n_estimators=400, score=0.7389635316698656, total=   0.0s\n",
      "[CV] learning_rate=0.1, algorithm=SAMME.R, n_estimators=400 ..........\n",
      "[CV]  learning_rate=0.01, algorithm=SAMME, n_estimators=500, score=0.7318181818181818, total=   0.1s\n",
      "[CV] learning_rate=0.01, algorithm=SAMME, n_estimators=500 ...........\n",
      "[CV]  learning_rate=0.1, algorithm=SAMME.R, n_estimators=400, score=0.7351247600767754, total=   0.0s\n",
      "[CV] learning_rate=0.1, algorithm=SAMME.R, n_estimators=400 ..........\n",
      "[CV]  learning_rate=0.1, algorithm=SAMME.R, n_estimators=400, score=0.7423076923076923, total=   0.0s\n",
      "[CV] learning_rate=0.1, algorithm=SAMME.R, n_estimators=400 ..........\n",
      "[CV]  learning_rate=0.01, algorithm=SAMME, n_estimators=500, score=0.7170454545454545, total=   0.1s\n",
      "[CV] learning_rate=0.01, algorithm=SAMME, n_estimators=500 ...........\n",
      "[CV]  learning_rate=0.1, algorithm=SAMME.R, n_estimators=400, score=0.7217741935483871, total=   0.1s\n",
      "[CV] learning_rate=0.1, algorithm=SAMME.R, n_estimators=400 ..........\n",
      "[CV]  learning_rate=1e-05, algorithm=SAMME.R, n_estimators=500, score=0.7198248905565978, total=   0.1s\n",
      "[CV] learning_rate=1e-05, algorithm=SAMME.R, n_estimators=400 ........\n",
      "[CV]  learning_rate=0.1, algorithm=SAMME.R, n_estimators=400, score=0.720616570327553, total=   0.0s\n",
      "[CV] learning_rate=0.1, algorithm=SAMME.R, n_estimators=400 ..........\n",
      "[CV]  learning_rate=0.1, algorithm=SAMME.R, n_estimators=400, score=0.7379576107899807, total=   0.0s\n",
      "[CV] learning_rate=1, algorithm=SAMME.R, n_estimators=500 ............\n",
      "[CV]  learning_rate=0.01, algorithm=SAMME, n_estimators=500, score=0.6943181818181818, total=   0.1s\n",
      "[CV] learning_rate=0.01, algorithm=SAMME, n_estimators=500 ...........\n",
      "[CV]  learning_rate=0.1, algorithm=SAMME.R, n_estimators=400, score=0.7094430992736077, total=   0.1s\n",
      "[CV] learning_rate=1, algorithm=SAMME.R, n_estimators=500 ............\n",
      "[CV]  learning_rate=1, algorithm=SAMME.R, n_estimators=500, score=0.7543186180422264, total=   0.0s\n",
      "[CV] learning_rate=1, algorithm=SAMME.R, n_estimators=500 ............\n",
      "[CV]  learning_rate=0.01, algorithm=SAMME, n_estimators=500, score=0.7170454545454545, total=   0.1s\n",
      "[CV] learning_rate=0.01, algorithm=SAMME, n_estimators=500 ...........\n",
      "[CV]  learning_rate=1, algorithm=SAMME.R, n_estimators=500, score=0.7428023032629558, total=   0.0s\n",
      "[CV] learning_rate=1, algorithm=SAMME.R, n_estimators=500 ............\n",
      "[CV]  learning_rate=1e-05, algorithm=SAMME.R, n_estimators=400, score=0.73579013116802, total=   0.1s\n",
      "[CV] learning_rate=1e-05, algorithm=SAMME.R, n_estimators=400 ........\n",
      "[CV]  learning_rate=1, algorithm=SAMME.R, n_estimators=500, score=0.7442307692307693, total=   0.0s\n",
      "[CV] learning_rate=1, algorithm=SAMME.R, n_estimators=500 ............\n",
      "[CV]  learning_rate=0.01, algorithm=SAMME, n_estimators=500, score=0.7125, total=   0.1s\n",
      "[CV] learning_rate=0.01, algorithm=SAMME, n_estimators=400 ...........\n",
      "[CV]  learning_rate=1, algorithm=SAMME.R, n_estimators=500, score=0.7381144238517324, total=   0.1s\n",
      "[CV] learning_rate=1, algorithm=SAMME.R, n_estimators=500 ............\n",
      "[CV]  learning_rate=1, algorithm=SAMME.R, n_estimators=500, score=0.7109826589595376, total=   0.0s\n",
      "[CV] learning_rate=1, algorithm=SAMME.R, n_estimators=500 ............\n",
      "[CV]  learning_rate=1, algorithm=SAMME.R, n_estimators=500, score=0.7610789980732178, total=   0.0s\n",
      "[CV] learning_rate=1, algorithm=SAMME.R, n_estimators=400 ............\n",
      "[CV]  learning_rate=0.01, algorithm=SAMME, n_estimators=400, score=0.7318181818181818, total=   0.1s\n",
      "[CV] learning_rate=0.01, algorithm=SAMME, n_estimators=400 ...........\n",
      "[CV]  learning_rate=1e-05, algorithm=SAMME.R, n_estimators=400, score=0.7414116177389132, total=   0.1s\n",
      "[CV] learning_rate=1e-05, algorithm=SAMME.R, n_estimators=400 ........\n",
      "[CV]  learning_rate=1, algorithm=SAMME.R, n_estimators=400, score=0.7428023032629558, total=   0.0s\n",
      "[CV] learning_rate=1, algorithm=SAMME.R, n_estimators=400 ............\n",
      "[CV]  learning_rate=1, algorithm=SAMME.R, n_estimators=500, score=0.7161290322580646, total=   0.1s\n",
      "[CV] learning_rate=1, algorithm=SAMME.R, n_estimators=500 ............\n",
      "[CV]  learning_rate=1, algorithm=SAMME.R, n_estimators=400, score=0.7370441458733206, total=   0.0s\n",
      "[CV] learning_rate=1, algorithm=SAMME.R, n_estimators=400 ............\n",
      "[CV]  learning_rate=0.01, algorithm=SAMME, n_estimators=400, score=0.7136363636363636, total=   0.1s\n",
      "[CV] learning_rate=0.01, algorithm=SAMME, n_estimators=400 ...........\n",
      "[CV]  learning_rate=1, algorithm=SAMME.R, n_estimators=400, score=0.7461538461538462, total=   0.0s\n",
      "[CV] learning_rate=1, algorithm=SAMME.R, n_estimators=400 ............\n",
      "[CV]  learning_rate=1, algorithm=SAMME.R, n_estimators=500, score=0.7338709677419355, total=   0.1s\n",
      "[CV] learning_rate=1, algorithm=SAMME.R, n_estimators=500 ............\n",
      "[CV]  learning_rate=1, algorithm=SAMME.R, n_estimators=400, score=0.7225433526011561, total=   0.0s\n",
      "[CV] learning_rate=1, algorithm=SAMME.R, n_estimators=400 ............\n",
      "[CV]  learning_rate=0.01, algorithm=SAMME, n_estimators=400, score=0.7079545454545455, total=   0.1s\n",
      "[CV] learning_rate=0.01, algorithm=SAMME, n_estimators=400 ...........\n",
      "[CV]  learning_rate=1e-05, algorithm=SAMME.R, n_estimators=400, score=0.73125, total=   0.1s\n",
      "[CV] learning_rate=1e-05, algorithm=SAMME.R, n_estimators=400 ........\n",
      "[CV]  learning_rate=1, algorithm=SAMME.R, n_estimators=400, score=0.7398843930635838, total=   0.0s\n"
     ]
    },
    {
     "name": "stderr",
     "output_type": "stream",
     "text": [
      "[Parallel(n_jobs=-1)]: Done 120 out of 120 | elapsed:    5.2s finished\n"
     ]
    },
    {
     "name": "stdout",
     "output_type": "stream",
     "text": [
      "[CV]  learning_rate=0.01, algorithm=SAMME, n_estimators=400, score=0.7034090909090909, total=   0.1s\n",
      "[CV] learning_rate=0.01, algorithm=SAMME, n_estimators=400 ...........\n",
      "[CV]  learning_rate=1, algorithm=SAMME.R, n_estimators=500, score=0.7306451612903225, total=   0.1s\n",
      "[CV] learning_rate=1, algorithm=SAMME.R, n_estimators=500 ............\n",
      "Fitting 5 folds for each of 24 candidates, totalling 120 fits\n"
     ]
    },
    {
     "name": "stderr",
     "output_type": "stream",
     "text": [
      "/Users/gali/anaconda/envs/carnd-term1/lib/python3.5/site-packages/sklearn/externals/joblib/parallel.py:547: UserWarning: Multiprocessing-backed parallel loops cannot be nested, setting n_jobs=1\n",
      "  **self._backend_args)\n"
     ]
    },
    {
     "name": "stdout",
     "output_type": "stream",
     "text": [
      "[CV] learning_rate=1e-05, algorithm=SAMME, n_estimators=500 ..........\n",
      "[CV]  learning_rate=1e-05, algorithm=SAMME.R, n_estimators=400, score=0.7191994996873046, total=   0.1s\n",
      "[CV]  learning_rate=0.01, algorithm=SAMME, n_estimators=400, score=0.7102272727272727, total=   0.1s\n",
      "[CV] learning_rate=1e-05, algorithm=SAMME.R, n_estimators=400 ........\n",
      "[CV] learning_rate=0.1, algorithm=SAMME, n_estimators=500 ............\n",
      "[CV]  learning_rate=1, algorithm=SAMME.R, n_estimators=500, score=0.7126715092816788, total=   0.1s\n",
      "[CV] learning_rate=1, algorithm=SAMME.R, n_estimators=400 ............\n",
      "[CV]  learning_rate=1e-05, algorithm=SAMME, n_estimators=500, score=0.7316680096696213, total=   0.1s\n"
     ]
    },
    {
     "name": "stderr",
     "output_type": "stream",
     "text": [
      "[Parallel(n_jobs=-1)]: Done   1 out of   1 | elapsed:    0.1s remaining:    0.0s\n"
     ]
    },
    {
     "name": "stdout",
     "output_type": "stream",
     "text": [
      "[CV]  learning_rate=0.1, algorithm=SAMME, n_estimators=500, score=0.7386363636363636, total=   0.1s\n",
      "[CV] learning_rate=1e-05, algorithm=SAMME, n_estimators=500 ..........\n",
      "[CV] learning_rate=0.1, algorithm=SAMME, n_estimators=500 ............\n",
      "[CV]  learning_rate=1e-05, algorithm=SAMME.R, n_estimators=400, score=0.7279549718574109, total=   0.1s\n",
      "[CV] learning_rate=0.0001, algorithm=SAMME.R, n_estimators=500 .......\n",
      "[CV]  learning_rate=0.1, algorithm=SAMME, n_estimators=500, score=0.7193181818181819, total=   0.1s\n",
      "[CV]  learning_rate=1, algorithm=SAMME.R, n_estimators=400, score=0.7324738114423852, total=   0.1s\n",
      "[CV] learning_rate=1, algorithm=SAMME.R, n_estimators=400 ............\n",
      "[CV] learning_rate=0.1, algorithm=SAMME, n_estimators=500 ............\n",
      "[CV]  learning_rate=1e-05, algorithm=SAMME, n_estimators=500, score=0.7211925866236906, total=   0.1s\n"
     ]
    },
    {
     "name": "stderr",
     "output_type": "stream",
     "text": [
      "[Parallel(n_jobs=-1)]: Done   2 out of   2 | elapsed:    0.2s remaining:    0.0s\n"
     ]
    },
    {
     "name": "stdout",
     "output_type": "stream",
     "text": [
      "[CV] learning_rate=1e-05, algorithm=SAMME, n_estimators=500 ..........\n",
      "[CV]  learning_rate=0.1, algorithm=SAMME, n_estimators=500, score=0.7056818181818182, total=   0.1s\n",
      "[CV] learning_rate=0.1, algorithm=SAMME, n_estimators=500 ............\n",
      "[CV]  learning_rate=1, algorithm=SAMME.R, n_estimators=400, score=0.7153225806451613, total=   0.1s\n",
      "[CV] learning_rate=1, algorithm=SAMME.R, n_estimators=400 ............\n",
      "[CV]  learning_rate=1e-05, algorithm=SAMME, n_estimators=500, score=0.7258064516129032, total=   0.1s\n"
     ]
    },
    {
     "name": "stderr",
     "output_type": "stream",
     "text": [
      "[Parallel(n_jobs=-1)]: Done   3 out of   3 | elapsed:    0.3s remaining:    0.0s\n"
     ]
    },
    {
     "name": "stdout",
     "output_type": "stream",
     "text": [
      "[CV] learning_rate=1e-05, algorithm=SAMME, n_estimators=500 ..........\n",
      "[CV]  learning_rate=0.0001, algorithm=SAMME.R, n_estimators=500, score=0.740787008119925, total=   0.1s\n",
      "[CV] learning_rate=0.0001, algorithm=SAMME.R, n_estimators=500 .......\n",
      "[CV]  learning_rate=0.1, algorithm=SAMME, n_estimators=500, score=0.6988636363636364, total=   0.1s\n",
      "[CV] learning_rate=0.1, algorithm=SAMME, n_estimators=500 ............\n",
      "[CV]  learning_rate=1, algorithm=SAMME.R, n_estimators=400, score=0.7354838709677419, total=   0.1s\n",
      "[CV] learning_rate=1, algorithm=SAMME.R, n_estimators=400 ............\n",
      "[CV]  learning_rate=0.1, algorithm=SAMME, n_estimators=500, score=0.6988636363636364, total=   0.1s\n",
      "[CV] learning_rate=0.1, algorithm=SAMME, n_estimators=400 ............\n",
      "[CV]  learning_rate=1e-05, algorithm=SAMME, n_estimators=500, score=0.738498789346247, total=   0.1s\n"
     ]
    },
    {
     "name": "stderr",
     "output_type": "stream",
     "text": [
      "[Parallel(n_jobs=-1)]: Done   4 out of   4 | elapsed:    0.5s remaining:    0.0s\n"
     ]
    },
    {
     "name": "stdout",
     "output_type": "stream",
     "text": [
      "[CV] learning_rate=1e-05, algorithm=SAMME, n_estimators=500 ..........\n",
      "[CV]  learning_rate=0.0001, algorithm=SAMME.R, n_estimators=500, score=0.7339163023110555, total=   0.1s\n",
      "[CV] learning_rate=0.0001, algorithm=SAMME.R, n_estimators=500 .......\n",
      "[CV]  learning_rate=0.1, algorithm=SAMME, n_estimators=400, score=0.740909090909091, total=   0.1s\n",
      "[CV] learning_rate=0.1, algorithm=SAMME, n_estimators=400 ............\n",
      "[CV]  learning_rate=1, algorithm=SAMME.R, n_estimators=400, score=0.7233870967741935, total=   0.1s\n",
      "[CV] learning_rate=1, algorithm=SAMME.R, n_estimators=400 ............\n",
      "[CV]  learning_rate=1e-05, algorithm=SAMME, n_estimators=500, score=0.7312348668280871, total=   0.1s\n"
     ]
    },
    {
     "name": "stderr",
     "output_type": "stream",
     "text": [
      "[Parallel(n_jobs=-1)]: Done   5 out of   5 | elapsed:    0.6s remaining:    0.0s\n"
     ]
    },
    {
     "name": "stdout",
     "output_type": "stream",
     "text": [
      "[CV] learning_rate=1e-05, algorithm=SAMME, n_estimators=400 ..........\n",
      "[CV]  learning_rate=0.1, algorithm=SAMME, n_estimators=400, score=0.7215909090909091, total=   0.1s\n",
      "[CV] learning_rate=0.1, algorithm=SAMME, n_estimators=400 ............\n",
      "[CV]  learning_rate=1, algorithm=SAMME.R, n_estimators=400, score=0.7094430992736077, total=   0.1s\n"
     ]
    },
    {
     "name": "stderr",
     "output_type": "stream",
     "text": [
      "[Parallel(n_jobs=-1)]: Done 120 out of 120 | elapsed:   13.4s finished\n"
     ]
    },
    {
     "name": "stdout",
     "output_type": "stream",
     "text": [
      "[CV]  learning_rate=0.0001, algorithm=SAMME.R, n_estimators=500, score=0.723125, total=   0.1s\n",
      "[CV] learning_rate=0.0001, algorithm=SAMME.R, n_estimators=500 .......\n",
      "[CV]  learning_rate=0.1, algorithm=SAMME, n_estimators=400, score=0.6988636363636364, total=   0.1s\n",
      "[CV] learning_rate=0.1, algorithm=SAMME, n_estimators=400 ............\n",
      "[CV]  learning_rate=1e-05, algorithm=SAMME, n_estimators=400, score=0.7324738114423852, total=   0.1s\n"
     ]
    },
    {
     "name": "stderr",
     "output_type": "stream",
     "text": [
      "[Parallel(n_jobs=-1)]: Done   6 out of   6 | elapsed:    0.7s remaining:    0.0s\n"
     ]
    },
    {
     "name": "stdout",
     "output_type": "stream",
     "text": [
      "[CV] learning_rate=1e-05, algorithm=SAMME, n_estimators=400 ..........\n",
      "[CV]  learning_rate=0.1, algorithm=SAMME, n_estimators=400, score=0.7125, total=   0.1s\n",
      "[CV] learning_rate=0.1, algorithm=SAMME, n_estimators=400 ............\n",
      "[CV]  learning_rate=1e-05, algorithm=SAMME, n_estimators=400, score=0.7219983883964545, total=   0.1s\n",
      "Fitting 5 folds for each of 24 candidates, totalling 120 fits\n"
     ]
    },
    {
     "name": "stderr",
     "output_type": "stream",
     "text": [
      "[Parallel(n_jobs=-1)]: Done   7 out of   7 | elapsed:    0.8s remaining:    0.0s\n"
     ]
    },
    {
     "name": "stdout",
     "output_type": "stream",
     "text": [
      "[CV]  learning_rate=0.0001, algorithm=SAMME.R, n_estimators=500, score=0.7041901188242652, total=   0.1s\n",
      "[CV] learning_rate=1e-05, algorithm=SAMME, n_estimators=400 ..........\n"
     ]
    },
    {
     "name": "stderr",
     "output_type": "stream",
     "text": [
      "/Users/gali/anaconda/envs/carnd-term1/lib/python3.5/site-packages/sklearn/externals/joblib/parallel.py:547: UserWarning: Multiprocessing-backed parallel loops cannot be nested, setting n_jobs=1\n",
      "  **self._backend_args)\n"
     ]
    },
    {
     "name": "stdout",
     "output_type": "stream",
     "text": [
      "[CV] learning_rate=0.0001, algorithm=SAMME.R, n_estimators=500 .......\n",
      "[CV] learning_rate=1e-05, algorithm=SAMME, n_estimators=500 ..........\n",
      "[CV]  learning_rate=0.1, algorithm=SAMME, n_estimators=400, score=0.7045454545454546, total=   0.1s\n",
      "[CV] learning_rate=1, algorithm=SAMME, n_estimators=500 ..............\n",
      "[CV]  learning_rate=1, algorithm=SAMME, n_estimators=500, score=0.7363636363636363, total=   0.1s\n",
      "[CV] learning_rate=1, algorithm=SAMME, n_estimators=500 ..............\n",
      "[CV]  learning_rate=1e-05, algorithm=SAMME, n_estimators=400, score=0.7193548387096774, total=   0.1s\n"
     ]
    },
    {
     "name": "stderr",
     "output_type": "stream",
     "text": [
      "[Parallel(n_jobs=-1)]: Done   8 out of   8 | elapsed:    0.9s remaining:    0.0s\n"
     ]
    },
    {
     "name": "stdout",
     "output_type": "stream",
     "text": [
      "[CV] learning_rate=1e-05, algorithm=SAMME, n_estimators=400 ..........\n",
      "[CV]  learning_rate=1e-05, algorithm=SAMME, n_estimators=500, score=0.7320424734540912, total=   0.1s\n"
     ]
    },
    {
     "name": "stderr",
     "output_type": "stream",
     "text": [
      "[Parallel(n_jobs=-1)]: Done   1 out of   1 | elapsed:    0.1s remaining:    0.0s\n"
     ]
    },
    {
     "name": "stdout",
     "output_type": "stream",
     "text": [
      "[CV] learning_rate=1e-05, algorithm=SAMME, n_estimators=500 ..........\n",
      "[CV]  learning_rate=0.0001, algorithm=SAMME.R, n_estimators=500, score=0.7273295809881176, total=   0.1s\n",
      "[CV] learning_rate=0.0001, algorithm=SAMME.R, n_estimators=400 .......\n",
      "[CV]  learning_rate=1, algorithm=SAMME, n_estimators=500, score=0.7079545454545455, total=   0.1s\n",
      "[CV] learning_rate=1, algorithm=SAMME, n_estimators=500 ..............\n",
      "[CV]  learning_rate=1e-05, algorithm=SAMME, n_estimators=400, score=0.7368845843422115, total=   0.1s\n"
     ]
    },
    {
     "name": "stderr",
     "output_type": "stream",
     "text": [
      "[Parallel(n_jobs=-1)]: Done   9 out of   9 | elapsed:    1.0s remaining:    0.0s\n"
     ]
    },
    {
     "name": "stdout",
     "output_type": "stream",
     "text": [
      "[CV] learning_rate=1e-05, algorithm=SAMME, n_estimators=400 ..........\n",
      "[CV]  learning_rate=1, algorithm=SAMME, n_estimators=500, score=0.7079545454545455, total=   0.1s\n",
      "[CV] learning_rate=1, algorithm=SAMME, n_estimators=500 ..............\n",
      "[CV]  learning_rate=1e-05, algorithm=SAMME, n_estimators=500, score=0.72125, total=   0.1s\n"
     ]
    },
    {
     "name": "stderr",
     "output_type": "stream",
     "text": [
      "[Parallel(n_jobs=-1)]: Done   2 out of   2 | elapsed:    0.3s remaining:    0.0s\n"
     ]
    },
    {
     "name": "stdout",
     "output_type": "stream",
     "text": [
      "[CV]  learning_rate=0.0001, algorithm=SAMME.R, n_estimators=400, score=0.7320424734540912, total=   0.1s\n",
      "[CV] learning_rate=1e-05, algorithm=SAMME, n_estimators=500 ..........\n",
      "[CV] learning_rate=0.0001, algorithm=SAMME.R, n_estimators=400 .......\n",
      "[CV]  learning_rate=1, algorithm=SAMME, n_estimators=500, score=0.7045454545454546, total=   0.1s\n",
      "[CV] learning_rate=1, algorithm=SAMME, n_estimators=500 ..............\n",
      "[CV]  learning_rate=1e-05, algorithm=SAMME, n_estimators=400, score=0.7368845843422115, total=   0.1s\n",
      "[CV] learning_rate=0.0001, algorithm=SAMME, n_estimators=500 .........\n",
      "[CV]  learning_rate=1, algorithm=SAMME, n_estimators=500, score=0.7022727272727273, total=   0.1s\n",
      "[CV] learning_rate=1, algorithm=SAMME, n_estimators=400 ..............\n",
      "[CV]  learning_rate=0.0001, algorithm=SAMME, n_estimators=500, score=0.7308622078968574, total=   0.1s\n",
      "[CV] learning_rate=0.0001, algorithm=SAMME, n_estimators=500 .........\n",
      "[CV]  learning_rate=0.0001, algorithm=SAMME.R, n_estimators=400, score=0.7270455965021861, total=   0.1s\n",
      "[CV] learning_rate=0.0001, algorithm=SAMME.R, n_estimators=400 .......\n",
      "[CV]  learning_rate=1e-05, algorithm=SAMME, n_estimators=500, score=0.728125, total=   0.1s\n"
     ]
    },
    {
     "name": "stderr",
     "output_type": "stream",
     "text": [
      "[Parallel(n_jobs=-1)]: Done   3 out of   3 | elapsed:    0.4s remaining:    0.0s\n"
     ]
    },
    {
     "name": "stdout",
     "output_type": "stream",
     "text": [
      "[CV] learning_rate=1e-05, algorithm=SAMME, n_estimators=500 ..........\n",
      "[CV]  learning_rate=1, algorithm=SAMME, n_estimators=400, score=0.7363636363636363, total=   0.1s\n",
      "[CV] learning_rate=1, algorithm=SAMME, n_estimators=400 ..............\n",
      "[CV]  learning_rate=1, algorithm=SAMME, n_estimators=400, score=0.7113636363636363, total=   0.1s\n",
      "[CV]  learning_rate=0.0001, algorithm=SAMME, n_estimators=500, score=0.7211925866236906, total=   0.1s\n",
      "[CV] learning_rate=1, algorithm=SAMME, n_estimators=400 ..............\n",
      "[CV] learning_rate=0.0001, algorithm=SAMME, n_estimators=500 .........\n",
      "[CV]  learning_rate=1e-05, algorithm=SAMME, n_estimators=500, score=0.730625, total=   0.1s\n"
     ]
    },
    {
     "name": "stderr",
     "output_type": "stream",
     "text": [
      "[Parallel(n_jobs=-1)]: Done   4 out of   4 | elapsed:    0.6s remaining:    0.0s\n"
     ]
    },
    {
     "name": "stdout",
     "output_type": "stream",
     "text": [
      "[CV] learning_rate=1e-05, algorithm=SAMME, n_estimators=500 ..........\n",
      "[CV]  learning_rate=0.0001, algorithm=SAMME.R, n_estimators=400, score=0.733125, total=   0.2s\n",
      "[CV] learning_rate=0.0001, algorithm=SAMME.R, n_estimators=400 .......\n",
      "[CV]  learning_rate=1, algorithm=SAMME, n_estimators=400, score=0.7125, total=   0.1s\n",
      "[CV] learning_rate=1, algorithm=SAMME, n_estimators=400 ..............\n",
      "[CV]  learning_rate=0.0001, algorithm=SAMME, n_estimators=500, score=0.7201612903225807, total=   0.1s\n",
      "[CV] learning_rate=0.0001, algorithm=SAMME, n_estimators=500 .........\n",
      "[CV]  learning_rate=1, algorithm=SAMME, n_estimators=400, score=0.7068181818181818, total=   0.1s\n",
      "[CV] learning_rate=1, algorithm=SAMME, n_estimators=400 ..............\n",
      "[CV]  learning_rate=0.0001, algorithm=SAMME.R, n_estimators=400, score=0.706066291432145, total=   0.1s\n",
      "[CV]  learning_rate=1e-05, algorithm=SAMME, n_estimators=500, score=0.7367104440275172, total=   0.1s\n"
     ]
    },
    {
     "name": "stderr",
     "output_type": "stream",
     "text": [
      "[Parallel(n_jobs=-1)]: Done   5 out of   5 | elapsed:    0.7s remaining:    0.0s\n"
     ]
    },
    {
     "name": "stdout",
     "output_type": "stream",
     "text": [
      "[CV] learning_rate=0.0001, algorithm=SAMME.R, n_estimators=400 .......\n",
      "[CV] learning_rate=1e-05, algorithm=SAMME, n_estimators=400 ..........\n",
      "[CV]  learning_rate=0.0001, algorithm=SAMME, n_estimators=500, score=0.7344632768361582, total=   0.1s\n",
      "[CV] learning_rate=0.0001, algorithm=SAMME, n_estimators=500 .........\n",
      "[CV]  learning_rate=1, algorithm=SAMME, n_estimators=400, score=0.7, total=   0.1s\n",
      "[CV] learning_rate=1e-05, algorithm=SAMME.R, n_estimators=500 ........\n",
      "[CV]  learning_rate=1e-05, algorithm=SAMME.R, n_estimators=500, score=0.7340909090909091, total=   0.1s\n",
      "[CV] learning_rate=1e-05, algorithm=SAMME.R, n_estimators=500 ........\n",
      "[CV]  learning_rate=0.0001, algorithm=SAMME, n_estimators=500, score=0.7288135593220338, total=   0.1s\n",
      "[CV] learning_rate=0.0001, algorithm=SAMME, n_estimators=400 .........\n",
      "[CV]  learning_rate=1e-05, algorithm=SAMME, n_estimators=400, score=0.7232979387882573, total=   0.1s\n"
     ]
    },
    {
     "name": "stderr",
     "output_type": "stream",
     "text": [
      "[Parallel(n_jobs=-1)]: Done   6 out of   6 | elapsed:    0.9s remaining:    0.0s\n"
     ]
    },
    {
     "name": "stdout",
     "output_type": "stream",
     "text": [
      "[CV] learning_rate=1e-05, algorithm=SAMME, n_estimators=400 ..........\n",
      "[CV]  learning_rate=0.0001, algorithm=SAMME.R, n_estimators=400, score=0.7210756722951845, total=   0.1s\n",
      "[CV] learning_rate=0.001, algorithm=SAMME.R, n_estimators=500 ........\n",
      "[CV]  learning_rate=1e-05, algorithm=SAMME.R, n_estimators=500, score=0.7147727272727272, total=   0.1s\n",
      "[CV] learning_rate=1e-05, algorithm=SAMME.R, n_estimators=500 ........\n",
      "[CV]  learning_rate=0.0001, algorithm=SAMME, n_estimators=400, score=0.7308622078968574, total=   0.1s\n",
      "[CV] learning_rate=0.0001, algorithm=SAMME, n_estimators=400 .........\n",
      "[CV]  learning_rate=1e-05, algorithm=SAMME.R, n_estimators=500, score=0.7034090909090909, total=   0.1s\n",
      "[CV] learning_rate=1e-05, algorithm=SAMME.R, n_estimators=500 ........\n",
      "[CV]  learning_rate=1e-05, algorithm=SAMME, n_estimators=400, score=0.725625, total=   0.1s\n"
     ]
    },
    {
     "name": "stderr",
     "output_type": "stream",
     "text": [
      "[Parallel(n_jobs=-1)]: Done   7 out of   7 | elapsed:    1.0s remaining:    0.0s\n"
     ]
    },
    {
     "name": "stdout",
     "output_type": "stream",
     "text": [
      "[CV] learning_rate=1e-05, algorithm=SAMME, n_estimators=400 ..........\n",
      "[CV]  learning_rate=0.001, algorithm=SAMME.R, n_estimators=500, score=0.7282948157401624, total=   0.1s\n",
      "[CV] learning_rate=0.001, algorithm=SAMME.R, n_estimators=500 ........\n",
      "[CV]  learning_rate=1e-05, algorithm=SAMME.R, n_estimators=500, score=0.7079545454545455, total=   0.1s\n",
      "[CV] learning_rate=1e-05, algorithm=SAMME.R, n_estimators=500 ........\n",
      "[CV]  learning_rate=0.0001, algorithm=SAMME, n_estimators=400, score=0.7219983883964545, total=   0.1s\n",
      "[CV] learning_rate=0.0001, algorithm=SAMME, n_estimators=400 .........\n",
      "[CV]  learning_rate=1e-05, algorithm=SAMME.R, n_estimators=500, score=0.7090909090909091, total=   0.1s\n",
      "[CV] learning_rate=1e-05, algorithm=SAMME.R, n_estimators=400 ........\n",
      "[CV]  learning_rate=1e-05, algorithm=SAMME, n_estimators=400, score=0.7275, total=   0.1s\n"
     ]
    },
    {
     "name": "stderr",
     "output_type": "stream",
     "text": [
      "[Parallel(n_jobs=-1)]: Done   8 out of   8 | elapsed:    1.1s remaining:    0.0s\n"
     ]
    },
    {
     "name": "stdout",
     "output_type": "stream",
     "text": [
      "[CV] learning_rate=1e-05, algorithm=SAMME, n_estimators=400 ..........\n",
      "[CV]  learning_rate=0.001, algorithm=SAMME.R, n_estimators=500, score=0.7183010618363522, total=   0.1s\n",
      "[CV] learning_rate=0.001, algorithm=SAMME.R, n_estimators=500 ........\n",
      "[CV]  learning_rate=0.0001, algorithm=SAMME, n_estimators=400, score=0.7120967741935483, total=   0.1s\n",
      "[CV] learning_rate=0.0001, algorithm=SAMME, n_estimators=400 .........\n",
      "[CV]  learning_rate=1e-05, algorithm=SAMME.R, n_estimators=400, score=0.7284090909090909, total=   0.1s\n",
      "[CV] learning_rate=1e-05, algorithm=SAMME.R, n_estimators=400 ........\n",
      "[CV]  learning_rate=1e-05, algorithm=SAMME.R, n_estimators=400, score=0.7079545454545455, total=   0.1s\n",
      "[CV] learning_rate=1e-05, algorithm=SAMME.R, n_estimators=400 ........\n",
      "[CV]  learning_rate=0.0001, algorithm=SAMME, n_estimators=400, score=0.7312348668280871, total=   0.1s\n",
      "[CV]  learning_rate=1e-05, algorithm=SAMME, n_estimators=400, score=0.7325, total=   0.1s\n"
     ]
    },
    {
     "name": "stderr",
     "output_type": "stream",
     "text": [
      "[Parallel(n_jobs=-1)]: Done   9 out of   9 | elapsed:    1.3s remaining:    0.0s\n"
     ]
    },
    {
     "name": "stdout",
     "output_type": "stream",
     "text": [
      "[CV] learning_rate=0.0001, algorithm=SAMME, n_estimators=400 .........\n",
      "[CV] learning_rate=1e-05, algorithm=SAMME, n_estimators=400 ..........\n",
      "[CV]  learning_rate=0.001, algorithm=SAMME.R, n_estimators=500, score=0.72375, total=   0.1s\n",
      "[CV] learning_rate=0.001, algorithm=SAMME.R, n_estimators=500 ........\n",
      "[CV]  learning_rate=1e-05, algorithm=SAMME.R, n_estimators=400, score=0.7022727272727273, total=   0.1s\n",
      "[CV] learning_rate=1e-05, algorithm=SAMME.R, n_estimators=400 ........\n",
      "[CV]  learning_rate=0.0001, algorithm=SAMME, n_estimators=400, score=0.7368845843422115, total=   0.1s\n",
      "[CV] learning_rate=0.001, algorithm=SAMME, n_estimators=500 ..........\n",
      "[CV]  learning_rate=1e-05, algorithm=SAMME.R, n_estimators=400, score=0.7090909090909091, total=   0.1s\n",
      "[CV] learning_rate=1e-05, algorithm=SAMME.R, n_estimators=400 ........\n",
      "[CV]  learning_rate=1e-05, algorithm=SAMME, n_estimators=400, score=0.7379612257661038, total=   0.1s\n",
      "[CV] learning_rate=0.0001, algorithm=SAMME, n_estimators=500 .........\n",
      "[CV]  learning_rate=0.001, algorithm=SAMME.R, n_estimators=500, score=0.7085678549093183, total=   0.1s\n",
      "[CV] learning_rate=0.001, algorithm=SAMME.R, n_estimators=500 ........\n",
      "[CV]  learning_rate=1e-05, algorithm=SAMME.R, n_estimators=400, score=0.7102272727272727, total=   0.1s\n",
      "[CV] learning_rate=0.0001, algorithm=SAMME.R, n_estimators=500 .......\n",
      "[CV]  learning_rate=0.001, algorithm=SAMME, n_estimators=500, score=0.726027397260274, total=   0.1s\n",
      "[CV] learning_rate=0.001, algorithm=SAMME, n_estimators=500 ..........\n",
      "[CV]  learning_rate=0.0001, algorithm=SAMME.R, n_estimators=500, score=0.7340909090909091, total=   0.1s\n",
      "[CV] learning_rate=0.0001, algorithm=SAMME.R, n_estimators=500 .......\n",
      "[CV]  learning_rate=0.0001, algorithm=SAMME, n_estimators=500, score=0.7339163023110555, total=   0.1s\n",
      "[CV] learning_rate=0.0001, algorithm=SAMME, n_estimators=500 .........\n",
      "[CV]  learning_rate=0.001, algorithm=SAMME.R, n_estimators=500, score=0.7267041901188243, total=   0.1s\n",
      "[CV] learning_rate=0.001, algorithm=SAMME.R, n_estimators=400 ........\n",
      "[CV]  learning_rate=0.001, algorithm=SAMME, n_estimators=500, score=0.7187751813053989, total=   0.1s\n",
      "[CV] learning_rate=0.001, algorithm=SAMME, n_estimators=500 ..........\n",
      "[CV]  learning_rate=0.0001, algorithm=SAMME.R, n_estimators=500, score=0.7079545454545455, total=   0.1s\n",
      "[CV] learning_rate=0.0001, algorithm=SAMME.R, n_estimators=500 .......\n",
      "[CV]  learning_rate=0.001, algorithm=SAMME, n_estimators=500, score=0.7104838709677419, total=   0.1s\n",
      "[CV] learning_rate=0.001, algorithm=SAMME, n_estimators=500 ..........\n",
      "[CV]  learning_rate=0.0001, algorithm=SAMME, n_estimators=500, score=0.71875, total=   0.1s\n",
      "[CV] learning_rate=0.0001, algorithm=SAMME, n_estimators=500 .........\n",
      "[CV]  learning_rate=0.0001, algorithm=SAMME.R, n_estimators=500, score=0.7011363636363637, total=   0.1s\n",
      "[CV] learning_rate=0.0001, algorithm=SAMME.R, n_estimators=500 .......\n",
      "[CV]  learning_rate=0.001, algorithm=SAMME.R, n_estimators=400, score=0.7251717676452217, total=   0.1s\n",
      "[CV] learning_rate=0.001, algorithm=SAMME.R, n_estimators=400 ........\n",
      "[CV]  learning_rate=0.0001, algorithm=SAMME.R, n_estimators=500, score=0.7068181818181818, total=   0.1s\n",
      "[CV] learning_rate=0.0001, algorithm=SAMME.R, n_estimators=500 .......\n",
      "[CV]  learning_rate=0.001, algorithm=SAMME, n_estimators=500, score=0.738498789346247, total=   0.1s\n",
      "[CV] learning_rate=0.001, algorithm=SAMME, n_estimators=500 ..........\n",
      "[CV]  learning_rate=0.0001, algorithm=SAMME, n_estimators=500, score=0.723125, total=   0.1s\n",
      "[CV] learning_rate=0.0001, algorithm=SAMME, n_estimators=500 .........\n",
      "[CV]  learning_rate=0.0001, algorithm=SAMME.R, n_estimators=500, score=0.7147727272727272, total=   0.1s\n",
      "[CV] learning_rate=0.0001, algorithm=SAMME.R, n_estimators=400 .......\n",
      "[CV]  learning_rate=0.001, algorithm=SAMME.R, n_estimators=400, score=0.722048719550281, total=   0.1s\n",
      "[CV] learning_rate=0.001, algorithm=SAMME.R, n_estimators=400 ........\n",
      "[CV]  learning_rate=0.001, algorithm=SAMME, n_estimators=500, score=0.7175141242937854, total=   0.1s\n",
      "[CV] learning_rate=0.001, algorithm=SAMME, n_estimators=400 ..........\n",
      "[CV]  learning_rate=0.0001, algorithm=SAMME.R, n_estimators=400, score=0.7420454545454546, total=   0.1s\n",
      "[CV] learning_rate=0.0001, algorithm=SAMME.R, n_estimators=400 .......\n",
      "[CV]  learning_rate=0.0001, algorithm=SAMME, n_estimators=500, score=0.741875, total=   0.1s\n",
      "[CV] learning_rate=0.0001, algorithm=SAMME, n_estimators=500 .........\n",
      "[CV]  learning_rate=0.0001, algorithm=SAMME.R, n_estimators=400, score=0.7136363636363636, total=   0.1s\n",
      "[CV] learning_rate=0.0001, algorithm=SAMME.R, n_estimators=400 .......\n",
      "[CV]  learning_rate=0.001, algorithm=SAMME, n_estimators=400, score=0.7276390008058018, total=   0.1s\n",
      "[CV] learning_rate=0.001, algorithm=SAMME, n_estimators=400 ..........\n",
      "[CV]  learning_rate=0.001, algorithm=SAMME.R, n_estimators=400, score=0.720625, total=   0.1s\n",
      "[CV] learning_rate=0.001, algorithm=SAMME.R, n_estimators=400 ........\n",
      "[CV]  learning_rate=0.0001, algorithm=SAMME.R, n_estimators=400, score=0.7079545454545455, total=   0.1s\n",
      "[CV] learning_rate=0.0001, algorithm=SAMME.R, n_estimators=400 .......\n",
      "[CV]  learning_rate=0.0001, algorithm=SAMME, n_estimators=500, score=0.7417135709818636, total=   0.1s\n",
      "[CV] learning_rate=0.0001, algorithm=SAMME, n_estimators=400 .........\n",
      "[CV]  learning_rate=0.001, algorithm=SAMME, n_estimators=400, score=0.717969379532635, total=   0.1s\n",
      "[CV] learning_rate=0.001, algorithm=SAMME, n_estimators=400 ..........\n",
      "[CV]  learning_rate=0.0001, algorithm=SAMME.R, n_estimators=400, score=0.7193181818181819, total=   0.1s\n",
      "[CV] learning_rate=0.0001, algorithm=SAMME.R, n_estimators=400 .......\n",
      "[CV]  learning_rate=0.001, algorithm=SAMME.R, n_estimators=400, score=0.7098186366479049, total=   0.1s\n",
      "[CV] learning_rate=0.001, algorithm=SAMME.R, n_estimators=400 ........\n",
      "[CV]  learning_rate=0.0001, algorithm=SAMME.R, n_estimators=400, score=0.7056818181818182, total=   0.1s\n",
      "[CV] learning_rate=0.001, algorithm=SAMME.R, n_estimators=500 ........\n",
      "[CV]  learning_rate=0.001, algorithm=SAMME, n_estimators=400, score=0.7209677419354839, total=   0.1s\n",
      "[CV] learning_rate=0.001, algorithm=SAMME, n_estimators=400 ..........\n",
      "[CV]  learning_rate=0.0001, algorithm=SAMME, n_estimators=400, score=0.7301686445971268, total=   0.1s\n",
      "[CV] learning_rate=0.0001, algorithm=SAMME, n_estimators=400 .........\n",
      "[CV]  learning_rate=0.001, algorithm=SAMME.R, n_estimators=500, score=0.75, total=   0.1s\n",
      "[CV] learning_rate=0.001, algorithm=SAMME.R, n_estimators=500 ........\n",
      "[CV]  learning_rate=0.001, algorithm=SAMME.R, n_estimators=400, score=0.7217010631644778, total=   0.1s\n",
      "[CV] learning_rate=0.01, algorithm=SAMME.R, n_estimators=500 .........\n",
      "[CV]  learning_rate=0.001, algorithm=SAMME, n_estimators=400, score=0.7368845843422115, total=   0.1s\n",
      "[CV] learning_rate=0.001, algorithm=SAMME, n_estimators=400 ..........\n",
      "[CV]  learning_rate=0.001, algorithm=SAMME.R, n_estimators=500, score=0.7090909090909091, total=   0.1s\n",
      "[CV] learning_rate=0.001, algorithm=SAMME.R, n_estimators=500 ........\n",
      "[CV]  learning_rate=0.0001, algorithm=SAMME, n_estimators=400, score=0.710625, total=   0.1s\n",
      "[CV] learning_rate=0.0001, algorithm=SAMME, n_estimators=400 .........\n",
      "[CV]  learning_rate=0.001, algorithm=SAMME, n_estimators=400, score=0.7336561743341404, total=   0.1s\n",
      "[CV] learning_rate=0.01, algorithm=SAMME, n_estimators=500 ...........\n",
      "[CV]  learning_rate=0.001, algorithm=SAMME.R, n_estimators=500, score=0.7011363636363637, total=   0.1s\n",
      "[CV] learning_rate=0.001, algorithm=SAMME.R, n_estimators=500 ........\n",
      "[CV]  learning_rate=0.01, algorithm=SAMME.R, n_estimators=500, score=0.7364147407870081, total=   0.1s\n",
      "[CV] learning_rate=0.01, algorithm=SAMME.R, n_estimators=500 .........\n",
      "[CV]  learning_rate=0.001, algorithm=SAMME.R, n_estimators=500, score=0.7113636363636363, total=   0.1s\n",
      "[CV] learning_rate=0.001, algorithm=SAMME.R, n_estimators=500 ........\n",
      "[CV]  learning_rate=0.0001, algorithm=SAMME, n_estimators=400, score=0.73375, total=   0.1s\n",
      "[CV] learning_rate=0.0001, algorithm=SAMME, n_estimators=400 .........\n",
      "[CV]  learning_rate=0.01, algorithm=SAMME, n_estimators=500, score=0.7244157937147462, total=   0.1s\n",
      "[CV] learning_rate=0.01, algorithm=SAMME, n_estimators=500 ...........\n",
      "[CV]  learning_rate=0.001, algorithm=SAMME.R, n_estimators=500, score=0.7056818181818182, total=   0.1s\n",
      "[CV]  learning_rate=0.01, algorithm=SAMME.R, n_estimators=500, score=0.7382885696439725, total=   0.1s\n",
      "[CV] learning_rate=0.001, algorithm=SAMME.R, n_estimators=400 ........\n",
      "[CV] learning_rate=0.01, algorithm=SAMME.R, n_estimators=500 .........\n",
      "[CV]  learning_rate=0.01, algorithm=SAMME, n_estimators=500, score=0.7211925866236906, total=   0.1s\n",
      "[CV] learning_rate=0.01, algorithm=SAMME, n_estimators=500 ...........\n",
      "[CV]  learning_rate=0.001, algorithm=SAMME.R, n_estimators=400, score=0.7306818181818182, total=   0.1s\n",
      "[CV] learning_rate=0.001, algorithm=SAMME.R, n_estimators=400 ........\n",
      "[CV]  learning_rate=0.0001, algorithm=SAMME, n_estimators=400, score=0.73125, total=   0.1s\n",
      "[CV] learning_rate=0.0001, algorithm=SAMME, n_estimators=400 .........\n",
      "[CV]  learning_rate=0.01, algorithm=SAMME.R, n_estimators=500, score=0.724375, total=   0.1s\n",
      "[CV]  learning_rate=0.001, algorithm=SAMME.R, n_estimators=400, score=0.7102272727272727, total=   0.1s\n",
      "[CV] learning_rate=0.01, algorithm=SAMME.R, n_estimators=500 .........\n",
      "[CV] learning_rate=0.001, algorithm=SAMME.R, n_estimators=400 ........\n",
      "[CV]  learning_rate=0.01, algorithm=SAMME, n_estimators=500, score=0.7169354838709677, total=   0.1s\n",
      "[CV] learning_rate=0.01, algorithm=SAMME, n_estimators=500 ...........\n",
      "[CV]  learning_rate=0.0001, algorithm=SAMME, n_estimators=400, score=0.7304565353345841, total=   0.1s\n",
      "[CV]  learning_rate=0.001, algorithm=SAMME.R, n_estimators=400, score=0.7034090909090909, total=   0.1s\n",
      "[CV] learning_rate=0.001, algorithm=SAMME.R, n_estimators=400 ........\n",
      "[CV] learning_rate=0.001, algorithm=SAMME, n_estimators=500 ..........\n",
      "[CV]  learning_rate=0.01, algorithm=SAMME, n_estimators=500, score=0.7344632768361582, total=   0.1s\n",
      "[CV] learning_rate=0.01, algorithm=SAMME, n_estimators=500 ...........\n",
      "[CV]  learning_rate=0.01, algorithm=SAMME.R, n_estimators=500, score=0.7185741088180112, total=   0.1s\n",
      "[CV] learning_rate=0.01, algorithm=SAMME.R, n_estimators=500 .........\n",
      "[CV]  learning_rate=0.001, algorithm=SAMME.R, n_estimators=400, score=0.7045454545454546, total=   0.1s\n",
      "[CV] learning_rate=0.001, algorithm=SAMME.R, n_estimators=400 ........\n",
      "[CV]  learning_rate=0.001, algorithm=SAMME.R, n_estimators=400, score=0.7181818181818181, total=   0.1s\n",
      "[CV] learning_rate=0.01, algorithm=SAMME.R, n_estimators=500 .........\n",
      "[CV]  learning_rate=0.001, algorithm=SAMME, n_estimators=500, score=0.730793254216115, total=   0.1s\n",
      "[CV] learning_rate=0.001, algorithm=SAMME, n_estimators=500 ..........\n",
      "[CV]  learning_rate=0.01, algorithm=SAMME, n_estimators=500, score=0.7304277643260694, total=   0.1s\n",
      "[CV] learning_rate=0.01, algorithm=SAMME, n_estimators=400 ...........\n",
      "[CV]  learning_rate=0.01, algorithm=SAMME.R, n_estimators=500, score=0.7217010631644778, total=   0.1s\n",
      "[CV] learning_rate=0.01, algorithm=SAMME.R, n_estimators=400 .........\n",
      "[CV]  learning_rate=0.01, algorithm=SAMME.R, n_estimators=500, score=0.7352272727272727, total=   0.1s\n",
      "[CV] learning_rate=0.01, algorithm=SAMME.R, n_estimators=500 .........\n",
      "[CV]  learning_rate=0.01, algorithm=SAMME, n_estimators=400, score=0.734085414987913, total=   0.1s\n",
      "[CV] learning_rate=0.01, algorithm=SAMME, n_estimators=400 ...........\n",
      "[CV]  learning_rate=0.001, algorithm=SAMME, n_estimators=500, score=0.726875, total=   0.1s\n",
      "[CV] learning_rate=0.001, algorithm=SAMME, n_estimators=500 ..........\n",
      "[CV]  learning_rate=0.01, algorithm=SAMME.R, n_estimators=500, score=0.7204545454545455, total=   0.1s\n",
      "[CV] learning_rate=0.01, algorithm=SAMME.R, n_estimators=500 .........\n",
      "[CV]  learning_rate=0.01, algorithm=SAMME.R, n_estimators=400, score=0.740787008119925, total=   0.1s\n",
      "[CV] learning_rate=0.01, algorithm=SAMME.R, n_estimators=400 .........\n",
      "[CV]  learning_rate=0.01, algorithm=SAMME.R, n_estimators=500, score=0.7068181818181818, total=   0.1s\n",
      "[CV] learning_rate=0.01, algorithm=SAMME.R, n_estimators=500 .........\n",
      "[CV]  learning_rate=0.01, algorithm=SAMME, n_estimators=400, score=0.7211925866236906, total=   0.1s\n",
      "[CV] learning_rate=0.01, algorithm=SAMME, n_estimators=400 ...........\n",
      "[CV]  learning_rate=0.001, algorithm=SAMME, n_estimators=500, score=0.72875, total=   0.1s\n",
      "[CV] learning_rate=0.001, algorithm=SAMME, n_estimators=500 ..........\n",
      "[CV]  learning_rate=0.01, algorithm=SAMME.R, n_estimators=500, score=0.7136363636363636, total=   0.1s\n",
      "[CV] learning_rate=0.01, algorithm=SAMME.R, n_estimators=500 .........\n",
      "[CV]  learning_rate=0.01, algorithm=SAMME, n_estimators=400, score=0.7185483870967742, total=   0.1s\n",
      "[CV] learning_rate=0.01, algorithm=SAMME, n_estimators=400 ...........\n",
      "[CV]  learning_rate=0.01, algorithm=SAMME.R, n_estimators=400, score=0.7301686445971268, total=   0.1s\n",
      "[CV] learning_rate=0.01, algorithm=SAMME.R, n_estimators=400 .........\n",
      "[CV]  learning_rate=0.01, algorithm=SAMME.R, n_estimators=500, score=0.7113636363636363, total=   0.1s\n",
      "[CV] learning_rate=0.01, algorithm=SAMME.R, n_estimators=400 .........\n",
      "[CV]  learning_rate=0.001, algorithm=SAMME, n_estimators=500, score=0.74, total=   0.1s\n",
      "[CV] learning_rate=0.001, algorithm=SAMME, n_estimators=500 ..........\n",
      "[CV]  learning_rate=0.01, algorithm=SAMME, n_estimators=400, score=0.7360774818401937, total=   0.1s\n",
      "[CV] learning_rate=0.01, algorithm=SAMME, n_estimators=400 ...........\n",
      "[CV]  learning_rate=0.01, algorithm=SAMME.R, n_estimators=400, score=0.75, total=   0.1s\n",
      "[CV] learning_rate=0.01, algorithm=SAMME.R, n_estimators=400 .........\n",
      "[CV]  learning_rate=0.01, algorithm=SAMME.R, n_estimators=400, score=0.72375, total=   0.1s\n",
      "[CV] learning_rate=0.01, algorithm=SAMME.R, n_estimators=400 .........\n",
      "[CV]  learning_rate=0.01, algorithm=SAMME.R, n_estimators=400, score=0.7, total=   0.1s\n",
      "[CV] learning_rate=0.01, algorithm=SAMME.R, n_estimators=400 .........\n",
      "[CV]  learning_rate=0.01, algorithm=SAMME, n_estimators=400, score=0.7263922518159807, total=   0.1s\n",
      "[CV] learning_rate=0.1, algorithm=SAMME, n_estimators=500 ............\n",
      "[CV]  learning_rate=0.001, algorithm=SAMME, n_estimators=500, score=0.7448405253283302, total=   0.1s\n",
      "[CV] learning_rate=0.001, algorithm=SAMME, n_estimators=400 ..........\n",
      "[CV]  learning_rate=0.01, algorithm=SAMME.R, n_estimators=400, score=0.7011363636363637, total=   0.1s\n",
      "[CV] learning_rate=0.01, algorithm=SAMME.R, n_estimators=400 .........\n",
      "[CV]  learning_rate=0.01, algorithm=SAMME.R, n_estimators=400, score=0.7123202001250781, total=   0.1s\n",
      "[CV] learning_rate=0.01, algorithm=SAMME.R, n_estimators=400 .........\n",
      "[CV]  learning_rate=0.1, algorithm=SAMME, n_estimators=500, score=0.7356970185334408, total=   0.1s\n",
      "[CV] learning_rate=0.1, algorithm=SAMME, n_estimators=500 ............\n",
      "[CV]  learning_rate=0.01, algorithm=SAMME.R, n_estimators=400, score=0.7045454545454546, total=   0.1s\n",
      "[CV] learning_rate=0.01, algorithm=SAMME.R, n_estimators=400 .........\n",
      "[CV]  learning_rate=0.001, algorithm=SAMME, n_estimators=400, score=0.7239225484072455, total=   0.1s\n",
      "[CV] learning_rate=0.001, algorithm=SAMME, n_estimators=400 ..........\n",
      "[CV]  learning_rate=0.01, algorithm=SAMME.R, n_estimators=400, score=0.7193181818181819, total=   0.1s\n",
      "[CV] learning_rate=0.1, algorithm=SAMME.R, n_estimators=500 ..........\n",
      "[CV]  learning_rate=0.1, algorithm=SAMME, n_estimators=500, score=0.7211925866236906, total=   0.1s\n",
      "[CV] learning_rate=0.1, algorithm=SAMME, n_estimators=500 ............\n",
      "[CV]  learning_rate=0.01, algorithm=SAMME.R, n_estimators=400, score=0.7173233270794246, total=   0.1s\n",
      "[CV] learning_rate=0.1, algorithm=SAMME.R, n_estimators=500 ..........\n",
      "[CV]  learning_rate=0.1, algorithm=SAMME.R, n_estimators=500, score=0.7272727272727273, total=   0.1s\n",
      "[CV] learning_rate=0.1, algorithm=SAMME.R, n_estimators=500 ..........\n",
      "[CV]  learning_rate=0.001, algorithm=SAMME, n_estimators=400, score=0.72375, total=   0.1s\n",
      "[CV] learning_rate=0.001, algorithm=SAMME, n_estimators=400 ..........\n",
      "[CV]  learning_rate=0.1, algorithm=SAMME, n_estimators=500, score=0.717741935483871, total=   0.1s\n",
      "[CV] learning_rate=0.1, algorithm=SAMME, n_estimators=500 ............\n",
      "[CV]  learning_rate=0.1, algorithm=SAMME.R, n_estimators=500, score=0.7159090909090909, total=   0.1s\n",
      "[CV] learning_rate=0.1, algorithm=SAMME.R, n_estimators=500 ..........\n",
      "[CV]  learning_rate=0.1, algorithm=SAMME.R, n_estimators=500, score=0.7282948157401624, total=   0.1s\n",
      "[CV] learning_rate=0.1, algorithm=SAMME.R, n_estimators=500 ..........\n",
      "[CV]  learning_rate=0.1, algorithm=SAMME, n_estimators=500, score=0.7376916868442293, total=   0.1s\n",
      "[CV] learning_rate=0.1, algorithm=SAMME, n_estimators=500 ............\n",
      "[CV]  learning_rate=0.1, algorithm=SAMME.R, n_estimators=500, score=0.6977272727272728, total=   0.1s\n",
      "[CV] learning_rate=0.1, algorithm=SAMME.R, n_estimators=500 ..........\n",
      "[CV]  learning_rate=0.001, algorithm=SAMME, n_estimators=400, score=0.730625, total=   0.1s\n",
      "[CV] learning_rate=0.001, algorithm=SAMME, n_estimators=400 ..........\n",
      "[CV]  learning_rate=0.1, algorithm=SAMME.R, n_estimators=500, score=0.7125, total=   0.1s\n",
      "[CV] learning_rate=0.1, algorithm=SAMME.R, n_estimators=500 ..........\n",
      "[CV]  learning_rate=0.1, algorithm=SAMME.R, n_estimators=500, score=0.7339163023110555, total=   0.1s\n",
      "[CV] learning_rate=0.1, algorithm=SAMME.R, n_estimators=500 ..........\n",
      "[CV]  learning_rate=0.1, algorithm=SAMME, n_estimators=500, score=0.7304277643260694, total=   0.1s\n",
      "[CV] learning_rate=0.1, algorithm=SAMME, n_estimators=400 ............\n",
      "[CV]  learning_rate=0.1, algorithm=SAMME.R, n_estimators=500, score=0.7159090909090909, total=   0.1s\n",
      "[CV] learning_rate=0.1, algorithm=SAMME.R, n_estimators=400 ..........\n",
      "[CV]  learning_rate=0.001, algorithm=SAMME, n_estimators=400, score=0.728125, total=   0.1s\n",
      "[CV] learning_rate=0.001, algorithm=SAMME, n_estimators=400 ..........\n",
      "[CV]  learning_rate=0.1, algorithm=SAMME, n_estimators=400, score=0.7373086220789685, total=   0.1s\n",
      "[CV] learning_rate=0.1, algorithm=SAMME, n_estimators=400 ............\n",
      "[CV]  learning_rate=0.1, algorithm=SAMME.R, n_estimators=400, score=0.7340909090909091, total=   0.1s\n",
      "[CV] learning_rate=0.1, algorithm=SAMME.R, n_estimators=400 ..........\n",
      "[CV]  learning_rate=0.1, algorithm=SAMME.R, n_estimators=500, score=0.7225, total=   0.1s\n",
      "[CV] learning_rate=0.1, algorithm=SAMME.R, n_estimators=500 ..........\n",
      "[CV]  learning_rate=0.001, algorithm=SAMME, n_estimators=400, score=0.7417135709818636, total=   0.1s\n",
      "[CV] learning_rate=0.01, algorithm=SAMME, n_estimators=500 ...........\n",
      "[CV]  learning_rate=0.1, algorithm=SAMME.R, n_estimators=400, score=0.7159090909090909, total=   0.1s\n",
      "[CV] learning_rate=0.1, algorithm=SAMME.R, n_estimators=400 ..........\n",
      "[CV]  learning_rate=0.1, algorithm=SAMME, n_estimators=400, score=0.7244157937147462, total=   0.1s\n",
      "[CV] learning_rate=0.1, algorithm=SAMME, n_estimators=400 ............\n",
      "[CV]  learning_rate=0.1, algorithm=SAMME.R, n_estimators=400, score=0.7022727272727273, total=   0.1s\n",
      "[CV] learning_rate=0.1, algorithm=SAMME.R, n_estimators=400 ..........\n",
      "[CV]  learning_rate=0.1, algorithm=SAMME.R, n_estimators=500, score=0.7141963727329581, total=   0.1s\n",
      "[CV] learning_rate=0.1, algorithm=SAMME.R, n_estimators=500 ..........\n",
      "[CV]  learning_rate=0.1, algorithm=SAMME, n_estimators=400, score=0.7161290322580646, total=   0.1s\n",
      "[CV] learning_rate=0.1, algorithm=SAMME, n_estimators=400 ............\n",
      "[CV]  learning_rate=0.01, algorithm=SAMME, n_estimators=500, score=0.7332916926920675, total=   0.2s\n",
      "[CV] learning_rate=0.01, algorithm=SAMME, n_estimators=500 ...........\n",
      "[CV]  learning_rate=0.1, algorithm=SAMME.R, n_estimators=400, score=0.7079545454545455, total=   0.1s\n",
      "[CV] learning_rate=0.1, algorithm=SAMME.R, n_estimators=400 ..........\n",
      "[CV]  learning_rate=0.1, algorithm=SAMME.R, n_estimators=400, score=0.7011363636363637, total=   0.1s\n",
      "[CV] learning_rate=1, algorithm=SAMME.R, n_estimators=500 ............\n",
      "[CV]  learning_rate=0.1, algorithm=SAMME.R, n_estimators=500, score=0.726078799249531, total=   0.2s\n",
      "[CV] learning_rate=0.1, algorithm=SAMME.R, n_estimators=400 ..........\n",
      "[CV]  learning_rate=0.1, algorithm=SAMME, n_estimators=400, score=0.7336561743341404, total=   0.1s\n",
      "[CV] learning_rate=0.1, algorithm=SAMME, n_estimators=400 ............\n",
      "[CV]  learning_rate=0.01, algorithm=SAMME, n_estimators=500, score=0.721875, total=   0.1s\n",
      "[CV] learning_rate=0.01, algorithm=SAMME, n_estimators=500 ...........\n",
      "[CV]  learning_rate=1, algorithm=SAMME.R, n_estimators=500, score=0.7318181818181818, total=   0.1s\n",
      "[CV] learning_rate=1, algorithm=SAMME.R, n_estimators=500 ............\n",
      "[CV]  learning_rate=0.1, algorithm=SAMME, n_estimators=400, score=0.7263922518159807, total=   0.1s\n",
      "[CV] learning_rate=1, algorithm=SAMME, n_estimators=500 ..............\n",
      "[CV]  learning_rate=0.1, algorithm=SAMME.R, n_estimators=400, score=0.7326670830730794, total=   0.1s\n",
      "[CV]  learning_rate=1, algorithm=SAMME.R, n_estimators=500, score=0.7215909090909091, total=   0.1s\n",
      "[CV] learning_rate=0.1, algorithm=SAMME.R, n_estimators=400 ..........\n",
      "[CV] learning_rate=1, algorithm=SAMME.R, n_estimators=500 ............\n",
      "[CV]  learning_rate=0.01, algorithm=SAMME, n_estimators=500, score=0.728125, total=   0.1s\n",
      "[CV] learning_rate=0.01, algorithm=SAMME, n_estimators=500 ...........\n",
      "[CV]  learning_rate=1, algorithm=SAMME.R, n_estimators=500, score=0.7011363636363637, total=   0.1s\n",
      "[CV] learning_rate=1, algorithm=SAMME.R, n_estimators=500 ............\n",
      "[CV]  learning_rate=1, algorithm=SAMME, n_estimators=500, score=0.7324738114423852, total=   0.1s\n",
      "[CV] learning_rate=1, algorithm=SAMME, n_estimators=500 ..............\n",
      "[CV]  learning_rate=0.1, algorithm=SAMME.R, n_estimators=400, score=0.726420986883198, total=   0.1s\n",
      "[CV] learning_rate=0.1, algorithm=SAMME.R, n_estimators=400 ..........\n",
      "[CV]  learning_rate=1, algorithm=SAMME.R, n_estimators=500, score=0.7159090909090909, total=   0.1s\n",
      "[CV] learning_rate=1, algorithm=SAMME.R, n_estimators=500 ............\n",
      "[CV]  learning_rate=1, algorithm=SAMME, n_estimators=500, score=0.7292506043513296, total=   0.1s\n",
      "[CV]  learning_rate=0.01, algorithm=SAMME, n_estimators=500, score=0.733125, total=   0.1s\n",
      "[CV] learning_rate=1, algorithm=SAMME, n_estimators=500 ..............\n",
      "[CV] learning_rate=0.01, algorithm=SAMME, n_estimators=500 ...........\n",
      "[CV]  learning_rate=1, algorithm=SAMME.R, n_estimators=500, score=0.7102272727272727, total=   0.1s\n",
      "[CV] learning_rate=1, algorithm=SAMME.R, n_estimators=400 ............\n",
      "[CV]  learning_rate=1, algorithm=SAMME, n_estimators=500, score=0.7233870967741935, total=   0.1s\n",
      "[CV] learning_rate=1, algorithm=SAMME, n_estimators=500 ..............\n",
      "[CV]  learning_rate=1, algorithm=SAMME.R, n_estimators=400, score=0.7272727272727273, total=   0.1s\n",
      "[CV] learning_rate=1, algorithm=SAMME.R, n_estimators=400 ............\n",
      "[CV]  learning_rate=0.1, algorithm=SAMME.R, n_estimators=400, score=0.71625, total=   0.2s\n",
      "[CV] learning_rate=0.1, algorithm=SAMME.R, n_estimators=400 ..........\n",
      "[CV]  learning_rate=0.01, algorithm=SAMME, n_estimators=500, score=0.7335834896810507, total=   0.1s\n",
      "[CV] learning_rate=0.01, algorithm=SAMME, n_estimators=400 ...........\n",
      "[CV]  learning_rate=1, algorithm=SAMME.R, n_estimators=400, score=0.7079545454545455, total=   0.1s\n",
      "[CV] learning_rate=1, algorithm=SAMME.R, n_estimators=400 ............\n",
      "[CV]  learning_rate=1, algorithm=SAMME, n_estimators=500, score=0.7304277643260694, total=   0.1s\n",
      "[CV] learning_rate=1, algorithm=SAMME, n_estimators=500 ..............\n",
      "[CV]  learning_rate=0.1, algorithm=SAMME.R, n_estimators=400, score=0.707942464040025, total=   0.1s\n",
      "[CV] learning_rate=0.1, algorithm=SAMME.R, n_estimators=400 ..........\n",
      "[CV]  learning_rate=1, algorithm=SAMME.R, n_estimators=400, score=0.7068181818181818, total=   0.1s\n",
      "[CV] learning_rate=1, algorithm=SAMME.R, n_estimators=400 ............\n",
      "[CV]  learning_rate=0.01, algorithm=SAMME, n_estimators=400, score=0.7326670830730794, total=   0.2s\n",
      "[CV] learning_rate=0.01, algorithm=SAMME, n_estimators=400 ...........\n",
      "[CV]  learning_rate=1, algorithm=SAMME, n_estimators=500, score=0.7271993543179984, total=   0.1s\n",
      "[CV] learning_rate=1, algorithm=SAMME, n_estimators=400 ..............\n",
      "[CV]  learning_rate=1, algorithm=SAMME.R, n_estimators=400, score=0.7125, total=   0.1s\n",
      "[CV] learning_rate=1, algorithm=SAMME.R, n_estimators=400 ............\n",
      "[CV]  learning_rate=0.1, algorithm=SAMME.R, n_estimators=400, score=0.7298311444652908, total=   0.2s\n",
      "[CV] learning_rate=1, algorithm=SAMME.R, n_estimators=500 ............\n",
      "[CV]  learning_rate=1, algorithm=SAMME.R, n_estimators=400, score=0.7056818181818182, total=   0.1s\n"
     ]
    },
    {
     "name": "stderr",
     "output_type": "stream",
     "text": [
      "[Parallel(n_jobs=-1)]: Done 120 out of 120 | elapsed:    9.1s finished\n"
     ]
    },
    {
     "name": "stdout",
     "output_type": "stream",
     "text": [
      "[CV]  learning_rate=1, algorithm=SAMME, n_estimators=400, score=0.7437550362610797, total=   0.1s\n",
      "[CV] learning_rate=1, algorithm=SAMME, n_estimators=400 ..............\n",
      "[CV]  learning_rate=0.01, algorithm=SAMME, n_estimators=400, score=0.72875, total=   0.2s\n",
      "[CV] learning_rate=0.01, algorithm=SAMME, n_estimators=400 ...........\n",
      "Fitting 5 folds for each of 24 candidates, totalling 120 fits\n"
     ]
    },
    {
     "name": "stderr",
     "output_type": "stream",
     "text": [
      "/Users/gali/anaconda/envs/carnd-term1/lib/python3.5/site-packages/sklearn/externals/joblib/parallel.py:547: UserWarning: Multiprocessing-backed parallel loops cannot be nested, setting n_jobs=1\n",
      "  **self._backend_args)\n"
     ]
    },
    {
     "name": "stdout",
     "output_type": "stream",
     "text": [
      "[CV] learning_rate=1e-05, algorithm=SAMME, n_estimators=500 ..........\n",
      "[CV]  learning_rate=1e-05, algorithm=SAMME, n_estimators=500, score=0.7204968944099379, total=   0.0s\n",
      "[CV]  learning_rate=1, algorithm=SAMME, n_estimators=400, score=0.7203867848509267, total=   0.1s\n",
      "[CV]  learning_rate=1, algorithm=SAMME.R, n_estimators=500, score=0.7270455965021861, total=   0.2s\n"
     ]
    },
    {
     "name": "stderr",
     "output_type": "stream",
     "text": [
      "[Parallel(n_jobs=-1)]: Done   1 out of   1 | elapsed:    0.0s remaining:    0.0s\n"
     ]
    },
    {
     "name": "stdout",
     "output_type": "stream",
     "text": [
      "[CV] learning_rate=1, algorithm=SAMME.R, n_estimators=500 ............\n",
      "[CV] learning_rate=1, algorithm=SAMME, n_estimators=400 ..............\n",
      "[CV] learning_rate=1e-05, algorithm=SAMME, n_estimators=500 ..........\n",
      "[CV]  learning_rate=1e-05, algorithm=SAMME, n_estimators=500, score=0.7625, total=   0.0s\n"
     ]
    },
    {
     "name": "stderr",
     "output_type": "stream",
     "text": [
      "[Parallel(n_jobs=-1)]: Done   2 out of   2 | elapsed:    0.0s remaining:    0.0s\n"
     ]
    },
    {
     "name": "stdout",
     "output_type": "stream",
     "text": [
      "[CV] learning_rate=1e-05, algorithm=SAMME, n_estimators=500 ..........\n",
      "[CV]  learning_rate=1e-05, algorithm=SAMME, n_estimators=500, score=0.625, total=   0.0s\n",
      "[CV]  learning_rate=0.01, algorithm=SAMME, n_estimators=400, score=0.731875, total=   0.2s\n"
     ]
    },
    {
     "name": "stderr",
     "output_type": "stream",
     "text": [
      "[Parallel(n_jobs=-1)]: Done   3 out of   3 | elapsed:    0.1s remaining:    0.0s\n"
     ]
    },
    {
     "name": "stdout",
     "output_type": "stream",
     "text": [
      "[CV] learning_rate=0.01, algorithm=SAMME, n_estimators=400 ...........\n",
      "[CV] learning_rate=1e-05, algorithm=SAMME, n_estimators=500 ..........\n",
      "[CV]  learning_rate=1e-05, algorithm=SAMME, n_estimators=500, score=0.6875, total=   0.0s\n"
     ]
    },
    {
     "name": "stderr",
     "output_type": "stream",
     "text": [
      "[Parallel(n_jobs=-1)]: Done   4 out of   4 | elapsed:    0.1s remaining:    0.0s\n"
     ]
    },
    {
     "name": "stdout",
     "output_type": "stream",
     "text": [
      "[CV] learning_rate=1e-05, algorithm=SAMME, n_estimators=500 ..........\n",
      "[CV]  learning_rate=1e-05, algorithm=SAMME, n_estimators=500, score=0.710691823899371, total=   0.0s\n"
     ]
    },
    {
     "name": "stderr",
     "output_type": "stream",
     "text": [
      "[Parallel(n_jobs=-1)]: Done   5 out of   5 | elapsed:    0.1s remaining:    0.0s\n"
     ]
    },
    {
     "name": "stdout",
     "output_type": "stream",
     "text": [
      "[CV] learning_rate=1e-05, algorithm=SAMME, n_estimators=400 ..........\n",
      "[CV]  learning_rate=1e-05, algorithm=SAMME, n_estimators=400, score=0.6956521739130435, total=   0.0s\n"
     ]
    },
    {
     "name": "stderr",
     "output_type": "stream",
     "text": [
      "[Parallel(n_jobs=-1)]: Done   6 out of   6 | elapsed:    0.1s remaining:    0.0s\n"
     ]
    },
    {
     "name": "stdout",
     "output_type": "stream",
     "text": [
      "[CV] learning_rate=1e-05, algorithm=SAMME, n_estimators=400 ..........\n",
      "[CV]  learning_rate=1, algorithm=SAMME, n_estimators=400, score=0.7137096774193549, total=   0.1s\n",
      "[CV]  learning_rate=1e-05, algorithm=SAMME, n_estimators=400, score=0.7375, total=   0.0s\n",
      "[CV] learning_rate=1, algorithm=SAMME, n_estimators=400 ..............\n"
     ]
    },
    {
     "name": "stderr",
     "output_type": "stream",
     "text": [
      "[Parallel(n_jobs=-1)]: Done   7 out of   7 | elapsed:    0.1s remaining:    0.0s\n"
     ]
    },
    {
     "name": "stdout",
     "output_type": "stream",
     "text": [
      "[CV] learning_rate=1e-05, algorithm=SAMME, n_estimators=400 ..........\n",
      "[CV]  learning_rate=1e-05, algorithm=SAMME, n_estimators=400, score=0.65, total=   0.0s\n"
     ]
    },
    {
     "name": "stderr",
     "output_type": "stream",
     "text": [
      "[Parallel(n_jobs=-1)]: Done   8 out of   8 | elapsed:    0.2s remaining:    0.0s\n"
     ]
    },
    {
     "name": "stdout",
     "output_type": "stream",
     "text": [
      "[CV] learning_rate=1e-05, algorithm=SAMME, n_estimators=400 ..........\n",
      "[CV]  learning_rate=1e-05, algorithm=SAMME, n_estimators=400, score=0.68125, total=   0.0s\n",
      "[CV]  learning_rate=1, algorithm=SAMME.R, n_estimators=500, score=0.7270455965021861, total=   0.2s\n"
     ]
    },
    {
     "name": "stderr",
     "output_type": "stream",
     "text": [
      "[Parallel(n_jobs=-1)]: Done   9 out of   9 | elapsed:    0.2s remaining:    0.0s\n"
     ]
    },
    {
     "name": "stdout",
     "output_type": "stream",
     "text": [
      "[CV] learning_rate=1, algorithm=SAMME.R, n_estimators=500 ............\n",
      "[CV] learning_rate=1e-05, algorithm=SAMME, n_estimators=400 ..........\n",
      "[CV]  learning_rate=1e-05, algorithm=SAMME, n_estimators=400, score=0.6918238993710691, total=   0.0s\n",
      "[CV] learning_rate=0.0001, algorithm=SAMME, n_estimators=500 .........\n",
      "[CV]  learning_rate=0.0001, algorithm=SAMME, n_estimators=500, score=0.6708074534161491, total=   0.0s\n",
      "[CV] learning_rate=0.0001, algorithm=SAMME, n_estimators=500 .........\n",
      "[CV]  learning_rate=0.01, algorithm=SAMME, n_estimators=400, score=0.735625, total=   0.2s\n",
      "[CV] learning_rate=0.01, algorithm=SAMME, n_estimators=400 ...........\n",
      "[CV]  learning_rate=0.0001, algorithm=SAMME, n_estimators=500, score=0.73125, total=   0.0s\n",
      "[CV] learning_rate=0.0001, algorithm=SAMME, n_estimators=500 .........\n",
      "[CV]  learning_rate=0.0001, algorithm=SAMME, n_estimators=500, score=0.625, total=   0.0s\n",
      "[CV] learning_rate=0.0001, algorithm=SAMME, n_estimators=500 .........\n",
      "[CV]  learning_rate=1, algorithm=SAMME, n_estimators=400, score=0.7401129943502824, total=   0.1s\n",
      "[CV] learning_rate=1, algorithm=SAMME, n_estimators=400 ..............\n",
      "[CV]  learning_rate=0.0001, algorithm=SAMME, n_estimators=500, score=0.7, total=   0.0s\n",
      "[CV] learning_rate=0.0001, algorithm=SAMME, n_estimators=500 .........\n",
      "[CV]  learning_rate=0.0001, algorithm=SAMME, n_estimators=500, score=0.710691823899371, total=   0.0s\n",
      "[CV] learning_rate=0.0001, algorithm=SAMME, n_estimators=400 .........\n",
      "[CV]  learning_rate=0.0001, algorithm=SAMME, n_estimators=400, score=0.6894409937888198, total=   0.0s\n",
      "[CV] learning_rate=0.0001, algorithm=SAMME, n_estimators=400 .........\n",
      "[CV]  learning_rate=0.0001, algorithm=SAMME, n_estimators=400, score=0.73125, total=   0.0s\n",
      "[CV] learning_rate=0.0001, algorithm=SAMME, n_estimators=400 .........\n",
      "[CV]  learning_rate=0.0001, algorithm=SAMME, n_estimators=400, score=0.625, total=   0.0s\n",
      "[CV] learning_rate=0.0001, algorithm=SAMME, n_estimators=400 .........\n",
      "[CV]  learning_rate=1, algorithm=SAMME.R, n_estimators=500, score=0.725, total=   0.2s\n",
      "[CV] learning_rate=1, algorithm=SAMME.R, n_estimators=500 ............\n",
      "[CV]  learning_rate=0.0001, algorithm=SAMME, n_estimators=400, score=0.68125, total=   0.0s\n",
      "[CV] learning_rate=0.0001, algorithm=SAMME, n_estimators=400 .........\n",
      "[CV]  learning_rate=0.0001, algorithm=SAMME, n_estimators=400, score=0.6729559748427673, total=   0.0s\n",
      "[CV] learning_rate=0.001, algorithm=SAMME, n_estimators=500 ..........\n",
      "[CV]  learning_rate=1, algorithm=SAMME, n_estimators=400, score=0.741727199354318, total=   0.1s\n",
      "[CV] learning_rate=1e-05, algorithm=SAMME.R, n_estimators=500 ........\n",
      "[CV]  learning_rate=0.01, algorithm=SAMME, n_estimators=400, score=0.7335834896810507, total=   0.2s\n",
      "[CV] learning_rate=0.1, algorithm=SAMME, n_estimators=500 ............\n",
      "[CV]  learning_rate=0.001, algorithm=SAMME, n_estimators=500, score=0.6832298136645962, total=   0.0s\n",
      "[CV] learning_rate=0.001, algorithm=SAMME, n_estimators=500 ..........\n",
      "[CV]  learning_rate=0.001, algorithm=SAMME, n_estimators=500, score=0.75625, total=   0.0s\n",
      "[CV] learning_rate=0.001, algorithm=SAMME, n_estimators=500 ..........\n",
      "[CV]  learning_rate=0.001, algorithm=SAMME, n_estimators=500, score=0.61875, total=   0.0s\n",
      "[CV] learning_rate=0.001, algorithm=SAMME, n_estimators=500 ..........\n",
      "[CV]  learning_rate=0.001, algorithm=SAMME, n_estimators=500, score=0.70625, total=   0.0s\n",
      "[CV] learning_rate=0.001, algorithm=SAMME, n_estimators=500 ..........\n",
      "[CV]  learning_rate=0.001, algorithm=SAMME, n_estimators=500, score=0.7169811320754716, total=   0.0s\n",
      "[CV] learning_rate=0.001, algorithm=SAMME, n_estimators=400 ..........\n",
      "[CV]  learning_rate=0.001, algorithm=SAMME, n_estimators=400, score=0.7142857142857143, total=   0.0s\n",
      "[CV] learning_rate=0.001, algorithm=SAMME, n_estimators=400 ..........\n",
      "[CV]  learning_rate=0.001, algorithm=SAMME, n_estimators=400, score=0.75, total=   0.0s\n",
      "[CV] learning_rate=0.001, algorithm=SAMME, n_estimators=400 ..........\n",
      "[CV]  learning_rate=1, algorithm=SAMME.R, n_estimators=500, score=0.717948717948718, total=   0.1s\n",
      "[CV] learning_rate=1, algorithm=SAMME.R, n_estimators=500 ............\n",
      "[CV]  learning_rate=0.001, algorithm=SAMME, n_estimators=400, score=0.64375, total=   0.0s\n",
      "[CV] learning_rate=0.001, algorithm=SAMME, n_estimators=400 ..........\n",
      "[CV]  learning_rate=1e-05, algorithm=SAMME.R, n_estimators=500, score=0.726027397260274, total=   0.1s\n",
      "[CV] learning_rate=1e-05, algorithm=SAMME.R, n_estimators=500 ........\n",
      "[CV]  learning_rate=0.001, algorithm=SAMME, n_estimators=400, score=0.68125, total=   0.0s\n",
      "[CV] learning_rate=0.001, algorithm=SAMME, n_estimators=400 ..........\n",
      "[CV]  learning_rate=0.1, algorithm=SAMME, n_estimators=500, score=0.7282948157401624, total=   0.2s\n",
      "[CV]  learning_rate=0.001, algorithm=SAMME, n_estimators=400, score=0.7044025157232704, total=   0.0s\n",
      "[CV] learning_rate=0.1, algorithm=SAMME, n_estimators=500 ............\n",
      "[CV] learning_rate=0.01, algorithm=SAMME, n_estimators=500 ...........\n",
      "[CV]  learning_rate=0.01, algorithm=SAMME, n_estimators=500, score=0.6832298136645962, total=   0.0s\n",
      "[CV] learning_rate=0.01, algorithm=SAMME, n_estimators=500 ...........\n",
      "[CV]  learning_rate=0.01, algorithm=SAMME, n_estimators=500, score=0.73125, total=   0.0s\n",
      "[CV] learning_rate=0.01, algorithm=SAMME, n_estimators=500 ...........\n",
      "[CV]  learning_rate=0.01, algorithm=SAMME, n_estimators=500, score=0.64375, total=   0.0s\n",
      "[CV] learning_rate=0.01, algorithm=SAMME, n_estimators=500 ...........\n",
      "[CV]  learning_rate=0.01, algorithm=SAMME, n_estimators=500, score=0.68125, total=   0.0s\n",
      "[CV] learning_rate=0.01, algorithm=SAMME, n_estimators=500 ...........\n",
      "[CV]  learning_rate=0.01, algorithm=SAMME, n_estimators=500, score=0.6729559748427673, total=   0.0s\n",
      "[CV]  learning_rate=1e-05, algorithm=SAMME.R, n_estimators=500, score=0.717969379532635, total=   0.1s\n",
      "[CV] learning_rate=0.01, algorithm=SAMME, n_estimators=400 ...........\n",
      "[CV] learning_rate=1e-05, algorithm=SAMME.R, n_estimators=500 ........\n",
      "[CV]  learning_rate=0.01, algorithm=SAMME, n_estimators=400, score=0.7018633540372671, total=   0.0s\n",
      "[CV] learning_rate=0.01, algorithm=SAMME, n_estimators=400 ...........\n",
      "[CV]  learning_rate=0.01, algorithm=SAMME, n_estimators=400, score=0.725, total=   0.0s\n",
      "[CV] learning_rate=0.01, algorithm=SAMME, n_estimators=400 ...........\n",
      "[CV]  learning_rate=1, algorithm=SAMME.R, n_estimators=500, score=0.7267041901188243, total=   0.2s\n",
      "[CV] learning_rate=1, algorithm=SAMME.R, n_estimators=400 ............\n",
      "[CV]  learning_rate=0.01, algorithm=SAMME, n_estimators=400, score=0.66875, total=   0.0s\n",
      "[CV] learning_rate=0.01, algorithm=SAMME, n_estimators=400 ...........\n",
      "[CV]  learning_rate=0.01, algorithm=SAMME, n_estimators=400, score=0.7, total=   0.0s\n",
      "[CV] learning_rate=0.01, algorithm=SAMME, n_estimators=400 ...........\n",
      "[CV]  learning_rate=0.1, algorithm=SAMME, n_estimators=500, score=0.719375, total=   0.2s\n",
      "[CV] learning_rate=0.1, algorithm=SAMME, n_estimators=500 ............\n",
      "[CV]  learning_rate=0.01, algorithm=SAMME, n_estimators=400, score=0.6666666666666666, total=   0.0s\n",
      "[CV] learning_rate=0.1, algorithm=SAMME, n_estimators=500 ............\n",
      "[CV]  learning_rate=0.1, algorithm=SAMME, n_estimators=500, score=0.6770186335403726, total=   0.0s\n",
      "[CV] learning_rate=0.1, algorithm=SAMME, n_estimators=500 ............\n",
      "[CV]  learning_rate=1e-05, algorithm=SAMME.R, n_estimators=500, score=0.714516129032258, total=   0.1s\n",
      "[CV] learning_rate=1e-05, algorithm=SAMME.R, n_estimators=500 ........\n",
      "[CV]  learning_rate=0.1, algorithm=SAMME, n_estimators=500, score=0.7375, total=   0.0s\n",
      "[CV] learning_rate=0.1, algorithm=SAMME, n_estimators=500 ............\n",
      "[CV]  learning_rate=0.1, algorithm=SAMME, n_estimators=500, score=0.63125, total=   0.0s\n",
      "[CV] learning_rate=0.1, algorithm=SAMME, n_estimators=500 ............\n",
      "[CV]  learning_rate=0.1, algorithm=SAMME, n_estimators=500, score=0.70625, total=   0.0s\n",
      "[CV] learning_rate=0.1, algorithm=SAMME, n_estimators=500 ............\n",
      "[CV]  learning_rate=0.1, algorithm=SAMME, n_estimators=500, score=0.7169811320754716, total=   0.0s\n",
      "[CV] learning_rate=0.1, algorithm=SAMME, n_estimators=400 ............\n",
      "[CV]  learning_rate=0.1, algorithm=SAMME, n_estimators=400, score=0.6832298136645962, total=   0.0s\n",
      "[CV] learning_rate=0.1, algorithm=SAMME, n_estimators=400 ............\n",
      "[CV]  learning_rate=1, algorithm=SAMME.R, n_estimators=400, score=0.7270455965021861, total=   0.1s\n",
      "[CV] learning_rate=1, algorithm=SAMME.R, n_estimators=400 ............\n",
      "[CV]  learning_rate=0.1, algorithm=SAMME, n_estimators=400, score=0.75625, total=   0.0s\n",
      "[CV] learning_rate=0.1, algorithm=SAMME, n_estimators=400 ............\n",
      "[CV]  learning_rate=0.1, algorithm=SAMME, n_estimators=400, score=0.63125, total=   0.0s\n",
      "[CV] learning_rate=0.1, algorithm=SAMME, n_estimators=400 ............\n",
      "[CV]  learning_rate=0.1, algorithm=SAMME, n_estimators=500, score=0.7325, total=   0.1s\n",
      "[CV]  learning_rate=1e-05, algorithm=SAMME.R, n_estimators=500, score=0.7288135593220338, total=   0.1s\n",
      "[CV] learning_rate=0.1, algorithm=SAMME, n_estimators=500 ............\n",
      "[CV] learning_rate=1e-05, algorithm=SAMME.R, n_estimators=500 ........\n",
      "[CV]  learning_rate=0.1, algorithm=SAMME, n_estimators=400, score=0.6875, total=   0.0s\n",
      "[CV] learning_rate=0.1, algorithm=SAMME, n_estimators=400 ............\n",
      "[CV]  learning_rate=0.1, algorithm=SAMME, n_estimators=400, score=0.7232704402515723, total=   0.0s\n",
      "[CV] learning_rate=1, algorithm=SAMME, n_estimators=500 ..............\n",
      "[CV]  learning_rate=1, algorithm=SAMME, n_estimators=500, score=0.6770186335403726, total=   0.0s\n",
      "[CV] learning_rate=1, algorithm=SAMME, n_estimators=500 ..............\n",
      "[CV]  learning_rate=1, algorithm=SAMME, n_estimators=500, score=0.7375, total=   0.0s\n",
      "[CV] learning_rate=1, algorithm=SAMME, n_estimators=500 ..............\n",
      "[CV]  learning_rate=1, algorithm=SAMME, n_estimators=500, score=0.64375, total=   0.0s\n",
      "[CV] learning_rate=1, algorithm=SAMME, n_estimators=500 ..............\n",
      "[CV]  learning_rate=1, algorithm=SAMME, n_estimators=500, score=0.675, total=   0.0s\n",
      "[CV] learning_rate=1, algorithm=SAMME, n_estimators=500 ..............\n",
      "[CV]  learning_rate=1e-05, algorithm=SAMME.R, n_estimators=500, score=0.7304277643260694, total=   0.1s\n",
      "[CV]  learning_rate=1, algorithm=SAMME, n_estimators=500, score=0.6981132075471698, total=   0.0s\n",
      "[CV] learning_rate=1, algorithm=SAMME, n_estimators=400 ..............\n",
      "[CV] learning_rate=1e-05, algorithm=SAMME.R, n_estimators=400 ........\n",
      "[CV]  learning_rate=1, algorithm=SAMME.R, n_estimators=400, score=0.7270455965021861, total=   0.2s\n",
      "[CV] learning_rate=1, algorithm=SAMME.R, n_estimators=400 ............\n",
      "[CV]  learning_rate=1, algorithm=SAMME, n_estimators=400, score=0.7080745341614907, total=   0.0s\n",
      "[CV] learning_rate=1, algorithm=SAMME, n_estimators=400 ..............\n",
      "[CV]  learning_rate=0.1, algorithm=SAMME, n_estimators=500, score=0.730625, total=   0.2s\n",
      "[CV]  learning_rate=1, algorithm=SAMME, n_estimators=400, score=0.75, total=   0.0s\n",
      "[CV] learning_rate=0.1, algorithm=SAMME, n_estimators=500 ............\n",
      "[CV] learning_rate=1, algorithm=SAMME, n_estimators=400 ..............\n",
      "[CV]  learning_rate=1, algorithm=SAMME, n_estimators=400, score=0.6375, total=   0.0s\n",
      "[CV] learning_rate=1, algorithm=SAMME, n_estimators=400 ..............\n",
      "[CV]  learning_rate=1, algorithm=SAMME, n_estimators=400, score=0.675, total=   0.0s\n",
      "[CV] learning_rate=1, algorithm=SAMME, n_estimators=400 ..............\n",
      "[CV]  learning_rate=1, algorithm=SAMME, n_estimators=400, score=0.6855345911949685, total=   0.0s\n",
      "[CV] learning_rate=1e-05, algorithm=SAMME.R, n_estimators=500 ........\n",
      "[CV]  learning_rate=1e-05, algorithm=SAMME.R, n_estimators=500, score=0.6708074534161491, total=   0.0s\n",
      "[CV] learning_rate=1e-05, algorithm=SAMME.R, n_estimators=500 ........\n",
      "[CV]  learning_rate=1e-05, algorithm=SAMME.R, n_estimators=500, score=0.71875, total=   0.0s\n",
      "[CV] learning_rate=1e-05, algorithm=SAMME.R, n_estimators=500 ........\n",
      "[CV]  learning_rate=1e-05, algorithm=SAMME.R, n_estimators=400, score=0.734085414987913, total=   0.1s\n",
      "[CV] learning_rate=1e-05, algorithm=SAMME.R, n_estimators=400 ........\n",
      "[CV]  learning_rate=1e-05, algorithm=SAMME.R, n_estimators=500, score=0.65625, total=   0.0s\n",
      "[CV] learning_rate=1e-05, algorithm=SAMME.R, n_estimators=500 ........\n",
      "[CV]  learning_rate=1e-05, algorithm=SAMME.R, n_estimators=500, score=0.70625, total=   0.0s\n",
      "[CV] learning_rate=1e-05, algorithm=SAMME.R, n_estimators=500 ........\n",
      "[CV]  learning_rate=1e-05, algorithm=SAMME.R, n_estimators=500, score=0.6855345911949685, total=   0.0s\n",
      "[CV] learning_rate=1e-05, algorithm=SAMME.R, n_estimators=400 ........\n",
      "[CV]  learning_rate=1, algorithm=SAMME.R, n_estimators=400, score=0.720625, total=   0.2s\n",
      "[CV] learning_rate=1, algorithm=SAMME.R, n_estimators=400 ............\n",
      "[CV]  learning_rate=1e-05, algorithm=SAMME.R, n_estimators=400, score=0.6770186335403726, total=   0.0s\n",
      "[CV] learning_rate=1e-05, algorithm=SAMME.R, n_estimators=400 ........\n",
      "[CV]  learning_rate=0.1, algorithm=SAMME, n_estimators=500, score=0.742338961851157, total=   0.1s\n",
      "[CV] learning_rate=0.1, algorithm=SAMME, n_estimators=400 ............\n",
      "[CV]  learning_rate=1e-05, algorithm=SAMME.R, n_estimators=400, score=0.74375, total=   0.0s\n",
      "[CV] learning_rate=1e-05, algorithm=SAMME.R, n_estimators=400 ........\n",
      "[CV]  learning_rate=1e-05, algorithm=SAMME.R, n_estimators=400, score=0.66875, total=   0.0s\n",
      "[CV] learning_rate=1e-05, algorithm=SAMME.R, n_estimators=400 ........\n",
      "[CV]  learning_rate=1e-05, algorithm=SAMME.R, n_estimators=400, score=0.7, total=   0.0s\n",
      "[CV] learning_rate=1e-05, algorithm=SAMME.R, n_estimators=400 ........\n",
      "[CV]  learning_rate=1e-05, algorithm=SAMME.R, n_estimators=400, score=0.726027397260274, total=   0.1s\n",
      "[CV] learning_rate=1e-05, algorithm=SAMME.R, n_estimators=400 ........\n",
      "[CV]  learning_rate=1e-05, algorithm=SAMME.R, n_estimators=400, score=0.6918238993710691, total=   0.0s\n",
      "[CV] learning_rate=0.0001, algorithm=SAMME.R, n_estimators=500 .......\n",
      "[CV]  learning_rate=0.0001, algorithm=SAMME.R, n_estimators=500, score=0.6832298136645962, total=   0.0s\n",
      "[CV] learning_rate=0.0001, algorithm=SAMME.R, n_estimators=500 .......\n",
      "[CV]  learning_rate=0.0001, algorithm=SAMME.R, n_estimators=500, score=0.7125, total=   0.0s\n",
      "[CV] learning_rate=0.0001, algorithm=SAMME.R, n_estimators=500 .......\n",
      "[CV]  learning_rate=0.0001, algorithm=SAMME.R, n_estimators=500, score=0.625, total=   0.0s\n",
      "[CV] learning_rate=0.0001, algorithm=SAMME.R, n_estimators=500 .......\n",
      "[CV]  learning_rate=0.0001, algorithm=SAMME.R, n_estimators=500, score=0.71875, total=   0.0s\n",
      "[CV]  learning_rate=1, algorithm=SAMME.R, n_estimators=400, score=0.7166979362101313, total=   0.1s\n",
      "[CV] learning_rate=0.0001, algorithm=SAMME.R, n_estimators=500 .......\n",
      "[CV] learning_rate=1, algorithm=SAMME.R, n_estimators=400 ............\n",
      "[CV]  learning_rate=0.0001, algorithm=SAMME.R, n_estimators=500, score=0.7044025157232704, total=   0.0s\n",
      "[CV] learning_rate=0.0001, algorithm=SAMME.R, n_estimators=400 .......\n",
      "[CV]  learning_rate=0.1, algorithm=SAMME, n_estimators=400, score=0.7364147407870081, total=   0.1s\n",
      "[CV] learning_rate=0.1, algorithm=SAMME, n_estimators=400 ............\n",
      "[CV]  learning_rate=1e-05, algorithm=SAMME.R, n_estimators=400, score=0.725, total=   0.1s\n",
      "[CV] learning_rate=1e-05, algorithm=SAMME.R, n_estimators=400 ........\n",
      "[CV]  learning_rate=0.0001, algorithm=SAMME.R, n_estimators=400, score=0.6521739130434783, total=   0.0s\n",
      "[CV] learning_rate=0.0001, algorithm=SAMME.R, n_estimators=400 .......\n",
      "[CV]  learning_rate=0.0001, algorithm=SAMME.R, n_estimators=400, score=0.7375, total=   0.0s\n",
      "[CV] learning_rate=0.0001, algorithm=SAMME.R, n_estimators=400 .......\n",
      "[CV]  learning_rate=0.0001, algorithm=SAMME.R, n_estimators=400, score=0.63125, total=   0.0s\n",
      "[CV] learning_rate=0.0001, algorithm=SAMME.R, n_estimators=400 .......\n",
      "[CV]  learning_rate=0.0001, algorithm=SAMME.R, n_estimators=400, score=0.69375, total=   0.0s\n",
      "[CV] learning_rate=0.0001, algorithm=SAMME.R, n_estimators=400 .......\n",
      "[CV]  learning_rate=0.0001, algorithm=SAMME.R, n_estimators=400, score=0.7044025157232704, total=   0.0s\n",
      "[CV] learning_rate=0.001, algorithm=SAMME.R, n_estimators=500 ........\n",
      "[CV]  learning_rate=0.001, algorithm=SAMME.R, n_estimators=500, score=0.6708074534161491, total=   0.0s\n",
      "[CV] learning_rate=0.001, algorithm=SAMME.R, n_estimators=500 ........\n",
      "[CV]  learning_rate=0.001, algorithm=SAMME.R, n_estimators=500, score=0.7125, total=   0.0s\n",
      "[CV] learning_rate=0.001, algorithm=SAMME.R, n_estimators=500 ........\n",
      "[CV]  learning_rate=1e-05, algorithm=SAMME.R, n_estimators=400, score=0.738498789346247, total=   0.1s\n",
      "[CV] learning_rate=1e-05, algorithm=SAMME.R, n_estimators=400 ........\n",
      "[CV]  learning_rate=0.001, algorithm=SAMME.R, n_estimators=500, score=0.65625, total=   0.0s\n",
      "[CV] learning_rate=0.001, algorithm=SAMME.R, n_estimators=500 ........\n",
      "[CV]  learning_rate=1, algorithm=SAMME.R, n_estimators=400, score=0.7304565353345841, total=   0.2s\n"
     ]
    },
    {
     "name": "stderr",
     "output_type": "stream",
     "text": [
      "[Parallel(n_jobs=-1)]: Done 120 out of 120 | elapsed:   18.2s finished\n"
     ]
    },
    {
     "name": "stdout",
     "output_type": "stream",
     "text": [
      "[CV]  learning_rate=0.001, algorithm=SAMME.R, n_estimators=500, score=0.70625, total=   0.0s\n",
      "[CV] learning_rate=0.001, algorithm=SAMME.R, n_estimators=500 ........\n",
      "[CV]  learning_rate=0.1, algorithm=SAMME, n_estimators=400, score=0.713125, total=   0.2s\n",
      "[CV] learning_rate=0.1, algorithm=SAMME, n_estimators=400 ............\n",
      "[CV]  learning_rate=0.001, algorithm=SAMME.R, n_estimators=500, score=0.6792452830188679, total=   0.0s\n",
      "[CV] learning_rate=0.001, algorithm=SAMME.R, n_estimators=400 ........\n",
      "[CV]  learning_rate=0.001, algorithm=SAMME.R, n_estimators=400, score=0.6645962732919255, total=   0.0s\n",
      "[CV] learning_rate=0.001, algorithm=SAMME.R, n_estimators=400 ........\n",
      "[CV]  learning_rate=0.001, algorithm=SAMME.R, n_estimators=400, score=0.7375, total=   0.0s\n",
      "[CV] learning_rate=0.001, algorithm=SAMME.R, n_estimators=400 ........\n",
      "[CV]  learning_rate=0.001, algorithm=SAMME.R, n_estimators=400, score=0.63125, total=   0.0s\n",
      "[CV] learning_rate=0.001, algorithm=SAMME.R, n_estimators=400 ........\n",
      "[CV]  learning_rate=0.001, algorithm=SAMME.R, n_estimators=400, score=0.6875, total=   0.0s\n",
      "[CV] learning_rate=0.001, algorithm=SAMME.R, n_estimators=400 ........\n",
      "[CV]  learning_rate=1e-05, algorithm=SAMME.R, n_estimators=400, score=0.7191283292978208, total=   0.1s\n",
      "[CV] learning_rate=0.0001, algorithm=SAMME.R, n_estimators=500 .......\n",
      "[CV]  learning_rate=0.001, algorithm=SAMME.R, n_estimators=400, score=0.6918238993710691, total=   0.0s\n",
      "[CV] learning_rate=0.01, algorithm=SAMME.R, n_estimators=500 .........\n",
      "[CV]  learning_rate=0.01, algorithm=SAMME.R, n_estimators=500, score=0.7018633540372671, total=   0.0s\n",
      "[CV] learning_rate=0.01, algorithm=SAMME.R, n_estimators=500 .........\n",
      "[CV]  learning_rate=0.01, algorithm=SAMME.R, n_estimators=500, score=0.74375, total=   0.0s\n",
      "[CV] learning_rate=0.01, algorithm=SAMME.R, n_estimators=500 .........\n",
      "[CV]  learning_rate=0.01, algorithm=SAMME.R, n_estimators=500, score=0.6125, total=   0.0s\n",
      "[CV] learning_rate=0.01, algorithm=SAMME.R, n_estimators=500 .........\n",
      "[CV]  learning_rate=0.1, algorithm=SAMME, n_estimators=400, score=0.725, total=   0.1s\n",
      "[CV] learning_rate=0.1, algorithm=SAMME, n_estimators=400 ............\n",
      "[CV]  learning_rate=0.01, algorithm=SAMME.R, n_estimators=500, score=0.7, total=   0.0s\n",
      "[CV] learning_rate=0.01, algorithm=SAMME.R, n_estimators=500 .........\n",
      "[CV]  learning_rate=0.01, algorithm=SAMME.R, n_estimators=500, score=0.660377358490566, total=   0.0s\n",
      "[CV] learning_rate=0.01, algorithm=SAMME.R, n_estimators=400 .........\n",
      "Fitting 5 folds for each of 24 candidates, totalling 120 fits\n"
     ]
    },
    {
     "name": "stderr",
     "output_type": "stream",
     "text": [
      "/Users/gali/anaconda/envs/carnd-term1/lib/python3.5/site-packages/sklearn/externals/joblib/parallel.py:547: UserWarning: Multiprocessing-backed parallel loops cannot be nested, setting n_jobs=1\n",
      "  **self._backend_args)\n"
     ]
    },
    {
     "name": "stdout",
     "output_type": "stream",
     "text": [
      "[CV] learning_rate=1e-05, algorithm=SAMME, n_estimators=500 ..........\n",
      "[CV]  learning_rate=0.01, algorithm=SAMME.R, n_estimators=400, score=0.6708074534161491, total=   0.0s\n",
      "[CV] learning_rate=0.01, algorithm=SAMME.R, n_estimators=400 .........\n",
      "[CV]  learning_rate=0.0001, algorithm=SAMME.R, n_estimators=500, score=0.726027397260274, total=   0.1s\n",
      "[CV] learning_rate=0.0001, algorithm=SAMME.R, n_estimators=500 .......\n",
      "[CV]  learning_rate=0.01, algorithm=SAMME.R, n_estimators=400, score=0.75625, total=   0.0s\n",
      "[CV] learning_rate=0.01, algorithm=SAMME.R, n_estimators=400 .........\n",
      "[CV]  learning_rate=0.01, algorithm=SAMME.R, n_estimators=400, score=0.6625, total=   0.0s\n",
      "[CV] learning_rate=0.01, algorithm=SAMME.R, n_estimators=400 .........\n",
      "[CV]  learning_rate=1e-05, algorithm=SAMME, n_estimators=500, score=0.744721689059501, total=   0.0s\n"
     ]
    },
    {
     "name": "stderr",
     "output_type": "stream",
     "text": [
      "[Parallel(n_jobs=-1)]: Done   1 out of   1 | elapsed:    0.0s remaining:    0.0s\n"
     ]
    },
    {
     "name": "stdout",
     "output_type": "stream",
     "text": [
      "[CV] learning_rate=1e-05, algorithm=SAMME, n_estimators=500 ..........\n",
      "[CV]  learning_rate=0.01, algorithm=SAMME.R, n_estimators=400, score=0.69375, total=   0.0s\n",
      "[CV] learning_rate=0.01, algorithm=SAMME.R, n_estimators=400 .........\n",
      "[CV]  learning_rate=0.01, algorithm=SAMME.R, n_estimators=400, score=0.6729559748427673, total=   0.0s\n",
      "[CV] learning_rate=0.1, algorithm=SAMME.R, n_estimators=500 ..........\n",
      "[CV]  learning_rate=0.1, algorithm=SAMME.R, n_estimators=500, score=0.7018633540372671, total=   0.0s\n",
      "[CV] learning_rate=0.1, algorithm=SAMME.R, n_estimators=500 ..........\n",
      "[CV]  learning_rate=1e-05, algorithm=SAMME, n_estimators=500, score=0.7019230769230769, total=   0.0s\n"
     ]
    },
    {
     "name": "stderr",
     "output_type": "stream",
     "text": [
      "[Parallel(n_jobs=-1)]: Done   2 out of   2 | elapsed:    0.1s remaining:    0.0s\n"
     ]
    },
    {
     "name": "stdout",
     "output_type": "stream",
     "text": [
      "[CV] learning_rate=1e-05, algorithm=SAMME, n_estimators=500 ..........\n",
      "[CV]  learning_rate=0.1, algorithm=SAMME.R, n_estimators=500, score=0.73125, total=   0.0s\n",
      "[CV] learning_rate=0.1, algorithm=SAMME.R, n_estimators=500 ..........\n",
      "[CV]  learning_rate=0.1, algorithm=SAMME, n_estimators=400, score=0.7325, total=   0.1s\n",
      "[CV] learning_rate=0.1, algorithm=SAMME, n_estimators=400 ............\n",
      "[CV]  learning_rate=0.1, algorithm=SAMME.R, n_estimators=500, score=0.6375, total=   0.0s\n",
      "[CV] learning_rate=0.1, algorithm=SAMME.R, n_estimators=500 ..........\n",
      "[CV]  learning_rate=0.0001, algorithm=SAMME.R, n_estimators=500, score=0.7211925866236906, total=   0.1s\n",
      "[CV] learning_rate=0.0001, algorithm=SAMME.R, n_estimators=500 .......\n",
      "[CV]  learning_rate=0.1, algorithm=SAMME.R, n_estimators=500, score=0.7, total=   0.0s\n",
      "[CV] learning_rate=0.1, algorithm=SAMME.R, n_estimators=500 ..........\n",
      "[CV]  learning_rate=1e-05, algorithm=SAMME, n_estimators=500, score=0.7192307692307692, total=   0.0s\n"
     ]
    },
    {
     "name": "stderr",
     "output_type": "stream",
     "text": [
      "[Parallel(n_jobs=-1)]: Done   3 out of   3 | elapsed:    0.1s remaining:    0.0s\n"
     ]
    },
    {
     "name": "stdout",
     "output_type": "stream",
     "text": [
      "[CV] learning_rate=1e-05, algorithm=SAMME, n_estimators=500 ..........\n",
      "[CV]  learning_rate=0.1, algorithm=SAMME.R, n_estimators=500, score=0.7044025157232704, total=   0.0s\n",
      "[CV] learning_rate=0.1, algorithm=SAMME.R, n_estimators=400 ..........\n",
      "[CV]  learning_rate=0.1, algorithm=SAMME.R, n_estimators=400, score=0.6894409937888198, total=   0.0s\n",
      "[CV] learning_rate=0.1, algorithm=SAMME.R, n_estimators=400 ..........\n",
      "[CV]  learning_rate=0.1, algorithm=SAMME.R, n_estimators=400, score=0.74375, total=   0.0s\n",
      "[CV]  learning_rate=1e-05, algorithm=SAMME, n_estimators=500, score=0.7153846153846154, total=   0.0s\n"
     ]
    },
    {
     "name": "stderr",
     "output_type": "stream",
     "text": [
      "[Parallel(n_jobs=-1)]: Done   4 out of   4 | elapsed:    0.2s remaining:    0.0s\n"
     ]
    },
    {
     "name": "stdout",
     "output_type": "stream",
     "text": [
      "[CV] learning_rate=0.1, algorithm=SAMME.R, n_estimators=400 ..........\n",
      "[CV] learning_rate=1e-05, algorithm=SAMME, n_estimators=500 ..........\n",
      "[CV]  learning_rate=0.1, algorithm=SAMME.R, n_estimators=400, score=0.65, total=   0.0s\n",
      "[CV] learning_rate=0.1, algorithm=SAMME.R, n_estimators=400 ..........\n",
      "[CV]  learning_rate=0.1, algorithm=SAMME.R, n_estimators=400, score=0.6875, total=   0.0s\n",
      "[CV] learning_rate=0.1, algorithm=SAMME.R, n_estimators=400 ..........\n",
      "[CV]  learning_rate=1e-05, algorithm=SAMME, n_estimators=500, score=0.7591522157996147, total=   0.0s\n"
     ]
    },
    {
     "name": "stderr",
     "output_type": "stream",
     "text": [
      "[Parallel(n_jobs=-1)]: Done   5 out of   5 | elapsed:    0.2s remaining:    0.0s\n"
     ]
    },
    {
     "name": "stdout",
     "output_type": "stream",
     "text": [
      "[CV]  learning_rate=0.0001, algorithm=SAMME.R, n_estimators=500, score=0.7193548387096774, total=   0.1s\n",
      "[CV]  learning_rate=0.1, algorithm=SAMME.R, n_estimators=400, score=0.6666666666666666, total=   0.0s\n",
      "[CV] learning_rate=1e-05, algorithm=SAMME, n_estimators=400 ..........\n",
      "[CV] learning_rate=1, algorithm=SAMME.R, n_estimators=500 ............\n",
      "[CV] learning_rate=0.0001, algorithm=SAMME.R, n_estimators=500 .......\n",
      "[CV]  learning_rate=1, algorithm=SAMME.R, n_estimators=500, score=0.6894409937888198, total=   0.0s\n",
      "[CV] learning_rate=1, algorithm=SAMME.R, n_estimators=500 ............\n",
      "[CV]  learning_rate=0.1, algorithm=SAMME, n_estimators=400, score=0.7385866166353972, total=   0.1s\n",
      "[CV] learning_rate=1, algorithm=SAMME, n_estimators=500 ..............\n",
      "[CV]  learning_rate=1, algorithm=SAMME.R, n_estimators=500, score=0.74375, total=   0.0s\n",
      "[CV] learning_rate=1, algorithm=SAMME.R, n_estimators=500 ............\n",
      "[CV]  learning_rate=1e-05, algorithm=SAMME, n_estimators=400, score=0.727447216890595, total=   0.0s\n"
     ]
    },
    {
     "name": "stderr",
     "output_type": "stream",
     "text": [
      "[Parallel(n_jobs=-1)]: Done   6 out of   6 | elapsed:    0.3s remaining:    0.0s\n"
     ]
    },
    {
     "name": "stdout",
     "output_type": "stream",
     "text": [
      "[CV] learning_rate=1e-05, algorithm=SAMME, n_estimators=400 ..........\n",
      "[CV]  learning_rate=1, algorithm=SAMME.R, n_estimators=500, score=0.65, total=   0.0s\n",
      "[CV] learning_rate=1, algorithm=SAMME.R, n_estimators=500 ............\n",
      "[CV]  learning_rate=1, algorithm=SAMME.R, n_estimators=500, score=0.70625, total=   0.0s\n",
      "[CV] learning_rate=1, algorithm=SAMME.R, n_estimators=500 ............\n",
      "[CV]  learning_rate=1, algorithm=SAMME.R, n_estimators=500, score=0.6729559748427673, total=   0.0s\n",
      "[CV] learning_rate=1, algorithm=SAMME.R, n_estimators=400 ............\n",
      "[CV]  learning_rate=1e-05, algorithm=SAMME, n_estimators=400, score=0.7, total=   0.0s\n"
     ]
    },
    {
     "name": "stderr",
     "output_type": "stream",
     "text": [
      "[Parallel(n_jobs=-1)]: Done   7 out of   7 | elapsed:    0.3s remaining:    0.0s\n"
     ]
    },
    {
     "name": "stdout",
     "output_type": "stream",
     "text": [
      "[CV] learning_rate=1e-05, algorithm=SAMME, n_estimators=400 ..........\n",
      "[CV]  learning_rate=1, algorithm=SAMME.R, n_estimators=400, score=0.6521739130434783, total=   0.0s\n",
      "[CV] learning_rate=1, algorithm=SAMME.R, n_estimators=400 ............\n",
      "[CV]  learning_rate=0.0001, algorithm=SAMME.R, n_estimators=500, score=0.7376916868442293, total=   0.1s\n",
      "[CV]  learning_rate=1, algorithm=SAMME.R, n_estimators=400, score=0.75, total=   0.0s\n",
      "[CV] learning_rate=0.0001, algorithm=SAMME.R, n_estimators=500 .......\n",
      "[CV] learning_rate=1, algorithm=SAMME.R, n_estimators=400 ............\n",
      "[CV]  learning_rate=1, algorithm=SAMME.R, n_estimators=400, score=0.65, total=   0.0s\n",
      "[CV] learning_rate=1, algorithm=SAMME.R, n_estimators=400 ............\n",
      "[CV]  learning_rate=1e-05, algorithm=SAMME, n_estimators=400, score=0.7269230769230769, total=   0.0s\n"
     ]
    },
    {
     "name": "stderr",
     "output_type": "stream",
     "text": [
      "[Parallel(n_jobs=-1)]: Done   8 out of   8 | elapsed:    0.4s remaining:    0.0s\n"
     ]
    },
    {
     "name": "stdout",
     "output_type": "stream",
     "text": [
      "[CV] learning_rate=1e-05, algorithm=SAMME, n_estimators=400 ..........\n",
      "[CV]  learning_rate=1, algorithm=SAMME.R, n_estimators=400, score=0.69375, total=   0.0s\n",
      "[CV] learning_rate=1, algorithm=SAMME.R, n_estimators=400 ............\n",
      "[CV]  learning_rate=1, algorithm=SAMME.R, n_estimators=400, score=0.6855345911949685, total=   0.0s\n"
     ]
    },
    {
     "name": "stderr",
     "output_type": "stream",
     "text": [
      "[Parallel(n_jobs=-1)]: Done 120 out of 120 | elapsed:    2.1s finished\n"
     ]
    },
    {
     "name": "stdout",
     "output_type": "stream",
     "text": [
      "[CV]  learning_rate=1, algorithm=SAMME, n_estimators=500, score=0.726420986883198, total=   0.1s\n",
      "[CV]  learning_rate=1e-05, algorithm=SAMME, n_estimators=400, score=0.7057692307692308, total=   0.0s\n",
      "[CV] learning_rate=1, algorithm=SAMME, n_estimators=500 ..............\n"
     ]
    },
    {
     "name": "stderr",
     "output_type": "stream",
     "text": [
      "[Parallel(n_jobs=-1)]: Done   9 out of   9 | elapsed:    0.4s remaining:    0.0s\n"
     ]
    },
    {
     "name": "stdout",
     "output_type": "stream",
     "text": [
      "[CV] learning_rate=1e-05, algorithm=SAMME, n_estimators=400 ..........\n",
      "Fitting 5 folds for each of 24 candidates, totalling 120 fits\n"
     ]
    },
    {
     "name": "stderr",
     "output_type": "stream",
     "text": [
      "/Users/gali/anaconda/envs/carnd-term1/lib/python3.5/site-packages/sklearn/externals/joblib/parallel.py:547: UserWarning: Multiprocessing-backed parallel loops cannot be nested, setting n_jobs=1\n",
      "  **self._backend_args)\n"
     ]
    },
    {
     "name": "stdout",
     "output_type": "stream",
     "text": [
      "[CV] learning_rate=1e-05, algorithm=SAMME, n_estimators=500 ..........\n",
      "[CV]  learning_rate=1e-05, algorithm=SAMME, n_estimators=400, score=0.7456647398843931, total=   0.0s\n",
      "[CV]  learning_rate=0.0001, algorithm=SAMME.R, n_estimators=500, score=0.7328490718321227, total=   0.1s\n",
      "[CV] learning_rate=0.0001, algorithm=SAMME, n_estimators=500 .........\n",
      "[CV] learning_rate=0.0001, algorithm=SAMME.R, n_estimators=400 .......\n",
      "[CV]  learning_rate=1e-05, algorithm=SAMME, n_estimators=500, score=0.7298524404086265, total=   0.1s\n"
     ]
    },
    {
     "name": "stderr",
     "output_type": "stream",
     "text": [
      "[Parallel(n_jobs=-1)]: Done   1 out of   1 | elapsed:    0.1s remaining:    0.0s\n"
     ]
    },
    {
     "name": "stdout",
     "output_type": "stream",
     "text": [
      "[CV]  learning_rate=0.0001, algorithm=SAMME, n_estimators=500, score=0.744721689059501, total=   0.0s\n",
      "[CV] learning_rate=0.0001, algorithm=SAMME, n_estimators=500 .........\n",
      "[CV] learning_rate=1e-05, algorithm=SAMME, n_estimators=500 ..........\n",
      "[CV]  learning_rate=0.0001, algorithm=SAMME, n_estimators=500, score=0.7019230769230769, total=   0.0s\n",
      "[CV] learning_rate=0.0001, algorithm=SAMME, n_estimators=500 .........\n",
      "[CV]  learning_rate=1, algorithm=SAMME, n_estimators=500, score=0.719375, total=   0.1s\n",
      "[CV] learning_rate=1, algorithm=SAMME, n_estimators=500 ..............\n",
      "[CV]  learning_rate=0.0001, algorithm=SAMME.R, n_estimators=400, score=0.7316680096696213, total=   0.1s\n",
      "[CV]  learning_rate=1e-05, algorithm=SAMME, n_estimators=500, score=0.7284090909090909, total=   0.1s\n",
      "[CV] learning_rate=0.0001, algorithm=SAMME.R, n_estimators=400 .......\n"
     ]
    },
    {
     "name": "stderr",
     "output_type": "stream",
     "text": [
      "[Parallel(n_jobs=-1)]: Done   2 out of   2 | elapsed:    0.2s remaining:    0.0s\n"
     ]
    },
    {
     "name": "stdout",
     "output_type": "stream",
     "text": [
      "[CV] learning_rate=1e-05, algorithm=SAMME, n_estimators=500 ..........\n",
      "[CV]  learning_rate=0.0001, algorithm=SAMME, n_estimators=500, score=0.725, total=   0.0s\n",
      "[CV] learning_rate=0.0001, algorithm=SAMME, n_estimators=500 .........\n",
      "[CV]  learning_rate=0.0001, algorithm=SAMME, n_estimators=500, score=0.7153846153846154, total=   0.0s\n",
      "[CV] learning_rate=0.0001, algorithm=SAMME, n_estimators=500 .........\n",
      "[CV]  learning_rate=1e-05, algorithm=SAMME, n_estimators=500, score=0.7238636363636364, total=   0.1s\n"
     ]
    },
    {
     "name": "stderr",
     "output_type": "stream",
     "text": [
      "[Parallel(n_jobs=-1)]: Done   3 out of   3 | elapsed:    0.2s remaining:    0.0s\n"
     ]
    },
    {
     "name": "stdout",
     "output_type": "stream",
     "text": [
      "[CV] learning_rate=1e-05, algorithm=SAMME, n_estimators=500 ..........\n",
      "[CV]  learning_rate=0.0001, algorithm=SAMME, n_estimators=500, score=0.7360308285163777, total=   0.0s\n",
      "[CV] learning_rate=0.0001, algorithm=SAMME, n_estimators=400 .........\n",
      "[CV]  learning_rate=0.0001, algorithm=SAMME.R, n_estimators=400, score=0.7203867848509267, total=   0.1s\n",
      "[CV] learning_rate=0.0001, algorithm=SAMME.R, n_estimators=400 .......\n",
      "[CV]  learning_rate=1, algorithm=SAMME, n_estimators=500, score=0.726875, total=   0.1s\n",
      "[CV] learning_rate=1, algorithm=SAMME, n_estimators=500 ..............\n",
      "[CV]  learning_rate=0.0001, algorithm=SAMME, n_estimators=400, score=0.7312859884836852, total=   0.0s\n",
      "[CV] learning_rate=0.0001, algorithm=SAMME, n_estimators=400 .........\n",
      "[CV]  learning_rate=1e-05, algorithm=SAMME, n_estimators=500, score=0.7284090909090909, total=   0.1s\n"
     ]
    },
    {
     "name": "stderr",
     "output_type": "stream",
     "text": [
      "[Parallel(n_jobs=-1)]: Done   4 out of   4 | elapsed:    0.3s remaining:    0.0s\n"
     ]
    },
    {
     "name": "stdout",
     "output_type": "stream",
     "text": [
      "[CV] learning_rate=1e-05, algorithm=SAMME, n_estimators=500 ..........\n",
      "[CV]  learning_rate=0.0001, algorithm=SAMME, n_estimators=400, score=0.7076923076923077, total=   0.0s\n",
      "[CV] learning_rate=0.0001, algorithm=SAMME, n_estimators=400 .........\n",
      "[CV]  learning_rate=0.0001, algorithm=SAMME.R, n_estimators=400, score=0.7233870967741935, total=   0.1s\n",
      "[CV] learning_rate=0.0001, algorithm=SAMME.R, n_estimators=400 .......\n",
      "[CV]  learning_rate=1e-05, algorithm=SAMME, n_estimators=500, score=0.7189988623435722, total=   0.1s\n"
     ]
    },
    {
     "name": "stderr",
     "output_type": "stream",
     "text": [
      "[Parallel(n_jobs=-1)]: Done   5 out of   5 | elapsed:    0.4s remaining:    0.0s\n"
     ]
    },
    {
     "name": "stdout",
     "output_type": "stream",
     "text": [
      "[CV] learning_rate=1e-05, algorithm=SAMME, n_estimators=400 ..........\n",
      "[CV]  learning_rate=0.0001, algorithm=SAMME, n_estimators=400, score=0.7192307692307692, total=   0.0s\n",
      "[CV] learning_rate=0.0001, algorithm=SAMME, n_estimators=400 .........\n",
      "[CV]  learning_rate=1, algorithm=SAMME, n_estimators=500, score=0.740625, total=   0.1s\n",
      "[CV] learning_rate=1, algorithm=SAMME, n_estimators=500 ..............\n",
      "[CV]  learning_rate=0.0001, algorithm=SAMME, n_estimators=400, score=0.7192307692307692, total=   0.0s\n",
      "[CV] learning_rate=0.0001, algorithm=SAMME, n_estimators=400 .........\n",
      "[CV]  learning_rate=1e-05, algorithm=SAMME, n_estimators=400, score=0.720771850170261, total=   0.1s\n"
     ]
    },
    {
     "name": "stderr",
     "output_type": "stream",
     "text": [
      "[Parallel(n_jobs=-1)]: Done   6 out of   6 | elapsed:    0.5s remaining:    0.0s\n"
     ]
    },
    {
     "name": "stdout",
     "output_type": "stream",
     "text": [
      "[CV] learning_rate=1e-05, algorithm=SAMME, n_estimators=400 ..........\n",
      "[CV]  learning_rate=0.0001, algorithm=SAMME, n_estimators=400, score=0.7283236994219653, total=   0.0s\n",
      "[CV] learning_rate=0.001, algorithm=SAMME, n_estimators=500 ..........\n",
      "[CV]  learning_rate=0.0001, algorithm=SAMME.R, n_estimators=400, score=0.7409200968523002, total=   0.1s\n",
      "[CV] learning_rate=0.0001, algorithm=SAMME.R, n_estimators=400 .......\n",
      "[CV]  learning_rate=0.001, algorithm=SAMME, n_estimators=500, score=0.7428023032629558, total=   0.0s\n",
      "[CV] learning_rate=0.001, algorithm=SAMME, n_estimators=500 ..........\n",
      "[CV]  learning_rate=1e-05, algorithm=SAMME, n_estimators=400, score=0.7215909090909091, total=   0.1s\n"
     ]
    },
    {
     "name": "stderr",
     "output_type": "stream",
     "text": [
      "[Parallel(n_jobs=-1)]: Done   7 out of   7 | elapsed:    0.5s remaining:    0.0s\n"
     ]
    },
    {
     "name": "stdout",
     "output_type": "stream",
     "text": [
      "[CV] learning_rate=1e-05, algorithm=SAMME, n_estimators=400 ..........\n",
      "[CV]  learning_rate=0.001, algorithm=SAMME, n_estimators=500, score=0.698076923076923, total=   0.0s\n",
      "[CV] learning_rate=0.001, algorithm=SAMME, n_estimators=500 ..........\n",
      "[CV]  learning_rate=1, algorithm=SAMME, n_estimators=500, score=0.7317073170731707, total=   0.1s\n",
      "[CV] learning_rate=1, algorithm=SAMME, n_estimators=400 ..............\n",
      "[CV]  learning_rate=0.0001, algorithm=SAMME.R, n_estimators=400, score=0.7304277643260694, total=   0.1s\n",
      "[CV] learning_rate=0.001, algorithm=SAMME.R, n_estimators=500 ........\n",
      "[CV]  learning_rate=0.001, algorithm=SAMME, n_estimators=500, score=0.7211538461538461, total=   0.0s\n",
      "[CV] learning_rate=0.001, algorithm=SAMME, n_estimators=500 ..........\n",
      "[CV]  learning_rate=1e-05, algorithm=SAMME, n_estimators=400, score=0.7227272727272728, total=   0.1s\n"
     ]
    },
    {
     "name": "stderr",
     "output_type": "stream",
     "text": [
      "[Parallel(n_jobs=-1)]: Done   8 out of   8 | elapsed:    0.6s remaining:    0.0s\n"
     ]
    },
    {
     "name": "stdout",
     "output_type": "stream",
     "text": [
      "[CV] learning_rate=1e-05, algorithm=SAMME, n_estimators=400 ..........\n",
      "[CV]  learning_rate=0.001, algorithm=SAMME, n_estimators=500, score=0.6961538461538461, total=   0.0s\n",
      "[CV] learning_rate=0.001, algorithm=SAMME, n_estimators=500 ..........\n",
      "[CV]  learning_rate=1e-05, algorithm=SAMME, n_estimators=400, score=0.7352272727272727, total=   0.1s\n"
     ]
    },
    {
     "name": "stderr",
     "output_type": "stream",
     "text": [
      "[Parallel(n_jobs=-1)]: Done   9 out of   9 | elapsed:    0.7s remaining:    0.0s\n"
     ]
    },
    {
     "name": "stdout",
     "output_type": "stream",
     "text": [
      "[CV] learning_rate=1e-05, algorithm=SAMME, n_estimators=400 ..........\n",
      "[CV]  learning_rate=0.001, algorithm=SAMME, n_estimators=500, score=0.7283236994219653, total=   0.0s\n",
      "[CV] learning_rate=0.001, algorithm=SAMME, n_estimators=400 ..........\n",
      "[CV]  learning_rate=0.001, algorithm=SAMME.R, n_estimators=500, score=0.7244157937147462, total=   0.1s\n",
      "[CV] learning_rate=0.001, algorithm=SAMME.R, n_estimators=500 ........\n",
      "[CV]  learning_rate=1, algorithm=SAMME, n_estimators=400, score=0.7301686445971268, total=   0.1s\n",
      "[CV] learning_rate=1, algorithm=SAMME, n_estimators=400 ..............\n",
      "[CV]  learning_rate=0.001, algorithm=SAMME, n_estimators=400, score=0.7351247600767754, total=   0.0s\n",
      "[CV] learning_rate=0.001, algorithm=SAMME, n_estimators=400 ..........\n",
      "[CV]  learning_rate=1e-05, algorithm=SAMME, n_estimators=400, score=0.714448236632537, total=   0.1s\n",
      "[CV] learning_rate=0.0001, algorithm=SAMME, n_estimators=500 .........\n",
      "[CV]  learning_rate=0.001, algorithm=SAMME, n_estimators=400, score=0.698076923076923, total=   0.0s\n",
      "[CV] learning_rate=0.001, algorithm=SAMME, n_estimators=400 ..........\n",
      "[CV]  learning_rate=0.001, algorithm=SAMME.R, n_estimators=500, score=0.7244157937147462, total=   0.1s\n",
      "[CV] learning_rate=0.001, algorithm=SAMME.R, n_estimators=500 ........\n",
      "[CV]  learning_rate=0.001, algorithm=SAMME, n_estimators=400, score=0.7230769230769231, total=   0.0s\n",
      "[CV] learning_rate=0.001, algorithm=SAMME, n_estimators=400 ..........\n",
      "[CV]  learning_rate=0.0001, algorithm=SAMME, n_estimators=500, score=0.7275822928490352, total=   0.1s\n",
      "[CV] learning_rate=0.0001, algorithm=SAMME, n_estimators=500 .........\n",
      "[CV]  learning_rate=1, algorithm=SAMME, n_estimators=400, score=0.7275, total=   0.1s\n",
      "[CV] learning_rate=1, algorithm=SAMME, n_estimators=400 ..............\n",
      "[CV]  learning_rate=0.001, algorithm=SAMME, n_estimators=400, score=0.7307692307692307, total=   0.0s\n",
      "[CV] learning_rate=0.001, algorithm=SAMME, n_estimators=400 ..........\n",
      "[CV]  learning_rate=0.0001, algorithm=SAMME, n_estimators=500, score=0.7295454545454545, total=   0.1s\n",
      "[CV]  learning_rate=0.001, algorithm=SAMME, n_estimators=400, score=0.7360308285163777, total=   0.0s\n",
      "[CV] learning_rate=0.0001, algorithm=SAMME, n_estimators=500 .........\n",
      "[CV] learning_rate=0.01, algorithm=SAMME, n_estimators=500 ...........\n",
      "[CV]  learning_rate=0.001, algorithm=SAMME.R, n_estimators=500, score=0.7201612903225807, total=   0.1s\n",
      "[CV] learning_rate=0.001, algorithm=SAMME.R, n_estimators=500 ........\n",
      "[CV]  learning_rate=0.01, algorithm=SAMME, n_estimators=500, score=0.7370441458733206, total=   0.0s\n",
      "[CV] learning_rate=0.01, algorithm=SAMME, n_estimators=500 ...........\n",
      "[CV]  learning_rate=0.0001, algorithm=SAMME, n_estimators=500, score=0.7227272727272728, total=   0.1s\n",
      "[CV] learning_rate=0.0001, algorithm=SAMME, n_estimators=500 .........\n",
      "[CV]  learning_rate=0.01, algorithm=SAMME, n_estimators=500, score=0.7076923076923077, total=   0.0s\n",
      "[CV] learning_rate=0.01, algorithm=SAMME, n_estimators=500 ...........\n",
      "[CV]  learning_rate=1, algorithm=SAMME, n_estimators=400, score=0.73, total=   0.1s\n",
      "[CV] learning_rate=1, algorithm=SAMME, n_estimators=400 ..............\n",
      "[CV]  learning_rate=0.001, algorithm=SAMME.R, n_estimators=500, score=0.7376916868442293, total=   0.1s\n",
      "[CV] learning_rate=0.001, algorithm=SAMME.R, n_estimators=500 ........\n",
      "[CV]  learning_rate=0.01, algorithm=SAMME, n_estimators=500, score=0.7326923076923076, total=   0.0s\n",
      "[CV] learning_rate=0.01, algorithm=SAMME, n_estimators=500 ...........\n",
      "[CV]  learning_rate=0.0001, algorithm=SAMME, n_estimators=500, score=0.7295454545454545, total=   0.1s\n",
      "[CV] learning_rate=0.0001, algorithm=SAMME, n_estimators=500 .........\n",
      "[CV]  learning_rate=0.01, algorithm=SAMME, n_estimators=500, score=0.7134615384615385, total=   0.0s\n",
      "[CV] learning_rate=0.01, algorithm=SAMME, n_estimators=500 ...........\n",
      "[CV]  learning_rate=0.0001, algorithm=SAMME, n_estimators=500, score=0.7155858930602957, total=   0.1s\n",
      "[CV]  learning_rate=0.01, algorithm=SAMME, n_estimators=500, score=0.7456647398843931, total=   0.0s\n",
      "[CV] learning_rate=0.0001, algorithm=SAMME, n_estimators=400 .........\n",
      "[CV] learning_rate=0.01, algorithm=SAMME, n_estimators=400 ...........\n",
      "[CV]  learning_rate=0.001, algorithm=SAMME.R, n_estimators=500, score=0.7368845843422115, total=   0.1s\n",
      "[CV] learning_rate=0.001, algorithm=SAMME.R, n_estimators=400 ........\n",
      "[CV]  learning_rate=1, algorithm=SAMME, n_estimators=400, score=0.721875, total=   0.1s\n",
      "[CV] learning_rate=1, algorithm=SAMME, n_estimators=400 ..............\n",
      "[CV]  learning_rate=0.01, algorithm=SAMME, n_estimators=400, score=0.7332053742802304, total=   0.0s\n",
      "[CV] learning_rate=0.01, algorithm=SAMME, n_estimators=400 ...........\n",
      "[CV]  learning_rate=0.0001, algorithm=SAMME, n_estimators=400, score=0.7230419977298524, total=   0.1s\n",
      "[CV] learning_rate=0.0001, algorithm=SAMME, n_estimators=400 .........\n",
      "[CV]  learning_rate=0.01, algorithm=SAMME, n_estimators=400, score=0.7096153846153846, total=   0.0s\n",
      "[CV] learning_rate=0.01, algorithm=SAMME, n_estimators=400 ...........\n",
      "[CV]  learning_rate=0.01, algorithm=SAMME, n_estimators=400, score=0.7230769230769231, total=   0.0s\n",
      "[CV]  learning_rate=0.001, algorithm=SAMME.R, n_estimators=400, score=0.734085414987913, total=   0.1s\n",
      "[CV] learning_rate=0.001, algorithm=SAMME.R, n_estimators=400 ........\n",
      "[CV] learning_rate=0.01, algorithm=SAMME, n_estimators=400 ...........\n",
      "[CV]  learning_rate=0.0001, algorithm=SAMME, n_estimators=400, score=0.7181818181818181, total=   0.1s\n",
      "[CV] learning_rate=0.0001, algorithm=SAMME, n_estimators=400 .........\n",
      "[CV]  learning_rate=1, algorithm=SAMME, n_estimators=400, score=0.734208880550344, total=   0.1s\n",
      "[CV] learning_rate=1e-05, algorithm=SAMME.R, n_estimators=500 ........\n",
      "[CV]  learning_rate=0.01, algorithm=SAMME, n_estimators=400, score=0.7076923076923077, total=   0.0s\n",
      "[CV] learning_rate=0.01, algorithm=SAMME, n_estimators=400 ...........\n",
      "[CV]  learning_rate=0.01, algorithm=SAMME, n_estimators=400, score=0.7321772639691715, total=   0.0s\n",
      "[CV] learning_rate=0.1, algorithm=SAMME, n_estimators=500 ............\n",
      "[CV]  learning_rate=0.0001, algorithm=SAMME, n_estimators=400, score=0.7284090909090909, total=   0.1s\n",
      "[CV] learning_rate=0.0001, algorithm=SAMME, n_estimators=400 .........\n",
      "[CV]  learning_rate=0.001, algorithm=SAMME.R, n_estimators=400, score=0.726027397260274, total=   0.1s\n",
      "[CV] learning_rate=0.001, algorithm=SAMME.R, n_estimators=400 ........\n",
      "[CV]  learning_rate=0.1, algorithm=SAMME, n_estimators=500, score=0.7389635316698656, total=   0.0s\n",
      "[CV] learning_rate=0.1, algorithm=SAMME, n_estimators=500 ............\n",
      "[CV]  learning_rate=0.0001, algorithm=SAMME, n_estimators=400, score=0.7204545454545455, total=   0.1s\n",
      "[CV] learning_rate=0.0001, algorithm=SAMME, n_estimators=400 .........\n",
      "[CV]  learning_rate=0.1, algorithm=SAMME, n_estimators=500, score=0.7115384615384616, total=   0.0s\n",
      "[CV] learning_rate=0.1, algorithm=SAMME, n_estimators=500 ............\n",
      "[CV]  learning_rate=1e-05, algorithm=SAMME.R, n_estimators=500, score=0.7351655215490318, total=   0.1s\n",
      "[CV] learning_rate=1e-05, algorithm=SAMME.R, n_estimators=500 ........\n",
      "[CV]  learning_rate=0.001, algorithm=SAMME.R, n_estimators=400, score=0.7233870967741935, total=   0.1s\n",
      "[CV]  learning_rate=0.1, algorithm=SAMME, n_estimators=500, score=0.725, total=   0.0s\n",
      "[CV] learning_rate=0.001, algorithm=SAMME.R, n_estimators=400 ........\n",
      "[CV] learning_rate=0.1, algorithm=SAMME, n_estimators=500 ............\n",
      "[CV]  learning_rate=0.0001, algorithm=SAMME, n_estimators=400, score=0.7167235494880546, total=   0.1s\n",
      "[CV] learning_rate=0.001, algorithm=SAMME, n_estimators=500 ..........\n",
      "[CV]  learning_rate=0.1, algorithm=SAMME, n_estimators=500, score=0.7115384615384616, total=   0.0s\n",
      "[CV] learning_rate=0.1, algorithm=SAMME, n_estimators=500 ............\n",
      "[CV]  learning_rate=0.1, algorithm=SAMME, n_estimators=500, score=0.7360308285163777, total=   0.0s\n",
      "[CV] learning_rate=0.1, algorithm=SAMME, n_estimators=400 ............\n",
      "[CV]  learning_rate=0.001, algorithm=SAMME, n_estimators=500, score=0.7128263337116912, total=   0.1s\n",
      "[CV] learning_rate=0.001, algorithm=SAMME, n_estimators=500 ..........\n",
      "[CV]  learning_rate=0.001, algorithm=SAMME.R, n_estimators=400, score=0.735270379338176, total=   0.1s\n",
      "[CV] learning_rate=0.001, algorithm=SAMME.R, n_estimators=400 ........\n",
      "[CV]  learning_rate=1e-05, algorithm=SAMME.R, n_estimators=500, score=0.71875, total=   0.1s\n",
      "[CV] learning_rate=1e-05, algorithm=SAMME.R, n_estimators=500 ........\n",
      "[CV]  learning_rate=0.1, algorithm=SAMME, n_estimators=400, score=0.727447216890595, total=   0.0s\n",
      "[CV] learning_rate=0.1, algorithm=SAMME, n_estimators=400 ............\n",
      "[CV]  learning_rate=0.001, algorithm=SAMME, n_estimators=500, score=0.7272727272727273, total=   0.1s\n",
      "[CV] learning_rate=0.001, algorithm=SAMME, n_estimators=500 ..........\n",
      "[CV]  learning_rate=0.1, algorithm=SAMME, n_estimators=400, score=0.7057692307692308, total=   0.0s\n",
      "[CV] learning_rate=0.1, algorithm=SAMME, n_estimators=400 ............\n",
      "[CV]  learning_rate=0.1, algorithm=SAMME, n_estimators=400, score=0.7115384615384616, total=   0.0s\n",
      "[CV]  learning_rate=0.001, algorithm=SAMME.R, n_estimators=400, score=0.7271993543179984, total=   0.1s\n",
      "[CV] learning_rate=0.1, algorithm=SAMME, n_estimators=400 ............\n",
      "[CV] learning_rate=0.01, algorithm=SAMME.R, n_estimators=500 .........\n",
      "[CV]  learning_rate=0.001, algorithm=SAMME, n_estimators=500, score=0.7272727272727273, total=   0.1s\n",
      "[CV] learning_rate=0.001, algorithm=SAMME, n_estimators=500 ..........\n",
      "[CV]  learning_rate=0.1, algorithm=SAMME, n_estimators=400, score=0.7096153846153846, total=   0.0s\n",
      "[CV]  learning_rate=1e-05, algorithm=SAMME.R, n_estimators=500, score=0.726875, total=   0.1s\n",
      "[CV] learning_rate=0.1, algorithm=SAMME, n_estimators=400 ............\n",
      "[CV] learning_rate=1e-05, algorithm=SAMME.R, n_estimators=500 ........\n",
      "[CV]  learning_rate=0.1, algorithm=SAMME, n_estimators=400, score=0.7495183044315993, total=   0.0s\n",
      "[CV] learning_rate=1, algorithm=SAMME, n_estimators=500 ..............\n",
      "[CV]  learning_rate=0.001, algorithm=SAMME, n_estimators=500, score=0.7215909090909091, total=   0.1s\n",
      "[CV] learning_rate=0.001, algorithm=SAMME, n_estimators=500 ..........\n",
      "[CV]  learning_rate=0.01, algorithm=SAMME.R, n_estimators=500, score=0.7316680096696213, total=   0.1s\n",
      "[CV] learning_rate=0.01, algorithm=SAMME.R, n_estimators=500 .........\n",
      "[CV]  learning_rate=1, algorithm=SAMME, n_estimators=500, score=0.7236084452975048, total=   0.0s\n",
      "[CV] learning_rate=1, algorithm=SAMME, n_estimators=500 ..............\n",
      "[CV]  learning_rate=1, algorithm=SAMME, n_estimators=500, score=0.7134615384615385, total=   0.0s\n",
      "[CV]  learning_rate=0.001, algorithm=SAMME, n_estimators=500, score=0.7155858930602957, total=   0.1s\n",
      "[CV] learning_rate=1, algorithm=SAMME, n_estimators=500 ..............\n",
      "[CV] learning_rate=0.001, algorithm=SAMME, n_estimators=400 ..........\n",
      "[CV]  learning_rate=1e-05, algorithm=SAMME.R, n_estimators=500, score=0.730625, total=   0.1s\n",
      "[CV] learning_rate=1e-05, algorithm=SAMME.R, n_estimators=500 ........\n",
      "[CV]  learning_rate=1, algorithm=SAMME, n_estimators=500, score=0.7230769230769231, total=   0.0s\n",
      "[CV] learning_rate=1, algorithm=SAMME, n_estimators=500 ..............\n",
      "[CV]  learning_rate=0.01, algorithm=SAMME.R, n_estimators=500, score=0.7195809830781628, total=   0.1s\n",
      "[CV] learning_rate=0.01, algorithm=SAMME.R, n_estimators=500 .........\n",
      "[CV]  learning_rate=0.001, algorithm=SAMME, n_estimators=400, score=0.7241770715096482, total=   0.1s\n",
      "[CV] learning_rate=0.001, algorithm=SAMME, n_estimators=400 ..........\n",
      "[CV]  learning_rate=1, algorithm=SAMME, n_estimators=500, score=0.7269230769230769, total=   0.0s\n",
      "[CV] learning_rate=1, algorithm=SAMME, n_estimators=500 ..............\n",
      "[CV]  learning_rate=1, algorithm=SAMME, n_estimators=500, score=0.7379576107899807, total=   0.0s\n",
      "[CV] learning_rate=1, algorithm=SAMME, n_estimators=400 ..............\n",
      "[CV]  learning_rate=0.001, algorithm=SAMME, n_estimators=400, score=0.7227272727272728, total=   0.1s\n",
      "[CV] learning_rate=0.001, algorithm=SAMME, n_estimators=400 ..........\n",
      "[CV]  learning_rate=0.01, algorithm=SAMME.R, n_estimators=500, score=0.7169354838709677, total=   0.1s\n",
      "[CV]  learning_rate=1e-05, algorithm=SAMME.R, n_estimators=500, score=0.7373358348968105, total=   0.1s\n",
      "[CV] learning_rate=0.01, algorithm=SAMME.R, n_estimators=500 .........\n",
      "[CV] learning_rate=1e-05, algorithm=SAMME.R, n_estimators=400 ........\n",
      "[CV]  learning_rate=1, algorithm=SAMME, n_estimators=400, score=0.7312859884836852, total=   0.0s\n",
      "[CV] learning_rate=1, algorithm=SAMME, n_estimators=400 ..............\n",
      "[CV]  learning_rate=1, algorithm=SAMME, n_estimators=400, score=0.698076923076923, total=   0.0s\n",
      "[CV] learning_rate=1, algorithm=SAMME, n_estimators=400 ..............\n",
      "[CV]  learning_rate=0.001, algorithm=SAMME, n_estimators=400, score=0.7215909090909091, total=   0.1s\n",
      "[CV] learning_rate=0.001, algorithm=SAMME, n_estimators=400 ..........\n",
      "[CV]  learning_rate=1, algorithm=SAMME, n_estimators=400, score=0.7173076923076923, total=   0.0s\n",
      "[CV] learning_rate=1, algorithm=SAMME, n_estimators=400 ..............\n",
      "[CV]  learning_rate=0.01, algorithm=SAMME.R, n_estimators=500, score=0.7401129943502824, total=   0.1s\n",
      "[CV] learning_rate=0.01, algorithm=SAMME.R, n_estimators=500 .........\n",
      "[CV]  learning_rate=0.001, algorithm=SAMME, n_estimators=400, score=0.7193181818181819, total=   0.1s\n",
      "[CV]  learning_rate=1, algorithm=SAMME, n_estimators=400, score=0.7211538461538461, total=   0.0s\n",
      "[CV] learning_rate=1, algorithm=SAMME, n_estimators=400 ..............\n",
      "[CV] learning_rate=0.001, algorithm=SAMME, n_estimators=400 ..........\n",
      "[CV]  learning_rate=1e-05, algorithm=SAMME.R, n_estimators=400, score=0.7295440349781387, total=   0.1s\n",
      "[CV] learning_rate=1e-05, algorithm=SAMME.R, n_estimators=400 ........\n",
      "[CV]  learning_rate=1, algorithm=SAMME, n_estimators=400, score=0.7283236994219653, total=   0.0s\n",
      "[CV] learning_rate=1e-05, algorithm=SAMME.R, n_estimators=500 ........\n",
      "[CV]  learning_rate=0.001, algorithm=SAMME, n_estimators=400, score=0.7201365187713311, total=   0.1s\n",
      "[CV] learning_rate=0.01, algorithm=SAMME, n_estimators=500 ...........\n",
      "[CV]  learning_rate=0.01, algorithm=SAMME.R, n_estimators=500, score=0.7328490718321227, total=   0.1s\n",
      "[CV] learning_rate=0.01, algorithm=SAMME.R, n_estimators=400 .........\n",
      "[CV]  learning_rate=1e-05, algorithm=SAMME.R, n_estimators=500, score=0.7351247600767754, total=   0.0s\n",
      "[CV] learning_rate=1e-05, algorithm=SAMME.R, n_estimators=500 ........\n",
      "[CV]  learning_rate=1e-05, algorithm=SAMME.R, n_estimators=500, score=0.7057692307692308, total=   0.0s\n",
      "[CV] learning_rate=1e-05, algorithm=SAMME.R, n_estimators=500 ........\n",
      "[CV]  learning_rate=0.01, algorithm=SAMME, n_estimators=500, score=0.7321225879682179, total=   0.1s\n",
      "[CV] learning_rate=0.01, algorithm=SAMME, n_estimators=500 ...........\n",
      "[CV]  learning_rate=1e-05, algorithm=SAMME.R, n_estimators=400, score=0.720625, total=   0.1s\n",
      "[CV] learning_rate=1e-05, algorithm=SAMME.R, n_estimators=400 ........\n",
      "[CV]  learning_rate=1e-05, algorithm=SAMME.R, n_estimators=500, score=0.7307692307692307, total=   0.0s\n",
      "[CV] learning_rate=1e-05, algorithm=SAMME.R, n_estimators=500 ........\n",
      "[CV]  learning_rate=0.01, algorithm=SAMME.R, n_estimators=400, score=0.7268331990330379, total=   0.1s\n",
      "[CV] learning_rate=0.01, algorithm=SAMME.R, n_estimators=400 .........\n",
      "[CV]  learning_rate=0.01, algorithm=SAMME, n_estimators=500, score=0.725, total=   0.1s\n",
      "[CV]  learning_rate=1e-05, algorithm=SAMME.R, n_estimators=500, score=0.7211538461538461, total=   0.0s\n",
      "[CV] learning_rate=0.01, algorithm=SAMME, n_estimators=500 ...........\n",
      "[CV] learning_rate=1e-05, algorithm=SAMME.R, n_estimators=500 ........\n",
      "[CV]  learning_rate=1e-05, algorithm=SAMME.R, n_estimators=500, score=0.7360308285163777, total=   0.0s\n",
      "[CV] learning_rate=1e-05, algorithm=SAMME.R, n_estimators=400 ........\n",
      "[CV]  learning_rate=1e-05, algorithm=SAMME.R, n_estimators=400, score=0.72375, total=   0.1s\n",
      "[CV]  learning_rate=0.01, algorithm=SAMME, n_estimators=500, score=0.725, total=   0.1s\n",
      "[CV] learning_rate=1e-05, algorithm=SAMME.R, n_estimators=400 ........\n",
      "[CV] learning_rate=0.01, algorithm=SAMME, n_estimators=500 ...........\n",
      "[CV]  learning_rate=0.01, algorithm=SAMME.R, n_estimators=400, score=0.7236099919419823, total=   0.1s\n",
      "[CV] learning_rate=0.01, algorithm=SAMME.R, n_estimators=400 .........\n",
      "[CV]  learning_rate=1e-05, algorithm=SAMME.R, n_estimators=400, score=0.727447216890595, total=   0.0s\n",
      "[CV] learning_rate=1e-05, algorithm=SAMME.R, n_estimators=400 ........\n",
      "[CV]  learning_rate=1e-05, algorithm=SAMME.R, n_estimators=400, score=0.7096153846153846, total=   0.0s\n",
      "[CV] learning_rate=1e-05, algorithm=SAMME.R, n_estimators=400 ........\n",
      "[CV]  learning_rate=0.01, algorithm=SAMME, n_estimators=500, score=0.7318181818181818, total=   0.1s\n",
      "[CV] learning_rate=0.01, algorithm=SAMME, n_estimators=500 ...........\n",
      "[CV]  learning_rate=1e-05, algorithm=SAMME.R, n_estimators=400, score=0.7057692307692308, total=   0.0s\n",
      "[CV] learning_rate=1e-05, algorithm=SAMME.R, n_estimators=400 ........\n",
      "[CV]  learning_rate=0.01, algorithm=SAMME.R, n_estimators=400, score=0.7225806451612903, total=   0.1s\n",
      "[CV] learning_rate=0.01, algorithm=SAMME.R, n_estimators=400 .........\n",
      "[CV]  learning_rate=1e-05, algorithm=SAMME.R, n_estimators=400, score=0.7425, total=   0.1s\n",
      "[CV] learning_rate=1e-05, algorithm=SAMME.R, n_estimators=400 ........\n",
      "[CV]  learning_rate=1e-05, algorithm=SAMME.R, n_estimators=400, score=0.7173076923076923, total=   0.0s\n",
      "[CV] learning_rate=1e-05, algorithm=SAMME.R, n_estimators=400 ........\n",
      "[CV]  learning_rate=0.01, algorithm=SAMME, n_estimators=500, score=0.7098976109215017, total=   0.1s\n",
      "[CV] learning_rate=0.01, algorithm=SAMME, n_estimators=400 ...........\n",
      "[CV]  learning_rate=1e-05, algorithm=SAMME.R, n_estimators=400, score=0.7321772639691715, total=   0.0s\n",
      "[CV] learning_rate=0.0001, algorithm=SAMME.R, n_estimators=500 .......\n",
      "[CV]  learning_rate=0.01, algorithm=SAMME, n_estimators=400, score=0.720771850170261, total=   0.1s\n",
      "[CV] learning_rate=0.01, algorithm=SAMME, n_estimators=400 ...........\n",
      "[CV]  learning_rate=0.01, algorithm=SAMME.R, n_estimators=400, score=0.7336561743341404, total=   0.1s\n",
      "[CV] learning_rate=0.01, algorithm=SAMME.R, n_estimators=400 .........\n",
      "[CV]  learning_rate=0.0001, algorithm=SAMME.R, n_estimators=500, score=0.727447216890595, total=   0.0s\n",
      "[CV] learning_rate=0.0001, algorithm=SAMME.R, n_estimators=500 .......\n",
      "[CV]  learning_rate=0.0001, algorithm=SAMME.R, n_estimators=500, score=0.7096153846153846, total=   0.0s\n",
      "[CV] learning_rate=0.0001, algorithm=SAMME.R, n_estimators=500 .......\n",
      "[CV]  learning_rate=1e-05, algorithm=SAMME.R, n_estimators=400, score=0.7304565353345841, total=   0.1s\n",
      "[CV] learning_rate=0.0001, algorithm=SAMME.R, n_estimators=500 .......\n",
      "[CV]  learning_rate=0.01, algorithm=SAMME, n_estimators=400, score=0.7375, total=   0.1s\n",
      "[CV] learning_rate=0.01, algorithm=SAMME, n_estimators=400 ...........\n",
      "[CV]  learning_rate=0.0001, algorithm=SAMME.R, n_estimators=500, score=0.7211538461538461, total=   0.0s\n",
      "[CV] learning_rate=0.0001, algorithm=SAMME.R, n_estimators=500 .......\n",
      "[CV]  learning_rate=0.01, algorithm=SAMME.R, n_estimators=400, score=0.7215496368038741, total=   0.1s\n",
      "[CV] learning_rate=0.1, algorithm=SAMME.R, n_estimators=500 ..........\n",
      "[CV]  learning_rate=0.0001, algorithm=SAMME.R, n_estimators=500, score=0.6942307692307692, total=   0.0s\n",
      "[CV] learning_rate=0.0001, algorithm=SAMME.R, n_estimators=500 .......\n",
      "[CV]  learning_rate=0.01, algorithm=SAMME, n_estimators=400, score=0.7318181818181818, total=   0.1s\n",
      "[CV] learning_rate=0.01, algorithm=SAMME, n_estimators=400 ...........\n",
      "[CV]  learning_rate=0.0001, algorithm=SAMME.R, n_estimators=500, score=0.7321772639691715, total=   0.0s\n",
      "[CV] learning_rate=0.0001, algorithm=SAMME.R, n_estimators=400 .......\n",
      "[CV]  learning_rate=0.0001, algorithm=SAMME.R, n_estimators=500, score=0.7332916926920675, total=   0.1s\n",
      "[CV] learning_rate=0.0001, algorithm=SAMME.R, n_estimators=500 .......\n",
      "[CV]  learning_rate=0.01, algorithm=SAMME, n_estimators=400, score=0.7159090909090909, total=   0.1s\n",
      "[CV] learning_rate=0.01, algorithm=SAMME, n_estimators=400 ...........\n",
      "[CV]  learning_rate=0.0001, algorithm=SAMME.R, n_estimators=400, score=0.7351247600767754, total=   0.0s\n",
      "[CV]  learning_rate=0.1, algorithm=SAMME.R, n_estimators=500, score=0.7276390008058018, total=   0.1s\n",
      "[CV] learning_rate=0.0001, algorithm=SAMME.R, n_estimators=400 .......\n",
      "[CV] learning_rate=0.1, algorithm=SAMME.R, n_estimators=500 ..........\n",
      "[CV]  learning_rate=0.0001, algorithm=SAMME.R, n_estimators=400, score=0.6942307692307692, total=   0.0s\n",
      "[CV] learning_rate=0.0001, algorithm=SAMME.R, n_estimators=400 .......\n",
      "[CV]  learning_rate=0.01, algorithm=SAMME, n_estimators=400, score=0.7167235494880546, total=   0.1s\n",
      "[CV] learning_rate=0.1, algorithm=SAMME, n_estimators=500 ............\n",
      "[CV]  learning_rate=0.0001, algorithm=SAMME.R, n_estimators=400, score=0.7230769230769231, total=   0.0s\n",
      "[CV] learning_rate=0.0001, algorithm=SAMME.R, n_estimators=400 .......\n",
      "[CV]  learning_rate=0.1, algorithm=SAMME.R, n_estimators=500, score=0.7195809830781628, total=   0.1s\n",
      "[CV] learning_rate=0.1, algorithm=SAMME.R, n_estimators=500 ..........\n",
      "[CV]  learning_rate=0.0001, algorithm=SAMME.R, n_estimators=400, score=0.7115384615384616, total=   0.0s\n",
      "[CV]  learning_rate=0.0001, algorithm=SAMME.R, n_estimators=500, score=0.72625, total=   0.1s\n",
      "[CV] learning_rate=0.0001, algorithm=SAMME.R, n_estimators=400 .......\n",
      "[CV]  learning_rate=0.1, algorithm=SAMME, n_estimators=500, score=0.7309875141884222, total=   0.1s\n",
      "[CV] learning_rate=0.0001, algorithm=SAMME.R, n_estimators=500 .......\n",
      "[CV] learning_rate=0.1, algorithm=SAMME, n_estimators=500 ............\n",
      "[CV]  learning_rate=0.0001, algorithm=SAMME.R, n_estimators=400, score=0.7456647398843931, total=   0.0s\n",
      "[CV] learning_rate=0.001, algorithm=SAMME.R, n_estimators=500 ........\n",
      "[CV]  learning_rate=0.1, algorithm=SAMME, n_estimators=500, score=0.7329545454545454, total=   0.1s\n",
      "[CV] learning_rate=0.1, algorithm=SAMME, n_estimators=500 ............\n",
      "[CV]  learning_rate=0.1, algorithm=SAMME.R, n_estimators=500, score=0.714516129032258, total=   0.1s\n",
      "[CV]  learning_rate=0.001, algorithm=SAMME.R, n_estimators=500, score=0.7332053742802304, total=   0.0s\n",
      "[CV] learning_rate=0.001, algorithm=SAMME.R, n_estimators=500 ........\n",
      "[CV] learning_rate=0.1, algorithm=SAMME.R, n_estimators=500 ..........\n",
      "[CV]  learning_rate=0.001, algorithm=SAMME.R, n_estimators=500, score=0.6961538461538461, total=   0.0s\n",
      "[CV] learning_rate=0.001, algorithm=SAMME.R, n_estimators=500 ........\n",
      "[CV]  learning_rate=0.0001, algorithm=SAMME.R, n_estimators=500, score=0.7275, total=   0.1s\n",
      "[CV] learning_rate=0.0001, algorithm=SAMME.R, n_estimators=500 .......\n",
      "[CV]  learning_rate=0.1, algorithm=SAMME, n_estimators=500, score=0.7261363636363637, total=   0.1s\n",
      "[CV] learning_rate=0.1, algorithm=SAMME, n_estimators=500 ............\n",
      "[CV]  learning_rate=0.001, algorithm=SAMME.R, n_estimators=500, score=0.7134615384615385, total=   0.0s\n",
      "[CV] learning_rate=0.001, algorithm=SAMME.R, n_estimators=500 ........\n",
      "[CV]  learning_rate=0.1, algorithm=SAMME.R, n_estimators=500, score=0.7409200968523002, total=   0.1s\n",
      "[CV] learning_rate=0.1, algorithm=SAMME.R, n_estimators=500 ..........\n",
      "[CV]  learning_rate=0.001, algorithm=SAMME.R, n_estimators=500, score=0.7076923076923077, total=   0.0s\n",
      "[CV] learning_rate=0.001, algorithm=SAMME.R, n_estimators=500 ........\n",
      "[CV]  learning_rate=0.1, algorithm=SAMME, n_estimators=500, score=0.7193181818181819, total=   0.1s\n",
      "[CV] learning_rate=0.1, algorithm=SAMME, n_estimators=500 ............\n",
      "[CV]  learning_rate=0.001, algorithm=SAMME.R, n_estimators=500, score=0.720616570327553, total=   0.0s\n",
      "[CV] learning_rate=0.001, algorithm=SAMME.R, n_estimators=400 ........\n",
      "[CV]  learning_rate=0.0001, algorithm=SAMME.R, n_estimators=500, score=0.73375, total=   0.1s\n",
      "[CV] learning_rate=0.0001, algorithm=SAMME.R, n_estimators=500 .......\n",
      "[CV]  learning_rate=0.1, algorithm=SAMME, n_estimators=500, score=0.7076222980659841, total=   0.1s\n",
      "[CV] learning_rate=0.1, algorithm=SAMME, n_estimators=400 ............\n",
      "[CV]  learning_rate=0.1, algorithm=SAMME.R, n_estimators=500, score=0.7207425343018563, total=   0.1s\n",
      "[CV]  learning_rate=0.001, algorithm=SAMME.R, n_estimators=400, score=0.7351247600767754, total=   0.0s\n",
      "[CV] learning_rate=0.001, algorithm=SAMME.R, n_estimators=400 ........\n",
      "[CV] learning_rate=0.1, algorithm=SAMME.R, n_estimators=400 ..........\n",
      "[CV]  learning_rate=0.001, algorithm=SAMME.R, n_estimators=400, score=0.6942307692307692, total=   0.0s\n",
      "[CV] learning_rate=0.001, algorithm=SAMME.R, n_estimators=400 ........\n",
      "[CV]  learning_rate=0.1, algorithm=SAMME, n_estimators=400, score=0.720771850170261, total=   0.1s\n",
      "[CV] learning_rate=0.1, algorithm=SAMME, n_estimators=400 ............\n",
      "[CV]  learning_rate=0.001, algorithm=SAMME.R, n_estimators=400, score=0.7192307692307692, total=   0.0s\n",
      "[CV] learning_rate=0.001, algorithm=SAMME.R, n_estimators=400 ........\n",
      "[CV]  learning_rate=0.1, algorithm=SAMME.R, n_estimators=400, score=0.7276390008058018, total=   0.1s\n",
      "[CV] learning_rate=0.1, algorithm=SAMME.R, n_estimators=400 ..........\n",
      "[CV]  learning_rate=0.0001, algorithm=SAMME.R, n_estimators=500, score=0.7335834896810507, total=   0.1s\n",
      "[CV] learning_rate=0.0001, algorithm=SAMME.R, n_estimators=400 .......\n",
      "[CV]  learning_rate=0.001, algorithm=SAMME.R, n_estimators=400, score=0.7173076923076923, total=   0.0s\n",
      "[CV] learning_rate=0.001, algorithm=SAMME.R, n_estimators=400 ........\n",
      "[CV]  learning_rate=0.1, algorithm=SAMME, n_estimators=400, score=0.7227272727272728, total=   0.1s\n",
      "[CV] learning_rate=0.1, algorithm=SAMME, n_estimators=400 ............\n",
      "[CV]  learning_rate=0.001, algorithm=SAMME.R, n_estimators=400, score=0.7379576107899807, total=   0.0s\n",
      "[CV] learning_rate=0.01, algorithm=SAMME.R, n_estimators=500 .........\n",
      "[CV]  learning_rate=0.1, algorithm=SAMME, n_estimators=400, score=0.7318181818181818, total=   0.1s\n",
      "[CV] learning_rate=0.1, algorithm=SAMME, n_estimators=400 ............\n",
      "[CV]  learning_rate=0.01, algorithm=SAMME.R, n_estimators=500, score=0.7351247600767754, total=   0.0s\n",
      "[CV] learning_rate=0.01, algorithm=SAMME.R, n_estimators=500 .........\n",
      "[CV]  learning_rate=0.1, algorithm=SAMME.R, n_estimators=400, score=0.7300564061240935, total=   0.1s\n",
      "[CV] learning_rate=0.1, algorithm=SAMME.R, n_estimators=400 ..........\n",
      "[CV]  learning_rate=0.01, algorithm=SAMME.R, n_estimators=500, score=0.7076923076923077, total=   0.0s\n",
      "[CV] learning_rate=0.01, algorithm=SAMME.R, n_estimators=500 .........\n",
      "[CV]  learning_rate=0.0001, algorithm=SAMME.R, n_estimators=400, score=0.7314178638351031, total=   0.1s\n",
      "[CV] learning_rate=0.0001, algorithm=SAMME.R, n_estimators=400 .......\n",
      "[CV]  learning_rate=0.1, algorithm=SAMME, n_estimators=400, score=0.7227272727272728, total=   0.1s\n",
      "[CV] learning_rate=0.1, algorithm=SAMME, n_estimators=400 ............\n",
      "[CV]  learning_rate=0.01, algorithm=SAMME.R, n_estimators=500, score=0.7192307692307692, total=   0.0s\n",
      "[CV] learning_rate=0.01, algorithm=SAMME.R, n_estimators=500 .........\n",
      "[CV]  learning_rate=0.1, algorithm=SAMME.R, n_estimators=400, score=0.7056451612903226, total=   0.1s\n",
      "[CV] learning_rate=0.1, algorithm=SAMME.R, n_estimators=400 ..........\n",
      "[CV]  learning_rate=0.01, algorithm=SAMME.R, n_estimators=500, score=0.7096153846153846, total=   0.0s\n",
      "[CV] learning_rate=0.01, algorithm=SAMME.R, n_estimators=500 .........\n",
      "[CV]  learning_rate=0.1, algorithm=SAMME, n_estimators=400, score=0.7189988623435722, total=   0.1s\n",
      "[CV] learning_rate=1, algorithm=SAMME, n_estimators=500 ..............\n",
      "[CV]  learning_rate=0.01, algorithm=SAMME.R, n_estimators=500, score=0.7495183044315993, total=   0.0s\n",
      "[CV] learning_rate=0.01, algorithm=SAMME.R, n_estimators=400 .........\n",
      "[CV]  learning_rate=0.0001, algorithm=SAMME.R, n_estimators=400, score=0.71875, total=   0.2s\n",
      "[CV] learning_rate=0.0001, algorithm=SAMME.R, n_estimators=400 .......\n",
      "[CV]  learning_rate=1, algorithm=SAMME, n_estimators=500, score=0.7264472190692395, total=   0.1s\n",
      "[CV] learning_rate=1, algorithm=SAMME, n_estimators=500 ..............\n",
      "[CV]  learning_rate=0.01, algorithm=SAMME.R, n_estimators=400, score=0.7428023032629558, total=   0.0s\n",
      "[CV] learning_rate=0.01, algorithm=SAMME.R, n_estimators=400 .........\n",
      "[CV]  learning_rate=0.1, algorithm=SAMME.R, n_estimators=400, score=0.741727199354318, total=   0.1s\n",
      "[CV] learning_rate=0.1, algorithm=SAMME.R, n_estimators=400 ..........\n",
      "[CV]  learning_rate=0.01, algorithm=SAMME.R, n_estimators=400, score=0.7096153846153846, total=   0.0s\n",
      "[CV] learning_rate=0.01, algorithm=SAMME.R, n_estimators=400 .........\n",
      "[CV]  learning_rate=1, algorithm=SAMME, n_estimators=500, score=0.7340909090909091, total=   0.1s\n",
      "[CV] learning_rate=1, algorithm=SAMME, n_estimators=500 ..............\n",
      "[CV]  learning_rate=0.01, algorithm=SAMME.R, n_estimators=400, score=0.7326923076923076, total=   0.0s\n",
      "[CV] learning_rate=0.01, algorithm=SAMME.R, n_estimators=400 .........\n",
      "[CV]  learning_rate=0.1, algorithm=SAMME.R, n_estimators=400, score=0.7247780468119451, total=   0.1s\n",
      "[CV] learning_rate=1, algorithm=SAMME.R, n_estimators=500 ............\n",
      "[CV]  learning_rate=0.01, algorithm=SAMME.R, n_estimators=400, score=0.7134615384615385, total=   0.0s\n",
      "[CV] learning_rate=0.01, algorithm=SAMME.R, n_estimators=400 .........\n",
      "[CV]  learning_rate=0.0001, algorithm=SAMME.R, n_estimators=400, score=0.731875, total=   0.1s\n",
      "[CV] learning_rate=0.0001, algorithm=SAMME.R, n_estimators=400 .......\n",
      "[CV]  learning_rate=1, algorithm=SAMME, n_estimators=500, score=0.7340909090909091, total=   0.1s\n",
      "[CV] learning_rate=1, algorithm=SAMME, n_estimators=500 ..............\n",
      "[CV]  learning_rate=0.01, algorithm=SAMME.R, n_estimators=400, score=0.7225433526011561, total=   0.0s\n",
      "[CV] learning_rate=0.1, algorithm=SAMME.R, n_estimators=500 ..........\n",
      "[CV]  learning_rate=0.1, algorithm=SAMME.R, n_estimators=500, score=0.746641074856046, total=   0.0s\n",
      "[CV] learning_rate=0.1, algorithm=SAMME.R, n_estimators=500 ..........\n",
      "[CV]  learning_rate=1, algorithm=SAMME, n_estimators=500, score=0.7238636363636364, total=   0.1s\n",
      "[CV] learning_rate=1, algorithm=SAMME, n_estimators=500 ..............\n",
      "[CV]  learning_rate=1, algorithm=SAMME.R, n_estimators=500, score=0.7284448025785657, total=   0.1s\n",
      "[CV] learning_rate=1, algorithm=SAMME.R, n_estimators=500 ............\n",
      "[CV]  learning_rate=0.1, algorithm=SAMME.R, n_estimators=500, score=0.7057692307692308, total=   0.0s\n",
      "[CV] learning_rate=0.1, algorithm=SAMME.R, n_estimators=500 ..........\n",
      "[CV]  learning_rate=0.0001, algorithm=SAMME.R, n_estimators=400, score=0.73375, total=   0.1s\n",
      "[CV] learning_rate=0.0001, algorithm=SAMME.R, n_estimators=400 .......\n",
      "[CV]  learning_rate=1, algorithm=SAMME, n_estimators=500, score=0.714448236632537, total=   0.1s\n",
      "[CV] learning_rate=1, algorithm=SAMME, n_estimators=400 ..............\n",
      "[CV]  learning_rate=0.1, algorithm=SAMME.R, n_estimators=500, score=0.725, total=   0.0s\n",
      "[CV] learning_rate=0.1, algorithm=SAMME.R, n_estimators=500 ..........\n",
      "[CV]  learning_rate=1, algorithm=SAMME.R, n_estimators=500, score=0.7236099919419823, total=   0.1s\n",
      "[CV] learning_rate=1, algorithm=SAMME.R, n_estimators=500 ............\n",
      "[CV]  learning_rate=0.1, algorithm=SAMME.R, n_estimators=500, score=0.7365384615384616, total=   0.0s\n",
      "[CV] learning_rate=0.1, algorithm=SAMME.R, n_estimators=500 ..........\n",
      "[CV]  learning_rate=1, algorithm=SAMME, n_estimators=400, score=0.7275822928490352, total=   0.1s\n",
      "[CV] learning_rate=1, algorithm=SAMME, n_estimators=400 ..............\n",
      "[CV]  learning_rate=0.1, algorithm=SAMME.R, n_estimators=500, score=0.7302504816955684, total=   0.0s\n",
      "[CV] learning_rate=0.1, algorithm=SAMME.R, n_estimators=400 ..........\n",
      "[CV]  learning_rate=0.0001, algorithm=SAMME.R, n_estimators=400, score=0.7354596622889306, total=   0.1s\n",
      "[CV] learning_rate=0.001, algorithm=SAMME.R, n_estimators=500 ........\n",
      "[CV]  learning_rate=0.1, algorithm=SAMME.R, n_estimators=400, score=0.7351247600767754, total=   0.0s\n",
      "[CV]  learning_rate=1, algorithm=SAMME.R, n_estimators=500, score=0.717741935483871, total=   0.1s\n",
      "[CV] learning_rate=0.1, algorithm=SAMME.R, n_estimators=400 ..........\n",
      "[CV] learning_rate=1, algorithm=SAMME.R, n_estimators=500 ............\n",
      "[CV]  learning_rate=1, algorithm=SAMME, n_estimators=400, score=0.7329545454545454, total=   0.1s\n",
      "[CV] learning_rate=1, algorithm=SAMME, n_estimators=400 ..............\n",
      "[CV]  learning_rate=0.1, algorithm=SAMME.R, n_estimators=400, score=0.7076923076923077, total=   0.0s\n",
      "[CV] learning_rate=0.1, algorithm=SAMME.R, n_estimators=400 ..........\n",
      "[CV]  learning_rate=1, algorithm=SAMME, n_estimators=400, score=0.7227272727272728, total=   0.1s\n",
      "[CV] learning_rate=1, algorithm=SAMME, n_estimators=400 ..............\n",
      "[CV]  learning_rate=0.1, algorithm=SAMME.R, n_estimators=400, score=0.7134615384615385, total=   0.0s\n",
      "[CV] learning_rate=0.1, algorithm=SAMME.R, n_estimators=400 ..........\n",
      "[CV]  learning_rate=1, algorithm=SAMME.R, n_estimators=500, score=0.7255851493139629, total=   0.1s\n",
      "[CV] learning_rate=1, algorithm=SAMME.R, n_estimators=500 ............\n",
      "[CV]  learning_rate=0.001, algorithm=SAMME.R, n_estimators=500, score=0.7301686445971268, total=   0.1s\n",
      "[CV]  learning_rate=0.1, algorithm=SAMME.R, n_estimators=400, score=0.7230769230769231, total=   0.0s\n",
      "[CV] learning_rate=0.001, algorithm=SAMME.R, n_estimators=500 ........\n",
      "[CV] learning_rate=0.1, algorithm=SAMME.R, n_estimators=400 ..........\n",
      "[CV]  learning_rate=1, algorithm=SAMME, n_estimators=400, score=0.7261363636363637, total=   0.1s\n",
      "[CV] learning_rate=1, algorithm=SAMME, n_estimators=400 ..............\n",
      "[CV]  learning_rate=0.1, algorithm=SAMME.R, n_estimators=400, score=0.74373795761079, total=   0.0s\n",
      "[CV] learning_rate=1, algorithm=SAMME.R, n_estimators=500 ............\n",
      "[CV]  learning_rate=1, algorithm=SAMME.R, n_estimators=500, score=0.7263922518159807, total=   0.1s\n",
      "[CV] learning_rate=1, algorithm=SAMME.R, n_estimators=400 ............\n",
      "[CV]  learning_rate=1, algorithm=SAMME.R, n_estimators=500, score=0.72552783109405, total=   0.0s\n",
      "[CV] learning_rate=1, algorithm=SAMME.R, n_estimators=500 ............\n",
      "[CV]  learning_rate=1, algorithm=SAMME, n_estimators=400, score=0.714448236632537, total=   0.1s\n",
      "[CV] learning_rate=1e-05, algorithm=SAMME.R, n_estimators=500 ........\n",
      "[CV]  learning_rate=1, algorithm=SAMME.R, n_estimators=500, score=0.6903846153846154, total=   0.0s\n",
      "[CV] learning_rate=1, algorithm=SAMME.R, n_estimators=500 ............\n",
      "[CV]  learning_rate=0.001, algorithm=SAMME.R, n_estimators=500, score=0.725, total=   0.1s\n",
      "[CV] learning_rate=0.001, algorithm=SAMME.R, n_estimators=500 ........\n",
      "[CV]  learning_rate=1, algorithm=SAMME.R, n_estimators=500, score=0.7230769230769231, total=   0.0s\n",
      "[CV]  learning_rate=1e-05, algorithm=SAMME.R, n_estimators=500, score=0.7366628830874007, total=   0.1s\n",
      "[CV] learning_rate=1e-05, algorithm=SAMME.R, n_estimators=500 ........\n",
      "[CV] learning_rate=1, algorithm=SAMME.R, n_estimators=500 ............\n",
      "[CV]  learning_rate=1, algorithm=SAMME.R, n_estimators=400, score=0.7316680096696213, total=   0.1s\n",
      "[CV] learning_rate=1, algorithm=SAMME.R, n_estimators=400 ............\n",
      "[CV]  learning_rate=1, algorithm=SAMME.R, n_estimators=500, score=0.7153846153846154, total=   0.0s\n",
      "[CV] learning_rate=1, algorithm=SAMME.R, n_estimators=500 ............\n",
      "[CV]  learning_rate=1e-05, algorithm=SAMME.R, n_estimators=500, score=0.7295454545454545, total=   0.1s\n",
      "[CV] learning_rate=1e-05, algorithm=SAMME.R, n_estimators=500 ........\n",
      "[CV]  learning_rate=1, algorithm=SAMME.R, n_estimators=500, score=0.7360308285163777, total=   0.0s\n",
      "[CV] learning_rate=1, algorithm=SAMME.R, n_estimators=400 ............\n",
      "[CV]  learning_rate=0.001, algorithm=SAMME.R, n_estimators=500, score=0.72625, total=   0.1s\n",
      "[CV] learning_rate=0.001, algorithm=SAMME.R, n_estimators=500 ........\n",
      "[CV]  learning_rate=1, algorithm=SAMME.R, n_estimators=400, score=0.7389635316698656, total=   0.0s\n",
      "[CV] learning_rate=1, algorithm=SAMME.R, n_estimators=400 ............\n",
      "[CV]  learning_rate=1, algorithm=SAMME.R, n_estimators=400, score=0.7284448025785657, total=   0.1s\n",
      "[CV] learning_rate=1, algorithm=SAMME.R, n_estimators=400 ............\n",
      "[CV]  learning_rate=1e-05, algorithm=SAMME.R, n_estimators=500, score=0.7420454545454546, total=   0.1s\n",
      "[CV] learning_rate=1e-05, algorithm=SAMME.R, n_estimators=500 ........\n",
      "[CV]  learning_rate=1, algorithm=SAMME.R, n_estimators=400, score=0.6923076923076923, total=   0.1s\n",
      "[CV] learning_rate=1, algorithm=SAMME.R, n_estimators=400 ............\n",
      "[CV]  learning_rate=1, algorithm=SAMME.R, n_estimators=400, score=0.7173076923076923, total=   0.1s\n",
      "[CV] learning_rate=1, algorithm=SAMME.R, n_estimators=400 ............\n",
      "[CV]  learning_rate=1e-05, algorithm=SAMME.R, n_estimators=500, score=0.7284090909090909, total=   0.1s\n",
      "[CV] learning_rate=1e-05, algorithm=SAMME.R, n_estimators=500 ........\n",
      "[CV]  learning_rate=1, algorithm=SAMME.R, n_estimators=400, score=0.7153225806451613, total=   0.1s\n",
      "[CV] learning_rate=1, algorithm=SAMME.R, n_estimators=400 ............\n",
      "[CV]  learning_rate=0.001, algorithm=SAMME.R, n_estimators=500, score=0.738125, total=   0.2s\n",
      "[CV] learning_rate=0.001, algorithm=SAMME.R, n_estimators=500 ........\n",
      "[CV]  learning_rate=1, algorithm=SAMME.R, n_estimators=400, score=0.7057692307692308, total=   0.1s\n",
      "[CV] learning_rate=1, algorithm=SAMME.R, n_estimators=400 ............\n",
      "[CV]  learning_rate=1e-05, algorithm=SAMME.R, n_estimators=500, score=0.7246871444823664, total=   0.1s\n",
      "[CV] learning_rate=1e-05, algorithm=SAMME.R, n_estimators=400 ........\n",
      "[CV]  learning_rate=1, algorithm=SAMME.R, n_estimators=400, score=0.7302504816955684, total=   0.0s\n"
     ]
    },
    {
     "name": "stderr",
     "output_type": "stream",
     "text": [
      "[Parallel(n_jobs=-1)]: Done 120 out of 120 | elapsed:    5.5s finished\n"
     ]
    },
    {
     "name": "stdout",
     "output_type": "stream",
     "text": [
      "[CV]  learning_rate=1, algorithm=SAMME.R, n_estimators=400, score=0.735270379338176, total=   0.2s\n",
      "[CV] learning_rate=1, algorithm=SAMME.R, n_estimators=400 ............\n",
      "[CV]  learning_rate=1e-05, algorithm=SAMME.R, n_estimators=400, score=0.7116912599318955, total=   0.1s\n",
      "[CV] learning_rate=1e-05, algorithm=SAMME.R, n_estimators=400 ........\n",
      "Fitting 5 folds for each of 24 candidates, totalling 120 fits\n"
     ]
    },
    {
     "name": "stderr",
     "output_type": "stream",
     "text": [
      "/Users/gali/anaconda/envs/carnd-term1/lib/python3.5/site-packages/sklearn/externals/joblib/parallel.py:547: UserWarning: Multiprocessing-backed parallel loops cannot be nested, setting n_jobs=1\n",
      "  **self._backend_args)\n"
     ]
    },
    {
     "name": "stdout",
     "output_type": "stream",
     "text": [
      "[CV] learning_rate=1e-05, algorithm=SAMME, n_estimators=500 ..........\n",
      "[CV]  learning_rate=0.001, algorithm=SAMME.R, n_estimators=500, score=0.7392120075046904, total=   0.2s\n",
      "[CV] learning_rate=0.001, algorithm=SAMME.R, n_estimators=400 ........\n",
      "[CV]  learning_rate=1e-05, algorithm=SAMME.R, n_estimators=400, score=0.7306818181818182, total=   0.1s\n",
      "[CV] learning_rate=1e-05, algorithm=SAMME.R, n_estimators=400 ........\n",
      "[CV]  learning_rate=1, algorithm=SAMME.R, n_estimators=400, score=0.7280064568200162, total=   0.1s\n"
     ]
    },
    {
     "name": "stderr",
     "output_type": "stream",
     "text": [
      "[Parallel(n_jobs=-1)]: Done 120 out of 120 | elapsed:   13.6s finished\n"
     ]
    },
    {
     "name": "stdout",
     "output_type": "stream",
     "text": [
      "[CV]  learning_rate=1e-05, algorithm=SAMME, n_estimators=500, score=0.7284448025785657, total=   0.1s\n"
     ]
    },
    {
     "name": "stderr",
     "output_type": "stream",
     "text": [
      "[Parallel(n_jobs=-1)]: Done   1 out of   1 | elapsed:    0.1s remaining:    0.0s\n"
     ]
    },
    {
     "name": "stdout",
     "output_type": "stream",
     "text": [
      "[CV] learning_rate=1e-05, algorithm=SAMME, n_estimators=500 ..........\n",
      "[CV]  learning_rate=1e-05, algorithm=SAMME.R, n_estimators=400, score=0.7204545454545455, total=   0.1s\n",
      "[CV] learning_rate=1e-05, algorithm=SAMME.R, n_estimators=400 ........\n",
      "[CV]  learning_rate=0.001, algorithm=SAMME.R, n_estimators=400, score=0.7314178638351031, total=   0.2s\n",
      "[CV] learning_rate=0.001, algorithm=SAMME.R, n_estimators=400 ........\n",
      "[CV]  learning_rate=1e-05, algorithm=SAMME.R, n_estimators=400, score=0.7238636363636364, total=   0.1s\n",
      "[CV] learning_rate=1e-05, algorithm=SAMME.R, n_estimators=400 ........\n",
      "[CV]  learning_rate=1e-05, algorithm=SAMME, n_estimators=500, score=0.7193548387096774, total=   0.1s\n"
     ]
    },
    {
     "name": "stderr",
     "output_type": "stream",
     "text": [
      "[Parallel(n_jobs=-1)]: Done   2 out of   2 | elapsed:    0.3s remaining:    0.0s\n"
     ]
    },
    {
     "name": "stdout",
     "output_type": "stream",
     "text": [
      "[CV] learning_rate=1e-05, algorithm=SAMME, n_estimators=500 ..........\n",
      "Fitting 5 folds for each of 24 candidates, totalling 120 fits\n"
     ]
    },
    {
     "name": "stderr",
     "output_type": "stream",
     "text": [
      "/Users/gali/anaconda/envs/carnd-term1/lib/python3.5/site-packages/sklearn/externals/joblib/parallel.py:547: UserWarning: Multiprocessing-backed parallel loops cannot be nested, setting n_jobs=1\n",
      "  **self._backend_args)\n"
     ]
    },
    {
     "name": "stdout",
     "output_type": "stream",
     "text": [
      "[CV] learning_rate=1e-05, algorithm=SAMME, n_estimators=500 ..........\n",
      "[CV]  learning_rate=1e-05, algorithm=SAMME.R, n_estimators=400, score=0.7235494880546075, total=   0.1s\n",
      "[CV] learning_rate=0.0001, algorithm=SAMME.R, n_estimators=500 .......\n",
      "[CV]  learning_rate=0.001, algorithm=SAMME.R, n_estimators=400, score=0.720625, total=   0.2s\n",
      "[CV] learning_rate=0.001, algorithm=SAMME.R, n_estimators=400 ........\n",
      "[CV]  learning_rate=1e-05, algorithm=SAMME, n_estimators=500, score=0.7403225806451613, total=   0.1s\n"
     ]
    },
    {
     "name": "stderr",
     "output_type": "stream",
     "text": [
      "[Parallel(n_jobs=-1)]: Done   3 out of   3 | elapsed:    0.4s remaining:    0.0s\n"
     ]
    },
    {
     "name": "stdout",
     "output_type": "stream",
     "text": [
      "[CV] learning_rate=1e-05, algorithm=SAMME, n_estimators=500 ..........\n",
      "[CV]  learning_rate=0.0001, algorithm=SAMME.R, n_estimators=500, score=0.7343927355278093, total=   0.1s\n",
      "[CV] learning_rate=0.0001, algorithm=SAMME.R, n_estimators=500 .......\n",
      "[CV]  learning_rate=1e-05, algorithm=SAMME, n_estimators=500, score=0.7151780137414117, total=   0.2s\n"
     ]
    },
    {
     "name": "stderr",
     "output_type": "stream",
     "text": [
      "[Parallel(n_jobs=-1)]: Done   1 out of   1 | elapsed:    0.2s remaining:    0.0s\n"
     ]
    },
    {
     "name": "stdout",
     "output_type": "stream",
     "text": [
      "[CV] learning_rate=1e-05, algorithm=SAMME, n_estimators=500 ..........\n",
      "[CV]  learning_rate=0.0001, algorithm=SAMME.R, n_estimators=500, score=0.7318181818181818, total=   0.1s\n",
      "[CV] learning_rate=0.0001, algorithm=SAMME.R, n_estimators=500 .......\n",
      "[CV]  learning_rate=1e-05, algorithm=SAMME, n_estimators=500, score=0.7064516129032258, total=   0.1s\n"
     ]
    },
    {
     "name": "stderr",
     "output_type": "stream",
     "text": [
      "[Parallel(n_jobs=-1)]: Done   4 out of   4 | elapsed:    0.5s remaining:    0.0s\n"
     ]
    },
    {
     "name": "stdout",
     "output_type": "stream",
     "text": [
      "[CV] learning_rate=1e-05, algorithm=SAMME, n_estimators=500 ..........\n",
      "[CV]  learning_rate=0.001, algorithm=SAMME.R, n_estimators=400, score=0.736875, total=   0.2s\n",
      "[CV] learning_rate=0.001, algorithm=SAMME.R, n_estimators=400 ........\n",
      "[CV]  learning_rate=0.0001, algorithm=SAMME.R, n_estimators=500, score=0.7261363636363637, total=   0.1s\n",
      "[CV] learning_rate=0.0001, algorithm=SAMME.R, n_estimators=500 .......\n",
      "[CV]  learning_rate=1e-05, algorithm=SAMME, n_estimators=500, score=0.7457838850718301, total=   0.2s\n"
     ]
    },
    {
     "name": "stderr",
     "output_type": "stream",
     "text": [
      "[Parallel(n_jobs=-1)]: Done   2 out of   2 | elapsed:    0.4s remaining:    0.0s\n"
     ]
    },
    {
     "name": "stdout",
     "output_type": "stream",
     "text": [
      "[CV] learning_rate=1e-05, algorithm=SAMME, n_estimators=500 ..........\n",
      "[CV]  learning_rate=1e-05, algorithm=SAMME, n_estimators=500, score=0.7328490718321227, total=   0.1s\n"
     ]
    },
    {
     "name": "stderr",
     "output_type": "stream",
     "text": [
      "[Parallel(n_jobs=-1)]: Done   5 out of   5 | elapsed:    0.7s remaining:    0.0s\n"
     ]
    },
    {
     "name": "stdout",
     "output_type": "stream",
     "text": [
      "[CV] learning_rate=1e-05, algorithm=SAMME, n_estimators=400 ..........\n",
      "[CV]  learning_rate=0.0001, algorithm=SAMME.R, n_estimators=500, score=0.725, total=   0.1s\n",
      "[CV] learning_rate=0.0001, algorithm=SAMME.R, n_estimators=500 .......\n",
      "[CV]  learning_rate=0.001, algorithm=SAMME.R, n_estimators=400, score=0.733125, total=   0.2s\n",
      "[CV] learning_rate=0.001, algorithm=SAMME.R, n_estimators=400 ........\n",
      "[CV]  learning_rate=0.0001, algorithm=SAMME.R, n_estimators=500, score=0.7167235494880546, total=   0.1s\n",
      "[CV] learning_rate=0.0001, algorithm=SAMME.R, n_estimators=400 .......\n",
      "[CV]  learning_rate=1e-05, algorithm=SAMME, n_estimators=400, score=0.7292506043513296, total=   0.1s\n"
     ]
    },
    {
     "name": "stderr",
     "output_type": "stream",
     "text": [
      "[Parallel(n_jobs=-1)]: Done   6 out of   6 | elapsed:    0.8s remaining:    0.0s\n"
     ]
    },
    {
     "name": "stdout",
     "output_type": "stream",
     "text": [
      "[CV]  learning_rate=1e-05, algorithm=SAMME, n_estimators=500, score=0.731875, total=   0.2s\n"
     ]
    },
    {
     "name": "stderr",
     "output_type": "stream",
     "text": [
      "[Parallel(n_jobs=-1)]: Done   3 out of   3 | elapsed:    0.6s remaining:    0.0s\n"
     ]
    },
    {
     "name": "stdout",
     "output_type": "stream",
     "text": [
      "[CV] learning_rate=1e-05, algorithm=SAMME, n_estimators=400 ..........\n",
      "[CV] learning_rate=1e-05, algorithm=SAMME, n_estimators=500 ..........\n",
      "[CV]  learning_rate=0.0001, algorithm=SAMME.R, n_estimators=400, score=0.717366628830874, total=   0.1s\n",
      "[CV] learning_rate=0.0001, algorithm=SAMME.R, n_estimators=400 .......\n",
      "[CV]  learning_rate=0.001, algorithm=SAMME.R, n_estimators=400, score=0.734208880550344, total=   0.2s\n",
      "[CV] learning_rate=0.01, algorithm=SAMME.R, n_estimators=500 .........\n",
      "[CV]  learning_rate=1e-05, algorithm=SAMME, n_estimators=400, score=0.717741935483871, total=   0.1s\n"
     ]
    },
    {
     "name": "stderr",
     "output_type": "stream",
     "text": [
      "[Parallel(n_jobs=-1)]: Done   7 out of   7 | elapsed:    1.0s remaining:    0.0s\n"
     ]
    },
    {
     "name": "stdout",
     "output_type": "stream",
     "text": [
      "[CV] learning_rate=1e-05, algorithm=SAMME, n_estimators=400 ..........\n",
      "[CV]  learning_rate=0.0001, algorithm=SAMME.R, n_estimators=400, score=0.7215909090909091, total=   0.1s\n",
      "[CV]  learning_rate=1e-05, algorithm=SAMME, n_estimators=500, score=0.7229518449030644, total=   0.1s\n"
     ]
    },
    {
     "name": "stderr",
     "output_type": "stream",
     "text": [
      "[Parallel(n_jobs=-1)]: Done   4 out of   4 | elapsed:    0.7s remaining:    0.0s\n"
     ]
    },
    {
     "name": "stdout",
     "output_type": "stream",
     "text": [
      "[CV] learning_rate=0.0001, algorithm=SAMME.R, n_estimators=400 .......\n",
      "[CV] learning_rate=1e-05, algorithm=SAMME, n_estimators=500 ..........\n",
      "[CV]  learning_rate=0.01, algorithm=SAMME.R, n_estimators=500, score=0.7251717676452217, total=   0.1s\n",
      "[CV] learning_rate=0.01, algorithm=SAMME.R, n_estimators=500 .........\n",
      "[CV]  learning_rate=1e-05, algorithm=SAMME, n_estimators=400, score=0.7346774193548387, total=   0.1s\n",
      "[CV]  learning_rate=0.0001, algorithm=SAMME.R, n_estimators=400, score=0.7295454545454545, total=   0.1s\n"
     ]
    },
    {
     "name": "stderr",
     "output_type": "stream",
     "text": [
      "[Parallel(n_jobs=-1)]: Done   8 out of   8 | elapsed:    1.1s remaining:    0.0s\n"
     ]
    },
    {
     "name": "stdout",
     "output_type": "stream",
     "text": [
      "[CV] learning_rate=0.0001, algorithm=SAMME.R, n_estimators=400 .......\n",
      "[CV] learning_rate=1e-05, algorithm=SAMME, n_estimators=400 ..........\n",
      "[CV]  learning_rate=1e-05, algorithm=SAMME, n_estimators=500, score=0.7129455909943715, total=   0.1s\n"
     ]
    },
    {
     "name": "stderr",
     "output_type": "stream",
     "text": [
      "[Parallel(n_jobs=-1)]: Done   5 out of   5 | elapsed:    0.9s remaining:    0.0s\n"
     ]
    },
    {
     "name": "stdout",
     "output_type": "stream",
     "text": [
      "[CV] learning_rate=1e-05, algorithm=SAMME, n_estimators=400 ..........\n",
      "[CV]  learning_rate=0.0001, algorithm=SAMME.R, n_estimators=400, score=0.7340909090909091, total=   0.1s\n",
      "[CV] learning_rate=0.0001, algorithm=SAMME.R, n_estimators=400 .......\n",
      "[CV]  learning_rate=1e-05, algorithm=SAMME, n_estimators=400, score=0.7096774193548387, total=   0.1s\n"
     ]
    },
    {
     "name": "stderr",
     "output_type": "stream",
     "text": [
      "[Parallel(n_jobs=-1)]: Done   9 out of   9 | elapsed:    1.2s remaining:    0.0s\n"
     ]
    },
    {
     "name": "stdout",
     "output_type": "stream",
     "text": [
      "[CV] learning_rate=1e-05, algorithm=SAMME, n_estimators=400 ..........\n",
      "[CV]  learning_rate=0.01, algorithm=SAMME.R, n_estimators=500, score=0.72, total=   0.1s\n",
      "[CV] learning_rate=0.01, algorithm=SAMME.R, n_estimators=500 .........\n",
      "[CV]  learning_rate=0.0001, algorithm=SAMME.R, n_estimators=400, score=0.714448236632537, total=   0.1s\n",
      "[CV] learning_rate=0.001, algorithm=SAMME.R, n_estimators=500 ........\n",
      "[CV]  learning_rate=1e-05, algorithm=SAMME, n_estimators=400, score=0.7232979387882573, total=   0.1s\n"
     ]
    },
    {
     "name": "stderr",
     "output_type": "stream",
     "text": [
      "[Parallel(n_jobs=-1)]: Done   6 out of   6 | elapsed:    1.0s remaining:    0.0s\n"
     ]
    },
    {
     "name": "stdout",
     "output_type": "stream",
     "text": [
      "[CV] learning_rate=1e-05, algorithm=SAMME, n_estimators=400 ..........\n",
      "[CV]  learning_rate=1e-05, algorithm=SAMME, n_estimators=400, score=0.7231638418079096, total=   0.1s\n",
      "[CV] learning_rate=0.0001, algorithm=SAMME, n_estimators=500 .........\n",
      "[CV]  learning_rate=0.001, algorithm=SAMME.R, n_estimators=500, score=0.7321225879682179, total=   0.1s\n",
      "[CV] learning_rate=0.001, algorithm=SAMME.R, n_estimators=500 ........\n",
      "[CV]  learning_rate=0.01, algorithm=SAMME.R, n_estimators=500, score=0.733125, total=   0.1s\n",
      "[CV] learning_rate=0.01, algorithm=SAMME.R, n_estimators=500 .........\n",
      "[CV]  learning_rate=0.001, algorithm=SAMME.R, n_estimators=500, score=0.7193181818181819, total=   0.1s\n",
      "[CV] learning_rate=0.001, algorithm=SAMME.R, n_estimators=500 ........\n",
      "[CV]  learning_rate=0.0001, algorithm=SAMME, n_estimators=500, score=0.726027397260274, total=   0.1s\n",
      "[CV] learning_rate=0.0001, algorithm=SAMME, n_estimators=500 .........\n",
      "[CV]  learning_rate=1e-05, algorithm=SAMME, n_estimators=400, score=0.750156152404747, total=   0.2s\n"
     ]
    },
    {
     "name": "stderr",
     "output_type": "stream",
     "text": [
      "[Parallel(n_jobs=-1)]: Done   7 out of   7 | elapsed:    1.2s remaining:    0.0s\n"
     ]
    },
    {
     "name": "stdout",
     "output_type": "stream",
     "text": [
      "[CV] learning_rate=1e-05, algorithm=SAMME, n_estimators=400 ..........\n",
      "[CV]  learning_rate=0.001, algorithm=SAMME.R, n_estimators=500, score=0.7261363636363637, total=   0.1s\n",
      "[CV] learning_rate=0.001, algorithm=SAMME.R, n_estimators=500 ........\n",
      "[CV]  learning_rate=0.0001, algorithm=SAMME, n_estimators=500, score=0.7169354838709677, total=   0.1s\n",
      "[CV] learning_rate=0.0001, algorithm=SAMME, n_estimators=500 .........\n",
      "[CV]  learning_rate=0.01, algorithm=SAMME.R, n_estimators=500, score=0.73875, total=   0.1s\n",
      "[CV] learning_rate=0.01, algorithm=SAMME.R, n_estimators=500 .........\n",
      "[CV]  learning_rate=0.001, algorithm=SAMME.R, n_estimators=500, score=0.7204545454545455, total=   0.1s\n",
      "[CV] learning_rate=0.001, algorithm=SAMME.R, n_estimators=500 ........\n",
      "[CV]  learning_rate=1e-05, algorithm=SAMME, n_estimators=400, score=0.739375, total=   0.1s\n"
     ]
    },
    {
     "name": "stderr",
     "output_type": "stream",
     "text": [
      "[Parallel(n_jobs=-1)]: Done   8 out of   8 | elapsed:    1.3s remaining:    0.0s\n"
     ]
    },
    {
     "name": "stdout",
     "output_type": "stream",
     "text": [
      "[CV] learning_rate=1e-05, algorithm=SAMME, n_estimators=400 ..........\n",
      "[CV]  learning_rate=0.001, algorithm=SAMME.R, n_estimators=500, score=0.7098976109215017, total=   0.1s\n",
      "[CV] learning_rate=0.001, algorithm=SAMME.R, n_estimators=400 ........\n",
      "[CV]  learning_rate=0.0001, algorithm=SAMME, n_estimators=500, score=0.7330645161290322, total=   0.1s\n",
      "[CV] learning_rate=0.0001, algorithm=SAMME, n_estimators=500 .........\n",
      "[CV]  learning_rate=0.01, algorithm=SAMME.R, n_estimators=500, score=0.7360850531582239, total=   0.1s\n",
      "[CV] learning_rate=0.01, algorithm=SAMME.R, n_estimators=400 .........\n",
      "[CV]  learning_rate=0.001, algorithm=SAMME.R, n_estimators=400, score=0.7253121452894438, total=   0.1s\n",
      "[CV] learning_rate=0.001, algorithm=SAMME.R, n_estimators=400 ........\n",
      "[CV]  learning_rate=1e-05, algorithm=SAMME, n_estimators=400, score=0.7310819262038775, total=   0.1s\n",
      "[CV]  learning_rate=0.0001, algorithm=SAMME, n_estimators=500, score=0.7048387096774194, total=   0.1s\n"
     ]
    },
    {
     "name": "stderr",
     "output_type": "stream",
     "text": [
      "[Parallel(n_jobs=-1)]: Done   9 out of   9 | elapsed:    1.5s remaining:    0.0s\n"
     ]
    },
    {
     "name": "stdout",
     "output_type": "stream",
     "text": [
      "[CV] learning_rate=0.0001, algorithm=SAMME, n_estimators=500 .........\n",
      "[CV] learning_rate=1e-05, algorithm=SAMME, n_estimators=400 ..........\n",
      "[CV]  learning_rate=0.001, algorithm=SAMME.R, n_estimators=400, score=0.7295454545454545, total=   0.1s\n",
      "[CV] learning_rate=0.001, algorithm=SAMME.R, n_estimators=400 ........\n",
      "[CV]  learning_rate=0.01, algorithm=SAMME.R, n_estimators=400, score=0.7332916926920675, total=   0.1s\n",
      "[CV] learning_rate=0.01, algorithm=SAMME.R, n_estimators=400 .........\n",
      "[CV]  learning_rate=0.001, algorithm=SAMME.R, n_estimators=400, score=0.7227272727272728, total=   0.1s\n",
      "[CV]  learning_rate=0.0001, algorithm=SAMME, n_estimators=500, score=0.7158999192897498, total=   0.1s\n",
      "[CV] learning_rate=0.001, algorithm=SAMME.R, n_estimators=400 ........\n",
      "[CV] learning_rate=0.0001, algorithm=SAMME, n_estimators=400 .........\n",
      "[CV]  learning_rate=1e-05, algorithm=SAMME, n_estimators=400, score=0.716072545340838, total=   0.1s\n",
      "[CV] learning_rate=0.0001, algorithm=SAMME, n_estimators=500 .........\n",
      "[CV]  learning_rate=0.001, algorithm=SAMME.R, n_estimators=400, score=0.7363636363636363, total=   0.1s\n",
      "[CV] learning_rate=0.001, algorithm=SAMME.R, n_estimators=400 ........\n",
      "[CV]  learning_rate=0.0001, algorithm=SAMME, n_estimators=400, score=0.7300564061240935, total=   0.1s\n",
      "[CV] learning_rate=0.0001, algorithm=SAMME, n_estimators=400 .........\n",
      "[CV]  learning_rate=0.01, algorithm=SAMME.R, n_estimators=400, score=0.719375, total=   0.1s\n",
      "[CV] learning_rate=0.01, algorithm=SAMME.R, n_estimators=400 .........\n",
      "[CV]  learning_rate=0.001, algorithm=SAMME.R, n_estimators=400, score=0.714448236632537, total=   0.1s\n",
      "[CV] learning_rate=0.01, algorithm=SAMME.R, n_estimators=500 .........\n",
      "[CV]  learning_rate=0.0001, algorithm=SAMME, n_estimators=500, score=0.7189256714553404, total=   0.1s\n",
      "[CV] learning_rate=0.0001, algorithm=SAMME, n_estimators=500 .........\n",
      "[CV]  learning_rate=0.0001, algorithm=SAMME, n_estimators=400, score=0.7161290322580646, total=   0.1s\n",
      "[CV] learning_rate=0.0001, algorithm=SAMME, n_estimators=400 .........\n",
      "[CV]  learning_rate=0.01, algorithm=SAMME.R, n_estimators=500, score=0.7275822928490352, total=   0.1s\n",
      "[CV] learning_rate=0.01, algorithm=SAMME.R, n_estimators=500 .........\n",
      "[CV]  learning_rate=0.01, algorithm=SAMME.R, n_estimators=400, score=0.72625, total=   0.2s\n",
      "[CV] learning_rate=0.01, algorithm=SAMME.R, n_estimators=400 .........\n",
      "[CV]  learning_rate=0.01, algorithm=SAMME.R, n_estimators=500, score=0.7295454545454545, total=   0.1s\n",
      "[CV] learning_rate=0.01, algorithm=SAMME.R, n_estimators=500 .........\n",
      "[CV]  learning_rate=0.0001, algorithm=SAMME, n_estimators=400, score=0.725, total=   0.1s\n",
      "[CV] learning_rate=0.0001, algorithm=SAMME, n_estimators=400 .........\n",
      "[CV]  learning_rate=0.0001, algorithm=SAMME, n_estimators=500, score=0.7557776389756402, total=   0.2s\n",
      "[CV] learning_rate=0.0001, algorithm=SAMME, n_estimators=500 .........\n",
      "[CV]  learning_rate=0.01, algorithm=SAMME.R, n_estimators=500, score=0.7295454545454545, total=   0.1s\n",
      "[CV] learning_rate=0.01, algorithm=SAMME.R, n_estimators=500 .........\n",
      "[CV]  learning_rate=0.01, algorithm=SAMME.R, n_estimators=400, score=0.73125, total=   0.1s\n",
      "[CV] learning_rate=0.01, algorithm=SAMME.R, n_estimators=400 .........\n",
      "[CV]  learning_rate=0.0001, algorithm=SAMME, n_estimators=400, score=0.6983870967741935, total=   0.1s\n",
      "[CV] learning_rate=0.0001, algorithm=SAMME, n_estimators=400 .........\n",
      "[CV]  learning_rate=0.01, algorithm=SAMME.R, n_estimators=500, score=0.7272727272727273, total=   0.1s\n",
      "[CV] learning_rate=0.01, algorithm=SAMME.R, n_estimators=500 .........\n",
      "[CV]  learning_rate=0.0001, algorithm=SAMME, n_estimators=500, score=0.7375, total=   0.1s\n",
      "[CV] learning_rate=0.0001, algorithm=SAMME, n_estimators=500 .........\n",
      "[CV]  learning_rate=0.01, algorithm=SAMME.R, n_estimators=500, score=0.7167235494880546, total=   0.1s\n",
      "[CV] learning_rate=0.01, algorithm=SAMME.R, n_estimators=400 .........\n",
      "[CV]  learning_rate=0.0001, algorithm=SAMME, n_estimators=400, score=0.7215496368038741, total=   0.1s\n",
      "[CV] learning_rate=0.001, algorithm=SAMME, n_estimators=500 ..........\n",
      "[CV]  learning_rate=0.01, algorithm=SAMME.R, n_estimators=400, score=0.7379612257661038, total=   0.2s\n",
      "[CV] learning_rate=0.1, algorithm=SAMME.R, n_estimators=500 ..........\n",
      "[CV]  learning_rate=0.01, algorithm=SAMME.R, n_estimators=400, score=0.7219069239500567, total=   0.1s\n",
      "[CV] learning_rate=0.01, algorithm=SAMME.R, n_estimators=400 .........\n",
      "[CV]  learning_rate=0.0001, algorithm=SAMME, n_estimators=500, score=0.7267041901188243, total=   0.1s\n",
      "[CV] learning_rate=0.0001, algorithm=SAMME, n_estimators=500 .........\n",
      "[CV]  learning_rate=0.001, algorithm=SAMME, n_estimators=500, score=0.717969379532635, total=   0.1s\n",
      "[CV] learning_rate=0.001, algorithm=SAMME, n_estimators=500 ..........\n",
      "[CV]  learning_rate=0.01, algorithm=SAMME.R, n_estimators=400, score=0.7363636363636363, total=   0.1s\n",
      "[CV] learning_rate=0.01, algorithm=SAMME.R, n_estimators=400 .........\n",
      "[CV]  learning_rate=0.1, algorithm=SAMME.R, n_estimators=500, score=0.7232979387882573, total=   0.1s\n",
      "[CV] learning_rate=0.1, algorithm=SAMME.R, n_estimators=500 ..........\n",
      "[CV]  learning_rate=0.01, algorithm=SAMME.R, n_estimators=400, score=0.7170454545454545, total=   0.1s\n",
      "[CV] learning_rate=0.01, algorithm=SAMME.R, n_estimators=400 .........\n",
      "[CV]  learning_rate=0.001, algorithm=SAMME, n_estimators=500, score=0.7185483870967742, total=   0.1s\n",
      "[CV] learning_rate=0.001, algorithm=SAMME, n_estimators=500 ..........\n",
      "[CV]  learning_rate=0.0001, algorithm=SAMME, n_estimators=500, score=0.724202626641651, total=   0.1s\n",
      "[CV] learning_rate=0.0001, algorithm=SAMME, n_estimators=400 .........\n",
      "[CV]  learning_rate=0.01, algorithm=SAMME.R, n_estimators=400, score=0.7227272727272728, total=   0.1s\n",
      "[CV] learning_rate=0.01, algorithm=SAMME.R, n_estimators=400 .........\n",
      "[CV]  learning_rate=0.1, algorithm=SAMME.R, n_estimators=500, score=0.71875, total=   0.1s\n",
      "[CV]  learning_rate=0.001, algorithm=SAMME, n_estimators=500, score=0.7354838709677419, total=   0.1s\n",
      "[CV] learning_rate=0.1, algorithm=SAMME.R, n_estimators=500 ..........\n",
      "[CV] learning_rate=0.001, algorithm=SAMME, n_estimators=500 ..........\n",
      "[CV]  learning_rate=0.01, algorithm=SAMME.R, n_estimators=400, score=0.7201365187713311, total=   0.1s\n",
      "[CV]  learning_rate=0.0001, algorithm=SAMME, n_estimators=400, score=0.7164272329793879, total=   0.1s\n",
      "[CV] learning_rate=0.1, algorithm=SAMME.R, n_estimators=500 ..........\n",
      "[CV] learning_rate=0.0001, algorithm=SAMME, n_estimators=400 .........\n",
      "[CV]  learning_rate=0.1, algorithm=SAMME.R, n_estimators=500, score=0.7287173666288309, total=   0.1s\n",
      "[CV]  learning_rate=0.001, algorithm=SAMME, n_estimators=500, score=0.6967741935483871, total=   0.1s\n",
      "[CV] learning_rate=0.1, algorithm=SAMME.R, n_estimators=500 ..........\n",
      "[CV] learning_rate=0.001, algorithm=SAMME, n_estimators=500 ..........\n",
      "[CV]  learning_rate=0.1, algorithm=SAMME.R, n_estimators=500, score=0.729375, total=   0.1s\n",
      "[CV] learning_rate=0.1, algorithm=SAMME.R, n_estimators=500 ..........\n",
      "[CV]  learning_rate=0.1, algorithm=SAMME.R, n_estimators=500, score=0.7238636363636364, total=   0.1s\n",
      "[CV] learning_rate=0.1, algorithm=SAMME.R, n_estimators=500 ..........\n",
      "[CV]  learning_rate=0.0001, algorithm=SAMME, n_estimators=400, score=0.7464084946908183, total=   0.1s\n",
      "[CV] learning_rate=0.0001, algorithm=SAMME, n_estimators=400 .........\n",
      "[CV]  learning_rate=0.001, algorithm=SAMME, n_estimators=500, score=0.7231638418079096, total=   0.1s\n",
      "[CV] learning_rate=0.001, algorithm=SAMME, n_estimators=400 ..........\n",
      "[CV]  learning_rate=0.1, algorithm=SAMME.R, n_estimators=500, score=0.7272727272727273, total=   0.1s\n",
      "[CV] learning_rate=0.1, algorithm=SAMME.R, n_estimators=500 ..........\n",
      "[CV]  learning_rate=0.1, algorithm=SAMME.R, n_estimators=500, score=0.729375, total=   0.1s\n",
      "[CV] learning_rate=0.1, algorithm=SAMME.R, n_estimators=500 ..........\n",
      "[CV]  learning_rate=0.001, algorithm=SAMME, n_estimators=400, score=0.7292506043513296, total=   0.1s\n",
      "[CV] learning_rate=0.001, algorithm=SAMME, n_estimators=400 ..........\n",
      "[CV]  learning_rate=0.0001, algorithm=SAMME, n_estimators=400, score=0.73625, total=   0.1s\n",
      "[CV] learning_rate=0.0001, algorithm=SAMME, n_estimators=400 .........\n",
      "[CV]  learning_rate=0.1, algorithm=SAMME.R, n_estimators=500, score=0.7340909090909091, total=   0.1s\n",
      "[CV] learning_rate=0.1, algorithm=SAMME.R, n_estimators=500 ..........\n",
      "[CV]  learning_rate=0.1, algorithm=SAMME.R, n_estimators=500, score=0.7235494880546075, total=   0.1s\n",
      "[CV] learning_rate=0.1, algorithm=SAMME.R, n_estimators=400 ..........\n",
      "[CV]  learning_rate=0.001, algorithm=SAMME, n_estimators=400, score=0.7241935483870968, total=   0.1s\n",
      "[CV] learning_rate=0.001, algorithm=SAMME, n_estimators=400 ..........\n",
      "[CV]  learning_rate=0.1, algorithm=SAMME.R, n_estimators=500, score=0.7360850531582239, total=   0.2s\n",
      "[CV] learning_rate=0.1, algorithm=SAMME.R, n_estimators=400 ..........\n",
      "[CV]  learning_rate=0.0001, algorithm=SAMME, n_estimators=400, score=0.724202626641651, total=   0.1s\n",
      "[CV] learning_rate=0.0001, algorithm=SAMME, n_estimators=400 .........\n",
      "[CV]  learning_rate=0.1, algorithm=SAMME.R, n_estimators=400, score=0.7287173666288309, total=   0.1s\n",
      "[CV] learning_rate=0.1, algorithm=SAMME.R, n_estimators=400 ..........\n",
      "[CV]  learning_rate=0.001, algorithm=SAMME, n_estimators=400, score=0.7370967741935484, total=   0.1s\n",
      "[CV] learning_rate=0.001, algorithm=SAMME, n_estimators=400 ..........\n",
      "[CV]  learning_rate=0.1, algorithm=SAMME.R, n_estimators=400, score=0.7295454545454545, total=   0.1s\n",
      "[CV] learning_rate=0.1, algorithm=SAMME.R, n_estimators=400 ..........\n",
      "[CV]  learning_rate=0.1, algorithm=SAMME.R, n_estimators=400, score=0.7276702061211743, total=   0.1s\n",
      "[CV] learning_rate=0.1, algorithm=SAMME.R, n_estimators=400 ..........\n",
      "[CV]  learning_rate=0.0001, algorithm=SAMME, n_estimators=400, score=0.7185741088180112, total=   0.1s\n",
      "[CV] learning_rate=0.001, algorithm=SAMME, n_estimators=500 ..........\n",
      "[CV]  learning_rate=0.1, algorithm=SAMME.R, n_estimators=400, score=0.7272727272727273, total=   0.1s\n",
      "[CV] learning_rate=0.1, algorithm=SAMME.R, n_estimators=400 ..........\n",
      "[CV]  learning_rate=0.001, algorithm=SAMME, n_estimators=400, score=0.6975806451612904, total=   0.1s\n",
      "[CV] learning_rate=0.001, algorithm=SAMME, n_estimators=400 ..........\n",
      "[CV]  learning_rate=0.1, algorithm=SAMME.R, n_estimators=400, score=0.7272727272727273, total=   0.1s\n",
      "[CV] learning_rate=0.1, algorithm=SAMME.R, n_estimators=400 ..........\n",
      "[CV]  learning_rate=0.1, algorithm=SAMME.R, n_estimators=400, score=0.72375, total=   0.1s\n",
      "[CV] learning_rate=0.1, algorithm=SAMME.R, n_estimators=400 ..........\n",
      "[CV]  learning_rate=0.001, algorithm=SAMME, n_estimators=500, score=0.7064334790755777, total=   0.1s\n",
      "[CV] learning_rate=0.001, algorithm=SAMME, n_estimators=500 ..........\n",
      "[CV]  learning_rate=0.001, algorithm=SAMME, n_estimators=400, score=0.7271993543179984, total=   0.1s\n",
      "[CV] learning_rate=0.01, algorithm=SAMME, n_estimators=500 ...........\n",
      "[CV]  learning_rate=0.1, algorithm=SAMME.R, n_estimators=400, score=0.714448236632537, total=   0.1s\n",
      "[CV] learning_rate=1, algorithm=SAMME.R, n_estimators=500 ............\n",
      "[CV]  learning_rate=1, algorithm=SAMME.R, n_estimators=500, score=0.7400681044267877, total=   0.1s\n",
      "[CV]  learning_rate=0.01, algorithm=SAMME, n_estimators=500, score=0.7187751813053989, total=   0.1s\n",
      "[CV] learning_rate=1, algorithm=SAMME.R, n_estimators=500 ............\n",
      "[CV] learning_rate=0.01, algorithm=SAMME, n_estimators=500 ...........\n",
      "[CV]  learning_rate=0.1, algorithm=SAMME.R, n_estimators=400, score=0.73375, total=   0.1s\n",
      "[CV] learning_rate=0.1, algorithm=SAMME.R, n_estimators=400 ..........\n",
      "[CV]  learning_rate=0.001, algorithm=SAMME, n_estimators=500, score=0.7382885696439725, total=   0.2s\n",
      "[CV] learning_rate=0.001, algorithm=SAMME, n_estimators=500 ..........\n",
      "[CV]  learning_rate=1, algorithm=SAMME.R, n_estimators=500, score=0.7215909090909091, total=   0.1s\n",
      "[CV] learning_rate=1, algorithm=SAMME.R, n_estimators=500 ............\n",
      "[CV]  learning_rate=0.01, algorithm=SAMME, n_estimators=500, score=0.7241935483870968, total=   0.1s\n",
      "[CV] learning_rate=0.01, algorithm=SAMME, n_estimators=500 ...........\n",
      "[CV]  learning_rate=1, algorithm=SAMME.R, n_estimators=500, score=0.7227272727272728, total=   0.1s\n",
      "[CV] learning_rate=1, algorithm=SAMME.R, n_estimators=500 ............\n",
      "[CV]  learning_rate=0.1, algorithm=SAMME.R, n_estimators=400, score=0.731875, total=   0.1s\n",
      "[CV] learning_rate=0.1, algorithm=SAMME.R, n_estimators=400 ..........\n",
      "[CV]  learning_rate=0.001, algorithm=SAMME, n_estimators=500, score=0.73875, total=   0.1s\n",
      "[CV] learning_rate=0.001, algorithm=SAMME, n_estimators=500 ..........\n",
      "[CV]  learning_rate=0.01, algorithm=SAMME, n_estimators=500, score=0.7354838709677419, total=   0.1s\n",
      "[CV] learning_rate=0.01, algorithm=SAMME, n_estimators=500 ...........\n",
      "[CV]  learning_rate=1, algorithm=SAMME.R, n_estimators=500, score=0.740909090909091, total=   0.1s\n",
      "[CV] learning_rate=1, algorithm=SAMME.R, n_estimators=500 ............\n",
      "[CV]  learning_rate=1, algorithm=SAMME.R, n_estimators=500, score=0.7133105802047781, total=   0.1s\n",
      "[CV] learning_rate=1, algorithm=SAMME.R, n_estimators=400 ............\n",
      "[CV]  learning_rate=0.1, algorithm=SAMME.R, n_estimators=400, score=0.7373358348968105, total=   0.1s\n",
      "[CV] learning_rate=1, algorithm=SAMME.R, n_estimators=500 ............\n",
      "[CV]  learning_rate=0.001, algorithm=SAMME, n_estimators=500, score=0.7398373983739838, total=   0.1s\n",
      "[CV] learning_rate=0.001, algorithm=SAMME, n_estimators=500 ..........\n",
      "[CV]  learning_rate=0.01, algorithm=SAMME, n_estimators=500, score=0.7032258064516129, total=   0.1s\n",
      "[CV] learning_rate=0.01, algorithm=SAMME, n_estimators=500 ...........\n",
      "[CV]  learning_rate=1, algorithm=SAMME.R, n_estimators=400, score=0.7196367763904654, total=   0.1s\n",
      "[CV] learning_rate=1, algorithm=SAMME.R, n_estimators=400 ............\n",
      "[CV]  learning_rate=0.01, algorithm=SAMME, n_estimators=500, score=0.7231638418079096, total=   0.1s\n",
      "[CV] learning_rate=0.01, algorithm=SAMME, n_estimators=400 ...........\n",
      "[CV]  learning_rate=1, algorithm=SAMME.R, n_estimators=400, score=0.7295454545454545, total=   0.1s\n",
      "[CV] learning_rate=1, algorithm=SAMME.R, n_estimators=400 ............\n",
      "[CV]  learning_rate=0.001, algorithm=SAMME, n_estimators=500, score=0.7123202001250781, total=   0.1s\n",
      "[CV]  learning_rate=1, algorithm=SAMME.R, n_estimators=500, score=0.7301686445971268, total=   0.2s\n",
      "[CV] learning_rate=1, algorithm=SAMME.R, n_estimators=500 ............\n",
      "[CV] learning_rate=0.001, algorithm=SAMME, n_estimators=400 ..........\n",
      "[CV]  learning_rate=1, algorithm=SAMME.R, n_estimators=400, score=0.7306818181818182, total=   0.1s\n",
      "[CV] learning_rate=1, algorithm=SAMME.R, n_estimators=400 ............\n",
      "[CV]  learning_rate=0.01, algorithm=SAMME, n_estimators=400, score=0.7292506043513296, total=   0.1s\n",
      "[CV] learning_rate=0.01, algorithm=SAMME, n_estimators=400 ...........\n",
      "[CV]  learning_rate=1, algorithm=SAMME.R, n_estimators=400, score=0.725, total=   0.1s\n",
      "[CV] learning_rate=1, algorithm=SAMME.R, n_estimators=400 ............\n",
      "[CV]  learning_rate=0.001, algorithm=SAMME, n_estimators=400, score=0.7101811367895066, total=   0.2s\n",
      "[CV]  learning_rate=1, algorithm=SAMME.R, n_estimators=500, score=0.718125, total=   0.2s\n",
      "[CV] learning_rate=0.001, algorithm=SAMME, n_estimators=400 ..........\n",
      "[CV] learning_rate=1, algorithm=SAMME.R, n_estimators=500 ............\n",
      "[CV]  learning_rate=0.01, algorithm=SAMME, n_estimators=400, score=0.728225806451613, total=   0.1s\n",
      "[CV] learning_rate=0.01, algorithm=SAMME, n_estimators=400 ...........\n",
      "[CV]  learning_rate=1, algorithm=SAMME.R, n_estimators=400, score=0.7224118316268487, total=   0.1s\n"
     ]
    },
    {
     "name": "stderr",
     "output_type": "stream",
     "text": [
      "[Parallel(n_jobs=-1)]: Done 120 out of 120 | elapsed:    9.5s finished\n"
     ]
    },
    {
     "name": "stdout",
     "output_type": "stream",
     "text": [
      "[CV]  learning_rate=0.01, algorithm=SAMME, n_estimators=400, score=0.7338709677419355, total=   0.1s\n",
      "[CV] learning_rate=0.01, algorithm=SAMME, n_estimators=400 ...........\n",
      "[CV]  learning_rate=1, algorithm=SAMME.R, n_estimators=500, score=0.73125, total=   0.1s\n",
      "[CV] learning_rate=1, algorithm=SAMME.R, n_estimators=500 ............\n",
      "[CV]  learning_rate=0.001, algorithm=SAMME, n_estimators=400, score=0.7507807620237351, total=   0.1s\n",
      "[CV] learning_rate=0.001, algorithm=SAMME, n_estimators=400 ..........\n",
      "[CV]  learning_rate=0.01, algorithm=SAMME, n_estimators=400, score=0.6983870967741935, total=   0.1s\n",
      "[CV] learning_rate=0.01, algorithm=SAMME, n_estimators=400 ...........\n",
      "[CV]  learning_rate=1, algorithm=SAMME.R, n_estimators=500, score=0.73, total=   0.1s\n",
      "[CV]  learning_rate=0.001, algorithm=SAMME, n_estimators=400, score=0.730625, total=   0.1s\n",
      "[CV] learning_rate=1, algorithm=SAMME.R, n_estimators=500 ............\n",
      "[CV] learning_rate=0.001, algorithm=SAMME, n_estimators=400 ..........\n",
      "[CV]  learning_rate=0.01, algorithm=SAMME, n_estimators=400, score=0.7215496368038741, total=   0.1s\n",
      "[CV] learning_rate=0.1, algorithm=SAMME, n_estimators=500 ............\n",
      "[CV]  learning_rate=0.001, algorithm=SAMME, n_estimators=400, score=0.7235772357723578, total=   0.1s\n",
      "[CV] learning_rate=0.001, algorithm=SAMME, n_estimators=400 ..........\n",
      "[CV]  learning_rate=1, algorithm=SAMME.R, n_estimators=500, score=0.7398373983739838, total=   0.1s\n",
      "[CV] learning_rate=1, algorithm=SAMME.R, n_estimators=400 ............\n",
      "[CV]  learning_rate=0.1, algorithm=SAMME, n_estimators=500, score=0.717163577759871, total=   0.1s\n",
      "[CV] learning_rate=0.1, algorithm=SAMME, n_estimators=500 ............\n",
      "[CV]  learning_rate=0.001, algorithm=SAMME, n_estimators=400, score=0.7166979362101313, total=   0.1s\n",
      "[CV]  learning_rate=0.1, algorithm=SAMME, n_estimators=500, score=0.7225806451612903, total=   0.1s\n",
      "[CV] learning_rate=0.01, algorithm=SAMME, n_estimators=500 ...........\n",
      "[CV] learning_rate=0.1, algorithm=SAMME, n_estimators=500 ............\n",
      "[CV]  learning_rate=1, algorithm=SAMME.R, n_estimators=400, score=0.7320424734540912, total=   0.1s\n",
      "[CV] learning_rate=1, algorithm=SAMME.R, n_estimators=400 ............\n",
      "[CV]  learning_rate=0.1, algorithm=SAMME, n_estimators=500, score=0.7338709677419355, total=   0.1s\n",
      "[CV] learning_rate=0.1, algorithm=SAMME, n_estimators=500 ............\n",
      "[CV]  learning_rate=0.01, algorithm=SAMME, n_estimators=500, score=0.7158026233603998, total=   0.1s\n",
      "[CV] learning_rate=0.01, algorithm=SAMME, n_estimators=500 ...........\n",
      "[CV]  learning_rate=1, algorithm=SAMME.R, n_estimators=400, score=0.725625, total=   0.1s\n",
      "[CV] learning_rate=1, algorithm=SAMME.R, n_estimators=400 ............\n",
      "[CV]  learning_rate=0.1, algorithm=SAMME, n_estimators=500, score=0.6991935483870968, total=   0.1s\n",
      "[CV] learning_rate=0.1, algorithm=SAMME, n_estimators=500 ............\n",
      "[CV]  learning_rate=0.01, algorithm=SAMME, n_estimators=500, score=0.7526545908806995, total=   0.1s\n",
      "[CV] learning_rate=0.01, algorithm=SAMME, n_estimators=500 ...........\n",
      "[CV]  learning_rate=1, algorithm=SAMME.R, n_estimators=400, score=0.723125, total=   0.1s\n",
      "[CV] learning_rate=1, algorithm=SAMME.R, n_estimators=400 ............\n",
      "[CV]  learning_rate=0.1, algorithm=SAMME, n_estimators=500, score=0.7255851493139629, total=   0.1s\n",
      "[CV] learning_rate=0.1, algorithm=SAMME, n_estimators=400 ............\n",
      "[CV]  learning_rate=0.01, algorithm=SAMME, n_estimators=500, score=0.73375, total=   0.2s\n",
      "[CV] learning_rate=0.01, algorithm=SAMME, n_estimators=500 ...........\n",
      "[CV]  learning_rate=0.1, algorithm=SAMME, n_estimators=400, score=0.7276390008058018, total=   0.1s\n",
      "[CV] learning_rate=0.1, algorithm=SAMME, n_estimators=400 ............\n",
      "[CV]  learning_rate=1, algorithm=SAMME.R, n_estimators=400, score=0.73375, total=   0.2s\n",
      "[CV] learning_rate=1, algorithm=SAMME.R, n_estimators=400 ............\n",
      "[CV]  learning_rate=0.1, algorithm=SAMME, n_estimators=400, score=0.7225806451612903, total=   0.1s\n",
      "[CV] learning_rate=0.1, algorithm=SAMME, n_estimators=400 ............\n",
      "[CV]  learning_rate=0.01, algorithm=SAMME, n_estimators=500, score=0.734208880550344, total=   0.1s\n",
      "[CV] learning_rate=0.01, algorithm=SAMME, n_estimators=500 ...........\n",
      "[CV]  learning_rate=1, algorithm=SAMME.R, n_estimators=400, score=0.7348342714196373, total=   0.2s\n"
     ]
    },
    {
     "name": "stderr",
     "output_type": "stream",
     "text": [
      "[Parallel(n_jobs=-1)]: Done 120 out of 120 | elapsed:   18.2s finished\n"
     ]
    },
    {
     "name": "stdout",
     "output_type": "stream",
     "text": [
      "[CV]  learning_rate=0.1, algorithm=SAMME, n_estimators=400, score=0.7354838709677419, total=   0.1s\n",
      "[CV] learning_rate=0.1, algorithm=SAMME, n_estimators=400 ............\n",
      "[CV]  learning_rate=0.01, algorithm=SAMME, n_estimators=500, score=0.7116948092557849, total=   0.2s\n",
      "[CV] learning_rate=0.01, algorithm=SAMME, n_estimators=400 ...........\n",
      "[CV]  learning_rate=0.1, algorithm=SAMME, n_estimators=400, score=0.7024193548387097, total=   0.1s\n",
      "[CV] learning_rate=0.1, algorithm=SAMME, n_estimators=400 ............\n",
      "[CV]  learning_rate=0.01, algorithm=SAMME, n_estimators=400, score=0.7114303560274828, total=   0.2s\n",
      "[CV] learning_rate=0.01, algorithm=SAMME, n_estimators=400 ...........\n",
      "[CV]  learning_rate=0.1, algorithm=SAMME, n_estimators=400, score=0.718321226795803, total=   0.1s\n",
      "[CV] learning_rate=1, algorithm=SAMME, n_estimators=500 ..............\n",
      "[CV]  learning_rate=1, algorithm=SAMME, n_estimators=500, score=0.7219983883964545, total=   0.1s\n",
      "[CV] learning_rate=1, algorithm=SAMME, n_estimators=500 ..............\n",
      "[CV]  learning_rate=0.01, algorithm=SAMME, n_estimators=400, score=0.7457838850718301, total=   0.2s\n",
      "[CV] learning_rate=0.01, algorithm=SAMME, n_estimators=400 ...........\n",
      "[CV]  learning_rate=1, algorithm=SAMME, n_estimators=500, score=0.7161290322580646, total=   0.1s\n",
      "[CV] learning_rate=1, algorithm=SAMME, n_estimators=500 ..............\n",
      "[CV]  learning_rate=0.01, algorithm=SAMME, n_estimators=400, score=0.735625, total=   0.1s\n",
      "[CV] learning_rate=0.01, algorithm=SAMME, n_estimators=400 ...........\n",
      "[CV]  learning_rate=1, algorithm=SAMME, n_estimators=500, score=0.7306451612903225, total=   0.1s\n",
      "[CV] learning_rate=1, algorithm=SAMME, n_estimators=500 ..............\n",
      "[CV]  learning_rate=0.01, algorithm=SAMME, n_estimators=400, score=0.7410881801125704, total=   0.2s\n",
      "[CV] learning_rate=0.01, algorithm=SAMME, n_estimators=400 ...........\n",
      "[CV]  learning_rate=1, algorithm=SAMME, n_estimators=500, score=0.6983870967741935, total=   0.1s\n",
      "[CV] learning_rate=1, algorithm=SAMME, n_estimators=500 ..............\n",
      "[CV]  learning_rate=1, algorithm=SAMME, n_estimators=500, score=0.7215496368038741, total=   0.1s\n",
      "[CV] learning_rate=1, algorithm=SAMME, n_estimators=400 ..............\n",
      "[CV]  learning_rate=0.01, algorithm=SAMME, n_estimators=400, score=0.7148217636022514, total=   0.1s\n",
      "[CV] learning_rate=0.1, algorithm=SAMME, n_estimators=500 ............\n",
      "[CV]  learning_rate=1, algorithm=SAMME, n_estimators=400, score=0.7300564061240935, total=   0.1s\n",
      "[CV] learning_rate=1, algorithm=SAMME, n_estimators=400 ..............\n",
      "[CV]  learning_rate=0.1, algorithm=SAMME, n_estimators=500, score=0.7089319175515303, total=   0.2s\n",
      "[CV] learning_rate=0.1, algorithm=SAMME, n_estimators=500 ............\n",
      "[CV]  learning_rate=1, algorithm=SAMME, n_estimators=400, score=0.7370967741935484, total=   0.1s\n",
      "[CV] learning_rate=1, algorithm=SAMME, n_estimators=400 ..............\n",
      "[CV]  learning_rate=0.1, algorithm=SAMME, n_estimators=500, score=0.7464084946908183, total=   0.2s\n",
      "[CV] learning_rate=0.1, algorithm=SAMME, n_estimators=500 ............\n",
      "[CV]  learning_rate=1, algorithm=SAMME, n_estimators=400, score=0.7411290322580645, total=   0.1s\n",
      "[CV] learning_rate=1, algorithm=SAMME, n_estimators=400 ..............\n",
      "[CV]  learning_rate=1, algorithm=SAMME, n_estimators=400, score=0.6951612903225807, total=   0.1s\n",
      "[CV] learning_rate=1, algorithm=SAMME, n_estimators=400 ..............\n",
      "[CV]  learning_rate=0.1, algorithm=SAMME, n_estimators=500, score=0.73, total=   0.1s\n",
      "[CV] learning_rate=0.1, algorithm=SAMME, n_estimators=500 ............\n",
      "[CV]  learning_rate=1, algorithm=SAMME, n_estimators=400, score=0.7223567393058918, total=   0.1s\n",
      "[CV] learning_rate=1e-05, algorithm=SAMME.R, n_estimators=500 ........\n",
      "[CV]  learning_rate=0.1, algorithm=SAMME, n_estimators=500, score=0.7335834896810507, total=   0.1s\n",
      "[CV] learning_rate=0.1, algorithm=SAMME, n_estimators=500 ............\n",
      "[CV]  learning_rate=1e-05, algorithm=SAMME.R, n_estimators=500, score=0.7203867848509267, total=   0.1s\n",
      "[CV] learning_rate=1e-05, algorithm=SAMME.R, n_estimators=500 ........\n",
      "[CV]  learning_rate=0.1, algorithm=SAMME, n_estimators=500, score=0.7204502814258912, total=   0.1s\n",
      "[CV] learning_rate=0.1, algorithm=SAMME, n_estimators=400 ............\n",
      "[CV]  learning_rate=1e-05, algorithm=SAMME.R, n_estimators=500, score=0.7233870967741935, total=   0.1s\n",
      "[CV] learning_rate=1e-05, algorithm=SAMME.R, n_estimators=500 ........\n",
      "[CV]  learning_rate=1e-05, algorithm=SAMME.R, n_estimators=500, score=0.7362903225806452, total=   0.1s\n",
      "[CV] learning_rate=1e-05, algorithm=SAMME.R, n_estimators=500 ........\n",
      "[CV]  learning_rate=0.1, algorithm=SAMME, n_estimators=400, score=0.7095565271705184, total=   0.1s\n",
      "[CV] learning_rate=0.1, algorithm=SAMME, n_estimators=400 ............\n",
      "[CV]  learning_rate=1e-05, algorithm=SAMME.R, n_estimators=500, score=0.6991935483870968, total=   0.1s\n",
      "[CV] learning_rate=1e-05, algorithm=SAMME.R, n_estimators=500 ........\n",
      "[CV]  learning_rate=0.1, algorithm=SAMME, n_estimators=400, score=0.740787008119925, total=   0.1s\n",
      "[CV] learning_rate=0.1, algorithm=SAMME, n_estimators=400 ............\n",
      "[CV]  learning_rate=1e-05, algorithm=SAMME.R, n_estimators=500, score=0.7271993543179984, total=   0.1s\n",
      "[CV] learning_rate=1e-05, algorithm=SAMME.R, n_estimators=400 ........\n",
      "[CV]  learning_rate=0.1, algorithm=SAMME, n_estimators=400, score=0.73625, total=   0.1s\n",
      "[CV] learning_rate=0.1, algorithm=SAMME, n_estimators=400 ............\n",
      "[CV]  learning_rate=1e-05, algorithm=SAMME.R, n_estimators=400, score=0.7211925866236906, total=   0.1s\n",
      "[CV] learning_rate=1e-05, algorithm=SAMME.R, n_estimators=400 ........\n",
      "[CV]  learning_rate=1e-05, algorithm=SAMME.R, n_estimators=400, score=0.7169354838709677, total=   0.1s\n",
      "[CV] learning_rate=1e-05, algorithm=SAMME.R, n_estimators=400 ........\n",
      "[CV]  learning_rate=0.1, algorithm=SAMME, n_estimators=400, score=0.734208880550344, total=   0.1s\n",
      "[CV] learning_rate=0.1, algorithm=SAMME, n_estimators=400 ............\n",
      "[CV]  learning_rate=1e-05, algorithm=SAMME.R, n_estimators=400, score=0.7362903225806452, total=   0.1s\n",
      "[CV] learning_rate=1e-05, algorithm=SAMME.R, n_estimators=400 ........\n",
      "[CV]  learning_rate=0.1, algorithm=SAMME, n_estimators=400, score=0.7235772357723578, total=   0.1s\n",
      "[CV] learning_rate=1, algorithm=SAMME, n_estimators=500 ..............\n",
      "[CV]  learning_rate=1e-05, algorithm=SAMME.R, n_estimators=400, score=0.707258064516129, total=   0.1s\n",
      "[CV] learning_rate=1e-05, algorithm=SAMME.R, n_estimators=400 ........\n",
      "[CV]  learning_rate=1, algorithm=SAMME, n_estimators=500, score=0.707682698313554, total=   0.1s\n",
      "[CV] learning_rate=1, algorithm=SAMME, n_estimators=500 ..............\n",
      "[CV]  learning_rate=1e-05, algorithm=SAMME.R, n_estimators=400, score=0.7207425343018563, total=   0.1s\n",
      "[CV] learning_rate=0.0001, algorithm=SAMME.R, n_estimators=500 .......\n",
      "[CV]  learning_rate=0.0001, algorithm=SAMME.R, n_estimators=500, score=0.7316680096696213, total=   0.1s\n",
      "[CV] learning_rate=0.0001, algorithm=SAMME.R, n_estimators=500 .......\n",
      "[CV]  learning_rate=1, algorithm=SAMME, n_estimators=500, score=0.7457838850718301, total=   0.1s\n",
      "[CV] learning_rate=1, algorithm=SAMME, n_estimators=500 ..............\n",
      "[CV]  learning_rate=0.0001, algorithm=SAMME.R, n_estimators=500, score=0.714516129032258, total=   0.1s\n",
      "[CV] learning_rate=0.0001, algorithm=SAMME.R, n_estimators=500 .......\n",
      "[CV]  learning_rate=1, algorithm=SAMME, n_estimators=500, score=0.734375, total=   0.1s\n",
      "[CV] learning_rate=1, algorithm=SAMME, n_estimators=500 ..............\n",
      "[CV]  learning_rate=0.0001, algorithm=SAMME.R, n_estimators=500, score=0.7411290322580645, total=   0.1s\n",
      "[CV] learning_rate=0.0001, algorithm=SAMME.R, n_estimators=500 .......\n",
      "[CV]  learning_rate=1, algorithm=SAMME, n_estimators=500, score=0.734208880550344, total=   0.1s\n",
      "[CV] learning_rate=1, algorithm=SAMME, n_estimators=500 ..............\n",
      "[CV]  learning_rate=0.0001, algorithm=SAMME.R, n_estimators=500, score=0.6975806451612904, total=   0.1s\n",
      "[CV] learning_rate=0.0001, algorithm=SAMME.R, n_estimators=500 .......\n",
      "[CV]  learning_rate=1, algorithm=SAMME, n_estimators=500, score=0.717948717948718, total=   0.1s\n",
      "[CV] learning_rate=1, algorithm=SAMME, n_estimators=400 ..............\n",
      "[CV]  learning_rate=0.0001, algorithm=SAMME.R, n_estimators=500, score=0.7199354317998385, total=   0.1s\n",
      "[CV] learning_rate=0.0001, algorithm=SAMME.R, n_estimators=400 .......\n",
      "[CV]  learning_rate=0.0001, algorithm=SAMME.R, n_estimators=400, score=0.7236099919419823, total=   0.1s\n",
      "[CV] learning_rate=0.0001, algorithm=SAMME.R, n_estimators=400 .......\n",
      "[CV]  learning_rate=1, algorithm=SAMME, n_estimators=400, score=0.7064334790755777, total=   0.1s\n",
      "[CV] learning_rate=1, algorithm=SAMME, n_estimators=400 ..............\n",
      "[CV]  learning_rate=0.0001, algorithm=SAMME.R, n_estimators=400, score=0.7193548387096774, total=   0.1s\n",
      "[CV] learning_rate=0.0001, algorithm=SAMME.R, n_estimators=400 .......\n",
      "[CV]  learning_rate=1, algorithm=SAMME, n_estimators=400, score=0.7507807620237351, total=   0.2s\n",
      "[CV] learning_rate=1, algorithm=SAMME, n_estimators=400 ..............\n",
      "[CV]  learning_rate=0.0001, algorithm=SAMME.R, n_estimators=400, score=0.7330645161290322, total=   0.1s\n",
      "[CV] learning_rate=0.0001, algorithm=SAMME.R, n_estimators=400 .......\n",
      "[CV]  learning_rate=1, algorithm=SAMME, n_estimators=400, score=0.735, total=   0.1s\n",
      "[CV] learning_rate=1, algorithm=SAMME, n_estimators=400 ..............\n",
      "[CV]  learning_rate=0.0001, algorithm=SAMME.R, n_estimators=400, score=0.7064516129032258, total=   0.1s\n",
      "[CV] learning_rate=0.0001, algorithm=SAMME.R, n_estimators=400 .......\n",
      "[CV]  learning_rate=0.0001, algorithm=SAMME.R, n_estimators=400, score=0.7223567393058918, total=   0.1s\n",
      "[CV] learning_rate=0.001, algorithm=SAMME.R, n_estimators=500 ........\n",
      "[CV]  learning_rate=1, algorithm=SAMME, n_estimators=400, score=0.7310819262038775, total=   0.1s\n",
      "[CV] learning_rate=1, algorithm=SAMME, n_estimators=400 ..............\n",
      "[CV]  learning_rate=0.001, algorithm=SAMME.R, n_estimators=500, score=0.7219983883964545, total=   0.1s\n",
      "[CV] learning_rate=0.001, algorithm=SAMME.R, n_estimators=500 ........\n",
      "[CV]  learning_rate=1, algorithm=SAMME, n_estimators=400, score=0.7116948092557849, total=   0.1s\n",
      "[CV] learning_rate=1e-05, algorithm=SAMME.R, n_estimators=500 ........\n",
      "[CV]  learning_rate=0.001, algorithm=SAMME.R, n_estimators=500, score=0.7209677419354839, total=   0.1s\n",
      "[CV] learning_rate=0.001, algorithm=SAMME.R, n_estimators=500 ........\n",
      "[CV]  learning_rate=1e-05, algorithm=SAMME.R, n_estimators=500, score=0.7095565271705184, total=   0.1s\n",
      "[CV] learning_rate=1e-05, algorithm=SAMME.R, n_estimators=500 ........\n",
      "[CV]  learning_rate=0.001, algorithm=SAMME.R, n_estimators=500, score=0.7403225806451613, total=   0.1s\n",
      "[CV] learning_rate=0.001, algorithm=SAMME.R, n_estimators=500 ........\n",
      "[CV]  learning_rate=0.001, algorithm=SAMME.R, n_estimators=500, score=0.6967741935483871, total=   0.1s\n",
      "[CV] learning_rate=0.001, algorithm=SAMME.R, n_estimators=500 ........\n",
      "[CV]  learning_rate=1e-05, algorithm=SAMME.R, n_estimators=500, score=0.7464084946908183, total=   0.1s\n",
      "[CV] learning_rate=1e-05, algorithm=SAMME.R, n_estimators=500 ........\n",
      "[CV]  learning_rate=0.001, algorithm=SAMME.R, n_estimators=500, score=0.7312348668280871, total=   0.1s\n",
      "[CV] learning_rate=0.001, algorithm=SAMME.R, n_estimators=400 ........\n",
      "[CV]  learning_rate=1e-05, algorithm=SAMME.R, n_estimators=500, score=0.7375, total=   0.1s\n",
      "[CV] learning_rate=1e-05, algorithm=SAMME.R, n_estimators=500 ........\n",
      "[CV]  learning_rate=0.001, algorithm=SAMME.R, n_estimators=400, score=0.7324738114423852, total=   0.1s\n",
      "[CV] learning_rate=0.001, algorithm=SAMME.R, n_estimators=400 ........\n",
      "[CV]  learning_rate=1e-05, algorithm=SAMME.R, n_estimators=500, score=0.7217010631644778, total=   0.1s\n",
      "[CV] learning_rate=1e-05, algorithm=SAMME.R, n_estimators=500 ........\n",
      "[CV]  learning_rate=0.001, algorithm=SAMME.R, n_estimators=400, score=0.725, total=   0.1s\n",
      "[CV] learning_rate=0.001, algorithm=SAMME.R, n_estimators=400 ........\n",
      "[CV]  learning_rate=0.001, algorithm=SAMME.R, n_estimators=400, score=0.7354838709677419, total=   0.1s\n",
      "[CV] learning_rate=0.001, algorithm=SAMME.R, n_estimators=400 ........\n",
      "[CV]  learning_rate=1e-05, algorithm=SAMME.R, n_estimators=500, score=0.717948717948718, total=   0.1s\n",
      "[CV] learning_rate=1e-05, algorithm=SAMME.R, n_estimators=400 ........\n",
      "[CV]  learning_rate=0.001, algorithm=SAMME.R, n_estimators=400, score=0.7040322580645161, total=   0.1s\n",
      "[CV] learning_rate=0.001, algorithm=SAMME.R, n_estimators=400 ........\n",
      "[CV]  learning_rate=1e-05, algorithm=SAMME.R, n_estimators=400, score=0.7226733291692692, total=   0.1s\n",
      "[CV] learning_rate=1e-05, algorithm=SAMME.R, n_estimators=400 ........\n",
      "[CV]  learning_rate=0.001, algorithm=SAMME.R, n_estimators=400, score=0.7271993543179984, total=   0.1s\n",
      "[CV] learning_rate=0.01, algorithm=SAMME.R, n_estimators=500 .........\n",
      "[CV]  learning_rate=1e-05, algorithm=SAMME.R, n_estimators=400, score=0.745159275452842, total=   0.2s\n",
      "[CV] learning_rate=1e-05, algorithm=SAMME.R, n_estimators=400 ........\n",
      "[CV]  learning_rate=0.01, algorithm=SAMME.R, n_estimators=500, score=0.7187751813053989, total=   0.1s\n",
      "[CV] learning_rate=0.01, algorithm=SAMME.R, n_estimators=500 .........\n",
      "[CV]  learning_rate=0.01, algorithm=SAMME.R, n_estimators=500, score=0.717741935483871, total=   0.1s\n",
      "[CV] learning_rate=0.01, algorithm=SAMME.R, n_estimators=500 .........\n",
      "[CV]  learning_rate=1e-05, algorithm=SAMME.R, n_estimators=400, score=0.73875, total=   0.1s\n",
      "[CV] learning_rate=1e-05, algorithm=SAMME.R, n_estimators=400 ........\n",
      "[CV]  learning_rate=0.01, algorithm=SAMME.R, n_estimators=500, score=0.7330645161290322, total=   0.1s\n",
      "[CV] learning_rate=0.01, algorithm=SAMME.R, n_estimators=500 .........\n",
      "[CV]  learning_rate=1e-05, algorithm=SAMME.R, n_estimators=400, score=0.7335834896810507, total=   0.1s\n",
      "[CV] learning_rate=1e-05, algorithm=SAMME.R, n_estimators=400 ........\n",
      "[CV]  learning_rate=0.01, algorithm=SAMME.R, n_estimators=500, score=0.7032258064516129, total=   0.1s\n",
      "[CV] learning_rate=0.01, algorithm=SAMME.R, n_estimators=500 .........\n",
      "[CV]  learning_rate=1e-05, algorithm=SAMME.R, n_estimators=400, score=0.7173233270794246, total=   0.1s\n",
      "[CV] learning_rate=0.0001, algorithm=SAMME.R, n_estimators=500 .......\n",
      "[CV]  learning_rate=0.01, algorithm=SAMME.R, n_estimators=500, score=0.7312348668280871, total=   0.1s\n",
      "[CV] learning_rate=0.01, algorithm=SAMME.R, n_estimators=400 .........\n",
      "[CV]  learning_rate=0.01, algorithm=SAMME.R, n_estimators=400, score=0.717969379532635, total=   0.1s\n",
      "[CV] learning_rate=0.01, algorithm=SAMME.R, n_estimators=400 .........\n",
      "[CV]  learning_rate=0.0001, algorithm=SAMME.R, n_estimators=500, score=0.7170518425983761, total=   0.1s\n",
      "[CV] learning_rate=0.0001, algorithm=SAMME.R, n_estimators=500 .......\n",
      "[CV]  learning_rate=0.01, algorithm=SAMME.R, n_estimators=400, score=0.717741935483871, total=   0.1s\n",
      "[CV] learning_rate=0.01, algorithm=SAMME.R, n_estimators=400 .........\n",
      "[CV]  learning_rate=0.0001, algorithm=SAMME.R, n_estimators=500, score=0.745159275452842, total=   0.2s\n",
      "[CV] learning_rate=0.0001, algorithm=SAMME.R, n_estimators=500 .......\n",
      "[CV]  learning_rate=0.01, algorithm=SAMME.R, n_estimators=400, score=0.7435483870967742, total=   0.1s\n",
      "[CV] learning_rate=0.01, algorithm=SAMME.R, n_estimators=400 .........\n",
      "[CV]  learning_rate=0.0001, algorithm=SAMME.R, n_estimators=500, score=0.7375, total=   0.1s\n",
      "[CV] learning_rate=0.0001, algorithm=SAMME.R, n_estimators=500 .......\n",
      "[CV]  learning_rate=0.01, algorithm=SAMME.R, n_estimators=400, score=0.6975806451612904, total=   0.1s\n",
      "[CV] learning_rate=0.01, algorithm=SAMME.R, n_estimators=400 .........\n",
      "[CV]  learning_rate=0.01, algorithm=SAMME.R, n_estimators=400, score=0.7296206618240516, total=   0.1s\n",
      "[CV]  learning_rate=0.0001, algorithm=SAMME.R, n_estimators=500, score=0.7373358348968105, total=   0.1s\n",
      "[CV] learning_rate=0.1, algorithm=SAMME.R, n_estimators=500 ..........\n",
      "[CV] learning_rate=0.0001, algorithm=SAMME.R, n_estimators=500 .......\n",
      "[CV]  learning_rate=0.1, algorithm=SAMME.R, n_estimators=500, score=0.7211925866236906, total=   0.1s\n",
      "[CV] learning_rate=0.1, algorithm=SAMME.R, n_estimators=500 ..........\n",
      "[CV]  learning_rate=0.0001, algorithm=SAMME.R, n_estimators=500, score=0.7085678549093183, total=   0.1s\n",
      "[CV] learning_rate=0.0001, algorithm=SAMME.R, n_estimators=400 .......\n",
      "[CV]  learning_rate=0.1, algorithm=SAMME.R, n_estimators=500, score=0.725, total=   0.1s\n",
      "[CV] learning_rate=0.1, algorithm=SAMME.R, n_estimators=500 ..........\n",
      "[CV]  learning_rate=0.0001, algorithm=SAMME.R, n_estimators=400, score=0.7101811367895066, total=   0.1s\n",
      "[CV] learning_rate=0.0001, algorithm=SAMME.R, n_estimators=400 .......\n",
      "[CV]  learning_rate=0.1, algorithm=SAMME.R, n_estimators=500, score=0.7387096774193549, total=   0.1s\n",
      "[CV] learning_rate=0.1, algorithm=SAMME.R, n_estimators=500 ..........\n",
      "[CV]  learning_rate=0.1, algorithm=SAMME.R, n_estimators=500, score=0.6975806451612904, total=   0.1s\n",
      "[CV] learning_rate=0.1, algorithm=SAMME.R, n_estimators=500 ..........\n",
      "[CV]  learning_rate=0.0001, algorithm=SAMME.R, n_estimators=400, score=0.7420362273579013, total=   0.2s\n",
      "[CV] learning_rate=0.0001, algorithm=SAMME.R, n_estimators=400 .......\n",
      "[CV]  learning_rate=0.1, algorithm=SAMME.R, n_estimators=500, score=0.7199354317998385, total=   0.1s\n",
      "[CV] learning_rate=0.1, algorithm=SAMME.R, n_estimators=400 ..........\n",
      "[CV]  learning_rate=0.0001, algorithm=SAMME.R, n_estimators=400, score=0.7325, total=   0.1s\n",
      "[CV] learning_rate=0.0001, algorithm=SAMME.R, n_estimators=400 .......\n",
      "[CV]  learning_rate=0.1, algorithm=SAMME.R, n_estimators=400, score=0.7276390008058018, total=   0.1s\n",
      "[CV] learning_rate=0.1, algorithm=SAMME.R, n_estimators=400 ..........\n",
      "[CV]  learning_rate=0.0001, algorithm=SAMME.R, n_estimators=400, score=0.7373358348968105, total=   0.1s\n",
      "[CV] learning_rate=0.0001, algorithm=SAMME.R, n_estimators=400 .......\n",
      "[CV]  learning_rate=0.1, algorithm=SAMME.R, n_estimators=400, score=0.7225806451612903, total=   0.1s\n",
      "[CV] learning_rate=0.1, algorithm=SAMME.R, n_estimators=400 ..........\n",
      "[CV]  learning_rate=0.1, algorithm=SAMME.R, n_estimators=400, score=0.7330645161290322, total=   0.1s\n",
      "[CV]  learning_rate=0.0001, algorithm=SAMME.R, n_estimators=400, score=0.7154471544715447, total=   0.1s\n",
      "[CV] learning_rate=0.001, algorithm=SAMME.R, n_estimators=500 ........\n",
      "[CV] learning_rate=0.1, algorithm=SAMME.R, n_estimators=400 ..........\n",
      "[CV]  learning_rate=0.1, algorithm=SAMME.R, n_estimators=400, score=0.7032258064516129, total=   0.1s\n",
      "[CV] learning_rate=0.1, algorithm=SAMME.R, n_estimators=400 ..........\n",
      "[CV]  learning_rate=0.001, algorithm=SAMME.R, n_estimators=500, score=0.7114303560274828, total=   0.1s\n",
      "[CV] learning_rate=0.001, algorithm=SAMME.R, n_estimators=500 ........\n",
      "[CV]  learning_rate=0.1, algorithm=SAMME.R, n_estimators=400, score=0.7167070217917676, total=   0.1s\n",
      "[CV] learning_rate=1, algorithm=SAMME.R, n_estimators=500 ............\n",
      "[CV]  learning_rate=0.001, algorithm=SAMME.R, n_estimators=500, score=0.7432854465958776, total=   0.2s\n",
      "[CV] learning_rate=0.001, algorithm=SAMME.R, n_estimators=500 ........\n",
      "[CV]  learning_rate=1, algorithm=SAMME.R, n_estimators=500, score=0.7236099919419823, total=   0.1s\n",
      "[CV] learning_rate=1, algorithm=SAMME.R, n_estimators=500 ............\n",
      "[CV]  learning_rate=1, algorithm=SAMME.R, n_estimators=500, score=0.7112903225806452, total=   0.1s\n",
      "[CV] learning_rate=1, algorithm=SAMME.R, n_estimators=500 ............\n",
      "[CV]  learning_rate=0.001, algorithm=SAMME.R, n_estimators=500, score=0.734375, total=   0.1s\n",
      "[CV] learning_rate=0.001, algorithm=SAMME.R, n_estimators=500 ........\n",
      "[CV]  learning_rate=1, algorithm=SAMME.R, n_estimators=500, score=0.7379032258064516, total=   0.1s\n",
      "[CV] learning_rate=1, algorithm=SAMME.R, n_estimators=500 ............\n",
      "[CV]  learning_rate=0.001, algorithm=SAMME.R, n_estimators=500, score=0.734208880550344, total=   0.1s\n",
      "[CV] learning_rate=0.001, algorithm=SAMME.R, n_estimators=500 ........\n",
      "[CV]  learning_rate=1, algorithm=SAMME.R, n_estimators=500, score=0.6975806451612904, total=   0.1s\n",
      "[CV] learning_rate=1, algorithm=SAMME.R, n_estimators=500 ............\n",
      "[CV]  learning_rate=0.001, algorithm=SAMME.R, n_estimators=500, score=0.7135709818636647, total=   0.1s\n",
      "[CV] learning_rate=0.001, algorithm=SAMME.R, n_estimators=400 ........\n",
      "[CV]  learning_rate=1, algorithm=SAMME.R, n_estimators=500, score=0.7199354317998385, total=   0.1s\n",
      "[CV] learning_rate=1, algorithm=SAMME.R, n_estimators=400 ............\n",
      "[CV]  learning_rate=0.001, algorithm=SAMME.R, n_estimators=400, score=0.7158026233603998, total=   0.1s\n",
      "[CV] learning_rate=0.001, algorithm=SAMME.R, n_estimators=400 ........\n",
      "[CV]  learning_rate=1, algorithm=SAMME.R, n_estimators=400, score=0.7228041901692184, total=   0.1s\n",
      "[CV] learning_rate=1, algorithm=SAMME.R, n_estimators=400 ............\n",
      "[CV]  learning_rate=1, algorithm=SAMME.R, n_estimators=400, score=0.7209677419354839, total=   0.1s\n",
      "[CV] learning_rate=1, algorithm=SAMME.R, n_estimators=400 ............\n",
      "[CV]  learning_rate=0.001, algorithm=SAMME.R, n_estimators=400, score=0.7476577139287945, total=   0.2s\n",
      "[CV] learning_rate=0.001, algorithm=SAMME.R, n_estimators=400 ........\n",
      "[CV]  learning_rate=1, algorithm=SAMME.R, n_estimators=400, score=0.7314516129032258, total=   0.1s\n",
      "[CV] learning_rate=1, algorithm=SAMME.R, n_estimators=400 ............\n",
      "[CV]  learning_rate=0.001, algorithm=SAMME.R, n_estimators=400, score=0.731875, total=   0.2s\n",
      "[CV] learning_rate=0.001, algorithm=SAMME.R, n_estimators=400 ........\n",
      "[CV]  learning_rate=1, algorithm=SAMME.R, n_estimators=400, score=0.7056451612903226, total=   0.2s\n",
      "[CV] learning_rate=1, algorithm=SAMME.R, n_estimators=400 ............\n",
      "[CV]  learning_rate=1, algorithm=SAMME.R, n_estimators=400, score=0.7239709443099274, total=   0.2s\n"
     ]
    },
    {
     "name": "stderr",
     "output_type": "stream",
     "text": [
      "[Parallel(n_jobs=-1)]: Done 120 out of 120 | elapsed:   13.9s finished\n"
     ]
    },
    {
     "name": "stdout",
     "output_type": "stream",
     "text": [
      "[CV]  learning_rate=0.001, algorithm=SAMME.R, n_estimators=400, score=0.7310819262038775, total=   0.2s\n",
      "[CV] learning_rate=0.001, algorithm=SAMME.R, n_estimators=400 ........\n",
      "[CV]  learning_rate=0.001, algorithm=SAMME.R, n_estimators=400, score=0.7248280175109444, total=   0.4s\n",
      "[CV] learning_rate=0.01, algorithm=SAMME.R, n_estimators=500 .........\n",
      "[CV]  learning_rate=0.01, algorithm=SAMME.R, n_estimators=500, score=0.7145534041224235, total=   0.3s\n",
      "[CV] learning_rate=0.01, algorithm=SAMME.R, n_estimators=500 .........\n",
      "[CV]  learning_rate=0.01, algorithm=SAMME.R, n_estimators=500, score=0.750156152404747, total=   0.3s\n",
      "[CV] learning_rate=0.01, algorithm=SAMME.R, n_estimators=500 .........\n",
      "[CV]  learning_rate=0.01, algorithm=SAMME.R, n_estimators=500, score=0.7375, total=   0.3s\n",
      "[CV] learning_rate=0.01, algorithm=SAMME.R, n_estimators=500 .........\n",
      "[CV]  learning_rate=0.01, algorithm=SAMME.R, n_estimators=500, score=0.7310819262038775, total=   0.2s\n",
      "[CV] learning_rate=0.01, algorithm=SAMME.R, n_estimators=500 .........\n",
      "[CV]  learning_rate=0.01, algorithm=SAMME.R, n_estimators=500, score=0.7129455909943715, total=   0.3s\n",
      "[CV] learning_rate=0.01, algorithm=SAMME.R, n_estimators=400 .........\n",
      "[CV]  learning_rate=0.01, algorithm=SAMME.R, n_estimators=400, score=0.712054965646471, total=   0.3s\n",
      "[CV] learning_rate=0.01, algorithm=SAMME.R, n_estimators=400 .........\n",
      "[CV]  learning_rate=0.01, algorithm=SAMME.R, n_estimators=400, score=0.749531542785759, total=   0.3s\n",
      "[CV] learning_rate=0.01, algorithm=SAMME.R, n_estimators=400 .........\n",
      "[CV]  learning_rate=0.01, algorithm=SAMME.R, n_estimators=400, score=0.73375, total=   0.3s\n",
      "[CV] learning_rate=0.01, algorithm=SAMME.R, n_estimators=400 .........\n",
      "[CV]  learning_rate=0.01, algorithm=SAMME.R, n_estimators=400, score=0.7329580988117573, total=   0.3s\n",
      "[CV] learning_rate=0.01, algorithm=SAMME.R, n_estimators=400 .........\n",
      "[CV]  learning_rate=0.01, algorithm=SAMME.R, n_estimators=400, score=0.7166979362101313, total=   0.3s\n",
      "[CV] learning_rate=0.1, algorithm=SAMME.R, n_estimators=500 ..........\n",
      "[CV]  learning_rate=0.1, algorithm=SAMME.R, n_estimators=500, score=0.707682698313554, total=   0.4s\n",
      "[CV] learning_rate=0.1, algorithm=SAMME.R, n_estimators=500 ..........\n",
      "[CV]  learning_rate=0.1, algorithm=SAMME.R, n_estimators=500, score=0.7482823235477827, total=   0.4s\n",
      "[CV] learning_rate=0.1, algorithm=SAMME.R, n_estimators=500 ..........\n",
      "[CV]  learning_rate=0.1, algorithm=SAMME.R, n_estimators=500, score=0.726875, total=   0.3s\n",
      "[CV] learning_rate=0.1, algorithm=SAMME.R, n_estimators=500 ..........\n",
      "[CV]  learning_rate=0.1, algorithm=SAMME.R, n_estimators=500, score=0.7360850531582239, total=   0.3s\n",
      "[CV] learning_rate=0.1, algorithm=SAMME.R, n_estimators=500 ..........\n",
      "[CV]  learning_rate=0.1, algorithm=SAMME.R, n_estimators=500, score=0.7154471544715447, total=   0.3s\n",
      "[CV] learning_rate=0.1, algorithm=SAMME.R, n_estimators=400 ..........\n",
      "[CV]  learning_rate=0.1, algorithm=SAMME.R, n_estimators=400, score=0.707682698313554, total=   0.3s\n",
      "[CV] learning_rate=0.1, algorithm=SAMME.R, n_estimators=400 ..........\n",
      "[CV]  learning_rate=0.1, algorithm=SAMME.R, n_estimators=400, score=0.7464084946908183, total=   0.3s\n",
      "[CV] learning_rate=0.1, algorithm=SAMME.R, n_estimators=400 ..........\n",
      "[CV]  learning_rate=0.1, algorithm=SAMME.R, n_estimators=400, score=0.739375, total=   0.3s\n",
      "[CV] learning_rate=0.1, algorithm=SAMME.R, n_estimators=400 ..........\n",
      "[CV]  learning_rate=0.1, algorithm=SAMME.R, n_estimators=400, score=0.7373358348968105, total=   0.2s\n",
      "[CV] learning_rate=0.1, algorithm=SAMME.R, n_estimators=400 ..........\n",
      "[CV]  learning_rate=0.1, algorithm=SAMME.R, n_estimators=400, score=0.7229518449030644, total=   0.3s\n",
      "[CV] learning_rate=1, algorithm=SAMME.R, n_estimators=500 ............\n",
      "[CV]  learning_rate=1, algorithm=SAMME.R, n_estimators=500, score=0.7189256714553404, total=   0.3s\n",
      "[CV] learning_rate=1, algorithm=SAMME.R, n_estimators=500 ............\n",
      "[CV]  learning_rate=1, algorithm=SAMME.R, n_estimators=500, score=0.7445346658338539, total=   0.3s\n",
      "[CV] learning_rate=1, algorithm=SAMME.R, n_estimators=500 ............\n",
      "[CV]  learning_rate=1, algorithm=SAMME.R, n_estimators=500, score=0.730625, total=   0.3s\n",
      "[CV] learning_rate=1, algorithm=SAMME.R, n_estimators=500 ............\n",
      "[CV]  learning_rate=1, algorithm=SAMME.R, n_estimators=500, score=0.7273295809881176, total=   0.3s\n",
      "[CV] learning_rate=1, algorithm=SAMME.R, n_estimators=500 ............\n",
      "[CV]  learning_rate=1, algorithm=SAMME.R, n_estimators=500, score=0.716072545340838, total=   0.3s\n",
      "[CV] learning_rate=1, algorithm=SAMME.R, n_estimators=400 ............\n",
      "[CV]  learning_rate=1, algorithm=SAMME.R, n_estimators=400, score=0.7070580886945659, total=   0.3s\n",
      "[CV] learning_rate=1, algorithm=SAMME.R, n_estimators=400 ............\n",
      "[CV]  learning_rate=1, algorithm=SAMME.R, n_estimators=400, score=0.745159275452842, total=   0.3s\n",
      "[CV] learning_rate=1, algorithm=SAMME.R, n_estimators=400 ............\n",
      "[CV]  learning_rate=1, algorithm=SAMME.R, n_estimators=400, score=0.73875, total=   0.3s\n",
      "[CV] learning_rate=1, algorithm=SAMME.R, n_estimators=400 ............\n",
      "[CV]  learning_rate=1, algorithm=SAMME.R, n_estimators=400, score=0.7410881801125704, total=   0.2s\n",
      "[CV] learning_rate=1, algorithm=SAMME.R, n_estimators=400 ............\n",
      "[CV]  learning_rate=1, algorithm=SAMME.R, n_estimators=400, score=0.7185741088180112, total=   0.4s\n"
     ]
    },
    {
     "name": "stderr",
     "output_type": "stream",
     "text": [
      "[Parallel(n_jobs=-1)]: Done 120 out of 120 | elapsed:   23.1s finished\n"
     ]
    },
    {
     "data": {
      "image/png": "[encoded data removed]",
      "text/plain": [
       "<Figure size 432x288 with 1 Axes>"
      ]
     },
     "metadata": {},
     "output_type": "display_data"
    }
   ],
   "source": [
    "# Generate learning curve plot\n",
    "\n",
    "from sklearn.model_selection import learning_curve\n",
    "from sklearn.model_selection import ShuffleSplit\n",
    "\n",
    "\n",
    "def plot_learning_curve(estimator, title, X, y, ylim=None, cv=None,\n",
    "                        n_jobs=1, train_sizes=np.linspace(.1, 1.0, 5)):\n",
    "    \"\"\"\n",
    "    Generate a simple plot of the test and training learning curve.\n",
    "\n",
    "    Parameters\n",
    "    ----------\n",
    "    estimator : object type that implements the \"fit\" and \"predict\" methods\n",
    "        An object of that type which is cloned for each validation.\n",
    "\n",
    "    title : string\n",
    "        Title for the chart.\n",
    "\n",
    "    X : array-like, shape (n_samples, n_features)\n",
    "        Training vector, where n_samples is the number of samples and\n",
    "        n_features is the number of features.\n",
    "\n",
    "    y : array-like, shape (n_samples) or (n_samples, n_features), optional\n",
    "        Target relative to X for classification or regression;\n",
    "        None for unsupervised learning.\n",
    "\n",
    "    ylim : tuple, shape (ymin, ymax), optional\n",
    "        Defines minimum and maximum yvalues plotted.\n",
    "\n",
    "    cv : int, cross-validation generator or an iterable, optional\n",
    "        Determines the cross-validation splitting strategy.\n",
    "        Possible inputs for cv are:\n",
    "          - None, to use the default 3-fold cross-validation,\n",
    "          - integer, to specify the number of folds.\n",
    "          - An object to be used as a cross-validation generator.\n",
    "          - An iterable yielding train/test splits.\n",
    "\n",
    "        For integer/None inputs, if ``y`` is binary or multiclass,\n",
    "        :class:`StratifiedKFold` used. If the estimator is not a classifier\n",
    "        or if ``y`` is neither binary nor multiclass, :class:`KFold` is used.\n",
    "\n",
    "        Refer :ref:`User Guide <cross_validation>` for the various\n",
    "        cross-validators that can be used here.\n",
    "\n",
    "    n_jobs : integer, optional\n",
    "        Number of jobs to run in parallel (default 1).\n",
    "    \"\"\"\n",
    "    pt.figure()\n",
    "    pt.title(title)\n",
    "    if ylim is not None:\n",
    "        pt.ylim(*ylim)\n",
    "    pt.xlabel(\"Training examples\")\n",
    "    pt.ylabel(\"Score\")\n",
    "    train_sizes, train_scores, test_scores = learning_curve(\n",
    "        estimator, X, y, cv=cv, n_jobs=n_jobs, train_sizes=train_sizes)\n",
    "    train_scores_mean = np.mean(train_scores, axis=1)\n",
    "    train_scores_std = np.std(train_scores, axis=1)\n",
    "    test_scores_mean = np.mean(test_scores, axis=1)\n",
    "    test_scores_std = np.std(test_scores, axis=1)\n",
    "    pt.grid()\n",
    "\n",
    "    pt.fill_between(train_sizes, train_scores_mean - train_scores_std,\n",
    "                     train_scores_mean + train_scores_std, alpha=0.1,\n",
    "                     color=\"r\")\n",
    "    pt.fill_between(train_sizes, test_scores_mean - test_scores_std,\n",
    "                     test_scores_mean + test_scores_std, alpha=0.1, color=\"g\")\n",
    "    pt.plot(train_sizes, train_scores_mean, 'o-', color=\"r\",\n",
    "             label=\"Training score\")\n",
    "    pt.plot(train_sizes, test_scores_mean, 'o-', color=\"g\",\n",
    "             label=\"Cross-validation score\")\n",
    "\n",
    "    pt.legend(loc=\"best\")\n",
    "    return pt\n",
    "cv = ShuffleSplit(n_splits=3, test_size=0.2, random_state=0)\n",
    "\n",
    "\n",
    "plot_learning_curve(AdaBoost, \"Learning curve for Boosting Decision Tree(Adaboost) - Credit Card Defaulter\", X_train, Y_train, ylim=(0.0, 1.01), cv=cv, n_jobs=4)\n",
    "\n",
    "pt.show()"
   ]
  },
  {
   "cell_type": "code",
   "execution_count": null,
   "metadata": {
    "collapsed": true,
    "deletable": true,
    "editable": true
   },
   "outputs": [],
   "source": []
  }
 ],
 "metadata": {
  "kernelspec": {
   "display_name": "Python 3",
   "language": "python",
   "name": "python3"
  },
  "language_info": {
   "codemirror_mode": {
    "name": "ipython",
    "version": 3
   },
   "file_extension": ".py",
   "mimetype": "text/x-python",
   "name": "python",
   "nbconvert_exporter": "python",
   "pygments_lexer": "ipython3",
   "version": "3.5.2"
  }
 },
 "nbformat": 4,
 "nbformat_minor": 2
}
