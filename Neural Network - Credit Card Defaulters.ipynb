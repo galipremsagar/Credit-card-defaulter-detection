{
 "cells": [
  {
   "cell_type": "code",
   "execution_count": 33,
   "metadata": {
    "collapsed": false,
    "deletable": true,
    "editable": true
   },
   "outputs": [
    {
     "name": "stdout",
     "output_type": "stream",
     "text": [
      "Training model.\n",
      "Fitting 3 folds for each of 3 candidates, totalling 9 fits\n",
      "[CV] hidden_layer_sizes=(256,) .......................................\n",
      "[CV] hidden_layer_sizes=(256,) .......................................\n",
      "[CV] hidden_layer_sizes=(256,) .......................................\n",
      "[CV] hidden_layer_sizes=(512,) .......................................\n",
      "[CV] hidden_layer_sizes=(512,) .......................................\n",
      "[CV] hidden_layer_sizes=(512,) .......................................\n",
      "[CV] hidden_layer_sizes=(128, 256, 128) ..............................\n",
      "[CV] hidden_layer_sizes=(128, 256, 128) ..............................\n",
      "[CV] hidden_layer_sizes=(128, 256, 128) ..............................\n",
      "Iteration 1, loss = 7.38611928\n",
      "Iteration 1, loss = 7.24754910\n",
      "Iteration 1, loss = 7.38497611\n",
      "Iteration 1, loss = 7.48762305\n",
      "Iteration 1, loss = 7.70547760\n",
      "Iteration 2, loss = 7.21043770\n",
      "Iteration 1, loss = 7.37924011\n",
      "Iteration 2, loss = 7.07697250\n",
      "Iteration 1, loss = 7.24503501\n",
      "Iteration 2, loss = 6.84748075\n",
      "Iteration 1, loss = 7.37982240\n",
      "Iteration 2, loss = 7.23685946\n",
      "Iteration 3, loss = 7.01718823\n",
      "Iteration 2, loss = 7.34076439\n",
      "Iteration 2, loss = 7.10672339\n",
      "Iteration 3, loss = 7.01725282\n",
      "Iteration 1, loss = 7.52168491\n",
      "Iteration 3, loss = 7.30237082\n",
      "Iteration 4, loss = 7.25189120\n",
      "Iteration 3, loss = 7.01442524\n",
      "Iteration 3, loss = 7.15874310\n",
      "Iteration 4, loss = 7.10147954\n",
      "Iteration 3, loss = 7.52663809\n",
      "Iteration 4, loss = 7.03458707\n",
      "Iteration 4, loss = 7.01086149\n",
      "Iteration 5, loss = 7.34190486\n",
      "Iteration 2, loss = 7.17402140\n",
      "Iteration 5, loss = 6.81459440\n",
      "Iteration 2, loss = 7.40141086\n",
      "Iteration 6, loss = 6.88055467\n",
      "Iteration 5, loss = 7.02525295\n",
      "Iteration 4, loss = 6.95275331\n",
      "Iteration 5, loss = 7.21300383\n",
      "Training loss did not improve more than tol=0.000100 for two consecutive epochs. Stopping.\n",
      "Iteration 4, loss = 7.00143716\n",
      "Iteration 7, loss = 6.56921839\n",
      "[CV]  hidden_layer_sizes=(256,), score=0.6933693369336934, total=   1.4s\n",
      "Iteration 2, loss = 7.11337974\n",
      "Iteration 6, loss = 7.17714304\n",
      "Training loss did not improve more than tol=0.000100 for two consecutive epochs. Stopping.\n",
      "[CV]  hidden_layer_sizes=(256,), score=0.6735673567356736, total=   1.6s\n",
      "Iteration 5, loss = 7.13651053\n",
      "Iteration 6, loss = 7.15895961\n",
      "Iteration 6, loss = 7.00039605\n"
     ]
    },
    {
     "name": "stderr",
     "output_type": "stream",
     "text": [
      "[Parallel(n_jobs=20)]: Done   2 out of   9 | elapsed:    1.7s remaining:    5.9s\n"
     ]
    },
    {
     "name": "stdout",
     "output_type": "stream",
     "text": [
      "Iteration 8, loss = 6.88078473\n",
      "Iteration 5, loss = 6.92000761\n",
      "Iteration 3, loss = 7.14383560\n",
      "Iteration 6, loss = 6.78787498\n",
      "Iteration 3, loss = 7.31224541\n",
      "Iteration 3, loss = 6.99771743\n",
      "Iteration 7, loss = 6.92098276\n",
      "Iteration 9, loss = 6.74953636\n",
      "Iteration 7, loss = 7.14668208\n",
      "Iteration 7, loss = 6.99503464\n",
      "Iteration 10, loss = 7.10678108\n",
      "Training loss did not improve more than tol=0.000100 for two consecutive epochs. Stopping.\n",
      "Iteration 8, loss = 6.88257007\n",
      "[CV]  hidden_layer_sizes=(256,), score=0.6112777444511098, total=   2.3s\n",
      "Iteration 8, loss = 6.99030722\n",
      "Iteration 8, loss = 6.99495518\n",
      "Iteration 4, loss = 7.34810556\n",
      "Iteration 4, loss = 7.23466093\n"
     ]
    },
    {
     "name": "stderr",
     "output_type": "stream",
     "text": [
      "[Parallel(n_jobs=20)]: Done   3 out of   9 | elapsed:    2.4s remaining:    4.7s\n"
     ]
    },
    {
     "name": "stdout",
     "output_type": "stream",
     "text": [
      "Iteration 9, loss = 7.05733391\n",
      "Iteration 4, loss = 6.91899038\n",
      "Iteration 9, loss = 6.76210079\n",
      "Iteration 9, loss = 6.86793545\n",
      "Training loss did not improve more than tol=0.000100 for two consecutive epochs. Stopping.\n",
      "[CV]  hidden_layer_sizes=(512,), score=0.7620762076207621, total=   2.5s\n",
      "Iteration 5, loss = 6.93225451\n",
      "Iteration 10, loss = 6.84668835\n",
      "Iteration 5, loss = 7.03835433\n",
      "Iteration 10, loss = 7.26416861\n"
     ]
    },
    {
     "name": "stderr",
     "output_type": "stream",
     "text": [
      "[Parallel(n_jobs=20)]: Done   4 out of   9 | elapsed:    2.8s remaining:    3.4s\n"
     ]
    },
    {
     "name": "stdout",
     "output_type": "stream",
     "text": [
      "Iteration 5, loss = 7.13455979\n",
      "Training loss did not improve more than tol=0.000100 for two consecutive epochs. Stopping.\n",
      "Iteration 11, loss = 6.80976247\n",
      "Iteration 11, loss = 6.71970472\n",
      "[CV]  hidden_layer_sizes=(128, 256, 128), score=0.7629762976297629, total=   2.8s\n",
      "Iteration 12, loss = 7.13463806\n",
      "Iteration 6, loss = 7.12391205\n",
      "Iteration 12, loss = 6.72896170\n",
      "Iteration 6, loss = 7.01725156\n",
      "Iteration 13, loss = 6.64242188\n"
     ]
    },
    {
     "name": "stderr",
     "output_type": "stream",
     "text": [
      "[Parallel(n_jobs=20)]: Done   5 out of   9 | elapsed:    3.1s remaining:    2.5s\n"
     ]
    },
    {
     "name": "stdout",
     "output_type": "stream",
     "text": [
      "Iteration 13, loss = 6.94468831\n",
      "Iteration 14, loss = 6.74331005\n",
      "Iteration 7, loss = 6.87213254\n",
      "Iteration 14, loss = 6.90962375\n",
      "Iteration 7, loss = 7.17294554\n",
      "Training loss did not improve more than tol=0.000100 for two consecutive epochs. Stopping.\n",
      "Iteration 15, loss = 6.95666654\n",
      "[CV]  hidden_layer_sizes=(128, 256, 128), score=0.7404740474047404, total=   3.3s\n",
      "Iteration 15, loss = 6.51233609\n",
      "Iteration 16, loss = 6.65732523\n",
      "Training loss did not improve more than tol=0.000100 for two consecutive epochs. Stopping.\n",
      "Iteration 8, loss = 6.93718027\n",
      "Iteration 16, loss = 6.88072337\n",
      "[CV]  hidden_layer_sizes=(512,), score=0.7650765076507651, total=   3.6s\n"
     ]
    },
    {
     "name": "stderr",
     "output_type": "stream",
     "text": [
      "[Parallel(n_jobs=20)]: Done   6 out of   9 | elapsed:    3.6s remaining:    1.8s\n",
      "[Parallel(n_jobs=20)]: Done   7 out of   9 | elapsed:    3.8s remaining:    1.1s\n"
     ]
    },
    {
     "name": "stdout",
     "output_type": "stream",
     "text": [
      "Iteration 17, loss = 6.47153132\n",
      "Iteration 18, loss = 6.73174897\n",
      "Iteration 9, loss = 6.47057381\n",
      "Iteration 19, loss = 6.83053233\n",
      "Iteration 20, loss = 6.63408570\n",
      "Training loss did not improve more than tol=0.000100 for two consecutive epochs. Stopping.\n",
      "Iteration 10, loss = 7.10962166\n",
      "[CV]  hidden_layer_sizes=(512,), score=0.7744451109778044, total=   4.0s\n",
      "Iteration 11, loss = 6.81106050\n",
      "Iteration 12, loss = 6.71389749\n",
      "Training loss did not improve more than tol=0.000100 for two consecutive epochs. Stopping.\n",
      "[CV]  hidden_layer_sizes=(128, 256, 128), score=0.7621475704859029, total=   4.3s\n"
     ]
    },
    {
     "name": "stderr",
     "output_type": "stream",
     "text": [
      "[Parallel(n_jobs=20)]: Done   9 out of   9 | elapsed:    4.5s remaining:    0.0s\n",
      "[Parallel(n_jobs=20)]: Done   9 out of   9 | elapsed:    4.5s finished\n"
     ]
    },
    {
     "name": "stdout",
     "output_type": "stream",
     "text": [
      "Iteration 1, loss = 7.49197703\n",
      "Iteration 2, loss = 7.19327945\n",
      "Iteration 3, loss = 7.08669800\n",
      "Iteration 4, loss = 7.04312275\n",
      "Iteration 5, loss = 6.99725344\n",
      "Iteration 6, loss = 7.13581566\n",
      "Iteration 7, loss = 6.88960560\n",
      "Iteration 8, loss = 7.22858040\n",
      "Iteration 9, loss = 6.67276367\n",
      "Iteration 10, loss = 6.69949091\n",
      "Iteration 11, loss = 6.88368461\n",
      "Iteration 12, loss = 6.83779716\n",
      "Training loss did not improve more than tol=0.000100 for two consecutive epochs. Stopping.\n",
      "Finished with grid search with best mean cross-validated score: 0.7672\n",
      "Best params appeared to be {'hidden_layer_sizes': (512,)}\n"
     ]
    }
   ],
   "source": [
    "import pandas as pd\n",
    "import numpy as np\n",
    "from sklearn.neural_network import MLPClassifier\n",
    "from sklearn.cross_validation import cross_val_score\n",
    "from sklearn.model_selection import train_test_split, cross_val_score, GridSearchCV\n",
    "from sklearn import metrics\n",
    "import time\n",
    "import matplotlib.pyplot as pt\n",
    "start_time = time.time()\n",
    "\n",
    "\n",
    "\n",
    "data = pd.read_csv('UCI_Credit_Card.csv')\n",
    "data = data.sample(n=15000)\n",
    "\n",
    "\n",
    "x = data.loc[:, data.columns != 'default.payment.next.month']\n",
    "y = data['default.payment.next.month']\n",
    "# print(y.head())\n",
    "\n",
    "\n",
    "from sklearn.model_selection import train_test_split\n",
    "X_train, X_test, Y_train, Y_test = train_test_split(x, y, test_size=1/3)\n",
    "# print(X_test)\n",
    "print('Training model.')\n",
    "params = {'hidden_layer_sizes': [(256,), (512,), (128, 256, 128,)]}\n",
    "# params = {'hidden_layer_sizes': [(256,)]}\n",
    "mlp = MLPClassifier(verbose=10, learning_rate='adaptive')\n",
    "clf = GridSearchCV(mlp, params, verbose=10, n_jobs=20, cv=3)\n",
    "clf.fit(X_train, Y_train)\n",
    "print('Finished with grid search with best mean cross-validated score:', clf.best_score_)\n",
    "print('Best params appeared to be', clf.best_params_)\n",
    "\n"
   ]
  },
  {
   "cell_type": "code",
   "execution_count": 34,
   "metadata": {
    "collapsed": false,
    "deletable": true,
    "editable": true
   },
   "outputs": [
    {
     "name": "stdout",
     "output_type": "stream",
     "text": [
      "[0 0 0 ..., 0 0 0]\n",
      "0.7674\n",
      "--- 5.954955101013184 seconds ---\n"
     ]
    }
   ],
   "source": [
    "from sklearn.metrics import accuracy_score\n",
    "# print(clf.score(X_test,Y_test))\n",
    "predicted = clf.predict(X_test)\n",
    "print(predicted)\n",
    "cc = accuracy_score(Y_test, predicted)\n",
    "print(cc)\n",
    "\n",
    "print(\"--- %s seconds ---\" % (time.time() - start_time))"
   ]
  },
  {
   "cell_type": "code",
   "execution_count": 35,
   "metadata": {
    "collapsed": false,
    "deletable": true,
    "editable": true
   },
   "outputs": [
    {
     "name": "stdout",
     "output_type": "stream",
     "text": [
      "0.454432750322\n",
      "0.7674\n",
      "0.682856694898\n"
     ]
    }
   ],
   "source": [
    "# Calculating F1 score\n",
    "from sklearn.metrics import f1_score\n",
    "print(f1_score(Y_test, predicted, average='macro'))\n",
    "print(f1_score(Y_test, predicted, average='micro'))\n",
    "print(f1_score(Y_test, predicted, average='weighted'))"
   ]
  },
  {
   "cell_type": "code",
   "execution_count": 36,
   "metadata": {
    "collapsed": false,
    "deletable": true,
    "editable": true
   },
   "outputs": [
    {
     "name": "stdout",
     "output_type": "stream",
     "text": [
      "Confusion matrix, without normalization\n",
      "Normalized confusion matrix\n"
     ]
    },
    {
     "data": {
      "image/png": "[encoded data removed]",
      "text/plain": [
       "<Figure size 432x288 with 2 Axes>"
      ]
     },
     "metadata": {},
     "output_type": "display_data"
    },
    {
     "data": {
      "image/png": "[encoded data removed]",
      "text/plain": [
       "<Figure size 432x288 with 2 Axes>"
      ]
     },
     "metadata": {},
     "output_type": "display_data"
    }
   ],
   "source": [
    "# Plotting confusion matrix\n",
    "import itertools\n",
    "from sklearn.metrics import confusion_matrix\n",
    "def plot_confusion_matrix(cm, classes,\n",
    "                          normalize=False,\n",
    "                          title='Confusion matrix',\n",
    "                          cmap=pt.cm.Blues):\n",
    "    \"\"\"\n",
    "    This function prints and plots the confusion matrix.\n",
    "    Normalization can be applied by setting `normalize=True`.\n",
    "    \"\"\"\n",
    "    if normalize:\n",
    "        cm = cm.astype('float') / cm.sum(axis=1)[:, np.newaxis]\n",
    "        print(\"Normalized confusion matrix\")\n",
    "    else:\n",
    "        print('Confusion matrix, without normalization')\n",
    "\n",
    "#     print(cm)\n",
    "\n",
    "    pt.imshow(cm, interpolation='nearest', cmap=cmap)\n",
    "    pt.title(title)\n",
    "    pt.colorbar()\n",
    "    tick_marks = np.arange(len(classes))\n",
    "    pt.xticks(tick_marks, classes, rotation=45)\n",
    "    pt.yticks(tick_marks, classes)\n",
    "\n",
    "    fmt = '.2f' if normalize else 'd'\n",
    "    thresh = cm.max() / 2.\n",
    "    for i, j in itertools.product(range(cm.shape[0]), range(cm.shape[1])):\n",
    "        pt.text(j, i, format(cm[i, j], fmt),\n",
    "                 horizontalalignment=\"center\",\n",
    "                 color=\"white\" if cm[i, j] > thresh else \"black\")\n",
    "\n",
    "    pt.tight_layout()\n",
    "    pt.ylabel('True label')\n",
    "    pt.xlabel('Predicted label')\n",
    "\n",
    "cnf_matrix = confusion_matrix(Y_test, predicted)\n",
    "pt.figure()\n",
    "plot_confusion_matrix(cnf_matrix, classes=[0,1],\n",
    "                      title='Confusion matrix, without normalization')\n",
    "pt.figure()\n",
    "plot_confusion_matrix(cnf_matrix, classes=[0,1],normalize=True,\n",
    "                      title='Confusion matrix, with normalization - Credit Card Defaulter')\n",
    "pt.show()"
   ]
  },
  {
   "cell_type": "code",
   "execution_count": 37,
   "metadata": {
    "collapsed": false,
    "deletable": true,
    "editable": true
   },
   "outputs": [
    {
     "name": "stdout",
     "output_type": "stream",
     "text": [
      "Fitting 3 folds for each of 3 candidates, totalling 9 fits\n"
     ]
    },
    {
     "name": "stderr",
     "output_type": "stream",
     "text": [
      "/Users/gali/anaconda/envs/carnd-term1/lib/python3.5/site-packages/sklearn/externals/joblib/parallel.py:547: UserWarning: Multiprocessing-backed parallel loops cannot be nested, setting n_jobs=1\n",
      "  **self._backend_args)\n"
     ]
    },
    {
     "name": "stdout",
     "output_type": "stream",
     "text": [
      "[CV] hidden_layer_sizes=(256,) .......................................\n",
      "Fitting 3 folds for each of 3 candidates, totalling 9 fits\n"
     ]
    },
    {
     "name": "stderr",
     "output_type": "stream",
     "text": [
      "/Users/gali/anaconda/envs/carnd-term1/lib/python3.5/site-packages/sklearn/externals/joblib/parallel.py:547: UserWarning: Multiprocessing-backed parallel loops cannot be nested, setting n_jobs=1\n",
      "  **self._backend_args)\n"
     ]
    },
    {
     "name": "stdout",
     "output_type": "stream",
     "text": [
      "[CV] hidden_layer_sizes=(256,) .......................................\n",
      "Fitting 3 folds for each of 3 candidates, totalling 9 fits\n",
      "Iteration 1, loss = 5.32549953\n"
     ]
    },
    {
     "name": "stderr",
     "output_type": "stream",
     "text": [
      "/Users/gali/anaconda/envs/carnd-term1/lib/python3.5/site-packages/sklearn/externals/joblib/parallel.py:547: UserWarning: Multiprocessing-backed parallel loops cannot be nested, setting n_jobs=1\n",
      "  **self._backend_args)\n"
     ]
    },
    {
     "name": "stdout",
     "output_type": "stream",
     "text": [
      "[CV] hidden_layer_sizes=(256,) .......................................\n",
      "Iteration 2, loss = 12.32397567\n",
      "Fitting 3 folds for each of 3 candidates, totalling 9 fits\n"
     ]
    },
    {
     "name": "stderr",
     "output_type": "stream",
     "text": [
      "/Users/gali/anaconda/envs/carnd-term1/lib/python3.5/site-packages/sklearn/externals/joblib/parallel.py:547: UserWarning: Multiprocessing-backed parallel loops cannot be nested, setting n_jobs=1\n",
      "  **self._backend_args)\n"
     ]
    },
    {
     "name": "stdout",
     "output_type": "stream",
     "text": [
      "[CV] hidden_layer_sizes=(256,) .......................................\n",
      "Iteration 3, loss = 5.27047035\n",
      "Fitting 3 folds for each of 3 candidates, totalling 9 fits\n"
     ]
    },
    {
     "name": "stderr",
     "output_type": "stream",
     "text": [
      "/Users/gali/anaconda/envs/carnd-term1/lib/python3.5/site-packages/sklearn/externals/joblib/parallel.py:547: UserWarning: Multiprocessing-backed parallel loops cannot be nested, setting n_jobs=1\n",
      "  **self._backend_args)\n"
     ]
    },
    {
     "name": "stdout",
     "output_type": "stream",
     "text": [
      "Fitting 3 folds for each of 3 candidates, totalling 9 fits\n",
      "[CV] hidden_layer_sizes=(256,) .......................................\n",
      "Iteration 4, loss = 5.14105538\n",
      "Iteration 1, loss = 7.98618911\n"
     ]
    },
    {
     "name": "stderr",
     "output_type": "stream",
     "text": [
      "/Users/gali/anaconda/envs/carnd-term1/lib/python3.5/site-packages/sklearn/externals/joblib/parallel.py:547: UserWarning: Multiprocessing-backed parallel loops cannot be nested, setting n_jobs=1\n",
      "  **self._backend_args)\n"
     ]
    },
    {
     "name": "stdout",
     "output_type": "stream",
     "text": [
      "[CV] hidden_layer_sizes=(256,) .......................................\n",
      "Fitting 3 folds for each of 3 candidates, totalling 9 fits\n"
     ]
    },
    {
     "name": "stderr",
     "output_type": "stream",
     "text": [
      "/Users/gali/anaconda/envs/carnd-term1/lib/python3.5/site-packages/sklearn/externals/joblib/parallel.py:547: UserWarning: Multiprocessing-backed parallel loops cannot be nested, setting n_jobs=1\n",
      "  **self._backend_args)\n"
     ]
    },
    {
     "name": "stdout",
     "output_type": "stream",
     "text": [
      "[CV] hidden_layer_sizes=(256,) .......................................\n",
      "Fitting 3 folds for each of 3 candidates, totalling 9 fits\n",
      "Iteration 5, loss = 5.23677305\n"
     ]
    },
    {
     "name": "stderr",
     "output_type": "stream",
     "text": [
      "/Users/gali/anaconda/envs/carnd-term1/lib/python3.5/site-packages/sklearn/externals/joblib/parallel.py:547: UserWarning: Multiprocessing-backed parallel loops cannot be nested, setting n_jobs=1\n",
      "  **self._backend_args)\n"
     ]
    },
    {
     "name": "stdout",
     "output_type": "stream",
     "text": [
      "[CV] hidden_layer_sizes=(256,) .......................................\n",
      "Iteration 1, loss = 5.18406945\n",
      "Iteration 6, loss = 10.64446385\n",
      "Iteration 2, loss = 11.43775273\n",
      "Iteration 2, loss = 8.35510648\n",
      "Iteration 7, loss = 6.92953411\n",
      "Training loss did not improve more than tol=0.000100 for two consecutive epochs. Stopping.\n",
      "Iteration 1, loss = 7.09586600\n",
      "Iteration 1, loss = 7.52033677\n",
      "[CV]  hidden_layer_sizes=(256,), score=0.7715355805243446, total=   0.2s\n"
     ]
    },
    {
     "name": "stderr",
     "output_type": "stream",
     "text": [
      "[Parallel(n_jobs=20)]: Done   1 out of   1 | elapsed:    0.2s remaining:    0.0s\n"
     ]
    },
    {
     "name": "stdout",
     "output_type": "stream",
     "text": [
      "[CV] hidden_layer_sizes=(256,) .......................................\n",
      "Iteration 3, loss = 4.66566376\n",
      "Iteration 1, loss = 7.97289844\n",
      "Iteration 4, loss = 4.57926280\n",
      "Iteration 1, loss = 6.79831760\n",
      "Iteration 3, loss = 6.85775390\n",
      "Iteration 5, loss = 9.63208479\n",
      "Iteration 2, loss = 6.79155621\n",
      "Iteration 1, loss = 7.47865683\n",
      "Iteration 6, loss = 8.43520216\n",
      "Iteration 2, loss = 6.74383649\n",
      "Iteration 3, loss = 8.84325048\n",
      "Iteration 2, loss = 7.10373317\n",
      "Iteration 2, loss = 7.31359815\n",
      "Iteration 7, loss = 4.71013229\n",
      "Training loss did not improve more than tol=0.000100 for two consecutive epochs. Stopping.\n",
      "Iteration 4, loss = 7.36614798\n",
      "[CV]  hidden_layer_sizes=(256,), score=0.7078651685393258, total=   0.2s\n",
      "Iteration 4, loss = 7.98106240\n",
      "Iteration 1, loss = 7.25534647\n"
     ]
    },
    {
     "name": "stderr",
     "output_type": "stream",
     "text": [
      "[Parallel(n_jobs=20)]: Done   1 out of   1 | elapsed:    0.2s remaining:    0.0s\n"
     ]
    },
    {
     "name": "stdout",
     "output_type": "stream",
     "text": [
      "[CV] hidden_layer_sizes=(256,) .......................................\n",
      "Iteration 5, loss = 8.43542349\n",
      "Training loss did not improve more than tol=0.000100 for two consecutive epochs. Stopping.\n",
      "[CV]  hidden_layer_sizes=(256,), score=0.7453183520599251, total=   0.1s\n"
     ]
    },
    {
     "name": "stderr",
     "output_type": "stream",
     "text": [
      "[Parallel(n_jobs=20)]: Done   2 out of   2 | elapsed:    0.3s remaining:    0.0s\n"
     ]
    },
    {
     "name": "stdout",
     "output_type": "stream",
     "text": [
      "Iteration 1, loss = 6.99848886\n",
      "[CV] hidden_layer_sizes=(256,) .......................................\n",
      "Iteration 3, loss = 6.36123739\n",
      "Iteration 2, loss = 6.99309888\n",
      "Iteration 1, loss = 8.58083435\n",
      "Iteration 5, loss = 7.02529134\n",
      "Iteration 3, loss = 7.37095089\n",
      "Iteration 3, loss = 7.12994177\n",
      "Iteration 2, loss = 5.43307888\n",
      "Iteration 2, loss = 7.67889581\n",
      "Iteration 3, loss = 7.28667829\n",
      "Iteration 2, loss = 7.26745643\n",
      "Iteration 4, loss = 8.84919620\n",
      "Iteration 4, loss = 7.60306438\n",
      "Iteration 3, loss = 8.71017878\n",
      "Iteration 5, loss = 6.29456676\n",
      "Iteration 6, loss = 7.07770847\n",
      "Training loss did not improve more than tol=0.000100 for two consecutive epochs. Stopping.\n",
      "Iteration 4, loss = 6.38171337\n",
      "Iteration 3, loss = 7.40587556\n",
      "[CV]  hidden_layer_sizes=(256,), score=0.6486175115207373, total=   0.4s\n"
     ]
    },
    {
     "name": "stderr",
     "output_type": "stream",
     "text": [
      "[Parallel(n_jobs=20)]: Done   1 out of   1 | elapsed:    0.4s remaining:    0.0s\n"
     ]
    },
    {
     "name": "stdout",
     "output_type": "stream",
     "text": [
      "[CV] hidden_layer_sizes=(256,) .......................................\n",
      "Iteration 6, loss = 5.53306363\n",
      "Iteration 5, loss = 5.30382157\n",
      "Iteration 5, loss = 6.15541354\n",
      "Iteration 7, loss = 6.58128962\n",
      "Iteration 6, loss = 8.66508768\n",
      "Iteration 8, loss = 7.06460208\n",
      "Iteration 9, loss = 5.27994468\n",
      "Iteration 4, loss = 6.99451088\n",
      "Iteration 10, loss = 6.69948756\n",
      "Iteration 11, loss = 4.72409535\n",
      "Iteration 4, loss = 7.02043616\n",
      "Iteration 12, loss = 7.43225008\n",
      "Iteration 7, loss = 9.08942338\n",
      "Iteration 4, loss = 7.06581999\n",
      "Iteration 13, loss = 5.50395659\n",
      "Iteration 14, loss = 5.65025961\n",
      "Training loss did not improve more than tol=0.000100 for two consecutive epochs. Stopping.\n",
      "Iteration 1, loss = 7.26337517\n",
      "Iteration 8, loss = 5.42901664\n",
      "Training loss did not improve more than tol=0.000100 for two consecutive epochs. Stopping.\n",
      "[CV]  hidden_layer_sizes=(256,), score=0.706766917293233, total=   0.3s\n"
     ]
    },
    {
     "name": "stderr",
     "output_type": "stream",
     "text": [
      "[Parallel(n_jobs=20)]: Done   3 out of   3 | elapsed:    0.6s remaining:    0.0s\n"
     ]
    },
    {
     "name": "stdout",
     "output_type": "stream",
     "text": [
      "[CV] hidden_layer_sizes=(512,) .......................................\n",
      "Iteration 1, loss = 13.98183536\n",
      "[CV]  hidden_layer_sizes=(256,), score=0.6254681647940075, total=   0.3s\n",
      "Iteration 2, loss = 5.18406997\n",
      "Iteration 3, loss = 5.14086951\n"
     ]
    },
    {
     "name": "stderr",
     "output_type": "stream",
     "text": [
      "[Parallel(n_jobs=20)]: Done   2 out of   2 | elapsed:    0.5s remaining:    0.0s\n"
     ]
    },
    {
     "name": "stdout",
     "output_type": "stream",
     "text": [
      "Iteration 4, loss = 5.14086952\n",
      "[CV] hidden_layer_sizes=(256,) .......................................\n",
      "Iteration 5, loss = 7.20084052\n",
      "Iteration 6, loss = 7.28717773\n",
      "Iteration 6, loss = 8.21924921\n",
      "Iteration 3, loss = 7.04941581\n",
      "Training loss did not improve more than tol=0.000100 for two consecutive epochs. Stopping.\n",
      "Iteration 1, loss = 11.90101445\n",
      "[CV]  hidden_layer_sizes=(512,), score=0.7565543071161048, total=   0.1s\n"
     ]
    },
    {
     "name": "stderr",
     "output_type": "stream",
     "text": [
      "[Parallel(n_jobs=20)]: Done   4 out of   4 | elapsed:    0.7s remaining:    0.0s\n"
     ]
    },
    {
     "name": "stdout",
     "output_type": "stream",
     "text": [
      "Iteration 5, loss = 6.89210027\n",
      "[CV] hidden_layer_sizes=(512,) .......................................\n",
      "Iteration 6, loss = 7.23522709\n",
      "Iteration 2, loss = 5.34684397\n",
      "Iteration 2, loss = 7.59247128\n",
      "Iteration 1, loss = 9.74241751\n",
      "Iteration 7, loss = 6.55734576\n",
      "Iteration 3, loss = 5.65807075\n",
      "Iteration 7, loss = 6.77314519\n",
      "Iteration 5, loss = 7.21510566\n",
      "Training loss did not improve more than tol=0.000100 for two consecutive epochs. Stopping.\n",
      "Iteration 2, loss = 5.14086967\n",
      "Iteration 8, loss = 7.35772610\n",
      "[CV]  hidden_layer_sizes=(256,), score=0.7336512261580381, total=   0.7s\n"
     ]
    },
    {
     "name": "stderr",
     "output_type": "stream",
     "text": [
      "[Parallel(n_jobs=20)]: Done   1 out of   1 | elapsed:    0.7s remaining:    0.0s\n"
     ]
    },
    {
     "name": "stdout",
     "output_type": "stream",
     "text": [
      "[CV] hidden_layer_sizes=(256,) .......................................\n",
      "Iteration 4, loss = 7.74625123\n",
      "Iteration 9, loss = 6.42993956\n",
      "Iteration 3, loss = 5.61753311\n",
      "Iteration 5, loss = 5.73384913\n",
      "Training loss did not improve more than tol=0.000100 for two consecutive epochs. Stopping.\n",
      "Iteration 3, loss = 6.98013645\n",
      "[CV]  hidden_layer_sizes=(256,), score=0.7894736842105263, total=   0.2s\n"
     ]
    },
    {
     "name": "stderr",
     "output_type": "stream",
     "text": [
      "[Parallel(n_jobs=20)]: Done   3 out of   3 | elapsed:    0.8s remaining:    0.0s\n"
     ]
    },
    {
     "name": "stdout",
     "output_type": "stream",
     "text": [
      "[CV] hidden_layer_sizes=(512,) .......................................\n",
      "Iteration 8, loss = 6.95312903\n",
      "Training loss did not improve more than tol=0.000100 for two consecutive epochs. Stopping.\n",
      "Iteration 4, loss = 9.18978080\n",
      "Iteration 5, loss = 7.21136344\n",
      "Iteration 4, loss = 7.18704843\n",
      "Iteration 1, loss = 15.94098703\n",
      "[CV]  hidden_layer_sizes=(256,), score=0.7335640138408305, total=   0.8s\n"
     ]
    },
    {
     "name": "stderr",
     "output_type": "stream",
     "text": [
      "[Parallel(n_jobs=20)]: Done   1 out of   1 | elapsed:    0.8s remaining:    0.0s\n"
     ]
    },
    {
     "name": "stdout",
     "output_type": "stream",
     "text": [
      "[CV] hidden_layer_sizes=(256,) .......................................\n",
      "Iteration 5, loss = 6.13894828\n",
      "Training loss did not improve more than tol=0.000100 for two consecutive epochs. Stopping.\n",
      "Iteration 4, loss = 6.92032327\n",
      "Iteration 10, loss = 6.60076123\n",
      "Iteration 2, loss = 4.79526561\n",
      "[CV]  hidden_layer_sizes=(512,), score=0.6779026217228464, total=   0.2s\n",
      "Iteration 1, loss = 7.13197461\n"
     ]
    },
    {
     "name": "stderr",
     "output_type": "stream",
     "text": [
      "[Parallel(n_jobs=20)]: Done   5 out of   5 | elapsed:    1.0s remaining:    0.0s\n"
     ]
    },
    {
     "name": "stdout",
     "output_type": "stream",
     "text": [
      "[CV] hidden_layer_sizes=(512,) .......................................\n",
      "Iteration 3, loss = 4.62246373\n",
      "Iteration 1, loss = 7.44849433\n",
      "Iteration 4, loss = 4.62246372\n",
      "Iteration 1, loss = 13.16237121\n",
      "Iteration 5, loss = 6.40710166\n",
      "Iteration 5, loss = 4.62246372\n",
      "Iteration 2, loss = 6.35363868\n",
      "Iteration 6, loss = 5.22727030\n",
      "Iteration 5, loss = 7.06518914\n",
      "Iteration 2, loss = 6.73441943\n",
      "Training loss did not improve more than tol=0.000100 for two consecutive epochs. Stopping.\n",
      "Iteration 2, loss = 7.18164458\n",
      "Iteration 11, loss = 6.38609874\n",
      "Iteration 3, loss = 5.64867721\n",
      "Iteration 6, loss = 7.09444165\n",
      "[CV]  hidden_layer_sizes=(512,), score=0.550561797752809, total=   0.2s\n"
     ]
    },
    {
     "name": "stderr",
     "output_type": "stream",
     "text": [
      "[Parallel(n_jobs=20)]: Done   4 out of   4 | elapsed:    1.0s remaining:    0.0s\n"
     ]
    },
    {
     "name": "stdout",
     "output_type": "stream",
     "text": [
      "[CV] hidden_layer_sizes=(512,) .......................................\n",
      "Iteration 4, loss = 5.61791069\n",
      "Iteration 6, loss = 6.89209779\n",
      "Iteration 3, loss = 6.80035239\n",
      "Iteration 5, loss = 6.11302484\n",
      "Iteration 1, loss = 15.94098730\n",
      "Iteration 7, loss = 6.54703565\n",
      "Iteration 6, loss = 7.03998956\n",
      "Iteration 6, loss = 6.05481099\n",
      "Iteration 3, loss = 6.96209401\n",
      "Iteration 2, loss = 4.79526592\n",
      "Iteration 12, loss = 6.53608456\n",
      "Iteration 7, loss = 6.96461985\n",
      "Iteration 7, loss = 6.29233600\n",
      "Iteration 4, loss = 6.67357213\n",
      "Iteration 3, loss = 4.62246405\n",
      "Training loss did not improve more than tol=0.000100 for two consecutive epochs. Stopping.\n",
      "Iteration 8, loss = 6.62135529\n",
      "Training loss did not improve more than tol=0.000100 for two consecutive epochs. Stopping.\n",
      "[CV]  hidden_layer_sizes=(512,), score=0.7518796992481203, total=   0.2s\n"
     ]
    },
    {
     "name": "stderr",
     "output_type": "stream",
     "text": [
      "[Parallel(n_jobs=20)]: Done   6 out of   6 | elapsed:    1.2s remaining:    0.0s\n"
     ]
    },
    {
     "name": "stdout",
     "output_type": "stream",
     "text": [
      "[CV]  hidden_layer_sizes=(256,), score=0.6581986143187067, total=   0.7s\n",
      "[CV] hidden_layer_sizes=(128, 256, 128) ..............................\n"
     ]
    },
    {
     "name": "stderr",
     "output_type": "stream",
     "text": [
      "[Parallel(n_jobs=20)]: Done   2 out of   2 | elapsed:    1.2s remaining:    0.0s\n"
     ]
    },
    {
     "name": "stdout",
     "output_type": "stream",
     "text": [
      "[CV] hidden_layer_sizes=(256,) .......................................\n",
      "Iteration 8, loss = 6.93230746\n",
      "Iteration 4, loss = 4.62246406\n",
      "Iteration 5, loss = 4.79526595\n",
      "Iteration 5, loss = 6.40039035\n",
      "Iteration 9, loss = 6.89554953\n",
      "Iteration 4, loss = 6.89963844\n",
      "Iteration 1, loss = 6.92435281\n",
      "Iteration 1, loss = 11.68479780\n",
      "Iteration 6, loss = 7.30094515\n",
      "Training loss did not improve more than tol=0.000100 for two consecutive epochs. Stopping.\n",
      "Iteration 7, loss = 6.68373140\n",
      "Iteration 13, loss = 7.17669550\n",
      "[CV]  hidden_layer_sizes=(512,), score=0.6966292134831461, total=   0.2s\n"
     ]
    },
    {
     "name": "stderr",
     "output_type": "stream",
     "text": [
      "[Parallel(n_jobs=20)]: Done   5 out of   5 | elapsed:    1.2s remaining:    0.0s\n"
     ]
    },
    {
     "name": "stdout",
     "output_type": "stream",
     "text": [
      "Iteration 6, loss = 7.72541022\n",
      "[CV] hidden_layer_sizes=(512,) .......................................\n",
      "Iteration 2, loss = 5.14096315\n",
      "Iteration 2, loss = 7.51821592\n",
      "Iteration 1, loss = 6.81290570\n",
      "Iteration 7, loss = 6.44813586\n",
      "Iteration 5, loss = 6.93238110\n",
      "Training loss did not improve more than tol=0.000100 for two consecutive epochs. Stopping.\n",
      "Iteration 2, loss = 5.26060115\n",
      "Iteration 14, loss = 6.35598360\n",
      "Iteration 3, loss = 5.14096268\n",
      "[CV]  hidden_layer_sizes=(256,), score=0.6289222373806276, total=   0.5s\n"
     ]
    },
    {
     "name": "stderr",
     "output_type": "stream",
     "text": [
      "[Parallel(n_jobs=20)]: Done   2 out of   2 | elapsed:    1.3s remaining:    0.0s\n"
     ]
    },
    {
     "name": "stdout",
     "output_type": "stream",
     "text": [
      "[CV] hidden_layer_sizes=(256,) .......................................\n",
      "Iteration 3, loss = 9.45045430\n",
      "Iteration 10, loss = 6.74684023\n",
      "Iteration 3, loss = 7.27609993\n",
      "Iteration 8, loss = 6.72121060\n",
      "Training loss did not improve more than tol=0.000100 for two consecutive epochs. Stopping.\n",
      "Iteration 4, loss = 5.00188367\n",
      "Iteration 4, loss = 7.69014778\n",
      "Iteration 8, loss = 7.48628026\n",
      "[CV]  hidden_layer_sizes=(256,), score=0.7750865051903114, total=   0.5s\n"
     ]
    },
    {
     "name": "stderr",
     "output_type": "stream",
     "text": [
      "[Parallel(n_jobs=20)]: Done   2 out of   2 | elapsed:    1.4s remaining:    0.0s\n"
     ]
    },
    {
     "name": "stdout",
     "output_type": "stream",
     "text": [
      "Iteration 5, loss = 9.30938010\n",
      "[CV] hidden_layer_sizes=(256,) .......................................\n",
      "Iteration 4, loss = 6.84051284\n",
      "Iteration 6, loss = 5.17558457\n",
      "Iteration 15, loss = 6.77618723\n",
      "Iteration 5, loss = 7.18883695\n",
      "Training loss did not improve more than tol=0.000100 for two consecutive epochs. Stopping.\n",
      "Iteration 1, loss = 7.50101950\n",
      "Iteration 7, loss = 7.73330246\n",
      "Training loss did not improve more than tol=0.000100 for two consecutive epochs. Stopping.\n",
      "[CV]  hidden_layer_sizes=(128, 256, 128), score=0.7715355805243446, total=   0.3s\n",
      "Iteration 1, loss = 8.72910232\n"
     ]
    },
    {
     "name": "stderr",
     "output_type": "stream",
     "text": [
      "[Parallel(n_jobs=20)]: Done   7 out of   7 | elapsed:    1.5s remaining:    0.0s\n"
     ]
    },
    {
     "name": "stdout",
     "output_type": "stream",
     "text": [
      "[CV] hidden_layer_sizes=(128, 256, 128) ..............................\n",
      "Iteration 5, loss = 7.38168271\n",
      "[CV]  hidden_layer_sizes=(512,), score=0.7819548872180451, total=   0.2s\n"
     ]
    },
    {
     "name": "stderr",
     "output_type": "stream",
     "text": [
      "[Parallel(n_jobs=20)]: Done   6 out of   6 | elapsed:    1.5s remaining:    0.0s\n"
     ]
    },
    {
     "name": "stdout",
     "output_type": "stream",
     "text": [
      "[CV] hidden_layer_sizes=(128, 256, 128) ..............................\n",
      "Iteration 11, loss = 6.79610673\n",
      "Iteration 16, loss = 6.47850066\n",
      "Iteration 2, loss = 6.18373565\n",
      "Iteration 1, loss = 10.10902286\n",
      "Iteration 6, loss = 6.85495734\n",
      "Iteration 2, loss = 6.82635968\n",
      "Iteration 1, loss = 13.39225392\n",
      "Iteration 9, loss = 6.67406610\n",
      "Iteration 2, loss = 5.14096405\n",
      "Iteration 3, loss = 7.68975601\n",
      "Iteration 7, loss = 6.70570389\n",
      "Iteration 2, loss = 4.62255801\n",
      "Iteration 17, loss = 5.87348099\n",
      "Iteration 12, loss = 6.67172795\n",
      "Iteration 8, loss = 6.49576036\n",
      "Iteration 3, loss = 6.99858392\n",
      "Iteration 9, loss = 7.02381932\n",
      "Iteration 3, loss = 7.23385226\n",
      "Iteration 4, loss = 6.26833200\n",
      "Iteration 3, loss = 4.62255756\n",
      "Iteration 10, loss = 6.51265114\n",
      "Iteration 11, loss = 6.81218615\n",
      "Iteration 4, loss = 7.66411918\n",
      "Training loss did not improve more than tol=0.000100 for two consecutive epochs. Stopping.\n",
      "[CV]  hidden_layer_sizes=(256,), score=0.7344110854503464, total=   0.6s\n"
     ]
    },
    {
     "name": "stderr",
     "output_type": "stream",
     "text": [
      "[Parallel(n_jobs=20)]: Done   3 out of   3 | elapsed:    1.8s remaining:    0.0s\n"
     ]
    },
    {
     "name": "stdout",
     "output_type": "stream",
     "text": [
      "[CV] hidden_layer_sizes=(512,) .......................................\n",
      "Iteration 4, loss = 4.62255704\n",
      "Iteration 5, loss = 6.60641234\n",
      "Training loss did not improve more than tol=0.000100 for two consecutive epochs. Stopping.\n",
      "Iteration 18, loss = 6.26676156\n",
      "Iteration 5, loss = 4.96816096\n",
      "[CV]  hidden_layer_sizes=(256,), score=0.6293302540415704, total=   0.4s\n"
     ]
    },
    {
     "name": "stderr",
     "output_type": "stream",
     "text": [
      "[Parallel(n_jobs=20)]: Done   3 out of   3 | elapsed:    1.8s remaining:    0.0s\n"
     ]
    },
    {
     "name": "stdout",
     "output_type": "stream",
     "text": [
      "Iteration 10, loss = 6.92019379\n",
      "[CV] hidden_layer_sizes=(512,) .......................................\n",
      "Iteration 4, loss = 7.05408015\n",
      "Iteration 1, loss = 7.75881689\n",
      "Iteration 5, loss = 5.09809105\n",
      "Training loss did not improve more than tol=0.000100 for two consecutive epochs. Stopping.\n",
      "Iteration 13, loss = 6.66186530\n",
      "Iteration 1, loss = 7.33221513\n",
      "[CV]  hidden_layer_sizes=(128, 256, 128), score=0.602996254681648, total=   0.4s\n",
      "Iteration 6, loss = 12.05566670\n"
     ]
    },
    {
     "name": "stderr",
     "output_type": "stream",
     "text": [
      "[Parallel(n_jobs=20)]: Done   7 out of   7 | elapsed:    1.9s remaining:    0.0s\n"
     ]
    },
    {
     "name": "stdout",
     "output_type": "stream",
     "text": [
      "[CV] hidden_layer_sizes=(128, 256, 128) ..............................\n",
      "Iteration 2, loss = 7.52734133\n",
      "Iteration 5, loss = 6.36245430\n",
      "Iteration 3, loss = 7.12869003\n",
      "Iteration 6, loss = 6.53675837\n",
      "Iteration 7, loss = 6.59607782\n",
      "Iteration 2, loss = 7.71837996\n",
      "Iteration 19, loss = 6.55549469\n",
      "Iteration 7, loss = 4.89453917\n",
      "Iteration 1, loss = 10.45462166\n",
      "Iteration 8, loss = 6.45569467\n",
      "Training loss did not improve more than tol=0.000100 for two consecutive epochs. Stopping.\n",
      "Iteration 4, loss = 6.44846678\n",
      "[CV]  hidden_layer_sizes=(256,), score=0.6391541609822646, total=   0.7s\n"
     ]
    },
    {
     "name": "stderr",
     "output_type": "stream",
     "text": [
      "[Parallel(n_jobs=20)]: Done   3 out of   3 | elapsed:    2.0s remaining:    0.0s\n"
     ]
    },
    {
     "name": "stdout",
     "output_type": "stream",
     "text": [
      "[CV] hidden_layer_sizes=(512,) .......................................\n",
      "Iteration 8, loss = 5.78401651\n",
      "Iteration 2, loss = 4.62255768\n",
      "Iteration 3, loss = 6.72197018\n",
      "Iteration 14, loss = 6.87912281\n",
      "Iteration 11, loss = 6.45318862\n",
      "Iteration 20, loss = 6.28390250\n",
      "Iteration 9, loss = 6.22140479\n",
      "Iteration 5, loss = 6.61150883\n",
      "Training loss did not improve more than tol=0.000100 for two consecutive epochs. Stopping.\n",
      "Iteration 3, loss = 4.66819078\n",
      "[CV]  hidden_layer_sizes=(256,), score=0.6905248807089298, total=   2.2s\n"
     ]
    },
    {
     "name": "stderr",
     "output_type": "stream",
     "text": [
      "[Parallel(n_jobs=20)]: Done   1 out of   1 | elapsed:    2.2s remaining:    0.0s\n"
     ]
    },
    {
     "name": "stdout",
     "output_type": "stream",
     "text": [
      "[CV] hidden_layer_sizes=(256,) .......................................\n",
      "Iteration 4, loss = 6.92437842\n",
      "Iteration 10, loss = 6.88088779\n",
      "Training loss did not improve more than tol=0.000100 for two consecutive epochs. Stopping.\n",
      "Iteration 4, loss = 8.49803872\n",
      "[CV]  hidden_layer_sizes=(128, 256, 128), score=0.5880149812734082, total=   0.7s\n"
     ]
    },
    {
     "name": "stderr",
     "output_type": "stream",
     "text": [
      "[Parallel(n_jobs=20)]: Done   8 out of   8 | elapsed:    2.3s remaining:    0.0s\n"
     ]
    },
    {
     "name": "stdout",
     "output_type": "stream",
     "text": [
      "[CV] hidden_layer_sizes=(128, 256, 128) ..............................\n",
      "Iteration 6, loss = 6.92505913\n",
      "Iteration 1, loss = 7.44632660\n",
      "Iteration 5, loss = 5.94845354\n",
      "Training loss did not improve more than tol=0.000100 for two consecutive epochs. Stopping.\n",
      "Iteration 12, loss = 6.86725959\n",
      "Iteration 15, loss = 6.60905371\n",
      "[CV]  hidden_layer_sizes=(128, 256, 128), score=0.797752808988764, total=   0.4s\n"
     ]
    },
    {
     "name": "stderr",
     "output_type": "stream",
     "text": [
      "[Parallel(n_jobs=20)]: Done   8 out of   8 | elapsed:    2.3s remaining:    0.0s\n"
     ]
    },
    {
     "name": "stdout",
     "output_type": "stream",
     "text": [
      "[CV] hidden_layer_sizes=(128, 256, 128) ..............................\n",
      "Iteration 5, loss = 6.64700672\n",
      "Iteration 1, loss = 9.78825019\n",
      "Iteration 13, loss = 6.53419720\n",
      "Iteration 1, loss = 7.34117541\n",
      "Iteration 7, loss = 6.65964014\n",
      "Training loss did not improve more than tol=0.000100 for two consecutive epochs. Stopping.\n",
      "Iteration 1, loss = 6.55428175\n",
      "Iteration 2, loss = 5.17445578\n",
      "Iteration 14, loss = 6.44272296\n",
      "[CV]  hidden_layer_sizes=(512,), score=0.7797001153402537, total=   0.6s\n"
     ]
    },
    {
     "name": "stderr",
     "output_type": "stream",
     "text": [
      "[Parallel(n_jobs=20)]: Done   4 out of   4 | elapsed:    2.4s remaining:    0.0s\n"
     ]
    },
    {
     "name": "stdout",
     "output_type": "stream",
     "text": [
      "[CV] hidden_layer_sizes=(512,) .......................................\n",
      "Iteration 6, loss = 7.11090331\n",
      "Iteration 2, loss = 10.26716681\n",
      "Iteration 2, loss = 7.62500096\n",
      "Iteration 3, loss = 4.65701949\n",
      "Iteration 3, loss = 5.60565111\n",
      "Iteration 4, loss = 8.19285182\n",
      "Iteration 5, loss = 8.32225072\n",
      "Iteration 4, loss = 4.65701879\n",
      "Training loss did not improve more than tol=0.000100 for two consecutive epochs. Stopping.\n",
      "[CV]  hidden_layer_sizes=(128, 256, 128), score=0.7706766917293233, total=   0.3s\n",
      "Iteration 5, loss = 9.33512321\n"
     ]
    },
    {
     "name": "stderr",
     "output_type": "stream",
     "text": [
      "[Parallel(n_jobs=20)]: Done   9 out of   9 | elapsed:    2.7s remaining:    0.0s\n",
      "[Parallel(n_jobs=20)]: Done   9 out of   9 | elapsed:    2.7s finished\n"
     ]
    },
    {
     "name": "stdout",
     "output_type": "stream",
     "text": [
      "Iteration 6, loss = 5.00099619\n",
      "Iteration 2, loss = 8.10994366\n",
      "Training loss did not improve more than tol=0.000100 for two consecutive epochs. Stopping.\n",
      "Iteration 1, loss = 16.80888253\n",
      "Iteration 2, loss = 5.35352175\n",
      "Iteration 16, loss = 7.01925820\n",
      "Iteration 7, loss = 7.74223460\n",
      "Iteration 3, loss = 5.15204556\n",
      "Iteration 1, loss = 7.79965450\n",
      "[CV]  hidden_layer_sizes=(128, 256, 128), score=0.793233082706767, total=   0.3s\n"
     ]
    },
    {
     "name": "stderr",
     "output_type": "stream",
     "text": [
      "[Parallel(n_jobs=20)]: Done   9 out of   9 | elapsed:    2.7s remaining:    0.0s\n",
      "[Parallel(n_jobs=20)]: Done   9 out of   9 | elapsed:    2.7s finished\n"
     ]
    },
    {
     "name": "stdout",
     "output_type": "stream",
     "text": [
      "Iteration 4, loss = 5.15204555\n",
      "Iteration 3, loss = 7.14485693\n",
      "Iteration 5, loss = 5.18082786\n",
      "Iteration 4, loss = 7.34993221\n",
      "Iteration 15, loss = 6.25447544\n",
      "Iteration 3, loss = 6.81317540\n",
      "Iteration 5, loss = 6.82764958\n",
      "Iteration 6, loss = 7.25437452\n",
      "Training loss did not improve more than tol=0.000100 for two consecutive epochs. Stopping.\n",
      "Iteration 8, loss = 6.48873863\n",
      "Iteration 2, loss = 6.45928733\n",
      "Iteration 6, loss = 7.10570775\n",
      "Iteration 1, loss = 10.55626236\n",
      "Fitting 3 folds for each of 3 candidates, totalling 9 fits\n"
     ]
    },
    {
     "name": "stderr",
     "output_type": "stream",
     "text": [
      "/Users/gali/anaconda/envs/carnd-term1/lib/python3.5/site-packages/sklearn/externals/joblib/parallel.py:547: UserWarning: Multiprocessing-backed parallel loops cannot be nested, setting n_jobs=1\n",
      "  **self._backend_args)\n"
     ]
    },
    {
     "name": "stdout",
     "output_type": "stream",
     "text": [
      "[CV] hidden_layer_sizes=(256,) .......................................\n",
      "Iteration 7, loss = 6.99185149\n",
      "Iteration 17, loss = 6.86958069\n",
      "Iteration 9, loss = 7.28632164\n",
      "Iteration 3, loss = 7.27339889\n",
      "Iteration 2, loss = 4.63404753\n",
      "Iteration 4, loss = 6.58392924\n",
      "Iteration 8, loss = 6.86623078\n",
      "Training loss did not improve more than tol=0.000100 for two consecutive epochs. Stopping.\n",
      "Iteration 4, loss = 6.46351577\n",
      "Iteration 10, loss = 6.35836173\n",
      "Iteration 16, loss = 6.86466709\n",
      "Iteration 3, loss = 5.57263682\n",
      "[CV]  hidden_layer_sizes=(256,), score=0.7539195637355146, total=   0.7s\n"
     ]
    },
    {
     "name": "stderr",
     "output_type": "stream",
     "text": [
      "[Parallel(n_jobs=20)]: Done   2 out of   2 | elapsed:    3.0s remaining:    0.0s\n"
     ]
    },
    {
     "name": "stdout",
     "output_type": "stream",
     "text": [
      "[CV] hidden_layer_sizes=(256,) .......................................\n",
      "Iteration 1, loss = 7.36590447\n",
      "Iteration 18, loss = 6.99508554\n",
      "Training loss did not improve more than tol=0.000100 for two consecutive epochs. Stopping.\n",
      "Iteration 5, loss = 7.09044310\n",
      "Iteration 11, loss = 7.02205050\n",
      "Training loss did not improve more than tol=0.000100 for two consecutive epochs. Stopping.\n",
      "Iteration 5, loss = 7.33056984\n",
      "[CV]  hidden_layer_sizes=(256,), score=0.6842359767891683, total=   3.0s\n"
     ]
    },
    {
     "name": "stderr",
     "output_type": "stream",
     "text": [
      "[Parallel(n_jobs=20)]: Done   1 out of   1 | elapsed:    3.1s remaining:    0.0s\n"
     ]
    },
    {
     "name": "stdout",
     "output_type": "stream",
     "text": [
      "Iteration 4, loss = 6.62592550\n",
      "[CV]  hidden_layer_sizes=(512,), score=0.6666666666666666, total=   0.6s\n",
      "[CV] hidden_layer_sizes=(256,) .......................................\n"
     ]
    },
    {
     "name": "stderr",
     "output_type": "stream",
     "text": [
      "[Parallel(n_jobs=20)]: Done   5 out of   5 | elapsed:    3.0s remaining:    0.0s\n"
     ]
    },
    {
     "name": "stdout",
     "output_type": "stream",
     "text": [
      "[CV] hidden_layer_sizes=(512,) .......................................\n",
      "Iteration 1, loss = 7.12565682\n",
      "Iteration 12, loss = 7.27433346\n",
      "Iteration 1, loss = 6.48117965\n",
      "Iteration 5, loss = 4.80673956\n",
      "Training loss did not improve more than tol=0.000100 for two consecutive epochs. Stopping.\n",
      "Iteration 1, loss = 8.47151136\n",
      "Iteration 2, loss = 7.22515857\n",
      "Iteration 2, loss = 6.99096673\n",
      "Iteration 6, loss = 6.93289178\n",
      "Iteration 17, loss = 6.87451119\n",
      "Fitting 3 folds for each of 3 candidates, totalling 9 fits\n",
      "Iteration 13, loss = 6.64743531\n"
     ]
    },
    {
     "name": "stderr",
     "output_type": "stream",
     "text": [
      "/Users/gali/anaconda/envs/carnd-term1/lib/python3.5/site-packages/sklearn/externals/joblib/parallel.py:547: UserWarning: Multiprocessing-backed parallel loops cannot be nested, setting n_jobs=1\n",
      "  **self._backend_args)\n"
     ]
    },
    {
     "name": "stdout",
     "output_type": "stream",
     "text": [
      "Training loss did not improve more than tol=0.000100 for two consecutive epochs. Stopping.\n",
      "[CV] hidden_layer_sizes=(256,) .......................................\n",
      "Iteration 2, loss = 6.29445651\n",
      "Iteration 2, loss = 7.88218772\n",
      "[CV]  hidden_layer_sizes=(512,), score=0.7453917050691244, total=   1.5s\n"
     ]
    },
    {
     "name": "stderr",
     "output_type": "stream",
     "text": [
      "[Parallel(n_jobs=20)]: Done   4 out of   4 | elapsed:    3.4s remaining:    0.0s\n"
     ]
    },
    {
     "name": "stdout",
     "output_type": "stream",
     "text": [
      "[CV] hidden_layer_sizes=(512,) .......................................\n",
      "Iteration 7, loss = 6.81867965\n",
      "Training loss did not improve more than tol=0.000100 for two consecutive epochs. Stopping.\n",
      "Iteration 3, loss = 7.46071188\n",
      "Iteration 3, loss = 7.04987759\n",
      "Iteration 3, loss = 7.27999217\n",
      "Iteration 3, loss = 8.28920620\n",
      "Iteration 18, loss = 6.67910581\n",
      "Iteration 1, loss = 8.07185692\n",
      "Training loss did not improve more than tol=0.000100 for two consecutive epochs. Stopping.\n",
      "[CV]  hidden_layer_sizes=(512,), score=0.6566757493188011, total=   1.3s\n"
     ]
    },
    {
     "name": "stderr",
     "output_type": "stream",
     "text": [
      "[Parallel(n_jobs=20)]: Done   4 out of   4 | elapsed:    3.4s remaining:    0.0s\n"
     ]
    },
    {
     "name": "stdout",
     "output_type": "stream",
     "text": [
      "[CV] hidden_layer_sizes=(512,) .......................................\n",
      "Iteration 4, loss = 6.91824257\n",
      "[CV]  hidden_layer_sizes=(256,), score=0.583427071616048, total=   3.4s\n"
     ]
    },
    {
     "name": "stderr",
     "output_type": "stream",
     "text": [
      "[Parallel(n_jobs=20)]: Done   1 out of   1 | elapsed:    3.5s remaining:    0.0s\n"
     ]
    },
    {
     "name": "stdout",
     "output_type": "stream",
     "text": [
      "Iteration 1, loss = 7.78513757\n",
      "[CV] hidden_layer_sizes=(256,) .......................................\n",
      "Iteration 2, loss = 6.53742056\n",
      "Iteration 4, loss = 6.91793949\n",
      "Iteration 4, loss = 7.34970726\n",
      "Training loss did not improve more than tol=0.000100 for two consecutive epochs. Stopping.\n",
      "Iteration 4, loss = 6.89592676\n",
      "Iteration 5, loss = 6.73227763\n",
      "Training loss did not improve more than tol=0.000100 for two consecutive epochs. Stopping.\n",
      "[CV]  hidden_layer_sizes=(256,), score=0.7407912687585266, total=   0.5s\n"
     ]
    },
    {
     "name": "stderr",
     "output_type": "stream",
     "text": [
      "[Parallel(n_jobs=20)]: Done   3 out of   3 | elapsed:    3.6s remaining:    0.0s\n"
     ]
    },
    {
     "name": "stdout",
     "output_type": "stream",
     "text": [
      "[CV] hidden_layer_sizes=(512,) .......................................\n",
      "Iteration 1, loss = 7.13577602\n",
      "Iteration 3, loss = 7.41965284\n",
      "[CV]  hidden_layer_sizes=(512,), score=0.766743648960739, total=   0.5s\n"
     ]
    },
    {
     "name": "stderr",
     "output_type": "stream",
     "text": [
      "[Parallel(n_jobs=20)]: Done   6 out of   6 | elapsed:    3.5s remaining:    0.0s\n"
     ]
    },
    {
     "name": "stdout",
     "output_type": "stream",
     "text": [
      "[CV] hidden_layer_sizes=(128, 256, 128) ..............................\n",
      "Iteration 4, loss = 6.38149728\n",
      "Iteration 5, loss = 7.18536643\n",
      "Iteration 2, loss = 7.13104102\n",
      "Iteration 5, loss = 7.16692171\n",
      "Iteration 1, loss = 7.10974035\n",
      "Iteration 5, loss = 7.32972498\n",
      "Iteration 2, loss = 6.95474275\n",
      "Iteration 1, loss = 6.87157528\n",
      "Iteration 6, loss = 7.02588696\n",
      "Iteration 7, loss = 6.75658811\n",
      "Training loss did not improve more than tol=0.000100 for two consecutive epochs. Stopping.\n",
      "[CV]  hidden_layer_sizes=(512,), score=0.7817551963048499, total=   0.4s\n",
      "Iteration 1, loss = 7.04274345\n"
     ]
    },
    {
     "name": "stderr",
     "output_type": "stream",
     "text": [
      "[Parallel(n_jobs=20)]: Done   5 out of   5 | elapsed:    3.9s remaining:    0.0s\n"
     ]
    },
    {
     "name": "stdout",
     "output_type": "stream",
     "text": [
      "[CV] hidden_layer_sizes=(512,) .......................................\n",
      "Iteration 6, loss = 6.99853604\n",
      "Iteration 3, loss = 6.84847020\n",
      "Iteration 2, loss = 7.33514061\n",
      "Iteration 2, loss = 7.55227812\n",
      "Iteration 6, loss = 7.02510748\n",
      "Iteration 1, loss = 7.34765088\n",
      "Iteration 4, loss = 6.46217636\n",
      "Iteration 3, loss = 7.20634578\n",
      "Iteration 3, loss = 6.90321863\n",
      "Iteration 2, loss = 6.89793249\n",
      "Iteration 5, loss = 6.79684899\n",
      "Iteration 2, loss = 7.23303936\n",
      "Iteration 6, loss = 6.60223355\n",
      "Iteration 3, loss = 6.87592617\n",
      "Iteration 7, loss = 6.81049117\n",
      "Iteration 7, loss = 6.98273276\n",
      "Training loss did not improve more than tol=0.000100 for two consecutive epochs. Stopping.\n",
      "Iteration 3, loss = 6.94324533\n",
      "[CV]  hidden_layer_sizes=(256,), score=0.6974830590513069, total=   1.1s\n"
     ]
    },
    {
     "name": "stderr",
     "output_type": "stream",
     "text": [
      "[Parallel(n_jobs=20)]: Done   2 out of   2 | elapsed:    4.2s remaining:    0.0s\n"
     ]
    },
    {
     "name": "stdout",
     "output_type": "stream",
     "text": [
      "[CV] hidden_layer_sizes=(256,) .......................................\n",
      "Iteration 4, loss = 7.16851166\n",
      "Iteration 4, loss = 7.28415354\n",
      "Iteration 3, loss = 6.72964783\n",
      "Iteration 4, loss = 6.52551960\n",
      "Iteration 7, loss = 6.72024771\n",
      "Iteration 4, loss = 6.97046191\n",
      "Training loss did not improve more than tol=0.000100 for two consecutive epochs. Stopping.\n",
      "Iteration 8, loss = 6.86220061\n",
      "[CV]  hidden_layer_sizes=(512,), score=0.6459754433833561, total=   0.8s\n",
      "Iteration 4, loss = 6.82206384\n"
     ]
    },
    {
     "name": "stderr",
     "output_type": "stream",
     "text": [
      "[Parallel(n_jobs=20)]: Done   5 out of   5 | elapsed:    4.3s remaining:    0.0s\n"
     ]
    },
    {
     "name": "stdout",
     "output_type": "stream",
     "text": [
      "[CV] hidden_layer_sizes=(512,) .......................................\n",
      "Iteration 5, loss = 7.33872692\n",
      "Iteration 1, loss = 7.61177885\n",
      "Iteration 5, loss = 6.89030512\n",
      "Iteration 5, loss = 6.96533058\n",
      "Iteration 5, loss = 6.82660664\n",
      "Iteration 5, loss = 6.63391671\n",
      "Iteration 6, loss = 7.06523917\n",
      "Training loss did not improve more than tol=0.000100 for two consecutive epochs. Stopping.\n",
      "Iteration 6, loss = 7.00113774\n",
      "Training loss did not improve more than tol=0.000100 for two consecutive epochs. Stopping.\n",
      "Iteration 9, loss = 7.05877862\n",
      "[CV]  hidden_layer_sizes=(512,), score=0.710161662817552, total=   0.7s\n"
     ]
    },
    {
     "name": "stderr",
     "output_type": "stream",
     "text": [
      "[Parallel(n_jobs=20)]: Done   6 out of   6 | elapsed:    4.6s remaining:    0.0s\n"
     ]
    },
    {
     "name": "stdout",
     "output_type": "stream",
     "text": [
      "Iteration 1, loss = 7.34275363\n",
      "[CV] hidden_layer_sizes=(128, 256, 128) ..............................\n",
      "[CV]  hidden_layer_sizes=(256,), score=0.7611548556430446, total=   1.0s\n"
     ]
    },
    {
     "name": "stderr",
     "output_type": "stream",
     "text": [
      "[Parallel(n_jobs=20)]: Done   2 out of   2 | elapsed:    4.5s remaining:    0.0s\n"
     ]
    },
    {
     "name": "stdout",
     "output_type": "stream",
     "text": [
      "Iteration 10, loss = 6.83532294\n",
      "Training loss did not improve more than tol=0.000100 for two consecutive epochs. Stopping.\n",
      "Iteration 6, loss = 7.00757790\n",
      "[CV] hidden_layer_sizes=(256,) .......................................\n",
      "[CV]  hidden_layer_sizes=(256,), score=0.7620889748549323, total=   1.8s\n",
      "Iteration 6, loss = 6.65604133\n"
     ]
    },
    {
     "name": "stderr",
     "output_type": "stream",
     "text": [
      "[Parallel(n_jobs=20)]: Done   1 out of   1 | elapsed:    1.8s remaining:    0.0s\n"
     ]
    },
    {
     "name": "stdout",
     "output_type": "stream",
     "text": [
      "[CV] hidden_layer_sizes=(256,) .......................................\n",
      "Iteration 2, loss = 7.07111056\n",
      "Iteration 7, loss = 7.23013279\n",
      "Iteration 6, loss = 6.75817953\n",
      "Iteration 7, loss = 6.86599615\n",
      "Training loss did not improve more than tol=0.000100 for two consecutive epochs. Stopping.\n",
      "Iteration 2, loss = 6.57038132\n",
      "[CV]  hidden_layer_sizes=(512,), score=0.7334696659850034, total=   1.2s\n",
      "Iteration 1, loss = 8.20843211\n"
     ]
    },
    {
     "name": "stderr",
     "output_type": "stream",
     "text": [
      "[Parallel(n_jobs=20)]: Done   4 out of   4 | elapsed:    4.9s remaining:    0.0s\n"
     ]
    },
    {
     "name": "stdout",
     "output_type": "stream",
     "text": [
      "[CV] hidden_layer_sizes=(512,) .......................................\n",
      "Iteration 1, loss = 7.57807737\n",
      "Iteration 3, loss = 7.23517972\n",
      "Iteration 1, loss = 7.73376943\n",
      "Iteration 7, loss = 6.72456507\n",
      "Iteration 1, loss = 7.77150276\n",
      "Iteration 3, loss = 7.42780572\n",
      "Iteration 8, loss = 6.87921336\n",
      "Training loss did not improve more than tol=0.000100 for two consecutive epochs. Stopping.\n",
      "Iteration 2, loss = 6.92625777\n",
      "[CV]  hidden_layer_sizes=(256,), score=0.613798275215598, total=   1.7s\n",
      "Iteration 2, loss = 7.45359659\n"
     ]
    },
    {
     "name": "stderr",
     "output_type": "stream",
     "text": [
      "[Parallel(n_jobs=20)]: Done   1 out of   1 | elapsed:    1.7s remaining:    0.0s\n"
     ]
    },
    {
     "name": "stdout",
     "output_type": "stream",
     "text": [
      "Iteration 4, loss = 7.00923605\n",
      "[CV] hidden_layer_sizes=(256,) .......................................\n",
      "Iteration 2, loss = 6.69979735\n",
      "Iteration 5, loss = 6.85968223\n",
      "Iteration 4, loss = 6.74706723\n",
      "Iteration 8, loss = 6.53387775\n",
      "Iteration 6, loss = 7.08422784\n",
      "Iteration 2, loss = 7.61228218\n",
      "Iteration 7, loss = 7.06716142\n",
      "Iteration 3, loss = 6.87279257\n",
      "Iteration 3, loss = 6.42079152\n",
      "Iteration 3, loss = 6.88624321\n",
      "Iteration 5, loss = 6.51335595\n",
      "Iteration 9, loss = 6.77649130\n",
      "Iteration 1, loss = 8.00508533\n",
      "Iteration 8, loss = 6.99003309\n",
      "Training loss did not improve more than tol=0.000100 for two consecutive epochs. Stopping.\n",
      "Iteration 3, loss = 7.30164772\n",
      "Iteration 4, loss = 6.91439564\n",
      "Iteration 4, loss = 7.98006990\n",
      "[CV]  hidden_layer_sizes=(256,), score=0.6389157792836399, total=   1.1s\n"
     ]
    },
    {
     "name": "stderr",
     "output_type": "stream",
     "text": [
      "[Parallel(n_jobs=20)]: Done   3 out of   3 | elapsed:    5.4s remaining:    0.0s\n"
     ]
    },
    {
     "name": "stdout",
     "output_type": "stream",
     "text": [
      "Iteration 4, loss = 6.79422565\n",
      "Iteration 6, loss = 6.88980683\n",
      "[CV] hidden_layer_sizes=(512,) .......................................\n",
      "Iteration 10, loss = 5.97955687\n",
      "Iteration 5, loss = 7.03150807\n",
      "Iteration 2, loss = 7.26900595\n",
      "Iteration 7, loss = 6.56193635\n",
      "Iteration 5, loss = 7.24279484\n",
      "Training loss did not improve more than tol=0.000100 for two consecutive epochs. Stopping.\n",
      "Iteration 4, loss = 7.04422501\n",
      "Iteration 5, loss = 6.93075419\n",
      "Iteration 1, loss = 7.19576892\n",
      "[CV]  hidden_layer_sizes=(512,), score=0.7566462167689162, total=   0.7s\n"
     ]
    },
    {
     "name": "stderr",
     "output_type": "stream",
     "text": [
      "[Parallel(n_jobs=20)]: Done   5 out of   5 | elapsed:    5.6s remaining:    0.0s\n"
     ]
    },
    {
     "name": "stdout",
     "output_type": "stream",
     "text": [
      "[CV] hidden_layer_sizes=(512,) .......................................\n",
      "Iteration 11, loss = 6.24955499\n",
      "Iteration 6, loss = 6.88343462\n",
      "Iteration 8, loss = 6.64486688\n",
      "Training loss did not improve more than tol=0.000100 for two consecutive epochs. Stopping.\n",
      "Training loss did not improve more than tol=0.000100 for two consecutive epochs. Stopping.\n",
      "Iteration 6, loss = 7.37475290\n",
      "Training loss did not improve more than tol=0.000100 for two consecutive epochs. Stopping.\n",
      "[CV]  hidden_layer_sizes=(256,), score=0.6887705711519845, total=   1.0s\n"
     ]
    },
    {
     "name": "stderr",
     "output_type": "stream",
     "text": [
      "[Parallel(n_jobs=20)]: Done   2 out of   2 | elapsed:    2.8s remaining:    0.0s\n"
     ]
    },
    {
     "name": "stdout",
     "output_type": "stream",
     "text": [
      "[CV]  hidden_layer_sizes=(512,), score=0.7646657571623465, total=   1.3s\n",
      "[CV] hidden_layer_sizes=(256,) .......................................\n"
     ]
    },
    {
     "name": "stderr",
     "output_type": "stream",
     "text": [
      "[Parallel(n_jobs=20)]: Done   6 out of   6 | elapsed:    5.6s remaining:    0.0s\n"
     ]
    },
    {
     "name": "stdout",
     "output_type": "stream",
     "text": [
      "Iteration 3, loss = 7.07417445\n",
      "[CV] hidden_layer_sizes=(128, 256, 128) ..............................\n",
      "[CV]  hidden_layer_sizes=(128, 256, 128), score=0.7626728110599078, total=   1.2s\n"
     ]
    },
    {
     "name": "stderr",
     "output_type": "stream",
     "text": [
      "[Parallel(n_jobs=20)]: Done   7 out of   7 | elapsed:    5.8s remaining:    0.0s\n"
     ]
    },
    {
     "name": "stdout",
     "output_type": "stream",
     "text": [
      "[CV] hidden_layer_sizes=(128, 256, 128) ..............................\n",
      "Iteration 5, loss = 7.14061168\n",
      "Iteration 1, loss = 7.16774418\n",
      "Iteration 12, loss = 6.91143808\n",
      "Iteration 2, loss = 6.97113089\n",
      "Iteration 1, loss = 6.95774970\n",
      "Iteration 13, loss = 6.50270820\n",
      "Training loss did not improve more than tol=0.000100 for two consecutive epochs. Stopping.\n",
      "Iteration 1, loss = 6.97854532\n",
      "[CV]  hidden_layer_sizes=(128, 256, 128), score=0.776239907727797, total=   2.3s\n"
     ]
    },
    {
     "name": "stderr",
     "output_type": "stream",
     "text": [
      "[Parallel(n_jobs=20)]: Done   7 out of   7 | elapsed:    5.9s remaining:    0.0s\n"
     ]
    },
    {
     "name": "stdout",
     "output_type": "stream",
     "text": [
      "Iteration 1, loss = 7.11430292\n",
      "[CV] hidden_layer_sizes=(128, 256, 128) ..............................\n",
      "Iteration 2, loss = 7.40689730\n",
      "Iteration 4, loss = 7.08574496\n",
      "Iteration 6, loss = 7.02765462\n",
      "Iteration 2, loss = 7.67900664\n",
      "Iteration 3, loss = 6.91822845\n",
      "Iteration 2, loss = 7.38583151\n",
      "Iteration 2, loss = 7.48219751\n",
      "Iteration 3, loss = 7.01045397\n",
      "Iteration 1, loss = 6.80111436\n",
      "Iteration 5, loss = 6.91260208\n",
      "Iteration 7, loss = 6.89402101\n",
      "Iteration 3, loss = 7.40141612\n",
      "Iteration 4, loss = 6.68813698\n",
      "Iteration 4, loss = 6.81357280\n",
      "Iteration 3, loss = 7.13680201\n",
      "Iteration 8, loss = 6.83164717\n",
      "Iteration 2, loss = 7.31792011\n",
      "Iteration 9, loss = 6.52372613\n",
      "Iteration 3, loss = 6.53479452\n",
      "Iteration 5, loss = 7.23623283\n",
      "Iteration 6, loss = 6.81778535\n",
      "Iteration 4, loss = 6.57684662\n",
      "Iteration 4, loss = 6.98799790\n",
      "Training loss did not improve more than tol=0.000100 for two consecutive epochs. Stopping.\n",
      "Iteration 10, loss = 6.96715277\n",
      "[CV]  hidden_layer_sizes=(256,), score=0.7366892545982575, total=   0.8s\n",
      "Iteration 5, loss = 7.16219586\n"
     ]
    },
    {
     "name": "stderr",
     "output_type": "stream",
     "text": [
      "[Parallel(n_jobs=20)]: Done   3 out of   3 | elapsed:    3.7s remaining:    0.0s\n"
     ]
    },
    {
     "name": "stdout",
     "output_type": "stream",
     "text": [
      "[CV] hidden_layer_sizes=(512,) .......................................\n",
      "Iteration 7, loss = 6.88276896\n",
      "Iteration 3, loss = 7.00948149\n",
      "Iteration 8, loss = 6.67322321\n",
      "Iteration 6, loss = 6.64286540\n",
      "Iteration 1, loss = 7.59229149\n",
      "Iteration 5, loss = 7.20421152\n",
      "Iteration 9, loss = 6.87311334\n",
      "Iteration 7, loss = 6.77823421\n",
      "Iteration 6, loss = 6.95079618\n",
      "Iteration 4, loss = 6.78969437\n",
      "Iteration 11, loss = 6.86924469\n",
      "Iteration 8, loss = 6.71563113\n",
      "Iteration 4, loss = 6.94242435\n",
      "Training loss did not improve more than tol=0.000100 for two consecutive epochs. Stopping.\n",
      "[CV]  hidden_layer_sizes=(128, 256, 128), score=0.7312572087658593, total=   0.9s\n"
     ]
    },
    {
     "name": "stderr",
     "output_type": "stream",
     "text": [
      "[Parallel(n_jobs=20)]: Done   8 out of   8 | elapsed:    6.9s remaining:    0.0s\n"
     ]
    },
    {
     "name": "stdout",
     "output_type": "stream",
     "text": [
      "[CV] hidden_layer_sizes=(128, 256, 128) ..............................\n",
      "Iteration 9, loss = 6.91463386\n",
      "Training loss did not improve more than tol=0.000100 for two consecutive epochs. Stopping.\n",
      "Iteration 2, loss = 6.99928042\n",
      "Iteration 6, loss = 7.41457635\n",
      "[CV]  hidden_layer_sizes=(512,), score=0.6398362892223738, total=   1.4s\n"
     ]
    },
    {
     "name": "stderr",
     "output_type": "stream",
     "text": [
      "[Parallel(n_jobs=20)]: Done   6 out of   6 | elapsed:    7.1s remaining:    0.0s\n"
     ]
    },
    {
     "name": "stdout",
     "output_type": "stream",
     "text": [
      "Iteration 7, loss = 7.00063701\n",
      "[CV] hidden_layer_sizes=(128, 256, 128) ..............................\n",
      "Training loss did not improve more than tol=0.000100 for two consecutive epochs. Stopping.\n",
      "Iteration 10, loss = 6.88844605\n",
      "[CV]  hidden_layer_sizes=(512,), score=0.7654738878143134, total=   1.7s\n"
     ]
    },
    {
     "name": "stderr",
     "output_type": "stream",
     "text": [
      "[Parallel(n_jobs=20)]: Done   4 out of   4 | elapsed:    7.1s remaining:    0.0s\n"
     ]
    },
    {
     "name": "stdout",
     "output_type": "stream",
     "text": [
      "[CV] hidden_layer_sizes=(512,) .......................................\n",
      "Iteration 12, loss = 6.83417821\n",
      "Training loss did not improve more than tol=0.000100 for two consecutive epochs. Stopping.\n",
      "Iteration 1, loss = 6.62633812\n",
      "[CV]  hidden_layer_sizes=(256,), score=0.5371342835708928, total=   2.6s\n",
      "Iteration 5, loss = 7.33669208\n"
     ]
    },
    {
     "name": "stderr",
     "output_type": "stream",
     "text": [
      "[Parallel(n_jobs=20)]: Done   3 out of   3 | elapsed:    7.2s remaining:    0.0s\n"
     ]
    },
    {
     "name": "stdout",
     "output_type": "stream",
     "text": [
      "[CV] hidden_layer_sizes=(512,) .......................................\n",
      "Iteration 7, loss = 6.77078566\n",
      "Training loss did not improve more than tol=0.000100 for two consecutive epochs. Stopping.\n",
      "Iteration 3, loss = 7.26376074\n",
      "[CV]  hidden_layer_sizes=(128, 256, 128), score=0.6224018475750578, total=   1.5s\n"
     ]
    },
    {
     "name": "stderr",
     "output_type": "stream",
     "text": [
      "[Parallel(n_jobs=20)]: Done   8 out of   8 | elapsed:    7.3s remaining:    0.0s\n"
     ]
    },
    {
     "name": "stdout",
     "output_type": "stream",
     "text": [
      "[CV] hidden_layer_sizes=(128, 256, 128) ..............................\n",
      "Iteration 1, loss = 7.43141856\n",
      "Iteration 11, loss = 7.14336272\n",
      "Training loss did not improve more than tol=0.000100 for two consecutive epochs. Stopping.\n",
      "Iteration 2, loss = 8.19101964\n",
      "Iteration 1, loss = 7.33371000\n",
      "[CV]  hidden_layer_sizes=(256,), score=0.6752905886764154, total=   2.3s\n"
     ]
    },
    {
     "name": "stderr",
     "output_type": "stream",
     "text": [
      "[Parallel(n_jobs=20)]: Done   2 out of   2 | elapsed:    4.1s remaining:    0.0s\n"
     ]
    },
    {
     "name": "stdout",
     "output_type": "stream",
     "text": [
      "[CV] hidden_layer_sizes=(256,) .......................................\n",
      "Iteration 4, loss = 7.17264298\n",
      "Iteration 6, loss = 6.38774126\n",
      "Iteration 1, loss = 6.83843634\n",
      "Iteration 1, loss = 7.34668394\n",
      "Iteration 2, loss = 7.32927125\n",
      "Iteration 3, loss = 7.63975368\n",
      "Iteration 1, loss = 7.82675551\n",
      "Iteration 2, loss = 8.75375244\n",
      "Iteration 5, loss = 6.79238623\n",
      "Iteration 2, loss = 6.93651170\n",
      "Iteration 3, loss = 7.19400682\n",
      "Iteration 4, loss = 6.84599128\n",
      "Training loss did not improve more than tol=0.000100 for two consecutive epochs. Stopping.\n",
      "Iteration 3, loss = 6.63525622\n",
      "[CV]  hidden_layer_sizes=(128, 256, 128), score=0.6720554272517321, total=   0.8s\n",
      "Iteration 2, loss = 6.98922035\n"
     ]
    },
    {
     "name": "stderr",
     "output_type": "stream",
     "text": [
      "[Parallel(n_jobs=20)]: Done   9 out of   9 | elapsed:    7.7s remaining:    0.0s\n",
      "[Parallel(n_jobs=20)]: Done   9 out of   9 | elapsed:    7.7s finished\n"
     ]
    },
    {
     "name": "stdout",
     "output_type": "stream",
     "text": [
      "Iteration 7, loss = 6.75940667\n",
      "Iteration 4, loss = 6.77748445\n",
      "Iteration 1, loss = 7.01827408\n",
      "Iteration 6, loss = 7.52034056\n",
      "Iteration 2, loss = 7.52314715\n",
      "Iteration 2, loss = 7.33966130\n",
      "Iteration 3, loss = 7.13776045\n",
      "Iteration 4, loss = 6.93259543\n",
      "Iteration 8, loss = 6.89456755\n",
      "Iteration 5, loss = 7.12856491\n",
      "Iteration 3, loss = 7.71122859\n",
      "Iteration 3, loss = 7.12809716\n",
      "Iteration 4, loss = 6.14177693\n",
      "Iteration 7, loss = 7.29644938\n",
      "Iteration 3, loss = 7.47478570\n",
      "Iteration 9, loss = 6.04228709\n",
      "Iteration 5, loss = 7.28788366\n",
      "Iteration 6, loss = 7.29369633\n",
      "Training loss did not improve more than tol=0.000100 for two consecutive epochs. Stopping.\n",
      "Iteration 5, loss = 7.00079934\n",
      "[CV]  hidden_layer_sizes=(128, 256, 128), score=0.5727482678983834, total=   1.0s\n"
     ]
    },
    {
     "name": "stderr",
     "output_type": "stream",
     "text": [
      "[Parallel(n_jobs=20)]: Done   9 out of   9 | elapsed:    8.3s remaining:    0.0s\n",
      "[Parallel(n_jobs=20)]: Done   9 out of   9 | elapsed:    8.3s finished\n"
     ]
    },
    {
     "name": "stdout",
     "output_type": "stream",
     "text": [
      "Iteration 4, loss = 7.26385704\n",
      "Iteration 8, loss = 7.08627057\n",
      "Training loss did not improve more than tol=0.000100 for two consecutive epochs. Stopping.\n",
      "Iteration 4, loss = 7.03889316\n",
      "Iteration 6, loss = 6.65583160\n",
      "Iteration 5, loss = 6.86688089\n",
      "Iteration 6, loss = 6.89522360\n",
      "[CV]  hidden_layer_sizes=(512,), score=0.7640232108317214, total=   1.8s\n",
      "Iteration 4, loss = 7.18641378\n"
     ]
    },
    {
     "name": "stderr",
     "output_type": "stream",
     "text": [
      "[Parallel(n_jobs=20)]: Done   4 out of   4 | elapsed:    5.6s remaining:    0.0s\n"
     ]
    },
    {
     "name": "stdout",
     "output_type": "stream",
     "text": [
      "[CV] hidden_layer_sizes=(512,) .......................................\n",
      "Iteration 1, loss = 7.75956408\n",
      "Iteration 1, loss = 7.33457929\n",
      "Iteration 10, loss = 6.37929593\n",
      "Iteration 7, loss = 6.80197323\n",
      "Training loss did not improve more than tol=0.000100 for two consecutive epochs. Stopping.\n",
      "Iteration 5, loss = 7.20679053\n",
      "Fitting 3 folds for each of 3 candidates, totalling 9 fits\n"
     ]
    },
    {
     "name": "stderr",
     "output_type": "stream",
     "text": [
      "/Users/gali/anaconda/envs/carnd-term1/lib/python3.5/site-packages/sklearn/externals/joblib/parallel.py:547: UserWarning: Multiprocessing-backed parallel loops cannot be nested, setting n_jobs=1\n",
      "  **self._backend_args)\n"
     ]
    },
    {
     "name": "stdout",
     "output_type": "stream",
     "text": [
      "[CV] hidden_layer_sizes=(256,) .......................................\n",
      "Iteration 6, loss = 7.14707219\n",
      "Iteration 2, loss = 7.59187596\n",
      "Iteration 1, loss = 9.18355083\n",
      "Iteration 7, loss = 7.04490151\n",
      "Iteration 6, loss = 6.76148501\n",
      "Iteration 2, loss = 7.56017654\n",
      "Iteration 7, loss = 7.27233227\n",
      "Iteration 2, loss = 7.16034015\n",
      "Iteration 3, loss = 5.44327194\n",
      "Iteration 5, loss = 7.01926651\n",
      "Training loss did not improve more than tol=0.000100 for two consecutive epochs. Stopping.\n",
      "Iteration 4, loss = 7.07811063\n",
      "Iteration 3, loss = 6.62498790\n",
      "[CV]  hidden_layer_sizes=(128, 256, 128), score=0.7627811860940695, total=   1.8s\n"
     ]
    },
    {
     "name": "stderr",
     "output_type": "stream",
     "text": [
      "[Parallel(n_jobs=20)]: Done   7 out of   7 | elapsed:    8.9s remaining:    0.0s\n"
     ]
    },
    {
     "name": "stdout",
     "output_type": "stream",
     "text": [
      "Iteration 5, loss = 8.46786306\n",
      "[CV] hidden_layer_sizes=(128, 256, 128) ..............................\n",
      "Iteration 6, loss = 8.02675253\n",
      "Training loss did not improve more than tol=0.000100 for two consecutive epochs. Stopping.\n",
      "[CV]  hidden_layer_sizes=(256,), score=0.7265917602996255, total=   0.3s\n"
     ]
    },
    {
     "name": "stderr",
     "output_type": "stream",
     "text": [
      "[Parallel(n_jobs=20)]: Done   1 out of   1 | elapsed:    0.3s remaining:    0.0s\n"
     ]
    },
    {
     "name": "stdout",
     "output_type": "stream",
     "text": [
      "[CV] hidden_layer_sizes=(256,) .......................................\n",
      "Iteration 8, loss = 6.92084194\n",
      "Iteration 1, loss = 15.97462756\n",
      "Iteration 11, loss = 6.51630644\n",
      "Iteration 2, loss = 9.63371815\n",
      "Iteration 4, loss = 6.84942800\n",
      "Iteration 3, loss = 5.48647270\n",
      "Iteration 9, loss = 6.69141721\n",
      "Iteration 8, loss = 6.88482930\n",
      "Iteration 3, loss = 7.18498254\n",
      "Iteration 7, loss = 6.79648703\n",
      "Iteration 4, loss = 5.40007174\n",
      "Iteration 1, loss = 7.66419499\n",
      "Iteration 5, loss = 5.48647266\n",
      "Iteration 6, loss = 6.04807875\n",
      "Iteration 10, loss = 6.61150966\n",
      "Iteration 5, loss = 6.76031932\n",
      "Iteration 7, loss = 8.18564382\n",
      "Training loss did not improve more than tol=0.000100 for two consecutive epochs. Stopping.\n",
      "[CV]  hidden_layer_sizes=(256,), score=0.6217228464419475, total=   0.3s\n"
     ]
    },
    {
     "name": "stderr",
     "output_type": "stream",
     "text": [
      "[Parallel(n_jobs=20)]: Done   2 out of   2 | elapsed:    0.6s remaining:    0.0s\n"
     ]
    },
    {
     "name": "stdout",
     "output_type": "stream",
     "text": [
      "[CV] hidden_layer_sizes=(256,) .......................................\n",
      "Iteration 1, loss = 5.56243753\n",
      "Iteration 2, loss = 11.31599065\n",
      "Iteration 4, loss = 7.40367841\n",
      "Iteration 3, loss = 10.17704702\n",
      "Iteration 6, loss = 7.15256739\n",
      "Training loss did not improve more than tol=0.000100 for two consecutive epochs. Stopping.\n",
      "Iteration 9, loss = 7.14594924\n",
      "Iteration 4, loss = 6.38170932\n",
      "Iteration 12, loss = 6.25967670\n",
      "Training loss did not improve more than tol=0.000100 for two consecutive epochs. Stopping.\n",
      "Training loss did not improve more than tol=0.000100 for two consecutive epochs. Stopping.\n",
      "[CV]  hidden_layer_sizes=(256,), score=0.7593984962406015, total=   0.1s\n"
     ]
    },
    {
     "name": "stderr",
     "output_type": "stream",
     "text": [
      "[Parallel(n_jobs=20)]: Done   3 out of   3 | elapsed:    0.7s remaining:    0.0s\n"
     ]
    },
    {
     "name": "stdout",
     "output_type": "stream",
     "text": [
      "[CV] hidden_layer_sizes=(512,) .......................................\n",
      "Iteration 8, loss = 6.90556155\n",
      "Fitting 3 folds for each of 3 candidates, totalling 9 fits\n",
      "Iteration 11, loss = 6.57719992\n"
     ]
    },
    {
     "name": "stderr",
     "output_type": "stream",
     "text": [
      "/Users/gali/anaconda/envs/carnd-term1/lib/python3.5/site-packages/sklearn/externals/joblib/parallel.py:547: UserWarning: Multiprocessing-backed parallel loops cannot be nested, setting n_jobs=1\n",
      "  **self._backend_args)\n"
     ]
    },
    {
     "name": "stdout",
     "output_type": "stream",
     "text": [
      "[CV]  hidden_layer_sizes=(128, 256, 128), score=0.7254768392370572, total=   3.7s\n",
      "[CV] hidden_layer_sizes=(256,) .......................................\n",
      "Iteration 1, loss = 8.23711256\n"
     ]
    },
    {
     "name": "stderr",
     "output_type": "stream",
     "text": [
      "[Parallel(n_jobs=20)]: Done   7 out of   7 | elapsed:    9.4s remaining:    0.0s\n"
     ]
    },
    {
     "name": "stdout",
     "output_type": "stream",
     "text": [
      "[CV] hidden_layer_sizes=(128, 256, 128) ..............................\n",
      "Iteration 2, loss = 5.66919725\n",
      "Iteration 2, loss = 7.41237968\n",
      "Iteration 3, loss = 13.03486832\n",
      "Iteration 1, loss = 7.00546796\n",
      "Iteration 4, loss = 5.51137627\n",
      "Iteration 5, loss = 7.00532960\n",
      "Iteration 10, loss = 6.83102111\n",
      "Iteration 5, loss = 5.61974057\n",
      "Iteration 2, loss = 7.33746145\n",
      "Iteration 6, loss = 7.69746330\n",
      "Iteration 12, loss = 6.42461111\n",
      "Iteration 3, loss = 7.52078013\n",
      "Iteration 7, loss = 6.07769066\n",
      "Training loss did not improve more than tol=0.000100 for two consecutive epochs. Stopping.\n",
      "Iteration 4, loss = 7.16700434\n",
      "Training loss did not improve more than tol=0.000100 for two consecutive epochs. Stopping.\n",
      "[CV]  hidden_layer_sizes=(512,), score=0.48314606741573035, total=   0.3s\n",
      "Iteration 9, loss = 6.96993075\n"
     ]
    },
    {
     "name": "stderr",
     "output_type": "stream",
     "text": [
      "[Parallel(n_jobs=20)]: Done   4 out of   4 | elapsed:    1.0s remaining:    0.0s\n"
     ]
    },
    {
     "name": "stdout",
     "output_type": "stream",
     "text": [
      "Training loss did not improve more than tol=0.000100 for two consecutive epochs. Stopping.\n",
      "[CV] hidden_layer_sizes=(512,) .......................................\n",
      "[CV]  hidden_layer_sizes=(256,), score=0.6009227220299884, total=   0.2s\n"
     ]
    },
    {
     "name": "stderr",
     "output_type": "stream",
     "text": [
      "[Parallel(n_jobs=20)]: Done   1 out of   1 | elapsed:    0.3s remaining:    0.0s\n"
     ]
    },
    {
     "name": "stdout",
     "output_type": "stream",
     "text": [
      "[CV] hidden_layer_sizes=(256,) .......................................\n",
      "Iteration 1, loss = 8.66294040\n",
      "Iteration 1, loss = 14.86097534\n",
      "[CV]  hidden_layer_sizes=(512,), score=0.6651668541432321, total=   2.5s\n",
      "Iteration 2, loss = 6.41238135\n"
     ]
    },
    {
     "name": "stderr",
     "output_type": "stream",
     "text": [
      "[Parallel(n_jobs=20)]: Done   4 out of   4 | elapsed:    9.8s remaining:    0.0s\n"
     ]
    },
    {
     "name": "stdout",
     "output_type": "stream",
     "text": [
      "[CV] hidden_layer_sizes=(512,) .......................................\n",
      "Iteration 2, loss = 5.44327277\n",
      "Iteration 6, loss = 6.95839692\n",
      "Iteration 3, loss = 5.40007230\n",
      "Iteration 1, loss = 6.84352471\n",
      "Iteration 4, loss = 5.40007230\n",
      "Iteration 5, loss = 6.22088124\n",
      "Iteration 11, loss = 6.80467628\n",
      "Iteration 3, loss = 7.55187150\n",
      "Iteration 6, loss = 8.14840093\n",
      "Training loss did not improve more than tol=0.000100 for two consecutive epochs. Stopping.\n",
      "[CV]  hidden_layer_sizes=(512,), score=0.6554307116104869, total=   0.2s\n"
     ]
    },
    {
     "name": "stderr",
     "output_type": "stream",
     "text": [
      "[Parallel(n_jobs=20)]: Done   5 out of   5 | elapsed:    1.2s remaining:    0.0s\n"
     ]
    },
    {
     "name": "stdout",
     "output_type": "stream",
     "text": [
      "Iteration 3, loss = 7.07143894\n",
      "[CV] hidden_layer_sizes=(512,) .......................................\n",
      "Iteration 1, loss = 8.80493685\n",
      "Iteration 2, loss = 5.47619914\n",
      "Iteration 13, loss = 6.86765208\n",
      "Iteration 2, loss = 7.52036500\n",
      "Iteration 3, loss = 7.47956179\n",
      "Iteration 4, loss = 11.39585002\n",
      "Iteration 4, loss = 8.35720257\n",
      "Iteration 5, loss = 5.63231852\n",
      "Training loss did not improve more than tol=0.000100 for two consecutive epochs. Stopping.\n",
      "Iteration 7, loss = 7.03180407\n",
      "[CV]  hidden_layer_sizes=(512,), score=0.7631578947368421, total=   0.2s\n"
     ]
    },
    {
     "name": "stderr",
     "output_type": "stream",
     "text": [
      "[Parallel(n_jobs=20)]: Done   6 out of   6 | elapsed:    1.4s remaining:    0.0s\n"
     ]
    },
    {
     "name": "stdout",
     "output_type": "stream",
     "text": [
      "Iteration 5, loss = 7.34706326\n",
      "[CV] hidden_layer_sizes=(128, 256, 128) ..............................\n",
      "Training loss did not improve more than tol=0.000100 for two consecutive epochs. Stopping.\n",
      "[CV]  hidden_layer_sizes=(256,), score=0.7301038062283737, total=   0.4s\n"
     ]
    },
    {
     "name": "stderr",
     "output_type": "stream",
     "text": [
      "[Parallel(n_jobs=20)]: Done   2 out of   2 | elapsed:    0.7s remaining:    0.0s\n"
     ]
    },
    {
     "name": "stdout",
     "output_type": "stream",
     "text": [
      "Iteration 12, loss = 6.58006633\n",
      "[CV] hidden_layer_sizes=(256,) .......................................\n",
      "Iteration 1, loss = 7.66320694\n",
      "Iteration 14, loss = 7.09711334\n",
      "Iteration 3, loss = 7.74483300\n",
      "Iteration 1, loss = 10.02261700\n",
      "Iteration 4, loss = 6.82898581\n",
      "Iteration 1, loss = 9.28588460\n",
      "Iteration 2, loss = 5.40016625\n",
      "Iteration 8, loss = 6.39747091\n",
      "Iteration 2, loss = 6.70360069\n",
      "Iteration 2, loss = 5.55064929\n",
      "Iteration 3, loss = 5.52976712\n",
      "Iteration 13, loss = 6.93149572\n",
      "Iteration 15, loss = 6.37212167\n",
      "Iteration 3, loss = 8.76785420\n",
      "Iteration 4, loss = 13.51321132\n",
      "Iteration 3, loss = 6.83165608\n",
      "Iteration 9, loss = 7.03400736\n",
      "Iteration 4, loss = 5.64361139\n",
      "Iteration 5, loss = 5.47721191\n",
      "Training loss did not improve more than tol=0.000100 for two consecutive epochs. Stopping.\n",
      "[CV]  hidden_layer_sizes=(128, 256, 128), score=0.7640449438202247, total=   0.4s\n"
     ]
    },
    {
     "name": "stderr",
     "output_type": "stream",
     "text": [
      "[Parallel(n_jobs=20)]: Done   7 out of   7 | elapsed:    1.9s remaining:    0.0s\n"
     ]
    },
    {
     "name": "stdout",
     "output_type": "stream",
     "text": [
      "Iteration 4, loss = 6.48306324\n",
      "[CV] hidden_layer_sizes=(128, 256, 128) ..............................\n",
      "Iteration 10, loss = 6.79334858\n",
      "Iteration 5, loss = 6.58970069\n",
      "Iteration 5, loss = 7.93191640\n",
      "Training loss did not improve more than tol=0.000100 for two consecutive epochs. Stopping.\n",
      "[CV]  hidden_layer_sizes=(256,), score=0.7321016166281755, total=   0.5s\n"
     ]
    },
    {
     "name": "stderr",
     "output_type": "stream",
     "text": [
      "[Parallel(n_jobs=20)]: Done   3 out of   3 | elapsed:    1.2s remaining:    0.0s\n"
     ]
    },
    {
     "name": "stdout",
     "output_type": "stream",
     "text": [
      "[CV] hidden_layer_sizes=(512,) .......................................\n",
      "Iteration 14, loss = 6.56012003\n",
      "Iteration 1, loss = 13.27283280\n",
      "Iteration 16, loss = 6.72909537\n",
      "Iteration 15, loss = 7.14384092\n",
      "Iteration 2, loss = 5.44336714\n",
      "Iteration 1, loss = 7.66392576\n",
      "Iteration 4, loss = 6.99682295\n",
      "Iteration 11, loss = 6.78315842\n",
      "Training loss did not improve more than tol=0.000100 for two consecutive epochs. Stopping.\n",
      "Iteration 16, loss = 6.80448221\n",
      "Iteration 3, loss = 5.40016630\n",
      "Iteration 2, loss = 8.79757221\n",
      "[CV]  hidden_layer_sizes=(512,), score=0.6737657308809293, total=   2.4s\n",
      "Iteration 6, loss = 7.16263400\n"
     ]
    },
    {
     "name": "stderr",
     "output_type": "stream",
     "text": [
      "[Parallel(n_jobs=20)]: Done   5 out of   5 | elapsed:    8.1s remaining:    0.0s\n"
     ]
    },
    {
     "name": "stdout",
     "output_type": "stream",
     "text": [
      "[CV] hidden_layer_sizes=(512,) .......................................\n",
      "Iteration 4, loss = 5.72563092\n",
      "Iteration 17, loss = 6.60115618\n",
      "Iteration 5, loss = 7.33205657\n",
      "Iteration 18, loss = 6.92755603\n",
      "Iteration 3, loss = 7.27775792\n",
      "Training loss did not improve more than tol=0.000100 for two consecutive epochs. Stopping.\n",
      "Iteration 5, loss = 7.21458519\n",
      "Iteration 7, loss = 6.36019991\n",
      "Iteration 6, loss = 7.23323658\n",
      "Training loss did not improve more than tol=0.000100 for two consecutive epochs. Stopping.\n",
      "[CV]  hidden_layer_sizes=(512,), score=0.7013552758954501, total=   4.0s\n"
     ]
    },
    {
     "name": "stderr",
     "output_type": "stream",
     "text": [
      "[Parallel(n_jobs=20)]: Done   5 out of   5 | elapsed:   11.2s remaining:    0.0s\n"
     ]
    },
    {
     "name": "stdout",
     "output_type": "stream",
     "text": [
      "Iteration 4, loss = 6.91526655\n",
      "[CV]  hidden_layer_sizes=(128, 256, 128), score=0.5543071161048689, total=   0.6s\n"
     ]
    },
    {
     "name": "stderr",
     "output_type": "stream",
     "text": [
      "[Parallel(n_jobs=20)]: Done   8 out of   8 | elapsed:    2.5s remaining:    0.0s\n"
     ]
    },
    {
     "name": "stdout",
     "output_type": "stream",
     "text": [
      "[CV] hidden_layer_sizes=(512,) .......................................\n",
      "Iteration 17, loss = 6.87730943\n",
      "[CV] hidden_layer_sizes=(128, 256, 128) ..............................\n",
      "Training loss did not improve more than tol=0.000100 for two consecutive epochs. Stopping.\n",
      "Iteration 5, loss = 6.87043163\n",
      "Training loss did not improve more than tol=0.000100 for two consecutive epochs. Stopping.\n",
      "[CV]  hidden_layer_sizes=(256,), score=0.5971492873218305, total=   3.8s\n"
     ]
    },
    {
     "name": "stderr",
     "output_type": "stream",
     "text": [
      "[Parallel(n_jobs=20)]: Done   3 out of   3 | elapsed:    8.0s remaining:    0.0s\n"
     ]
    },
    {
     "name": "stdout",
     "output_type": "stream",
     "text": [
      "[CV] hidden_layer_sizes=(512,) .......................................\n",
      "Iteration 1, loss = 14.83324046\n",
      "Iteration 1, loss = 7.42850775\n",
      "Iteration 5, loss = 6.91886662\n",
      "[CV]  hidden_layer_sizes=(512,), score=0.7112860892388452, total=   1.4s\n",
      "Iteration 2, loss = 5.43317368\n"
     ]
    },
    {
     "name": "stderr",
     "output_type": "stream",
     "text": [
      "[Parallel(n_jobs=20)]: Done   5 out of   5 | elapsed:   11.3s remaining:    0.0s\n"
     ]
    },
    {
     "name": "stdout",
     "output_type": "stream",
     "text": [
      "[CV] hidden_layer_sizes=(512,) .......................................\n",
      "Iteration 6, loss = 6.82850730\n",
      "Iteration 3, loss = 5.43317321\n",
      "Iteration 6, loss = 6.86039134\n",
      "Iteration 1, loss = 7.98513313\n",
      "Iteration 4, loss = 5.43317267\n",
      "Iteration 7, loss = 7.52348269\n",
      "Iteration 8, loss = 6.43749162\n",
      "Iteration 2, loss = 7.38281410\n",
      "Iteration 5, loss = 6.81299835\n",
      "Training loss did not improve more than tol=0.000100 for two consecutive epochs. Stopping.\n",
      "Iteration 1, loss = 7.59806695\n",
      "[CV] .... hidden_layer_sizes=(128, 256, 128), score=0.5, total=   0.3s\n"
     ]
    },
    {
     "name": "stderr",
     "output_type": "stream",
     "text": [
      "[Parallel(n_jobs=20)]: Done   9 out of   9 | elapsed:    2.9s remaining:    0.0s\n"
     ]
    },
    {
     "name": "stdout",
     "output_type": "stream",
     "text": [
      "Iteration 8, loss = 6.79212049\n"
     ]
    },
    {
     "name": "stderr",
     "output_type": "stream",
     "text": [
      "[Parallel(n_jobs=20)]: Done   9 out of   9 | elapsed:    2.9s finished\n"
     ]
    },
    {
     "name": "stdout",
     "output_type": "stream",
     "text": [
      "Iteration 1, loss = 9.22292118\n",
      "Iteration 1, loss = 7.53640964\n",
      "Iteration 9, loss = 6.68189019\n",
      "Iteration 2, loss = 7.03159389\n",
      "Iteration 2, loss = 8.53068981\n",
      "Iteration 10, loss = 6.65868002\n",
      "Iteration 11, loss = 7.04033454\n",
      "Iteration 3, loss = 7.82880084\n",
      "Iteration 3, loss = 7.01434451\n",
      "Iteration 7, loss = 6.15222575\n",
      "Iteration 12, loss = 6.53861376\n",
      "Iteration 4, loss = 9.09043325\n",
      "Iteration 13, loss = 6.10966320\n",
      "Iteration 5, loss = 7.72753757\n",
      "Iteration 6, loss = 7.53554519\n",
      "Iteration 7, loss = 6.92084218\n",
      "Iteration 9, loss = 6.68533272\n",
      "Iteration 8, loss = 6.40431033\n",
      "Iteration 2, loss = 7.18689463\n",
      "Iteration 9, loss = 6.92119337\n",
      "Iteration 10, loss = 7.64417341\n",
      "Iteration 11, loss = 6.21617554\n",
      "Iteration 14, loss = 7.30123755\n",
      "Iteration 12, loss = 7.18463666\n",
      "Iteration 3, loss = 7.17115192\n",
      "Iteration 13, loss = 7.19336313\n",
      "Iteration 14, loss = 5.99400612\n",
      "Iteration 8, loss = 6.82259847\n",
      "Iteration 2, loss = 7.16729097\n",
      "Iteration 4, loss = 6.71822632\n",
      "Iteration 15, loss = 6.65600771\n",
      "Iteration 15, loss = 7.50836517\n",
      "Iteration 16, loss = 7.55265953\n",
      "Iteration 17, loss = 7.32082817\n",
      "Training loss did not improve more than tol=0.000100 for two consecutive epochs. Stopping.\n",
      "Iteration 16, loss = 6.72106450\n",
      "Iteration 9, loss = 6.42488334\n",
      "Training loss did not improve more than tol=0.000100 for two consecutive epochs. Stopping.\n",
      "Iteration 4, loss = 6.71833999\n",
      "Fitting 3 folds for each of 3 candidates, totalling 9 fits\n"
     ]
    },
    {
     "name": "stderr",
     "output_type": "stream",
     "text": [
      "/Users/gali/anaconda/envs/carnd-term1/lib/python3.5/site-packages/sklearn/externals/joblib/parallel.py:547: UserWarning: Multiprocessing-backed parallel loops cannot be nested, setting n_jobs=1\n",
      "  **self._backend_args)\n"
     ]
    },
    {
     "name": "stdout",
     "output_type": "stream",
     "text": [
      "Iteration 3, loss = 7.10004904\n",
      "[CV] hidden_layer_sizes=(256,) .......................................\n",
      "[CV]  hidden_layer_sizes=(512,), score=0.7554786620530565, total=   1.5s\n"
     ]
    },
    {
     "name": "stderr",
     "output_type": "stream",
     "text": [
      "[Parallel(n_jobs=20)]: Done   4 out of   4 | elapsed:    2.8s remaining:    0.0s\n"
     ]
    },
    {
     "name": "stdout",
     "output_type": "stream",
     "text": [
      "Iteration 5, loss = 6.98777065\n",
      "[CV] hidden_layer_sizes=(512,) .......................................\n",
      "Iteration 10, loss = 6.73932788\n",
      "Training loss did not improve more than tol=0.000100 for two consecutive epochs. Stopping.\n",
      "Iteration 3, loss = 7.14792025\n",
      "[CV]  hidden_layer_sizes=(128, 256, 128), score=0.7682344921608726, total=   3.3s\n"
     ]
    },
    {
     "name": "stderr",
     "output_type": "stream",
     "text": [
      "[Parallel(n_jobs=20)]: Done   8 out of   8 | elapsed:   12.3s remaining:    0.0s\n"
     ]
    },
    {
     "name": "stdout",
     "output_type": "stream",
     "text": [
      "[CV] hidden_layer_sizes=(128, 256, 128) ..............................\n",
      "Iteration 1, loss = 7.66051588\n",
      "Iteration 4, loss = 6.88169272\n",
      "Iteration 1, loss = 7.18410231\n",
      "Iteration 5, loss = 6.74349362\n",
      "Iteration 2, loss = 7.40087918\n",
      "Iteration 6, loss = 7.11829598\n",
      "Iteration 4, loss = 7.15903179\n",
      "Iteration 2, loss = 7.82281446\n",
      "Iteration 7, loss = 6.94341950\n",
      "Iteration 10, loss = 6.23140096\n",
      "Training loss did not improve more than tol=0.000100 for two consecutive epochs. Stopping.\n",
      "Training loss did not improve more than tol=0.000100 for two consecutive epochs. Stopping.\n",
      "Iteration 3, loss = 7.41418379\n",
      "Iteration 5, loss = 6.94364439\n",
      "[CV]  hidden_layer_sizes=(128, 256, 128), score=0.5995907230559345, total=   3.2s\n",
      "[CV]  hidden_layer_sizes=(512,), score=0.6974830590513069, total=   1.7s\n"
     ]
    },
    {
     "name": "stderr",
     "output_type": "stream",
     "text": [
      "[Parallel(n_jobs=20)]: Done   6 out of   6 | elapsed:    9.8s remaining:    0.0s\n"
     ]
    },
    {
     "name": "stdout",
     "output_type": "stream",
     "text": [
      "[CV] hidden_layer_sizes=(128, 256, 128) ..............................\n"
     ]
    },
    {
     "name": "stderr",
     "output_type": "stream",
     "text": [
      "[Parallel(n_jobs=20)]: Done   8 out of   8 | elapsed:   12.6s remaining:    0.0s\n"
     ]
    },
    {
     "name": "stdout",
     "output_type": "stream",
     "text": [
      "[CV] hidden_layer_sizes=(128, 256, 128) ..............................\n",
      "Iteration 6, loss = 6.73809256\n",
      "Iteration 1, loss = 7.80700584\n",
      "Iteration 4, loss = 8.07951864\n",
      "Iteration 3, loss = 6.82490563\n",
      "Iteration 5, loss = 7.18533528\n",
      "Iteration 5, loss = 6.60308386\n",
      "Iteration 6, loss = 7.11230408\n",
      "Training loss did not improve more than tol=0.000100 for two consecutive epochs. Stopping.\n",
      "Iteration 4, loss = 7.00955421\n",
      "Iteration 6, loss = 7.64520653\n",
      "Iteration 7, loss = 6.44856694\n",
      "[CV]  hidden_layer_sizes=(512,), score=0.44169478815148105, total=   1.6s\n"
     ]
    },
    {
     "name": "stderr",
     "output_type": "stream",
     "text": [
      "[Parallel(n_jobs=20)]: Done   4 out of   4 | elapsed:    9.7s remaining:    0.0s\n"
     ]
    },
    {
     "name": "stdout",
     "output_type": "stream",
     "text": [
      "Iteration 6, loss = 6.99682720\n",
      "Iteration 2, loss = 6.96827813\n",
      "[CV] hidden_layer_sizes=(512,) .......................................\n",
      "Iteration 8, loss = 6.73612143\n",
      "Iteration 5, loss = 6.78868739\n",
      "Iteration 7, loss = 6.81093190\n",
      "Iteration 1, loss = 6.85810944\n",
      "Iteration 3, loss = 7.33123168\n",
      "Iteration 9, loss = 6.85177201\n",
      "Iteration 8, loss = 7.17597076\n",
      "Training loss did not improve more than tol=0.000100 for two consecutive epochs. Stopping.\n",
      "Iteration 6, loss = 6.85542211\n",
      "[CV]  hidden_layer_sizes=(512,), score=0.6551326412918108, total=   1.0s\n"
     ]
    },
    {
     "name": "stderr",
     "output_type": "stream",
     "text": [
      "[Parallel(n_jobs=20)]: Done   5 out of   5 | elapsed:    3.8s remaining:    0.0s\n"
     ]
    },
    {
     "name": "stdout",
     "output_type": "stream",
     "text": [
      "[CV] hidden_layer_sizes=(512,) .......................................\n",
      "Iteration 1, loss = 7.42077547\n",
      "Iteration 7, loss = 7.08479367\n",
      "Training loss did not improve more than tol=0.000100 for two consecutive epochs. Stopping.\n",
      "Iteration 1, loss = 7.45789484\n",
      "Iteration 7, loss = 6.85262315\n",
      "Iteration 1, loss = 8.40280604\n",
      "Iteration 10, loss = 6.62808075\n",
      "Training loss did not improve more than tol=0.000100 for two consecutive epochs. Stopping.\n",
      "[CV]  hidden_layer_sizes=(512,), score=0.6755438859714928, total=   2.0s\n"
     ]
    },
    {
     "name": "stderr",
     "output_type": "stream",
     "text": [
      "[Parallel(n_jobs=20)]: Done   6 out of   6 | elapsed:   13.4s remaining:    0.0s\n"
     ]
    },
    {
     "name": "stdout",
     "output_type": "stream",
     "text": [
      "[CV] hidden_layer_sizes=(128, 256, 128) ..............................\n",
      "Iteration 2, loss = 7.18784270\n",
      "Iteration 2, loss = 7.53141877\n",
      "Iteration 8, loss = 6.90871526\n",
      "Training loss did not improve more than tol=0.000100 for two consecutive epochs. Stopping.\n",
      "[CV]  hidden_layer_sizes=(512,), score=0.7400774443368828, total=   2.2s\n",
      "Iteration 4, loss = 6.76612558\n"
     ]
    },
    {
     "name": "stderr",
     "output_type": "stream",
     "text": [
      "[Parallel(n_jobs=20)]: Done   6 out of   6 | elapsed:   13.5s remaining:    0.0s\n"
     ]
    },
    {
     "name": "stdout",
     "output_type": "stream",
     "text": [
      "[CV] hidden_layer_sizes=(128, 256, 128) ..............................\n",
      "[CV]  hidden_layer_sizes=(256,), score=0.6335149863760218, total=   1.3s\n"
     ]
    },
    {
     "name": "stderr",
     "output_type": "stream",
     "text": [
      "[Parallel(n_jobs=20)]: Done   1 out of   1 | elapsed:    1.3s remaining:    0.0s\n"
     ]
    },
    {
     "name": "stdout",
     "output_type": "stream",
     "text": [
      "[CV] hidden_layer_sizes=(256,) .......................................\n",
      "Iteration 3, loss = 7.50870356\n",
      "Iteration 4, loss = 7.65896835\n",
      "Iteration 2, loss = 7.18489795\n",
      "Iteration 5, loss = 7.10578686\n",
      "Iteration 1, loss = 7.53262481\n",
      "Iteration 6, loss = 7.28709371\n",
      "Iteration 2, loss = 7.18292001\n",
      "Iteration 7, loss = 7.20633483\n",
      "Iteration 2, loss = 7.17677808\n",
      "Iteration 3, loss = 6.65823982\n",
      "Iteration 3, loss = 7.69493262\n",
      "Iteration 8, loss = 7.49518797\n",
      "Iteration 4, loss = 7.31176136\n",
      "Training loss did not improve more than tol=0.000100 for two consecutive epochs. Stopping.\n",
      "Iteration 5, loss = 6.75013316\n",
      "[CV]  hidden_layer_sizes=(512,), score=0.7205542725173211, total=   0.6s\n"
     ]
    },
    {
     "name": "stderr",
     "output_type": "stream",
     "text": [
      "[Parallel(n_jobs=20)]: Done   6 out of   6 | elapsed:    4.5s remaining:    0.0s\n"
     ]
    },
    {
     "name": "stdout",
     "output_type": "stream",
     "text": [
      "Iteration 5, loss = 7.14975967\n",
      "[CV] hidden_layer_sizes=(128, 256, 128) ..............................\n",
      "Iteration 4, loss = 6.96617813\n",
      "Iteration 6, loss = 7.13958901\n",
      "Iteration 3, loss = 6.89724200\n",
      "Iteration 1, loss = 7.50382536\n",
      "Iteration 7, loss = 7.35023829\n",
      "Iteration 1, loss = 7.41040770\n",
      "Iteration 1, loss = 6.73645606\n",
      "Iteration 5, loss = 6.34213169\n",
      "Iteration 6, loss = 6.62462468\n",
      "Iteration 3, loss = 6.98696158\n",
      "Iteration 8, loss = 6.92219593\n",
      "Iteration 4, loss = 7.31137804\n",
      "Iteration 2, loss = 8.89814769\n",
      "Iteration 2, loss = 7.28751236\n",
      "Iteration 9, loss = 6.93573552\n",
      "Iteration 6, loss = 6.69138020\n",
      "Iteration 2, loss = 7.27638244\n",
      "Iteration 4, loss = 7.34784236\n",
      "Iteration 3, loss = 7.75999915\n",
      "Iteration 10, loss = 6.94778906\n",
      "Iteration 7, loss = 6.53744100\n",
      "Iteration 5, loss = 7.26676337\n",
      "Iteration 11, loss = 6.40154767\n",
      "Iteration 4, loss = 7.32779682\n",
      "Training loss did not improve more than tol=0.000100 for two consecutive epochs. Stopping.\n",
      "Iteration 6, loss = 7.07513433\n",
      "Training loss did not improve more than tol=0.000100 for two consecutive epochs. Stopping.\n",
      "[CV]  hidden_layer_sizes=(128, 256, 128), score=0.6228373702422145, total=   0.8s\n"
     ]
    },
    {
     "name": "stderr",
     "output_type": "stream",
     "text": [
      "[Parallel(n_jobs=20)]: Done   7 out of   7 | elapsed:    5.4s remaining:    0.0s\n"
     ]
    },
    {
     "name": "stdout",
     "output_type": "stream",
     "text": [
      "[CV] hidden_layer_sizes=(128, 256, 128) ..............................\n",
      "Iteration 12, loss = 6.71308555\n",
      "Iteration 7, loss = 6.16786305\n",
      "Iteration 5, loss = 7.42702019\n",
      "[CV]  hidden_layer_sizes=(512,), score=0.6314210723659542, total=   1.8s\n"
     ]
    },
    {
     "name": "stderr",
     "output_type": "stream",
     "text": [
      "[Parallel(n_jobs=20)]: Done   5 out of   5 | elapsed:   11.6s remaining:    0.0s\n"
     ]
    },
    {
     "name": "stdout",
     "output_type": "stream",
     "text": [
      "[CV] hidden_layer_sizes=(512,) .......................................\n",
      "Iteration 8, loss = 6.68427919\n",
      "Iteration 13, loss = 7.17729305\n",
      "Iteration 3, loss = 6.97951825\n",
      "Iteration 3, loss = 6.73010586\n",
      "Iteration 9, loss = 7.01092885\n",
      "Iteration 1, loss = 7.94589451\n",
      "Iteration 14, loss = 6.65734053\n",
      "Training loss did not improve more than tol=0.000100 for two consecutive epochs. Stopping.\n",
      "Iteration 1, loss = 7.69979517\n",
      "[CV]  hidden_layer_sizes=(256,), score=0.7100954979536153, total=   1.7s\n"
     ]
    },
    {
     "name": "stderr",
     "output_type": "stream",
     "text": [
      "[Parallel(n_jobs=20)]: Done   2 out of   2 | elapsed:    3.0s remaining:    0.0s\n"
     ]
    },
    {
     "name": "stdout",
     "output_type": "stream",
     "text": [
      "[CV] hidden_layer_sizes=(256,) .......................................\n",
      "Iteration 4, loss = 6.95193794\n",
      "Iteration 10, loss = 6.76276540\n",
      "Iteration 8, loss = 6.97124431\n",
      "Training loss did not improve more than tol=0.000100 for two consecutive epochs. Stopping.\n",
      "Iteration 2, loss = 7.76611268\n",
      "[CV]  hidden_layer_sizes=(128, 256, 128), score=0.6282401091405184, total=   3.0s\n",
      "Iteration 1, loss = 7.11433599\n"
     ]
    },
    {
     "name": "stderr",
     "output_type": "stream",
     "text": [
      "[Parallel(n_jobs=20)]: Done   9 out of   9 | elapsed:   15.4s remaining:    0.0s\n",
      "[Parallel(n_jobs=20)]: Done   9 out of   9 | elapsed:   15.4s finished\n"
     ]
    },
    {
     "name": "stdout",
     "output_type": "stream",
     "text": [
      "Iteration 6, loss = 6.77659056\n",
      "Iteration 3, loss = 7.19077107\n",
      "Iteration 2, loss = 7.89224687\n",
      "Iteration 2, loss = 7.34665373\n",
      "Iteration 9, loss = 6.17612736\n",
      "Iteration 1, loss = 7.48773433\n",
      "Iteration 3, loss = 6.97751528\n",
      "Iteration 4, loss = 7.10140109\n",
      "Iteration 4, loss = 7.18739144\n",
      "Iteration 5, loss = 7.02067959\n",
      "Iteration 5, loss = 7.49411088\n",
      "Iteration 4, loss = 6.97597935\n",
      "Iteration 2, loss = 7.29750746\n",
      "Iteration 3, loss = 6.87669565\n",
      "Iteration 6, loss = 7.14911382\n",
      "Iteration 5, loss = 7.05293986\n",
      "Iteration 7, loss = 6.61230638\n",
      "Iteration 6, loss = 7.17412999\n",
      "Iteration 7, loss = 7.11381745\n",
      "Iteration 10, loss = 6.39672136\n",
      "Training loss did not improve more than tol=0.000100 for two consecutive epochs. Stopping.\n",
      "Training loss did not improve more than tol=0.000100 for two consecutive epochs. Stopping.\n",
      "[CV]  hidden_layer_sizes=(256,), score=0.5982264665757162, total=   0.7s\n"
     ]
    },
    {
     "name": "stderr",
     "output_type": "stream",
     "text": [
      "[Parallel(n_jobs=20)]: Done   3 out of   3 | elapsed:    3.8s remaining:    0.0s\n"
     ]
    },
    {
     "name": "stdout",
     "output_type": "stream",
     "text": [
      "[CV]  hidden_layer_sizes=(128, 256, 128), score=0.7551159618008185, total=   3.2s\n",
      "[CV] hidden_layer_sizes=(512,) .......................................\n"
     ]
    },
    {
     "name": "stderr",
     "output_type": "stream",
     "text": [
      "[Parallel(n_jobs=20)]: Done   9 out of   9 | elapsed:   15.9s remaining:    0.0s\n",
      "[Parallel(n_jobs=20)]: Done   9 out of   9 | elapsed:   15.9s finished\n"
     ]
    },
    {
     "name": "stdout",
     "output_type": "stream",
     "text": [
      "Iteration 3, loss = 7.32022778\n",
      "Iteration 7, loss = 7.44080397\n",
      "Iteration 4, loss = 7.24322858\n",
      "Iteration 1, loss = 7.54645190\n",
      "Iteration 6, loss = 6.84702761\n",
      "Iteration 4, loss = 7.26398298\n",
      "Iteration 5, loss = 6.86673493\n",
      "Iteration 8, loss = 7.34578978\n",
      "Iteration 2, loss = 7.57611802\n",
      "Iteration 8, loss = 6.64940410\n",
      "Iteration 1, loss = 7.80104669\n",
      "Iteration 5, loss = 6.84650202\n",
      "Iteration 5, loss = 7.14232143\n",
      "Iteration 3, loss = 7.00028310\n",
      "Iteration 9, loss = 7.55798510\n",
      "Training loss did not improve more than tol=0.000100 for two consecutive epochs. Stopping.\n",
      "[CV]  hidden_layer_sizes=(128, 256, 128), score=0.7612456747404844, total=   1.7s\n",
      "Iteration 6, loss = 6.87276186\n"
     ]
    },
    {
     "name": "stderr",
     "output_type": "stream",
     "text": [
      "[Parallel(n_jobs=20)]: Done   8 out of   8 | elapsed:    7.1s remaining:    0.0s\n"
     ]
    },
    {
     "name": "stdout",
     "output_type": "stream",
     "text": [
      "Training loss did not improve more than tol=0.000100 for two consecutive epochs. Stopping.\n",
      "[CV] hidden_layer_sizes=(128, 256, 128) ..............................\n",
      "Iteration 9, loss = 6.84641635\n",
      "Iteration 6, loss = 6.97316841\n",
      "Iteration 4, loss = 6.86276700\n",
      "[CV]  hidden_layer_sizes=(128, 256, 128), score=0.5496812898387702, total=   3.2s\n"
     ]
    },
    {
     "name": "stderr",
     "output_type": "stream",
     "text": [
      "[Parallel(n_jobs=20)]: Done   7 out of   7 | elapsed:   16.7s remaining:    0.0s\n"
     ]
    },
    {
     "name": "stdout",
     "output_type": "stream",
     "text": [
      "Iteration 7, loss = 6.78654613\n",
      "[CV] hidden_layer_sizes=(128, 256, 128) ..............................\n",
      "Iteration 6, loss = 7.19112776\n",
      "Iteration 1, loss = 7.31482728\n",
      "Iteration 5, loss = 6.68505756\n",
      "Iteration 7, loss = 6.84148485\n",
      "Iteration 2, loss = 6.61653396\n",
      "Iteration 7, loss = 6.92618109\n",
      "Iteration 6, loss = 6.60935885\n",
      "Iteration 2, loss = 7.29223113\n",
      "Iteration 10, loss = 6.62577915\n",
      "Training loss did not improve more than tol=0.000100 for two consecutive epochs. Stopping.\n",
      "Iteration 8, loss = 7.05826283\n",
      "Training loss did not improve more than tol=0.000100 for two consecutive epochs. Stopping.\n",
      "Iteration 8, loss = 6.97490885\n",
      "Iteration 8, loss = 6.67141966\n",
      "[CV]  hidden_layer_sizes=(128, 256, 128), score=0.6382978723404256, total=   4.3s\n"
     ]
    },
    {
     "name": "stderr",
     "output_type": "stream",
     "text": [
      "[Parallel(n_jobs=20)]: Done   7 out of   7 | elapsed:   14.2s remaining:    0.0s\n"
     ]
    },
    {
     "name": "stdout",
     "output_type": "stream",
     "text": [
      "[CV]  hidden_layer_sizes=(512,), score=0.7633158289572393, total=   2.1s\n",
      "Iteration 9, loss = 7.08385730\n",
      "[CV] hidden_layer_sizes=(128, 256, 128) ..............................\n"
     ]
    },
    {
     "name": "stderr",
     "output_type": "stream",
     "text": [
      "[Parallel(n_jobs=20)]: Done   6 out of   6 | elapsed:   13.8s remaining:    0.0s\n"
     ]
    },
    {
     "name": "stdout",
     "output_type": "stream",
     "text": [
      "[CV] hidden_layer_sizes=(128, 256, 128) ..............................\n",
      "Iteration 10, loss = 7.11988619\n",
      "Training loss did not improve more than tol=0.000100 for two consecutive epochs. Stopping.\n",
      "Iteration 7, loss = 6.50343573\n",
      "Fitting 3 folds for each of 3 candidates, totalling 9 fits\n"
     ]
    },
    {
     "name": "stderr",
     "output_type": "stream",
     "text": [
      "/Users/gali/anaconda/envs/carnd-term1/lib/python3.5/site-packages/sklearn/externals/joblib/parallel.py:547: UserWarning: Multiprocessing-backed parallel loops cannot be nested, setting n_jobs=1\n",
      "  **self._backend_args)\n"
     ]
    },
    {
     "name": "stdout",
     "output_type": "stream",
     "text": [
      "[CV] hidden_layer_sizes=(256,) .......................................\n",
      "Iteration 3, loss = 7.47627802\n",
      "Iteration 8, loss = 7.07898602\n",
      "Iteration 1, loss = 7.34573099\n",
      "Iteration 3, loss = 6.92529053\n",
      "Iteration 9, loss = 6.75394279\n",
      "Iteration 4, loss = 6.78271927\n",
      "Iteration 1, loss = 7.49105558\n",
      "Iteration 9, loss = 7.01284754\n",
      "Iteration 1, loss = 7.41070689\n",
      "Iteration 2, loss = 7.29524823\n",
      "Iteration 5, loss = 7.70095791\n",
      "Iteration 10, loss = 6.69299087\n",
      "Training loss did not improve more than tol=0.000100 for two consecutive epochs. Stopping.\n",
      "Iteration 6, loss = 7.33198843\n",
      "Iteration 1, loss = 7.38856578\n",
      "[CV]  hidden_layer_sizes=(512,), score=0.5708446866485014, total=   1.7s\n"
     ]
    },
    {
     "name": "stderr",
     "output_type": "stream",
     "text": [
      "[Parallel(n_jobs=20)]: Done   4 out of   4 | elapsed:    5.5s remaining:    0.0s\n"
     ]
    },
    {
     "name": "stdout",
     "output_type": "stream",
     "text": [
      "[CV] hidden_layer_sizes=(512,) .......................................\n",
      "Iteration 7, loss = 7.68191075\n",
      "Training loss did not improve more than tol=0.000100 for two consecutive epochs. Stopping.\n",
      "[CV]  hidden_layer_sizes=(128, 256, 128), score=0.7586605080831409, total=   1.2s\n"
     ]
    },
    {
     "name": "stderr",
     "output_type": "stream",
     "text": [
      "[Parallel(n_jobs=20)]: Done   9 out of   9 | elapsed:    8.4s remaining:    0.0s\n",
      "[Parallel(n_jobs=20)]: Done   9 out of   9 | elapsed:    8.4s finished\n"
     ]
    },
    {
     "name": "stdout",
     "output_type": "stream",
     "text": [
      "Iteration 3, loss = 7.36087131\n",
      "Iteration 1, loss = 8.09437186\n",
      "Iteration 4, loss = 6.95282634\n",
      "Iteration 10, loss = 7.30654183\n",
      "Iteration 2, loss = 7.05502169\n",
      "Iteration 2, loss = 7.00493814\n",
      "Iteration 5, loss = 6.83283864\n",
      "Training loss did not improve more than tol=0.000100 for two consecutive epochs. Stopping.\n",
      "Iteration 4, loss = 6.96252408\n",
      "Iteration 3, loss = 7.35475958\n",
      "Iteration 2, loss = 7.26086397\n",
      "Fitting 3 folds for each of 3 candidates, totalling 9 fits\n",
      "Iteration 1, loss = 7.58373269\n"
     ]
    },
    {
     "name": "stderr",
     "output_type": "stream",
     "text": [
      "/Users/gali/anaconda/envs/carnd-term1/lib/python3.5/site-packages/sklearn/externals/joblib/parallel.py:547: UserWarning: Multiprocessing-backed parallel loops cannot be nested, setting n_jobs=1\n",
      "  **self._backend_args)\n"
     ]
    },
    {
     "name": "stdout",
     "output_type": "stream",
     "text": [
      "[CV] hidden_layer_sizes=(256,) .......................................\n",
      "Iteration 5, loss = 6.76585085\n",
      "Iteration 4, loss = 7.17981612\n",
      "Iteration 2, loss = 7.46321538\n",
      "Iteration 3, loss = 7.17535226\n",
      "Iteration 11, loss = 6.66546085\n",
      "Iteration 6, loss = 7.14759602\n",
      "Iteration 5, loss = 6.90279490\n",
      "Iteration 1, loss = 7.71207959\n",
      "Iteration 2, loss = 7.98911782\n",
      "Iteration 3, loss = 7.31429854\n",
      "Iteration 6, loss = 7.34803030\n",
      "Iteration 7, loss = 6.93173675\n",
      "Iteration 4, loss = 6.91827533\n",
      "Iteration 2, loss = 7.34517023\n",
      "Iteration 7, loss = 7.81260596\n",
      "Iteration 8, loss = 7.19156840\n",
      "Training loss did not improve more than tol=0.000100 for two consecutive epochs. Stopping.\n",
      "Iteration 3, loss = 7.50305837\n",
      "[CV]  hidden_layer_sizes=(256,), score=0.6434446057087566, total=   1.5s\n"
     ]
    },
    {
     "name": "stderr",
     "output_type": "stream",
     "text": [
      "[Parallel(n_jobs=20)]: Done   1 out of   1 | elapsed:    1.5s remaining:    0.0s\n"
     ]
    },
    {
     "name": "stdout",
     "output_type": "stream",
     "text": [
      "[CV] hidden_layer_sizes=(256,) .......................................\n",
      "Iteration 12, loss = 6.88693213\n",
      "Iteration 4, loss = 6.68624330\n",
      "Iteration 8, loss = 6.76949499\n",
      "Iteration 3, loss = 7.20091604\n",
      "Iteration 3, loss = 7.11998180\n",
      "Iteration 1, loss = 7.50761702\n",
      "Iteration 4, loss = 7.18882429\n",
      "Iteration 9, loss = 6.65414087\n",
      "Iteration 13, loss = 6.22492769\n",
      "Iteration 2, loss = 7.23929779\n",
      "Iteration 5, loss = 6.94952747\n",
      "Iteration 3, loss = 7.23344268\n",
      "Iteration 4, loss = 7.42092288\n",
      "Iteration 4, loss = 7.12735937\n",
      "Iteration 10, loss = 6.97341003\n",
      "Iteration 4, loss = 7.12360613\n",
      "Iteration 5, loss = 7.06064012\n",
      "Iteration 5, loss = 7.42344332\n",
      "Iteration 11, loss = 6.64202390\n",
      "Iteration 14, loss = 6.56063953\n",
      "Iteration 5, loss = 7.08281210\n",
      "Iteration 5, loss = 7.03898595\n",
      "Iteration 6, loss = 7.27199394\n",
      "Iteration 12, loss = 6.56404509\n",
      "Iteration 6, loss = 7.17474920\n",
      "Iteration 6, loss = 7.01145742\n",
      "Iteration 6, loss = 7.22723667\n",
      "Iteration 13, loss = 6.77726937\n",
      "Iteration 7, loss = 6.77910781\n",
      "Iteration 7, loss = 6.74773980\n",
      "Iteration 5, loss = 7.02303403\n",
      "Iteration 15, loss = 6.31435746\n",
      "Iteration 14, loss = 6.86829097\n",
      "Iteration 8, loss = 7.39891639\n",
      "Iteration 15, loss = 6.64682401\n",
      "Iteration 7, loss = 7.02568533\n",
      "Training loss did not improve more than tol=0.000100 for two consecutive epochs. Stopping.\n",
      "Iteration 8, loss = 7.14433283\n",
      "[CV]  hidden_layer_sizes=(512,), score=0.6186903137789904, total=   2.1s\n"
     ]
    },
    {
     "name": "stderr",
     "output_type": "stream",
     "text": [
      "[Parallel(n_jobs=20)]: Done   5 out of   5 | elapsed:    7.7s remaining:    0.0s\n"
     ]
    },
    {
     "name": "stdout",
     "output_type": "stream",
     "text": [
      "[CV] hidden_layer_sizes=(512,) .......................................\n",
      "Iteration 8, loss = 7.20106318\n",
      "Iteration 6, loss = 6.70556421\n",
      "Iteration 9, loss = 7.08597265\n",
      "Iteration 7, loss = 6.63902609\n",
      "Iteration 9, loss = 7.48383988\n",
      "Iteration 1, loss = 7.49883585\n",
      "Iteration 9, loss = 7.04540174\n",
      "Iteration 10, loss = 7.04135699\n",
      "Training loss did not improve more than tol=0.000100 for two consecutive epochs. Stopping.\n",
      "[CV]  hidden_layer_sizes=(256,), score=0.7514992503748126, total=   2.0s\n"
     ]
    },
    {
     "name": "stderr",
     "output_type": "stream",
     "text": [
      "[Parallel(n_jobs=20)]: Done   1 out of   1 | elapsed:    2.1s remaining:    0.0s\n"
     ]
    },
    {
     "name": "stdout",
     "output_type": "stream",
     "text": [
      "Iteration 10, loss = 6.76882894\n",
      "[CV] hidden_layer_sizes=(256,) .......................................\n",
      "Iteration 16, loss = 6.19004003\n",
      "Iteration 2, loss = 7.16788421\n",
      "Iteration 7, loss = 6.91654236\n",
      "Training loss did not improve more than tol=0.000100 for two consecutive epochs. Stopping.\n",
      "Iteration 6, loss = 6.91260003\n",
      "Iteration 3, loss = 7.79976336\n",
      "Iteration 8, loss = 6.32406581\n",
      "Iteration 10, loss = 7.33374668\n",
      "Training loss did not improve more than tol=0.000100 for two consecutive epochs. Stopping.\n",
      "Iteration 11, loss = 6.89195219\n",
      "[CV]  hidden_layer_sizes=(128, 256, 128), score=0.6974128233970753, total=   3.7s\n"
     ]
    },
    {
     "name": "stderr",
     "output_type": "stream",
     "text": [
      "[Parallel(n_jobs=20)]: Done   8 out of   8 | elapsed:   20.5s remaining:    0.0s\n"
     ]
    },
    {
     "name": "stdout",
     "output_type": "stream",
     "text": [
      "[CV] hidden_layer_sizes=(128, 256, 128) ..............................\n",
      "Iteration 1, loss = 7.55124791\n",
      "Iteration 4, loss = 7.07703754\n",
      "Iteration 12, loss = 6.50580028\n",
      "Iteration 9, loss = 6.74634443\n",
      "Iteration 17, loss = 6.60042039\n",
      "Iteration 5, loss = 7.02323903\n",
      "Iteration 2, loss = 7.48210718\n",
      "Iteration 13, loss = 6.44694945\n",
      "Iteration 7, loss = 6.81266213\n",
      "Iteration 6, loss = 6.76190402\n",
      "Iteration 18, loss = 6.17518389\n",
      "Iteration 14, loss = 6.54638031\n",
      "Iteration 3, loss = 6.87063942\n",
      "Iteration 15, loss = 6.80921606\n",
      "Iteration 16, loss = 6.84829321\n",
      "Training loss did not improve more than tol=0.000100 for two consecutive epochs. Stopping.\n",
      "[CV]  hidden_layer_sizes=(256,), score=0.7663280116110305, total=   2.4s\n",
      "Iteration 7, loss = 7.12804281\n"
     ]
    },
    {
     "name": "stderr",
     "output_type": "stream",
     "text": [
      "[Parallel(n_jobs=20)]: Done   2 out of   2 | elapsed:    4.0s remaining:    0.0s\n"
     ]
    },
    {
     "name": "stdout",
     "output_type": "stream",
     "text": [
      "[CV] hidden_layer_sizes=(256,) .......................................\n",
      "Iteration 1, loss = 7.12001564\n",
      "Iteration 1, loss = 8.03176748\n",
      "Iteration 10, loss = 6.46391087\n",
      "Iteration 8, loss = 6.98431864\n",
      "Iteration 4, loss = 7.01692232\n",
      "Iteration 2, loss = 7.55962766\n",
      "Iteration 8, loss = 7.04077926\n",
      "Iteration 9, loss = 7.10215561\n",
      "Iteration 19, loss = 6.51538366\n",
      "Training loss did not improve more than tol=0.000100 for two consecutive epochs. Stopping.\n",
      "Iteration 5, loss = 6.85851081\n",
      "[CV]  hidden_layer_sizes=(512,), score=0.621418826739427, total=   1.6s\n"
     ]
    },
    {
     "name": "stderr",
     "output_type": "stream",
     "text": [
      "[Parallel(n_jobs=20)]: Done   6 out of   6 | elapsed:    9.4s remaining:    0.0s\n"
     ]
    },
    {
     "name": "stdout",
     "output_type": "stream",
     "text": [
      "Iteration 3, loss = 7.53648344\n",
      "[CV] hidden_layer_sizes=(128, 256, 128) ..............................\n",
      "Iteration 11, loss = 6.71771851\n",
      "Training loss did not improve more than tol=0.000100 for two consecutive epochs. Stopping.\n",
      "Iteration 4, loss = 7.11824160\n",
      "[CV]  hidden_layer_sizes=(128, 256, 128), score=0.5784123910939013, total=   4.6s\n"
     ]
    },
    {
     "name": "stderr",
     "output_type": "stream",
     "text": [
      "[Parallel(n_jobs=20)]: Done   8 out of   8 | elapsed:   18.9s remaining:    0.0s\n"
     ]
    },
    {
     "name": "stdout",
     "output_type": "stream",
     "text": [
      "[CV] hidden_layer_sizes=(128, 256, 128) ..............................\n",
      "Iteration 6, loss = 6.75776722\n",
      "Iteration 2, loss = 7.16661865\n",
      "Iteration 1, loss = 8.04520174\n",
      "Iteration 7, loss = 6.97372989\n",
      "Iteration 8, loss = 6.79863908\n",
      "Iteration 20, loss = 6.42721686\n",
      "Iteration 9, loss = 7.01291885\n",
      "Training loss did not improve more than tol=0.000100 for two consecutive epochs. Stopping.\n",
      "Iteration 5, loss = 7.04339908\n",
      "Iteration 9, loss = 6.49432620\n",
      "Iteration 2, loss = 7.05905625\n",
      "[CV]  hidden_layer_sizes=(256,), score=0.7494373593398349, total=   1.8s\n"
     ]
    },
    {
     "name": "stderr",
     "output_type": "stream",
     "text": [
      "[Parallel(n_jobs=20)]: Done   2 out of   2 | elapsed:    4.0s remaining:    0.0s\n"
     ]
    },
    {
     "name": "stdout",
     "output_type": "stream",
     "text": [
      "[CV] hidden_layer_sizes=(256,) .......................................\n",
      "Iteration 6, loss = 7.12447820\n",
      "Iteration 3, loss = 6.81742829\n",
      "Iteration 1, loss = 7.59061141\n",
      "Iteration 1, loss = 7.24256134\n",
      "Iteration 7, loss = 6.94837389\n",
      "Iteration 3, loss = 6.87037230\n",
      "Iteration 21, loss = 6.60085679\n",
      "Training loss did not improve more than tol=0.000100 for two consecutive epochs. Stopping.\n",
      "Iteration 2, loss = 6.85831581\n",
      "[CV]  hidden_layer_sizes=(128, 256, 128), score=0.7591876208897486, total=   9.0s\n"
     ]
    },
    {
     "name": "stderr",
     "output_type": "stream",
     "text": [
      "[Parallel(n_jobs=20)]: Done   7 out of   7 | elapsed:   22.6s remaining:    0.0s\n"
     ]
    },
    {
     "name": "stdout",
     "output_type": "stream",
     "text": [
      "[CV] hidden_layer_sizes=(128, 256, 128) ..............................\n",
      "Iteration 8, loss = 7.17596912\n",
      "Iteration 2, loss = 7.00576253\n",
      "Iteration 10, loss = 7.00887376\n",
      "Iteration 4, loss = 6.99568086\n",
      "Iteration 4, loss = 6.96186669\n",
      "Iteration 9, loss = 6.95776826\n",
      "Iteration 3, loss = 6.88608153\n",
      "Iteration 3, loss = 7.11724300\n",
      "Iteration 10, loss = 6.91676602\n",
      "Iteration 1, loss = 7.25089780\n",
      "Iteration 4, loss = 7.39273705\n",
      "Iteration 5, loss = 7.26855515\n",
      "Iteration 11, loss = 7.23920438\n",
      "Iteration 11, loss = 7.25023758\n",
      "Iteration 12, loss = 6.89944792\n",
      "Iteration 2, loss = 7.15219891\n",
      "Iteration 13, loss = 6.76050305\n",
      "Iteration 14, loss = 6.94265963\n",
      "Iteration 5, loss = 6.96482229\n",
      "Iteration 15, loss = 6.81319281\n",
      "Iteration 5, loss = 7.19615186\n",
      "Iteration 16, loss = 6.83760564\n",
      "Training loss did not improve more than tol=0.000100 for two consecutive epochs. Stopping.\n",
      "Iteration 4, loss = 6.83322376\n",
      "Iteration 6, loss = 6.82773982\n",
      "[CV]  hidden_layer_sizes=(256,), score=0.7429816069699903, total=   2.1s\n"
     ]
    },
    {
     "name": "stderr",
     "output_type": "stream",
     "text": [
      "[Parallel(n_jobs=20)]: Done   3 out of   3 | elapsed:    6.2s remaining:    0.0s\n"
     ]
    },
    {
     "name": "stdout",
     "output_type": "stream",
     "text": [
      "[CV] hidden_layer_sizes=(512,) .......................................\n",
      "Iteration 12, loss = 6.36141562\n",
      "Iteration 6, loss = 7.35925308\n",
      "Training loss did not improve more than tol=0.000100 for two consecutive epochs. Stopping.\n",
      "[CV]  hidden_layer_sizes=(256,), score=0.7595648912228057, total=   1.4s\n"
     ]
    },
    {
     "name": "stderr",
     "output_type": "stream",
     "text": [
      "[Parallel(n_jobs=20)]: Done   3 out of   3 | elapsed:    5.4s remaining:    0.0s\n"
     ]
    },
    {
     "name": "stdout",
     "output_type": "stream",
     "text": [
      "[CV] hidden_layer_sizes=(512,) .......................................\n",
      "Iteration 1, loss = 7.67824889\n",
      "Iteration 3, loss = 6.92619351\n",
      "Iteration 7, loss = 6.71326315\n",
      "Iteration 5, loss = 7.01158798\n",
      "Iteration 6, loss = 7.21124636\n",
      "Training loss did not improve more than tol=0.000100 for two consecutive epochs. Stopping.\n",
      "Iteration 2, loss = 7.23562146\n",
      "Iteration 8, loss = 6.96823018\n",
      "Iteration 1, loss = 7.48870765\n",
      "[CV]  hidden_layer_sizes=(128, 256, 128), score=0.6571642910727682, total=   3.3s\n"
     ]
    },
    {
     "name": "stderr",
     "output_type": "stream",
     "text": [
      "[Parallel(n_jobs=20)]: Done   9 out of   9 | elapsed:   23.9s remaining:    0.0s\n",
      "[Parallel(n_jobs=20)]: Done   9 out of   9 | elapsed:   23.9s finished\n"
     ]
    },
    {
     "name": "stdout",
     "output_type": "stream",
     "text": [
      "Iteration 2, loss = 7.03584770\n",
      "Iteration 3, loss = 6.95480321\n",
      "Iteration 9, loss = 6.66221404\n",
      "Iteration 3, loss = 7.54213397\n",
      "Iteration 13, loss = 6.84811299\n",
      "Iteration 4, loss = 6.58205728\n",
      "Iteration 6, loss = 7.02917482\n",
      "Iteration 4, loss = 7.22938826\n",
      "Iteration 1, loss = 7.33748107\n",
      "Iteration 4, loss = 7.33965110\n",
      "Iteration 10, loss = 7.08851446\n",
      "Iteration 2, loss = 7.15064726\n",
      "Iteration 5, loss = 6.98437873\n",
      "Iteration 7, loss = 7.00983191\n",
      "Training loss did not improve more than tol=0.000100 for two consecutive epochs. Stopping.\n",
      "Iteration 5, loss = 7.08124733\n",
      "Iteration 5, loss = 7.34150496\n",
      "[CV]  hidden_layer_sizes=(128, 256, 128), score=0.7729912875121007, total=   2.8s\n"
     ]
    },
    {
     "name": "stderr",
     "output_type": "stream",
     "text": [
      "[Parallel(n_jobs=20)]: Done   9 out of   9 | elapsed:   21.8s remaining:    0.0s\n",
      "[Parallel(n_jobs=20)]: Done   9 out of   9 | elapsed:   21.8s finished\n"
     ]
    },
    {
     "name": "stdout",
     "output_type": "stream",
     "text": [
      "Iteration 14, loss = 6.40345770\n",
      "Iteration 6, loss = 7.16770490\n",
      "Iteration 11, loss = 6.87553479\n",
      "Iteration 3, loss = 7.29096523\n",
      "Iteration 1, loss = 7.61925165\n",
      "Iteration 6, loss = 6.79761798\n",
      "Iteration 7, loss = 6.88887777\n",
      "Iteration 6, loss = 7.05404364\n",
      "Iteration 12, loss = 6.87185613\n",
      "Training loss did not improve more than tol=0.000100 for two consecutive epochs. Stopping.\n",
      "[CV]  hidden_layer_sizes=(128, 256, 128), score=0.7363760217983651, total=   3.3s\n",
      "Iteration 2, loss = 7.38423423\n"
     ]
    },
    {
     "name": "stderr",
     "output_type": "stream",
     "text": [
      "[Parallel(n_jobs=20)]: Done   7 out of   7 | elapsed:   12.9s remaining:    0.0s\n"
     ]
    },
    {
     "name": "stdout",
     "output_type": "stream",
     "text": [
      "Iteration 8, loss = 7.05049098\n",
      "[CV] hidden_layer_sizes=(128, 256, 128) ..............................\n",
      "Iteration 15, loss = 6.26761184\n",
      "Iteration 7, loss = 7.02342718\n",
      "Iteration 4, loss = 7.13092395\n",
      "Iteration 9, loss = 7.01323067\n",
      "Iteration 7, loss = 7.00887687\n",
      "Training loss did not improve more than tol=0.000100 for two consecutive epochs. Stopping.\n",
      "Iteration 10, loss = 7.06657808\n",
      "Training loss did not improve more than tol=0.000100 for two consecutive epochs. Stopping.\n",
      "[CV]  hidden_layer_sizes=(512,), score=0.7406869859700048, total=   1.9s\n",
      "[CV]  hidden_layer_sizes=(128, 256, 128), score=0.7463697967086157, total=   2.8s\n"
     ]
    },
    {
     "name": "stderr",
     "output_type": "stream",
     "text": [
      "[Parallel(n_jobs=20)]: Done   8 out of   8 | elapsed:   25.4s remaining:    0.0s\n"
     ]
    },
    {
     "name": "stdout",
     "output_type": "stream",
     "text": [
      "Iteration 3, loss = 7.27170728\n"
     ]
    },
    {
     "name": "stderr",
     "output_type": "stream",
     "text": [
      "[Parallel(n_jobs=20)]: Done   4 out of   4 | elapsed:    8.2s remaining:    0.0s\n"
     ]
    },
    {
     "name": "stdout",
     "output_type": "stream",
     "text": [
      "[CV] hidden_layer_sizes=(512,) .......................................\n",
      "[CV] hidden_layer_sizes=(128, 256, 128) ..............................\n",
      "Iteration 8, loss = 6.79363191\n",
      "Iteration 1, loss = 7.70994395\n",
      "Iteration 16, loss = 6.37549475\n",
      "Iteration 4, loss = 7.26149471\n",
      "Iteration 1, loss = 7.22174129\n",
      "Iteration 5, loss = 7.01643542\n",
      "Iteration 9, loss = 7.15944071\n",
      "Iteration 2, loss = 7.22670852\n",
      "Iteration 2, loss = 7.86302321\n",
      "Iteration 1, loss = 7.73836526\n",
      "Iteration 5, loss = 7.26237167\n",
      "Iteration 3, loss = 6.83981922\n",
      "Iteration 10, loss = 6.74117916\n",
      "Iteration 11, loss = 6.97105590\n",
      "Iteration 3, loss = 7.11911515\n",
      "Iteration 6, loss = 7.01613552\n",
      "Iteration 12, loss = 6.74166801\n",
      "Iteration 17, loss = 6.15089166\n",
      "Iteration 4, loss = 7.08414994\n",
      "Iteration 6, loss = 7.06219086\n",
      "Iteration 4, loss = 7.08870180\n",
      "Iteration 2, loss = 7.28600079\n",
      "Iteration 7, loss = 6.59615328\n",
      "Iteration 13, loss = 6.42736609\n",
      "Iteration 7, loss = 6.64305631\n",
      "Iteration 5, loss = 6.97247567\n",
      "Iteration 5, loss = 7.03505379\n",
      "Iteration 8, loss = 6.74057321\n",
      "Iteration 8, loss = 6.90110972\n",
      "Iteration 9, loss = 6.94102873\n",
      "Iteration 14, loss = 6.80356197\n",
      "Iteration 18, loss = 6.73645341\n",
      "Iteration 10, loss = 6.88236868\n",
      "Iteration 6, loss = 6.93520485\n",
      "Training loss did not improve more than tol=0.000100 for two consecutive epochs. Stopping.\n",
      "Iteration 3, loss = 7.19490620\n",
      "Iteration 6, loss = 7.12289256\n",
      "Training loss did not improve more than tol=0.000100 for two consecutive epochs. Stopping.\n",
      "[CV]  hidden_layer_sizes=(128, 256, 128), score=0.5286493860845839, total=   1.6s\n"
     ]
    },
    {
     "name": "stderr",
     "output_type": "stream",
     "text": [
      "[Parallel(n_jobs=20)]: Done   8 out of   8 | elapsed:   14.5s remaining:    0.0s\n"
     ]
    },
    {
     "name": "stdout",
     "output_type": "stream",
     "text": [
      "[CV] hidden_layer_sizes=(128, 256, 128) ..............................\n",
      "Iteration 7, loss = 7.11178005\n",
      "Iteration 15, loss = 6.81138341\n",
      "Iteration 9, loss = 6.81109919\n",
      "Iteration 8, loss = 7.16115118\n",
      "Iteration 4, loss = 7.18213505\n",
      "Iteration 16, loss = 7.07164982\n",
      "Training loss did not improve more than tol=0.000100 for two consecutive epochs. Stopping.\n",
      "Iteration 1, loss = 8.55972120\n",
      "Iteration 19, loss = 6.57688049\n",
      "[CV]  hidden_layer_sizes=(512,), score=0.7698650674662668, total=   3.4s\n"
     ]
    },
    {
     "name": "stderr",
     "output_type": "stream",
     "text": [
      "[Parallel(n_jobs=20)]: Done   4 out of   4 | elapsed:    8.9s remaining:    0.0s\n"
     ]
    },
    {
     "name": "stdout",
     "output_type": "stream",
     "text": [
      "[CV] hidden_layer_sizes=(512,) .......................................\n",
      "Iteration 9, loss = 7.37808062\n",
      "Training loss did not improve more than tol=0.000100 for two consecutive epochs. Stopping.\n",
      "Iteration 5, loss = 6.35934996\n",
      "Iteration 10, loss = 6.82055389\n",
      "Training loss did not improve more than tol=0.000100 for two consecutive epochs. Stopping.\n",
      "[CV]  hidden_layer_sizes=(512,), score=0.733913884857281, total=   1.7s\n",
      "Iteration 20, loss = 6.54549166\n"
     ]
    },
    {
     "name": "stderr",
     "output_type": "stream",
     "text": [
      "[Parallel(n_jobs=20)]: Done   5 out of   5 | elapsed:    9.9s remaining:    0.0s\n"
     ]
    },
    {
     "name": "stdout",
     "output_type": "stream",
     "text": [
      "Training loss did not improve more than tol=0.000100 for two consecutive epochs. Stopping.\n",
      "[CV] hidden_layer_sizes=(512,) .......................................\n",
      "Iteration 1, loss = 7.76413792\n",
      "[CV]  hidden_layer_sizes=(128, 256, 128), score=0.5661792275965505, total=  10.2s\n",
      "Iteration 2, loss = 7.16246737\n"
     ]
    },
    {
     "name": "stderr",
     "output_type": "stream",
     "text": [
      "[Parallel(n_jobs=20)]: Done   7 out of   7 | elapsed:   24.1s remaining:    0.0s\n"
     ]
    },
    {
     "name": "stdout",
     "output_type": "stream",
     "text": [
      "[CV] hidden_layer_sizes=(128, 256, 128) ..............................\n",
      "Iteration 2, loss = 7.50583079\n",
      "Iteration 1, loss = 7.59895817\n",
      "Iteration 3, loss = 7.69585711\n",
      "Iteration 6, loss = 7.44212424\n",
      "Iteration 3, loss = 7.92362962\n",
      "Iteration 2, loss = 6.93938196\n",
      "Iteration 4, loss = 7.31833063\n",
      "Iteration 1, loss = 7.65361705\n",
      "Iteration 4, loss = 6.83511803\n",
      "Iteration 3, loss = 7.00458474\n",
      "Iteration 5, loss = 7.05440770\n",
      "Iteration 7, loss = 7.09240769\n",
      "Iteration 5, loss = 7.70171597\n",
      "Iteration 4, loss = 7.17491117\n",
      "Iteration 6, loss = 6.90004423\n",
      "Iteration 6, loss = 7.16642212\n",
      "Iteration 5, loss = 7.06158339\n",
      "Training loss did not improve more than tol=0.000100 for two consecutive epochs. Stopping.\n",
      "[CV]  hidden_layer_sizes=(512,), score=0.7719429857464366, total=   0.9s\n",
      "Iteration 8, loss = 7.25391144\n",
      "Training loss did not improve more than tol=0.000100 for two consecutive epochs. Stopping.\n"
     ]
    },
    {
     "name": "stderr",
     "output_type": "stream",
     "text": [
      "[Parallel(n_jobs=20)]: Done   5 out of   5 | elapsed:    9.8s remaining:    0.0s\n"
     ]
    },
    {
     "name": "stdout",
     "output_type": "stream",
     "text": [
      "[CV] hidden_layer_sizes=(512,) .......................................\n",
      "Iteration 2, loss = 7.34902830\n",
      "Iteration 7, loss = 6.87881311\n",
      "[CV]  hidden_layer_sizes=(128, 256, 128), score=0.7608906098741529, total=   2.6s\n"
     ]
    },
    {
     "name": "stderr",
     "output_type": "stream",
     "text": [
      "[Parallel(n_jobs=20)]: Done   9 out of   9 | elapsed:   28.1s remaining:    0.0s\n",
      "[Parallel(n_jobs=20)]: Done   9 out of   9 | elapsed:   28.1s finished\n"
     ]
    },
    {
     "name": "stdout",
     "output_type": "stream",
     "text": [
      "Iteration 7, loss = 6.75015258\n",
      "Iteration 8, loss = 7.29478443\n",
      "Iteration 1, loss = 7.55211959\n",
      "Iteration 8, loss = 6.84075640\n",
      "Iteration 9, loss = 7.10224578\n",
      "Iteration 3, loss = 7.15368948\n",
      "Iteration 2, loss = 7.09453526\n",
      "Iteration 10, loss = 6.75601455\n",
      "Iteration 9, loss = 6.85062867\n",
      "Iteration 1, loss = 7.40070322\n",
      "Iteration 11, loss = 6.83547423\n",
      "Iteration 3, loss = 7.34234145\n",
      "Iteration 10, loss = 6.61821380\n",
      "Iteration 4, loss = 7.11106337\n",
      "Iteration 12, loss = 7.14531596\n",
      "Iteration 4, loss = 6.94799491\n",
      "Iteration 13, loss = 6.83529199\n",
      "Training loss did not improve more than tol=0.000100 for two consecutive epochs. Stopping.\n",
      "Iteration 11, loss = 6.87584511\n",
      "Iteration 2, loss = 7.34784789\n",
      "[CV]  hidden_layer_sizes=(512,), score=0.7594385285575992, total=   1.5s\n"
     ]
    },
    {
     "name": "stderr",
     "output_type": "stream",
     "text": [
      "[Parallel(n_jobs=20)]: Done   6 out of   6 | elapsed:   11.5s remaining:    0.0s\n"
     ]
    },
    {
     "name": "stdout",
     "output_type": "stream",
     "text": [
      "[CV] hidden_layer_sizes=(128, 256, 128) ..............................\n",
      "Iteration 5, loss = 7.22636890\n",
      "Iteration 5, loss = 7.06178311\n",
      "Iteration 12, loss = 6.57266628\n",
      "Iteration 6, loss = 6.99590398\n",
      "Iteration 3, loss = 6.91651601\n",
      "Iteration 1, loss = 7.71599279\n",
      "Iteration 13, loss = 7.06751723\n",
      "Iteration 6, loss = 7.16099019\n",
      "Iteration 7, loss = 7.38440182\n",
      "Training loss did not improve more than tol=0.000100 for two consecutive epochs. Stopping.\n",
      "[CV]  hidden_layer_sizes=(512,), score=0.77344336084021, total=   1.2s\n"
     ]
    },
    {
     "name": "stderr",
     "output_type": "stream",
     "text": [
      "[Parallel(n_jobs=20)]: Done   6 out of   6 | elapsed:   11.1s remaining:    0.0s\n"
     ]
    },
    {
     "name": "stdout",
     "output_type": "stream",
     "text": [
      "[CV] hidden_layer_sizes=(128, 256, 128) ..............................\n",
      "Iteration 2, loss = 6.98268571\n",
      "Iteration 14, loss = 6.72029430\n",
      "Iteration 7, loss = 6.73515642\n",
      "Iteration 4, loss = 7.12946473\n",
      "Iteration 3, loss = 6.96212994\n",
      "Iteration 15, loss = 6.71322824\n",
      "Training loss did not improve more than tol=0.000100 for two consecutive epochs. Stopping.\n",
      "[CV]  hidden_layer_sizes=(128, 256, 128), score=0.6316507503410641, total=   2.9s\n"
     ]
    },
    {
     "name": "stderr",
     "output_type": "stream",
     "text": [
      "[Parallel(n_jobs=20)]: Done   9 out of   9 | elapsed:   17.5s remaining:    0.0s\n",
      "[Parallel(n_jobs=20)]: Done   9 out of   9 | elapsed:   17.5s finished\n"
     ]
    },
    {
     "name": "stdout",
     "output_type": "stream",
     "text": [
      "Iteration 1, loss = 7.49138152\n",
      "Iteration 1, loss = 7.39890174\n",
      "Iteration 2, loss = 7.25381838\n",
      "Iteration 3, loss = 6.95366087\n",
      "Iteration 4, loss = 6.95634068\n",
      "Iteration 2, loss = 7.21310356\n",
      "Iteration 8, loss = 6.75890318\n",
      "Iteration 4, loss = 7.60100511\n",
      "Iteration 5, loss = 6.76983349\n",
      "Iteration 5, loss = 6.97997692\n",
      "Iteration 5, loss = 6.93465870\n",
      "Iteration 3, loss = 7.19895250\n",
      "Iteration 6, loss = 7.10714583\n",
      "Training loss did not improve more than tol=0.000100 for two consecutive epochs. Stopping.\n",
      "Iteration 9, loss = 7.42795242\n",
      "Iteration 6, loss = 7.02820127\n",
      "Iteration 6, loss = 7.27562731\n",
      "Iteration 4, loss = 6.81249788\n",
      "Iteration 10, loss = 7.00156179\n",
      "Training loss did not improve more than tol=0.000100 for two consecutive epochs. Stopping.\n",
      "Iteration 7, loss = 6.81912915\n",
      "[CV]  hidden_layer_sizes=(128, 256, 128), score=0.588676415448069, total=   3.3s\n"
     ]
    },
    {
     "name": "stderr",
     "output_type": "stream",
     "text": [
      "[Parallel(n_jobs=20)]: Done   8 out of   8 | elapsed:   27.4s remaining:    0.0s\n"
     ]
    },
    {
     "name": "stdout",
     "output_type": "stream",
     "text": [
      "[CV] hidden_layer_sizes=(128, 256, 128) ..............................\n",
      "Iteration 7, loss = 6.93511409\n",
      "Iteration 5, loss = 7.14272261\n",
      "Iteration 8, loss = 6.98931127\n",
      "Iteration 1, loss = 7.59002274\n",
      "Iteration 8, loss = 6.68613733\n",
      "Iteration 9, loss = 6.35580272\n",
      "Iteration 6, loss = 7.11431827\n",
      "Iteration 2, loss = 7.20548381\n",
      "Iteration 9, loss = 7.14166028\n",
      "Iteration 10, loss = 6.51382144\n",
      "Iteration 7, loss = 6.67200058\n",
      "Iteration 11, loss = 6.97739075\n",
      "Iteration 3, loss = 6.88991599\n",
      "Iteration 10, loss = 6.71662238\n",
      "Iteration 12, loss = 6.50714280\n",
      "Training loss did not improve more than tol=0.000100 for two consecutive epochs. Stopping.\n",
      "Iteration 8, loss = 6.63325226\n",
      "Iteration 4, loss = 7.38208418\n",
      "[CV]  hidden_layer_sizes=(128, 256, 128), score=0.7629414610546686, total=   2.9s\n"
     ]
    },
    {
     "name": "stderr",
     "output_type": "stream",
     "text": [
      "[Parallel(n_jobs=20)]: Done   7 out of   7 | elapsed:   14.5s remaining:    0.0s\n"
     ]
    },
    {
     "name": "stdout",
     "output_type": "stream",
     "text": [
      "[CV] hidden_layer_sizes=(128, 256, 128) ..............................\n",
      "Iteration 9, loss = 6.74287084\n",
      "Iteration 11, loss = 6.39288525\n",
      "Iteration 1, loss = 7.38153012\n",
      "Iteration 5, loss = 7.05327495\n",
      "Iteration 10, loss = 6.66339071\n",
      "Iteration 12, loss = 6.34239825\n",
      "Iteration 2, loss = 7.76389461\n",
      "Iteration 6, loss = 6.97161259\n",
      "Training loss did not improve more than tol=0.000100 for two consecutive epochs. Stopping.\n",
      "Iteration 11, loss = 6.54269792\n",
      "[CV]  hidden_layer_sizes=(128, 256, 128), score=0.5772693173293323, total=   1.7s\n"
     ]
    },
    {
     "name": "stderr",
     "output_type": "stream",
     "text": [
      "[Parallel(n_jobs=20)]: Done   9 out of   9 | elapsed:   29.1s remaining:    0.0s\n",
      "[Parallel(n_jobs=20)]: Done   9 out of   9 | elapsed:   29.1s finished\n"
     ]
    },
    {
     "name": "stdout",
     "output_type": "stream",
     "text": [
      "Iteration 3, loss = 7.45420671\n",
      "Iteration 13, loss = 6.31486259\n",
      "Iteration 1, loss = 7.84298392\n",
      "Iteration 12, loss = 6.58830257\n",
      "Iteration 4, loss = 7.01504111\n",
      "Iteration 2, loss = 7.04210334\n",
      "Iteration 14, loss = 6.86241182\n",
      "Iteration 5, loss = 7.22568468\n",
      "Iteration 3, loss = 6.96917762\n",
      "Iteration 13, loss = 6.72305145\n",
      "Iteration 4, loss = 7.16920394\n",
      "Iteration 6, loss = 6.99283341\n",
      "Iteration 15, loss = 6.40677713\n",
      "Iteration 14, loss = 6.30001522\n",
      "Iteration 5, loss = 7.05191253\n",
      "Iteration 6, loss = 6.97042030\n",
      "Training loss did not improve more than tol=0.000100 for two consecutive epochs. Stopping.\n",
      "Iteration 7, loss = 6.67830456\n",
      "Iteration 16, loss = 6.45777442\n",
      "Training loss did not improve more than tol=0.000100 for two consecutive epochs. Stopping.\n",
      "Iteration 15, loss = 6.81508790\n",
      "Iteration 8, loss = 6.71526680\n",
      "Iteration 9, loss = 6.80781455\n",
      "Iteration 16, loss = 6.36077482\n",
      "Iteration 10, loss = 6.95230580\n",
      "Training loss did not improve more than tol=0.000100 for two consecutive epochs. Stopping.\n",
      "[CV]  hidden_layer_sizes=(128, 256, 128), score=0.5258829221093372, total=   1.9s\n"
     ]
    },
    {
     "name": "stderr",
     "output_type": "stream",
     "text": [
      "[Parallel(n_jobs=20)]: Done   8 out of   8 | elapsed:   16.4s remaining:    0.0s\n"
     ]
    },
    {
     "name": "stdout",
     "output_type": "stream",
     "text": [
      "[CV] hidden_layer_sizes=(128, 256, 128) ..............................\n",
      "Iteration 17, loss = 6.32170776\n",
      "Training loss did not improve more than tol=0.000100 for two consecutive epochs. Stopping.\n",
      "[CV]  hidden_layer_sizes=(128, 256, 128), score=0.44490254872563717, total=   4.4s\n"
     ]
    },
    {
     "name": "stderr",
     "output_type": "stream",
     "text": [
      "[Parallel(n_jobs=20)]: Done   7 out of   7 | elapsed:   15.6s remaining:    0.0s\n"
     ]
    },
    {
     "name": "stdout",
     "output_type": "stream",
     "text": [
      "[CV] hidden_layer_sizes=(128, 256, 128) ..............................\n",
      "Iteration 1, loss = 8.03905546\n",
      "Iteration 1, loss = 7.29711401\n",
      "Iteration 2, loss = 7.49636671\n",
      "Iteration 3, loss = 7.41317958\n",
      "Iteration 2, loss = 7.32755328\n",
      "Iteration 4, loss = 6.89790045\n",
      "Iteration 3, loss = 7.14040760\n",
      "Iteration 5, loss = 7.17023903\n",
      "Iteration 4, loss = 6.62855714\n",
      "Iteration 6, loss = 7.11447639\n",
      "Iteration 5, loss = 6.99978185\n",
      "Iteration 7, loss = 7.31547613\n",
      "Training loss did not improve more than tol=0.000100 for two consecutive epochs. Stopping.\n",
      "[CV]  hidden_layer_sizes=(128, 256, 128), score=0.6413359148112294, total=   0.8s\n"
     ]
    },
    {
     "name": "stderr",
     "output_type": "stream",
     "text": [
      "[Parallel(n_jobs=20)]: Done   9 out of   9 | elapsed:   17.3s remaining:    0.0s\n",
      "[Parallel(n_jobs=20)]: Done   9 out of   9 | elapsed:   17.3s finished\n"
     ]
    },
    {
     "name": "stdout",
     "output_type": "stream",
     "text": [
      "Iteration 6, loss = 6.75460511\n",
      "Iteration 1, loss = 7.48848851\n",
      "Iteration 2, loss = 7.41196343\n",
      "Iteration 7, loss = 6.85862182\n",
      "Training loss did not improve more than tol=0.000100 for two consecutive epochs. Stopping.\n",
      "Iteration 3, loss = 7.11547669\n",
      "[CV]  hidden_layer_sizes=(128, 256, 128), score=0.7756939234808702, total=   1.0s\n"
     ]
    },
    {
     "name": "stderr",
     "output_type": "stream",
     "text": [
      "[Parallel(n_jobs=20)]: Done   8 out of   8 | elapsed:   16.7s remaining:    0.0s\n"
     ]
    },
    {
     "name": "stdout",
     "output_type": "stream",
     "text": [
      "[CV] hidden_layer_sizes=(128, 256, 128) ..............................\n",
      "Iteration 4, loss = 6.97358056\n",
      "Iteration 5, loss = 7.25247789\n",
      "Iteration 1, loss = 7.54326029\n",
      "Iteration 6, loss = 7.08112653\n",
      "Iteration 2, loss = 7.28031391\n",
      "Iteration 7, loss = 6.93437152\n",
      "Iteration 8, loss = 7.36159744\n",
      "Iteration 3, loss = 6.90924686\n",
      "Iteration 9, loss = 6.94396318\n",
      "Iteration 4, loss = 6.83549910\n",
      "Iteration 10, loss = 7.01624986\n",
      "Training loss did not improve more than tol=0.000100 for two consecutive epochs. Stopping.\n",
      "Iteration 5, loss = 6.75477648\n",
      "Iteration 6, loss = 6.76143326\n",
      "Iteration 7, loss = 7.17017574\n",
      "Iteration 8, loss = 6.74684566\n",
      "Iteration 9, loss = 6.61607878\n",
      "Iteration 10, loss = 6.56855825\n",
      "Iteration 11, loss = 6.36507650\n",
      "Iteration 12, loss = 6.78476987\n",
      "Iteration 13, loss = 6.33260115\n",
      "Iteration 14, loss = 6.57100453\n",
      "Iteration 15, loss = 6.91150420\n",
      "Iteration 16, loss = 6.52108587\n",
      "Training loss did not improve more than tol=0.000100 for two consecutive epochs. Stopping.\n",
      "[CV]  hidden_layer_sizes=(128, 256, 128), score=0.6627906976744186, total=   1.9s\n"
     ]
    },
    {
     "name": "stderr",
     "output_type": "stream",
     "text": [
      "[Parallel(n_jobs=20)]: Done   9 out of   9 | elapsed:   18.6s remaining:    0.0s\n",
      "[Parallel(n_jobs=20)]: Done   9 out of   9 | elapsed:   18.6s finished\n"
     ]
    },
    {
     "name": "stdout",
     "output_type": "stream",
     "text": [
      "Iteration 1, loss = 7.53185363\n",
      "Iteration 2, loss = 6.83286321\n",
      "Iteration 3, loss = 7.06375161\n",
      "Iteration 4, loss = 7.05379387\n",
      "Iteration 5, loss = 7.00625158\n",
      "Training loss did not improve more than tol=0.000100 for two consecutive epochs. Stopping.\n"
     ]
    },
    {
     "data": {
      "image/png": "[encoded data removed]",
      "text/plain": [
       "<Figure size 432x288 with 1 Axes>"
      ]
     },
     "metadata": {},
     "output_type": "display_data"
    }
   ],
   "source": [
    "# Generate learning curve plot\n",
    "\n",
    "from sklearn.model_selection import learning_curve\n",
    "from sklearn.model_selection import ShuffleSplit\n",
    "\n",
    "\n",
    "def plot_learning_curve(estimator, title, X, y, ylim=None, cv=None,\n",
    "                        n_jobs=1, train_sizes=np.linspace(.1, 1.0, 5)):\n",
    "    \"\"\"\n",
    "    Generate a simple plot of the test and training learning curve.\n",
    "\n",
    "    Parameters\n",
    "    ----------\n",
    "    estimator : object type that implements the \"fit\" and \"predict\" methods\n",
    "        An object of that type which is cloned for each validation.\n",
    "\n",
    "    title : string\n",
    "        Title for the chart.\n",
    "\n",
    "    X : array-like, shape (n_samples, n_features)\n",
    "        Training vector, where n_samples is the number of samples and\n",
    "        n_features is the number of features.\n",
    "\n",
    "    y : array-like, shape (n_samples) or (n_samples, n_features), optional\n",
    "        Target relative to X for classification or regression;\n",
    "        None for unsupervised learning.\n",
    "\n",
    "    ylim : tuple, shape (ymin, ymax), optional\n",
    "        Defines minimum and maximum yvalues plotted.\n",
    "\n",
    "    cv : int, cross-validation generator or an iterable, optional\n",
    "        Determines the cross-validation splitting strategy.\n",
    "        Possible inputs for cv are:\n",
    "          - None, to use the default 3-fold cross-validation,\n",
    "          - integer, to specify the number of folds.\n",
    "          - An object to be used as a cross-validation generator.\n",
    "          - An iterable yielding train/test splits.\n",
    "\n",
    "        For integer/None inputs, if ``y`` is binary or multiclass,\n",
    "        :class:`StratifiedKFold` used. If the estimator is not a classifier\n",
    "        or if ``y`` is neither binary nor multiclass, :class:`KFold` is used.\n",
    "\n",
    "        Refer :ref:`User Guide <cross_validation>` for the various\n",
    "        cross-validators that can be used here.\n",
    "\n",
    "    n_jobs : integer, optional\n",
    "        Number of jobs to run in parallel (default 1).\n",
    "    \"\"\"\n",
    "    pt.figure()\n",
    "    pt.title(title)\n",
    "    if ylim is not None:\n",
    "        pt.ylim(*ylim)\n",
    "    pt.xlabel(\"Training examples\")\n",
    "    pt.ylabel(\"Score\")\n",
    "    train_sizes, train_scores, test_scores = learning_curve(\n",
    "        estimator, X, y, cv=cv, n_jobs=n_jobs, train_sizes=train_sizes)\n",
    "    train_scores_mean = np.mean(train_scores, axis=1)\n",
    "    train_scores_std = np.std(train_scores, axis=1)\n",
    "    test_scores_mean = np.mean(test_scores, axis=1)\n",
    "    test_scores_std = np.std(test_scores, axis=1)\n",
    "    pt.grid()\n",
    "\n",
    "    pt.fill_between(train_sizes, train_scores_mean - train_scores_std,\n",
    "                     train_scores_mean + train_scores_std, alpha=0.1,\n",
    "                     color=\"r\")\n",
    "    pt.fill_between(train_sizes, test_scores_mean - test_scores_std,\n",
    "                     test_scores_mean + test_scores_std, alpha=0.1, color=\"g\")\n",
    "    pt.plot(train_sizes, train_scores_mean, 'o-', color=\"r\",\n",
    "             label=\"Training score\")\n",
    "    pt.plot(train_sizes, test_scores_mean, 'o-', color=\"g\",\n",
    "             label=\"Cross-validation score\")\n",
    "\n",
    "    pt.legend(loc=\"best\")\n",
    "    return pt\n",
    "cv = ShuffleSplit(n_splits=3, test_size=0.2, random_state=0)\n",
    "\n",
    "plot_learning_curve(clf, \"Learning curve for Neural Network - Credit Card Defaulter\", X_train, Y_train, ylim=(0.1, 1.01), cv=cv, n_jobs=-1)\n",
    "\n",
    "pt.show()"
   ]
  },
  {
   "cell_type": "code",
   "execution_count": null,
   "metadata": {
    "collapsed": false,
    "deletable": true,
    "editable": true
   },
   "outputs": [],
   "source": []
  },
  {
   "cell_type": "code",
   "execution_count": null,
   "metadata": {
    "collapsed": true,
    "deletable": true,
    "editable": true
   },
   "outputs": [],
   "source": []
  }
 ],
 "metadata": {
  "kernelspec": {
   "display_name": "Python 3",
   "language": "python",
   "name": "python3"
  },
  "language_info": {
   "codemirror_mode": {
    "name": "ipython",
    "version": 3
   },
   "file_extension": ".py",
   "mimetype": "text/x-python",
   "name": "python",
   "nbconvert_exporter": "python",
   "pygments_lexer": "ipython3",
   "version": "3.5.2"
  }
 },
 "nbformat": 4,
 "nbformat_minor": 2
}
